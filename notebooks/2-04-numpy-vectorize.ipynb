{
 "cells": [
  {
   "cell_type": "markdown",
   "metadata": {},
   "source": [
    "<div class=\"licence\">\n",
    "<span>Licence CC BY-NC-ND</span>\n",
    "<span>Valérie Roy</span>\n",
    "<span><img src=\"media/ensmp-25-alpha.png\" /></span>\n",
    "</div>"
   ]
  },
  {
   "cell_type": "markdown",
   "metadata": {},
   "source": [
    "## 3) applying **vectorized** **operations**"
   ]
  },
  {
   "cell_type": "markdown",
   "metadata": {},
   "source": [
    "to apply **functions** to each element of a *numpy.ndarray*:\n",
    "   - **never** use a *python* **loop** !\n",
    "   - **always** use the **vectorized** versions of the **operations**"
   ]
  },
  {
   "cell_type": "markdown",
   "metadata": {},
   "source": [
    "   - they are applied to  **each** element of a *numpy.ndarray*\n",
    "   - but the **loop** is done in the **underlying library**"
   ]
  },
  {
   "cell_type": "markdown",
   "metadata": {},
   "source": [
    "### Why ?\n",
    "   - for the sake of **computation time**\n",
    "   - iterative version are always **slowler**\n",
    "   \n",
    "   - *numpy* provides **optimized functions on numeric types**"
   ]
  },
  {
   "cell_type": "markdown",
   "metadata": {},
   "source": [
    "   - *numpy* vectorized functions are called **UFuncs** (universal functions)\n",
    "   - see https://docs.scipy.org/doc/numpy/reference/ufuncs.html"
   ]
  },
  {
   "cell_type": "markdown",
   "metadata": {},
   "source": [
    "### execution time\n",
    "   - we will compute the **execution time** of the programs (with **magic functions**)\n",
    "   - only to **get an idea** of what's going on\n",
    "   \n",
    "   \n",
    "   - but **never** deduce **intangible rules** from **execution times**\n",
    "   - (too many parameters are **at play**)"
   ]
  },
  {
   "cell_type": "markdown",
   "metadata": {},
   "source": [
    "   - we use the magic functions *%timeit*"
   ]
  },
  {
   "cell_type": "code",
   "execution_count": null,
   "metadata": {},
   "outputs": [],
   "source": [
    "import numpy as np"
   ]
  },
  {
   "cell_type": "code",
   "execution_count": null,
   "metadata": {},
   "outputs": [],
   "source": [
    "a = np.arange(1, 10000)\n",
    "   # it won't be relevant on a small number of elements"
   ]
  },
  {
   "cell_type": "markdown",
   "metadata": {},
   "source": [
    "#### we raise each element of *a* to the power of $2$"
   ]
  },
  {
   "cell_type": "markdown",
   "metadata": {},
   "source": [
    "   - with a python **loop**"
   ]
  },
  {
   "cell_type": "code",
   "execution_count": null,
   "metadata": {},
   "outputs": [],
   "source": [
    "l = []\n",
    "\n",
    "%timeit -n 5 for e in a: l.append(e**2)"
   ]
  },
  {
   "cell_type": "markdown",
   "metadata": {},
   "source": [
    "   - using numpy arrays with a python **loop**"
   ]
  },
  {
   "cell_type": "code",
   "execution_count": null,
   "metadata": {},
   "outputs": [],
   "source": [
    "l = np.empty(a.shape)\n",
    "\n",
    "%timeit -n 5 for i in np.arange(0, a.shape[0]): l[i] = a[i]**2"
   ]
  },
  {
   "cell_type": "markdown",
   "metadata": {},
   "source": [
    "   - with a python **comprehension**"
   ]
  },
  {
   "cell_type": "code",
   "execution_count": null,
   "metadata": {},
   "outputs": [],
   "source": [
    "%timeit -n 5 [e**2 for e in a]"
   ]
  },
  {
   "cell_type": "markdown",
   "metadata": {},
   "source": [
    "   - with a **vectorized** *numpy* operation"
   ]
  },
  {
   "cell_type": "code",
   "execution_count": null,
   "metadata": {},
   "outputs": [],
   "source": [
    "%timeit -n 5 a**2"
   ]
  },
  {
   "cell_type": "markdown",
   "metadata": {},
   "source": [
    "   - with a **vectorized** *numpy* function"
   ]
  },
  {
   "cell_type": "code",
   "execution_count": null,
   "metadata": {},
   "outputs": [],
   "source": [
    "%timeit -n 5 np.power(a, 2)"
   ]
  },
  {
   "cell_type": "markdown",
   "metadata": {},
   "source": [
    "#### conclusion\n",
    "   - vectorized operations and functions are **way** much faster !\n",
    "   - never use **python loop**"
   ]
  },
  {
   "cell_type": "markdown",
   "metadata": {},
   "source": [
    "### classical operators **are** **UFuncs**\n",
    "   - classical **operators** applied to *numpy.ndarray* are **mapped** to **ufuncs**\n",
    "   - their *numpy* counterpart\n",
    "\n",
    "\n",
    "| operator | numpy function    |\n",
    "|----------|-------------------|\n",
    "|   $+$    | *numpy.add* |\n",
    "|   $-$    | *numpy.substract*|\n",
    "|   $-$    | *numpy.negative* |\n",
    "|   $*$    | *numpy.multiply* |\n",
    "|   $/$    | *numpy.divide* |\n",
    "|   $//$   | *numpy.floor_divide* |\n",
    "|   $\\%$   | *numpy.mod* |\n",
    "|   $**$   | *numpy.power* |"
   ]
  },
  {
   "cell_type": "code",
   "execution_count": null,
   "metadata": {},
   "outputs": [],
   "source": [
    "a = np.array([1, 2, 3, 4, 5])\n",
    "b = np.array([10, 20, 30, 40, 50])\n",
    "a + b"
   ]
  },
  {
   "cell_type": "markdown",
   "metadata": {},
   "source": [
    "   - **but** on **python** **list**\n",
    "   - *+* is **concatenation**\n",
    "   - to add **element-by-element** use *numpy.add*"
   ]
  },
  {
   "cell_type": "code",
   "execution_count": null,
   "metadata": {},
   "outputs": [],
   "source": [
    "c = [1, 2, 3, 4, 5]\n",
    "d = [10, 20, 30, 40, 50]\n",
    "c + d"
   ]
  },
  {
   "cell_type": "code",
   "execution_count": null,
   "metadata": {},
   "outputs": [],
   "source": [
    "np.add(c, d)"
   ]
  },
  {
   "cell_type": "markdown",
   "metadata": {},
   "source": [
    "   - the following function will work for python list and numpy ndarrays"
   ]
  },
  {
   "cell_type": "code",
   "execution_count": null,
   "metadata": {},
   "outputs": [],
   "source": [
    "def add (x, y):\n",
    "    return np.add(x, y)\n",
    "add(c, d)"
   ]
  },
  {
   "cell_type": "markdown",
   "metadata": {},
   "source": [
    "### there are many other **UFuncs** functions \n",
    "\n",
    "| function         | numpy function    |\n",
    "|------------------|-------------------|\n",
    "| comparison       | *numpy.greater*, *numpy.less*, *numpy.equal*, ...|\n",
    "|   absolute       | *numpy.absolute* or *numpy.abs* |\n",
    "|   trigonometry   | *numpy.sin*, *numpy.cos*, ... |\n",
    "|   exponentiation | *numpy.exp*, *numpy.exp2*, .. |\n",
    "|   logarithm      | *np.log*, *np.log2*, *numpy.log10* |\n",
    "|   Floating point | *numpy.isinf*, ....|\n",
    "| not a number     | *numpy.isnan*, *numpy.isnull*, ...|\n",
    "\n"
   ]
  },
  {
   "cell_type": "markdown",
   "metadata": {},
   "source": [
    "### checking if a function is a **UFunc**\n",
    "   - a **UFunc** is a *numpy.ufunc* object (its type is *numpy.ufunc*)\n",
    "   - refer to the  **help**\n",
    "      - *help(np.sum)*\n",
    "      - *numpy.sum?*\n",
    "      - *numpy.info(numpy.sum)*"
   ]
  },
  {
   "cell_type": "code",
   "execution_count": null,
   "metadata": {},
   "outputs": [],
   "source": [
    "type(np.sum) # numpy.sum is not a Ufunc"
   ]
  },
  {
   "cell_type": "code",
   "execution_count": null,
   "metadata": {},
   "outputs": [],
   "source": [
    "type(np.add) # numpty.ad is a UFunc"
   ]
  },
  {
   "cell_type": "code",
   "execution_count": null,
   "metadata": {},
   "outputs": [],
   "source": [
    "# help(np.add)"
   ]
  },
  {
   "cell_type": "code",
   "execution_count": null,
   "metadata": {},
   "outputs": [],
   "source": [
    "# np.add?"
   ]
  },
  {
   "cell_type": "code",
   "execution_count": null,
   "metadata": {},
   "outputs": [],
   "source": [
    "# np.info(np.add)"
   ]
  },
  {
   "cell_type": "markdown",
   "metadata": {},
   "source": [
    "#### conclusion\n",
    "   - **write** code using **vectorization** can be **harder** than **loop-based** python **code**\n",
    "   - but for the sake of time performance you cannot avoid it\n",
    "   - it is just **another way** to **think** your problem\n",
    "   - you might need to **use** **different** algorithms or **invent** **new** ones\n",
    "   \n",
    "   \n",
    "   - see https://www.labri.fr/perso/nrougier/from-python-to-numpy/#bibliography"
   ]
  },
  {
   "cell_type": "markdown",
   "metadata": {},
   "source": [
    "#### **exercice$^{(*)}$ NNN**\n",
    "   - example of chosing the wrong algorithm ...\n",
    "\n",
    "   - given two vectors $a$ and $b$ of shape $(n,)$\n",
    "   - we want to compute the sum of the product of each pairs of elements $a[i]* b[j]$\n",
    "   - with two algorithms: the **direct** algorithm and a **more subtle** one\n",
    "   \n",
    "\n",
    "(\\*) *the exercices must be completed in students' mandatory non-attendance time*"
   ]
  },
  {
   "cell_type": "markdown",
   "metadata": {},
   "source": [
    "   1. compute the function with **two nexted loops in python** (timeit)\n",
    "   2. compute the function by summing the **inner** product of two vectors\n",
    "      - $a$ being reshaped to $(n, 1)$ and $b$ to $(1, n)$ (timeit)\n",
    "      \n",
    "      \n",
    "   3. notice that\n",
    "      - $x[0] \\times y[0] + x[0] \\times y[1] + x[0] \\times y[2] +$  \n",
    "      - $x[1] \\times y[0] + x[1] \\times y[1] + x[2] \\times y[2] +$  \n",
    "      - $x[2] \\times y[0] + x[1] \\times y[1] + x[2] \\times y[2]$\n",
    "      - $ == $  \n",
    "      - $(x[0] + x[1] + x[2]) \\times (y[0] + y[1] + y[2])$  \n",
    "   \n",
    "   \n",
    "   - the two last functions were **implementing** a $O(n^2)$ algorithm\n",
    "   - while there **exist** a different algorithm in $O(n)$ \n",
    "   \n",
    "   \n",
    "  4. compute the new algorithm in python (using the built-in function *sum*)\n",
    "  5. compute the function in **numpy** (using *nunmpy.sum*)"
   ]
  },
  {
   "cell_type": "markdown",
   "metadata": {},
   "source": [
    "   - example of code to time your functions"
   ]
  },
  {
   "cell_type": "code",
   "execution_count": null,
   "metadata": {},
   "outputs": [],
   "source": [
    "def fct_in_python (a, b):\n",
    "    # your code here\n",
    "    return 0 # of course another value here ...\n",
    "\n",
    "n = 1000\n",
    "a = np.arange(n) # for example\n",
    "b = np.arange(n)\n",
    "print(fct_in_python(a, b))\n",
    "%timeit -n 5 fct_in_python(a, b)"
   ]
  },
  {
   "cell_type": "markdown",
   "metadata": {},
   "source": [
    "#### **correction NNN**"
   ]
  },
  {
   "cell_type": "markdown",
   "metadata": {},
   "source": [
    "   - the **python** way"
   ]
  },
  {
   "cell_type": "code",
   "execution_count": null,
   "metadata": {},
   "outputs": [],
   "source": [
    "def fct_in_python (x, y):\n",
    "    ''' two loops to obtain all the pairs\n",
    "        of elements (x_i, y_j) '''\n",
    "    s = 0\n",
    "    for x_i in x:\n",
    "        for y_j in y:\n",
    "            s = s + x_i*y_j\n",
    "    return s"
   ]
  },
  {
   "cell_type": "code",
   "execution_count": null,
   "metadata": {},
   "outputs": [],
   "source": [
    "n = 1000\n",
    "a = np.arange(n)\n",
    "b = np.arange(n)\n",
    "print(fct_in_python(a, b))\n",
    "%timeit -n 5 fct_in_python(a, b)"
   ]
  },
  {
   "cell_type": "markdown",
   "metadata": {},
   "source": [
    "   - the **numpy** way"
   ]
  },
  {
   "cell_type": "code",
   "execution_count": null,
   "metadata": {},
   "outputs": [],
   "source": [
    "def fct_in_numpy(x, y):\n",
    "    ''' x is reshaped in a column vector (len(x), 1)\n",
    "        y is reshaped in a row column    (1 , len(y))\n",
    "        we do the product (each array is broadcasted)\n",
    "    '''    \n",
    "    z = x.reshape(len(x), 1) * y.reshape(1, len(x))\n",
    "    return z.sum()"
   ]
  },
  {
   "cell_type": "code",
   "execution_count": null,
   "metadata": {},
   "outputs": [],
   "source": [
    "n = 1000\n",
    "a = np.arange(n)\n",
    "b = np.arange(n)\n",
    "print(fct_in_numpy(a, b))\n",
    "%timeit -n 5 fct_in_numpy(a, b)"
   ]
  },
  {
   "cell_type": "markdown",
   "metadata": {},
   "source": [
    "   - the two last functions were **implementing** a $O(n^2)$ algorithm\n",
    "   - while there **exist** a $O(n)$ algorithm "
   ]
  },
  {
   "cell_type": "code",
   "execution_count": null,
   "metadata": {},
   "outputs": [],
   "source": [
    "def fct_python_better (x, y):\n",
    "    return sum(y) * sum(y)"
   ]
  },
  {
   "cell_type": "code",
   "execution_count": null,
   "metadata": {},
   "outputs": [],
   "source": [
    "n = 1000\n",
    "a = np.arange(n)\n",
    "b = np.arange(n)\n",
    "print(fct_python_better(a, b))\n",
    "%timeit -n 5 fct_python_better(a, b)"
   ]
  },
  {
   "cell_type": "code",
   "execution_count": null,
   "metadata": {},
   "outputs": [],
   "source": [
    "def fct_numpy_better (x, y):\n",
    "    return np.sum(y) * np.sum(y)"
   ]
  },
  {
   "cell_type": "code",
   "execution_count": null,
   "metadata": {},
   "outputs": [],
   "source": [
    "n = 1000\n",
    "a = np.arange(n)\n",
    "b = np.arange(n)\n",
    "print(fct_numpy_better(a, b))\n",
    "%timeit -n 5 fct_numpy_better(a, b)"
   ]
  }
 ],
 "metadata": {
  "ipub": {
   "sphinx": {
    "toggle_input": true,
    "toggle_input_all": true,
    "toggle_output": true,
    "toggle_output_all": true
   }
  },
  "kernelspec": {
   "display_name": "Python 3",
   "language": "python",
   "name": "python3"
  },
  "language_info": {
   "codemirror_mode": {
    "name": "ipython",
    "version": 3
   },
   "file_extension": ".py",
   "mimetype": "text/x-python",
   "name": "python",
   "nbconvert_exporter": "python",
   "pygments_lexer": "ipython3",
   "version": "3.7.3"
  },
  "notebookname": "vectorizing",
  "rise": {
   "autolaunch": true,
   "slideNumber": "c/t",
   "start_slideshow_at": "selected",
   "theme": "sky",
   "transition": "cube"
  },
  "version": "1.0"
 },
 "nbformat": 4,
 "nbformat_minor": 4
}
