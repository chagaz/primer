{
 "cells": [
  {
   "cell_type": "markdown",
   "metadata": {},
   "source": [
    "# Pandas"
   ]
  },
  {
   "cell_type": "markdown",
   "metadata": {},
   "source": [
    "#### this course is inspired by\n",
    "   - Arnaud Legout, Inria, (courses and MOOC python)\n",
    "   - Thierry Parmentelat (the numeric part of the MOOC python)\n",
    " "
   ]
  },
  {
   "cell_type": "markdown",
   "metadata": {},
   "source": [
    "#### pandas cheat sheet\n",
    "   - https://pandas.pydata.org/Pandas_Cheat_Sheet.pdf"
   ]
  },
  {
   "cell_type": "markdown",
   "metadata": {},
   "source": [
    "### pandas\n",
    "   - `under development` since 2008\n",
    "   - try to `close the gap` between `python`, `statistical computing` and `multidimensional  datasets`\n",
    "   - not very `intuitive` but very `powerful` and there is `no better` solution\n",
    "   \n",
    "   \n",
    "   - PyHPC11 (Python High-Performance and Scientific Computing conference 2011):\n",
    "      - https://www.dlr.de/sc/Portaldata/15/Resources/dokumente/pyhpc2011/submissions/pyhpc2011_submission_9.pdf"
   ]
  },
  {
   "cell_type": "markdown",
   "metadata": {},
   "source": [
    "# objectives\n",
    "\n",
    "   - data `arrays` with `labeled axes`\n",
    "   - `vectorized` operations\n",
    "   - handling of `missing data`\n",
    "   - `merge`, `pivot`, `groupy` other `relation` operations\n",
    "   - automatic or explicit `data alignment`\n",
    "   - integrated `time series` functionality"
   ]
  },
  {
   "cell_type": "markdown",
   "metadata": {},
   "source": [
    "### pandas versus numpy\n",
    "\n",
    "   - numpy contains `efficient` array `creation` and `manipulations`\n",
    "   - pandas offers an `index-based structuration` to numpy.ndarray\n",
    "\n",
    "  - see http://pandas.pydata.org/pandas-docs/stable/\n",
    "  \n",
    "  \n",
    "\n",
    "   - pandas uses numpy as a `black-box`\n",
    "   - `no assumption` is made on memory allocation\n",
    "   \n",
    "   \n",
    "   - i.e. pandas works mainly with `copies` instead of `in-place` modification\n",
    "   - see https://stackoverflow.com/questions/23296282/what-rules-does-pandas-use-to-generate-a-view-vs-a-copy\n",
    "   \n",
    "   \n",
    "\n",
    "   - `in-place` modification in pandas are usually an assignment after the copy\n",
    "   - see https://stackoverflow.com/questions/22532302/pandas-peculiar-performance-drop-for-inplace-rename-after-dropna/22533110#22533110                  127"
   ]
  },
  {
   "cell_type": "markdown",
   "metadata": {},
   "source": [
    "   - importing  `pandas library`"
   ]
  },
  {
   "cell_type": "code",
   "execution_count": null,
   "metadata": {},
   "outputs": [],
   "source": [
    "import pandas as pd"
   ]
  },
  {
   "cell_type": "markdown",
   "metadata": {},
   "source": [
    "   - pandas version"
   ]
  },
  {
   "cell_type": "code",
   "execution_count": null,
   "metadata": {},
   "outputs": [],
   "source": [
    "pd.__version__"
   ]
  },
  {
   "cell_type": "markdown",
   "metadata": {},
   "source": [
    "   - Pandas version and version of its dependencies"
   ]
  },
  {
   "cell_type": "code",
   "execution_count": null,
   "metadata": {},
   "outputs": [],
   "source": [
    "#pd.show_versions(as_json=False)  # very long do not print"
   ]
  },
  {
   "cell_type": "markdown",
   "metadata": {},
   "source": [
    "there are two pandas containers\n",
    "   - I) $\\texttt{pandas.Series}$ is for `one-dimensional` arrays \n",
    "   - II) $\\texttt{pandas.DataFrame}$ is for `two-dimensional` arrays"
   ]
  },
  {
   "cell_type": "markdown",
   "metadata": {},
   "source": [
    "## I) $\\texttt{pandas.Series}$"
   ]
  },
  {
   "cell_type": "markdown",
   "metadata": {},
   "source": [
    "#### Series contain\n",
    "   - an `array-like` data\n",
    "   - an `array-like` index of same length as the data\n",
    "   - by default, the index starts at $0$"
   ]
  },
  {
   "cell_type": "markdown",
   "metadata": {},
   "source": [
    "### 1) creating $\\texttt{pandas.Series}$ from arrays"
   ]
  },
  {
   "cell_type": "markdown",
   "metadata": {},
   "source": [
    "example\n",
    "   - we have $11$ `European countries` with their `names`\n",
    "   - their corresponding `total areas` in $km^2$\n",
    "      - Russia, Ukraine, France, Spain, Sweden, Norway, Germany, Finland, Poland, Italy, UnitedKingdom\n",
    "      - 3972400, 603628, 551695, 505992, 450295, 385178, 357578, 338145, 312685, 301338, 242495"
   ]
  },
  {
   "cell_type": "markdown",
   "metadata": {},
   "source": [
    "we can create a $\\texttt{pandas.Series}$ with the areas"
   ]
  },
  {
   "cell_type": "code",
   "execution_count": null,
   "metadata": {},
   "outputs": [],
   "source": [
    "import pandas as pd"
   ]
  },
  {
   "cell_type": "code",
   "execution_count": null,
   "metadata": {},
   "outputs": [],
   "source": [
    "areas = [3972400, 603628, 551695, 505992, 450295, 385178,\n",
    "                   357578, 338145, 312685, 301338, 242495]\n",
    "sa = pd.Series(areas)\n",
    "sa"
   ]
  },
  {
   "cell_type": "markdown",
   "metadata": {},
   "source": [
    "   - by `default` a $\\texttt{pandas.Serie}$ is `indexed` by `numbers`\n",
    "   - the `type` of the elements is here $\\texttt{int64}$"
   ]
  },
  {
   "cell_type": "code",
   "execution_count": null,
   "metadata": {},
   "outputs": [],
   "source": [
    "sa.index"
   ]
  },
  {
   "cell_type": "markdown",
   "metadata": {},
   "source": [
    "   - the `index` is also called the `keys`"
   ]
  },
  {
   "cell_type": "code",
   "execution_count": null,
   "metadata": {},
   "outputs": [],
   "source": [
    "sa.keys() is sa.index"
   ]
  },
  {
   "cell_type": "markdown",
   "metadata": {},
   "source": [
    "   - they are the `same` `python` object"
   ]
  },
  {
   "cell_type": "markdown",
   "metadata": {},
   "source": [
    "### 2) providing an index to a $\\texttt{pandas.Series}$"
   ]
  },
  {
   "cell_type": "markdown",
   "metadata": {},
   "source": [
    "   - in our example, the serie is `indexed` by `numbers`\n",
    "   - we can index it by the `names` of the countries"
   ]
  },
  {
   "cell_type": "code",
   "execution_count": null,
   "metadata": {},
   "outputs": [],
   "source": [
    "countries = ['Russia', 'Ukraine', 'France', 'Spain',\n",
    "             'Sweden', 'Norway',  'Germany', 'Finland',\n",
    "             'Poland', 'Italy', 'UnitedKingdom']\n",
    "sc = pd.Series(areas, index = countries)"
   ]
  },
  {
   "cell_type": "code",
   "execution_count": null,
   "metadata": {},
   "outputs": [],
   "source": [
    "sc.index"
   ]
  },
  {
   "cell_type": "markdown",
   "metadata": {},
   "source": [
    "   - `index` needs not be `unique`"
   ]
  },
  {
   "cell_type": "code",
   "execution_count": null,
   "metadata": {},
   "outputs": [],
   "source": [
    "index = ['a', 'b', 'c', 'a', 'c']\n",
    "s = pd.Series([10, 39, 27, 8, 46], index = index)"
   ]
  },
  {
   "cell_type": "markdown",
   "metadata": {},
   "source": [
    "   - the $\\texttt{index}$ $\\texttt{'a'}$ has two values"
   ]
  },
  {
   "cell_type": "code",
   "execution_count": null,
   "metadata": {},
   "outputs": [],
   "source": [
    "s['a']"
   ]
  },
  {
   "cell_type": "markdown",
   "metadata": {},
   "source": [
    "   - we can `test` if an `index` is in the serie"
   ]
  },
  {
   "cell_type": "code",
   "execution_count": null,
   "metadata": {},
   "outputs": [],
   "source": [
    "'a' in s"
   ]
  },
  {
   "cell_type": "markdown",
   "metadata": {},
   "source": [
    "   - you can `reorganize` the index of a serie"
   ]
  },
  {
   "cell_type": "code",
   "execution_count": null,
   "metadata": {},
   "outputs": [],
   "source": [
    "s = pd.Series([10, 39, 27, 8, 46],\n",
    "              index = ['d', 'b', 'c', 'a', 'e'])"
   ]
  },
  {
   "cell_type": "code",
   "execution_count": null,
   "metadata": {},
   "outputs": [],
   "source": [
    "s.reindex(['a', 'b', 'c', 'd', 'e', 'f'], fill_value=0)"
   ]
  },
  {
   "cell_type": "markdown",
   "metadata": {},
   "source": [
    "  - you can give `default-values` for `new` elements"
   ]
  },
  {
   "cell_type": "markdown",
   "metadata": {},
   "source": [
    "### 3) creating $\\texttt{pandas.Series}$ from dictionaries $\\{(key_i, item_i)\\}$"
   ]
  },
  {
   "cell_type": "markdown",
   "metadata": {},
   "source": [
    "   - `keys` of the $\\texttt{dict}$ are `indexes`\n",
    "   - `values` of the $\\texttt{dict}$ are `elements`"
   ]
  },
  {
   "cell_type": "code",
   "execution_count": null,
   "metadata": {},
   "outputs": [],
   "source": [
    "d = {'Russia': 3972400, 'Ukraine': 603628, 'France': 551695, 'Spain': 505992,\n",
    "     'Sweden': 450295, 'Norway': 385178, 'Germany': 357578, 'Finland': 338145,\n",
    "     'Poland': 312685, 'Italy': 301338, 'UnitedKingdom': 242495}\n",
    "\n",
    "scd = pd.Series(d)"
   ]
  },
  {
   "cell_type": "code",
   "execution_count": null,
   "metadata": {},
   "outputs": [],
   "source": [
    "scd.index"
   ]
  },
  {
   "cell_type": "markdown",
   "metadata": {},
   "source": [
    "### 4) types of elements of a $\\texttt{pandas.Series}$"
   ]
  },
  {
   "cell_type": "code",
   "execution_count": null,
   "metadata": {},
   "outputs": [],
   "source": [
    "index = ['a', 'b', 'c', 'a', 'c']\n",
    "s = pd.Series([10, 39, 27, 8, 46], index = index)"
   ]
  },
  {
   "cell_type": "code",
   "execution_count": null,
   "metadata": {},
   "outputs": [],
   "source": [
    "s.index"
   ]
  },
  {
   "cell_type": "markdown",
   "metadata": {},
   "source": [
    "in this example\n",
    "   - the `type` of the `index` is $\\texttt{object}$\n",
    "   - and not a `fixed-length` array of characters like in $\\texttt{numpy.ndarray}$ "
   ]
  },
  {
   "cell_type": "code",
   "execution_count": null,
   "metadata": {},
   "outputs": [],
   "source": [
    "s.index.dtype # 'O' for object"
   ]
  },
  {
   "cell_type": "markdown",
   "metadata": {},
   "source": [
    "   - a $\\texttt{pandas.Serie}$ can hold data of any type but the type is `unique`(*)\n",
    "   - but the types of the element\n",
    "   - when the type is $\\texttt{object}$ elements are `references` to Python `objects`"
   ]
  },
  {
   "cell_type": "markdown",
   "metadata": {},
   "source": [
    "(*) `unlike` python where containers can hold objects of `any types` and are `heterogeneous`"
   ]
  },
  {
   "cell_type": "code",
   "execution_count": null,
   "metadata": {},
   "outputs": [],
   "source": [
    "l = [1, 'toto', 12.89, {'a':1}, (10, 230)]\n",
    "[type(e) for e in l]"
   ]
  },
  {
   "cell_type": "markdown",
   "metadata": {},
   "source": [
    "### XXX) naming the element and the index of a serie"
   ]
  },
  {
   "cell_type": "code",
   "execution_count": null,
   "metadata": {},
   "outputs": [],
   "source": [
    "s = pd.Series({'Russia': 3972400, 'Ukraine': 603628, 'France': 551695})\n",
    "s"
   ]
  },
  {
   "cell_type": "code",
   "execution_count": null,
   "metadata": {},
   "outputs": [],
   "source": [
    "s"
   ]
  },
  {
   "cell_type": "code",
   "execution_count": null,
   "metadata": {},
   "outputs": [],
   "source": [
    "s.name = 'areas'\n",
    "s.index.name = 'countries'\n",
    "s.head()"
   ]
  },
  {
   "cell_type": "markdown",
   "metadata": {},
   "source": [
    "### 5) accessing the underlying $\\texttt{numpy.ndarray}$ from  $\\texttt{pandas.Series}$"
   ]
  },
  {
   "cell_type": "markdown",
   "metadata": {},
   "source": [
    "#### it is recommended to use:\n",
    "\n",
    "   - $\\texttt{np.Series.array}$ is a wrapper arround the `underlying data`\n",
    "   - $\\texttt{np.Series.to_numpy}$ returns the `underlying` $\\texttt{numpy.ndarray}$"
   ]
  },
  {
   "cell_type": "code",
   "execution_count": null,
   "metadata": {},
   "outputs": [],
   "source": [
    "s = pd.Series(['a', 'b', 'c'])\n",
    "s"
   ]
  },
  {
   "cell_type": "code",
   "execution_count": null,
   "metadata": {},
   "outputs": [],
   "source": [
    "s.array"
   ]
  },
  {
   "cell_type": "code",
   "execution_count": null,
   "metadata": {},
   "outputs": [],
   "source": [
    "s.to_numpy()"
   ]
  },
  {
   "cell_type": "markdown",
   "metadata": {},
   "source": [
    "#### it is recommended to avoid $\\texttt{Series.values}$\n",
    "   - it returns a $\\texttt{numpy}$ array `representing the underlying data`\n",
    "   - **but** it has `inconsistent behaviour` (it is not deprecated)\n",
    "   - (https://pandas-docs.github.io/pandas-docs-travis/whatsnew/v0.24.0.html#accessing-the-values-in-a-series-or-index)\n",
    "\n",
    "      "
   ]
  },
  {
   "cell_type": "markdown",
   "metadata": {},
   "source": [
    "### 6) accessing elements in a $\\texttt{pandas.Series}$"
   ]
  },
  {
   "cell_type": "code",
   "execution_count": null,
   "metadata": {},
   "outputs": [],
   "source": [
    "countries = ['Russia', 'Ukraine', 'France', 'Spain', 'Sweden', 'Norway',\n",
    "                       'Germany', 'Finland', 'Poland', 'Italy', 'UnitedKingdom']\n",
    "areas = [3972400, 603628, 551695, 505992, 450295, 385178,\n",
    "                   357578, 338145, 312685, 301338, 242495]\n",
    "sc = pd.Series(areas, index = countries)"
   ]
  },
  {
   "cell_type": "markdown",
   "metadata": {},
   "source": [
    "#### a) `accessing` elements by their `index` (their `key`)"
   ]
  },
  {
   "cell_type": "markdown",
   "metadata": {},
   "source": [
    "the `strong` way"
   ]
  },
  {
   "cell_type": "code",
   "execution_count": null,
   "metadata": {},
   "outputs": [],
   "source": [
    "sc['Spain']"
   ]
  },
  {
   "cell_type": "code",
   "execution_count": null,
   "metadata": {},
   "outputs": [],
   "source": [
    "'Spain' in sc "
   ]
  },
  {
   "cell_type": "markdown",
   "metadata": {},
   "source": [
    "in case of `absence`: the `strong` way produces an `error`"
   ]
  },
  {
   "cell_type": "code",
   "execution_count": null,
   "metadata": {},
   "outputs": [],
   "source": [
    "try:\n",
    "    sc['Denmark']\n",
    "except KeyError as e:\n",
    "    print(e, 'is not an index')"
   ]
  },
  {
   "cell_type": "code",
   "execution_count": null,
   "metadata": {},
   "outputs": [],
   "source": [
    "'Denmark' in sc"
   ]
  },
  {
   "cell_type": "markdown",
   "metadata": {},
   "source": [
    "#### b) `accessing` elements by their `index` using $\\texttt{pandas.Series.loc[]}$\n",
    "   - it is a `property` not a `function`"
   ]
  },
  {
   "cell_type": "markdown",
   "metadata": {},
   "source": [
    "access the element of index `Russia` in the serie"
   ]
  },
  {
   "cell_type": "code",
   "execution_count": null,
   "metadata": {},
   "outputs": [],
   "source": [
    "sc.loc['Russia'] # the same element as sc['Russia']"
   ]
  },
  {
   "cell_type": "markdown",
   "metadata": {},
   "source": [
    "in case of `absence`: it produces an `error`"
   ]
  },
  {
   "cell_type": "code",
   "execution_count": null,
   "metadata": {},
   "outputs": [],
   "source": [
    "try:\n",
    "    sc.loc['Denmark']\n",
    "except KeyError as e:\n",
    "    print(e, 'is not an index')"
   ]
  },
  {
   "cell_type": "markdown",
   "metadata": {},
   "source": [
    "#### c) `accessing` elements by the `position` of their index using $\\texttt{pandas.Series.iloc[]}$\n",
    "\n",
    "   - the position of the `key` in the list of `index`"
   ]
  },
  {
   "cell_type": "markdown",
   "metadata": {},
   "source": [
    "`'Russia'` is the `first` index (i.e. $0$) "
   ]
  },
  {
   "cell_type": "code",
   "execution_count": null,
   "metadata": {},
   "outputs": [],
   "source": [
    "sc.iloc[0] # the same element as sc.loc['Russia']"
   ]
  },
  {
   "cell_type": "code",
   "execution_count": null,
   "metadata": {},
   "outputs": [],
   "source": [
    "sc.iloc[-1] # the last one like in python"
   ]
  },
  {
   "cell_type": "code",
   "execution_count": null,
   "metadata": {},
   "outputs": [],
   "source": [
    "sc.iloc[0:3] # several indexes"
   ]
  },
  {
   "cell_type": "markdown",
   "metadata": {},
   "source": [
    "in case of `absence`: it produces an `error`"
   ]
  },
  {
   "cell_type": "code",
   "execution_count": null,
   "metadata": {},
   "outputs": [],
   "source": [
    "try:\n",
    "    sc.iloc[1000]\n",
    "except IndexError as e:\n",
    "    print(e)"
   ]
  },
  {
   "cell_type": "markdown",
   "metadata": {},
   "source": [
    "#### d) aggregating the elements in an `iterable` with $\\texttt{pandas.Series.items}$"
   ]
  },
  {
   "cell_type": "markdown",
   "metadata": {},
   "source": [
    "   - you obtain a python $\\texttt{zip}$ i.e. a comprehension of $(index, values)$"
   ]
  },
  {
   "cell_type": "code",
   "execution_count": null,
   "metadata": {},
   "outputs": [],
   "source": [
    "zsa = sa.items() # the iterable contain the numbered elements\n",
    "zsa"
   ]
  },
  {
   "cell_type": "code",
   "execution_count": null,
   "metadata": {},
   "outputs": [],
   "source": [
    "for z in zsa:\n",
    "    print(z)"
   ]
  },
  {
   "cell_type": "markdown",
   "metadata": {},
   "source": [
    "### 7) deleting an element with  $\\texttt{pandas.Serie.drop}$"
   ]
  },
  {
   "cell_type": "markdown",
   "metadata": {},
   "source": [
    "   - it allocates and returns the new $\\texttt{pandas.Series}$\n",
    "   - or you can do it `inplace` (it will *modify* the actual serie)"
   ]
  },
  {
   "cell_type": "code",
   "execution_count": null,
   "metadata": {},
   "outputs": [],
   "source": [
    "sc.drop('Russia')"
   ]
  },
  {
   "cell_type": "code",
   "execution_count": null,
   "metadata": {},
   "outputs": [],
   "source": [
    "sc = sc.drop('Russia')"
   ]
  },
  {
   "cell_type": "markdown",
   "metadata": {},
   "source": [
    "we do it `inplace`"
   ]
  },
  {
   "cell_type": "code",
   "execution_count": null,
   "metadata": {},
   "outputs": [],
   "source": [
    "sc = sc.drop('Spain', inplace=True)"
   ]
  },
  {
   "cell_type": "markdown",
   "metadata": {},
   "source": [
    "### 8) adding an element in a $\\texttt{pandas.Series}$"
   ]
  },
  {
   "cell_type": "code",
   "execution_count": null,
   "metadata": {},
   "outputs": [],
   "source": [
    "s = pd.Series([10, 47, 47, 67], index=['a', 'b', 'c', 'a'])"
   ]
  },
  {
   "cell_type": "markdown",
   "metadata": {},
   "source": [
    "#### a) you can check whether values are contained in a series"
   ]
  },
  {
   "cell_type": "markdown",
   "metadata": {},
   "source": [
    "the `direct` way"
   ]
  },
  {
   "cell_type": "code",
   "execution_count": null,
   "metadata": {},
   "outputs": [],
   "source": [
    "s == 10"
   ]
  },
  {
   "cell_type": "markdown",
   "metadata": {},
   "source": [
    "   - the `proper` way"
   ]
  },
  {
   "cell_type": "code",
   "execution_count": null,
   "metadata": {},
   "outputs": [],
   "source": [
    "s.isin([10]) # a single element"
   ]
  },
  {
   "cell_type": "code",
   "execution_count": null,
   "metadata": {},
   "outputs": [],
   "source": [
    "s.isin([100, 47]) # several selements"
   ]
  },
  {
   "cell_type": "markdown",
   "metadata": {},
   "source": [
    "#### b) you can check whether values are indexes in a series"
   ]
  },
  {
   "cell_type": "markdown",
   "metadata": {},
   "source": [
    "   - the python way"
   ]
  },
  {
   "cell_type": "code",
   "execution_count": null,
   "metadata": {},
   "outputs": [],
   "source": [
    "'a' in s"
   ]
  },
  {
   "cell_type": "code",
   "execution_count": null,
   "metadata": {},
   "outputs": [],
   "source": [
    "s.index.isin(['a', 'd'])"
   ]
  },
  {
   "cell_type": "markdown",
   "metadata": {},
   "source": [
    "#### c) you can change the value of an element"
   ]
  },
  {
   "cell_type": "code",
   "execution_count": null,
   "metadata": {},
   "outputs": [],
   "source": [
    "s['a']"
   ]
  },
  {
   "cell_type": "code",
   "execution_count": null,
   "metadata": {},
   "outputs": [],
   "source": [
    "s['a'] = 17 # you modify all the 'a'"
   ]
  },
  {
   "cell_type": "code",
   "execution_count": null,
   "metadata": {},
   "outputs": [],
   "source": [
    "s['a']"
   ]
  },
  {
   "cell_type": "markdown",
   "metadata": {},
   "source": [
    "   - you modify the `original` array (`not` a copy of the array)"
   ]
  },
  {
   "cell_type": "code",
   "execution_count": null,
   "metadata": {},
   "outputs": [],
   "source": [
    "s.dtype"
   ]
  },
  {
   "cell_type": "code",
   "execution_count": null,
   "metadata": {},
   "outputs": [],
   "source": [
    "type(s['c'])"
   ]
  },
  {
   "cell_type": "code",
   "execution_count": null,
   "metadata": {},
   "outputs": [],
   "source": [
    "s['c'] = \"toto\""
   ]
  },
  {
   "cell_type": "markdown",
   "metadata": {},
   "source": [
    "   - the `type` of the elements `changed`\n",
    "   - it was integer it became `string` (objects)"
   ]
  },
  {
   "cell_type": "code",
   "execution_count": null,
   "metadata": {},
   "outputs": [],
   "source": [
    "type(s['c'])"
   ]
  },
  {
   "cell_type": "code",
   "execution_count": null,
   "metadata": {},
   "outputs": [],
   "source": [
    "s.dtype"
   ]
  },
  {
   "cell_type": "markdown",
   "metadata": {},
   "source": [
    "#### d) you can add elements"
   ]
  },
  {
   "cell_type": "markdown",
   "metadata": {},
   "source": [
    "   - the same way you change an existing one\n",
    "   - you `give` a new `pair` $(index,\\ value)$"
   ]
  },
  {
   "cell_type": "code",
   "execution_count": null,
   "metadata": {},
   "outputs": [],
   "source": [
    "s['v'] = 134"
   ]
  },
  {
   "cell_type": "code",
   "execution_count": null,
   "metadata": {},
   "outputs": [],
   "source": [
    "s"
   ]
  },
  {
   "cell_type": "markdown",
   "metadata": {},
   "source": [
    "   - `adding` elements can `change` the `data-type` of the array"
   ]
  },
  {
   "cell_type": "code",
   "execution_count": null,
   "metadata": {},
   "outputs": [],
   "source": [
    "s = pd.Series([1, 2, 3], index=['a', 'b', 'c'])"
   ]
  },
  {
   "cell_type": "code",
   "execution_count": null,
   "metadata": {},
   "outputs": [],
   "source": [
    "s.dtype"
   ]
  },
  {
   "cell_type": "code",
   "execution_count": null,
   "metadata": {},
   "outputs": [],
   "source": [
    "s.loc['str'] = '4' # we add a string"
   ]
  },
  {
   "cell_type": "code",
   "execution_count": null,
   "metadata": {},
   "outputs": [],
   "source": [
    "s.dtype"
   ]
  },
  {
   "cell_type": "code",
   "execution_count": null,
   "metadata": {},
   "outputs": [],
   "source": [
    "s + s   #   as the sum is defined on both\n",
    "        # for character strings it is the concatenation"
   ]
  },
  {
   "cell_type": "markdown",
   "metadata": {},
   "source": [
    "#### e) `implicit` type conversion\n",
    "   - type conversion can be done `automatically`"
   ]
  },
  {
   "cell_type": "markdown",
   "metadata": {},
   "source": [
    "   - `changing` elements can `change` the `data-type` of the array"
   ]
  },
  {
   "cell_type": "code",
   "execution_count": null,
   "metadata": {},
   "outputs": [],
   "source": [
    "s = pd.Series([10, 47, 47, 67], index=['a', 'b', 'c', 'a'])"
   ]
  },
  {
   "cell_type": "code",
   "execution_count": null,
   "metadata": {},
   "outputs": [],
   "source": [
    "s.dtype"
   ]
  },
  {
   "cell_type": "code",
   "execution_count": null,
   "metadata": {},
   "outputs": [],
   "source": [
    "s + s # the add of 64-bits integers"
   ]
  },
  {
   "cell_type": "markdown",
   "metadata": {},
   "source": [
    "   - we add an element of type `character string`"
   ]
  },
  {
   "cell_type": "code",
   "execution_count": null,
   "metadata": {},
   "outputs": [],
   "source": [
    "s['w'] = '101'"
   ]
  },
  {
   "cell_type": "markdown",
   "metadata": {},
   "source": [
    "   - you silently change the data-type of the array"
   ]
  },
  {
   "cell_type": "markdown",
   "metadata": {},
   "source": [
    "   - when `printed` the array `looks` the same !\n",
    "   - but `from now on` elements are `references` to objects\n",
    "   - elements indexed by $\\texttt{['a', 'b', 'c']}$ are `references to 64-bits integer` objects\n",
    "   - the element indexed by $\\texttt{'w'}$ is a `reference to a character string` object"
   ]
  },
  {
   "cell_type": "code",
   "execution_count": null,
   "metadata": {},
   "outputs": [],
   "source": [
    "s"
   ]
  },
  {
   "cell_type": "code",
   "execution_count": null,
   "metadata": {},
   "outputs": [],
   "source": [
    "s.dtype"
   ]
  },
  {
   "cell_type": "markdown",
   "metadata": {},
   "source": [
    "   - but:"
   ]
  },
  {
   "cell_type": "code",
   "execution_count": null,
   "metadata": {},
   "outputs": [],
   "source": [
    "[type(e) for e in s.array]   # the last one is a `str` not an `int`"
   ]
  },
  {
   "cell_type": "code",
   "execution_count": null,
   "metadata": {},
   "outputs": [],
   "source": [
    "s + s"
   ]
  },
  {
   "cell_type": "markdown",
   "metadata": {},
   "source": [
    "   - $+$ is the `addition of integers`\n",
    "   - $+$ is the `concatenation of strings`"
   ]
  },
  {
   "cell_type": "markdown",
   "metadata": {},
   "source": [
    "performance (be careful):\n",
    "   - operations on $\\texttt{numpy.ndarray}$ with `elements of type $\\texttt{object}$`\n",
    "   - are `slower` that operation on $\\texttt{numpy.ndarray}$ with `elements of type `numeric` (int32, int64, float64, etc.)"
   ]
  },
  {
   "cell_type": "code",
   "execution_count": null,
   "metadata": {},
   "outputs": [],
   "source": [
    "import numpy as np"
   ]
  },
  {
   "cell_type": "code",
   "execution_count": null,
   "metadata": {},
   "outputs": [],
   "source": [
    "s = pd.Series([10, 47, 47, 67], index=['a', 'b', 'c', 'a'])\n",
    "s.dtype # dtype('int64')\n",
    "np.power(s, 2)"
   ]
  },
  {
   "cell_type": "markdown",
   "metadata": {},
   "source": [
    "   - the `operation` is done directely on `64-bits` integers"
   ]
  },
  {
   "cell_type": "code",
   "execution_count": null,
   "metadata": {},
   "outputs": [],
   "source": [
    "s['w'] = '101'  # we add an element of type str\n",
    "s.dtype         # dtype('O')\n",
    "                # the type of the array changed to `object`\n",
    "s.drop(['w'], inplace= True) # we remove the element of type str\n",
    "s.dtype        # dtype('O') the type remains `object`"
   ]
  },
  {
   "cell_type": "code",
   "execution_count": null,
   "metadata": {},
   "outputs": [],
   "source": [
    "np.power(s, 2)"
   ]
  },
  {
   "cell_type": "markdown",
   "metadata": {},
   "source": [
    "   - the `operation` is done on `64-bits`\n",
    "   - but now the integers are `referenced` by the array\n",
    "   - (one `indirection` has been added)"
   ]
  },
  {
   "cell_type": "markdown",
   "metadata": {},
   "source": [
    "#### f) `explicit type` conversion with $\\texttt{pandas.Series.astype}$"
   ]
  },
  {
   "cell_type": "markdown",
   "metadata": {},
   "source": [
    "   - type conversion can be done `explicitely`"
   ]
  },
  {
   "cell_type": "code",
   "execution_count": null,
   "metadata": {},
   "outputs": [],
   "source": [
    "s = pd.Series([10.20, 47, 47, 67], index=['a', 'b', 'c', 'a'])"
   ]
  },
  {
   "cell_type": "code",
   "execution_count": null,
   "metadata": {},
   "outputs": [],
   "source": [
    "s"
   ]
  },
  {
   "cell_type": "code",
   "execution_count": null,
   "metadata": {},
   "outputs": [],
   "source": [
    "import numpy as np"
   ]
  },
  {
   "cell_type": "markdown",
   "metadata": {},
   "source": [
    "   - we change the type"
   ]
  },
  {
   "cell_type": "code",
   "execution_count": null,
   "metadata": {},
   "outputs": [],
   "source": [
    "s.astype(np.int32)"
   ]
  },
  {
   "cell_type": "markdown",
   "metadata": {},
   "source": [
    "   - it returns a new $\\texttt{pandas.Series}$\n",
    "   - with converted values"
   ]
  },
  {
   "cell_type": "markdown",
   "metadata": {},
   "source": [
    "### 9) appying `vectorized` operations on $\\texttt{pandas.Series}$"
   ]
  },
  {
   "cell_type": "markdown",
   "metadata": {},
   "source": [
    "#### a) advanced array indexing and assigment features"
   ]
  },
  {
   "cell_type": "code",
   "execution_count": null,
   "metadata": {},
   "outputs": [],
   "source": [
    "s = pd.Series([56, 45, 23, 8, 19, 34], index=['a', 'b', 'c', 'd', 'e', 'f'])\n",
    "s"
   ]
  },
  {
   "cell_type": "code",
   "execution_count": null,
   "metadata": {},
   "outputs": [],
   "source": [
    "s[s<30]"
   ]
  },
  {
   "cell_type": "code",
   "execution_count": null,
   "metadata": {},
   "outputs": [],
   "source": [
    "s.loc[s<30] # the same as previously"
   ]
  },
  {
   "cell_type": "markdown",
   "metadata": {},
   "source": [
    "   - we can `modify` all the `selected` elements"
   ]
  },
  {
   "cell_type": "code",
   "execution_count": null,
   "metadata": {},
   "outputs": [],
   "source": [
    "s.loc[s<30] = 30 # threshold"
   ]
  },
  {
   "cell_type": "code",
   "execution_count": null,
   "metadata": {},
   "outputs": [],
   "source": [
    "s[s<30]"
   ]
  },
  {
   "cell_type": "markdown",
   "metadata": {},
   "source": [
    "   - note that the scalar (here $30$) as been `broadcasted` in the `required size`"
   ]
  },
  {
   "cell_type": "code",
   "execution_count": null,
   "metadata": {},
   "outputs": [],
   "source": [
    "s[s>50] = 50"
   ]
  },
  {
   "cell_type": "code",
   "execution_count": null,
   "metadata": {},
   "outputs": [],
   "source": [
    "s"
   ]
  },
  {
   "cell_type": "markdown",
   "metadata": {},
   "source": [
    "## II) $\\texttt{pandas.DataFrame}$\n",
    "\n",
    "\n",
    "   - `two-dimensional` arrays\n",
    "   - where `rows` and `columns` are indexed\n",
    "   - `missing` values are replaced by $\\texttt{numpy.NaN}$\n",
    "   - `scalar` values are broadcasted\n",
    "   \n",
    "   \n",
    "   \n",
    "   - can be build in `several ways` or `read` from files (the most usual way)"
   ]
  },
  {
   "cell_type": "markdown",
   "metadata": {},
   "source": [
    "### 1) creating $\\texttt{pandas.DataFrame}$ from $\\texttt{pandas.Series}$\n",
    "   - `index` must be identical"
   ]
  },
  {
   "cell_type": "markdown",
   "metadata": {},
   "source": [
    "   - we create three `series of data`\n",
    "      - `distance`, `lowest_temp` and `highest_temp` related to the solar system\n",
    "   - series are `indexed by` the `names` of the planets\n",
    "   - some values are `missing`\n",
    "      - the `lowest` and the `highest` temperature of `neptune`, `saturn` and `uranus`\n",
    "   - all planets are from the `solar system`"
   ]
  },
  {
   "cell_type": "code",
   "execution_count": null,
   "metadata": {},
   "outputs": [],
   "source": [
    "# distance are relative to earth\n",
    "distance = pd.Series([0.387, 0.723, 30, 1., 5.203, 1.523, 9.6, 19.19],\n",
    "                     index=['Mercury', 'Venus', 'Neptune', 'Earth', 'Jupiter', 'Mars', 'Saturn', 'Uranus'])\n",
    "\n",
    "lowest_temp = pd.Series([-200.0, 446.0,  -90.0, -125.0, -140.0],\n",
    "                        index=['Mercury', 'Venus', 'Earth', 'Jupiter', 'Mars'])\n",
    "\n",
    "highest_temp = pd.Series([430.0, 490.0, 60.0, 17.0, 20.0],\n",
    "                         index=['Mercury', 'Venus', 'Earth', 'Jupiter', 'Mars'])\n"
   ]
  },
  {
   "cell_type": "markdown",
   "metadata": {},
   "source": [
    "we `group` the series using a `python dict` \n",
    "   - the `names` of the series are the `keys` of `dict`\n",
    "   - the `elements` of the series are the `values` "
   ]
  },
  {
   "cell_type": "code",
   "execution_count": null,
   "metadata": {},
   "outputs": [],
   "source": [
    "planets = pd.DataFrame({'distance': distance,\n",
    "                        'lowest temperature': lowest_temp, \n",
    "                        'highest temperature': highest_temp, \n",
    "                        'origin':'solar system'})"
   ]
  },
  {
   "cell_type": "markdown",
   "metadata": {},
   "source": [
    "   - for the `serie` $\\texttt{'origin'}$\n",
    "   - we give the `single` value $\\texttt{'solar system'}$"
   ]
  },
  {
   "cell_type": "markdown",
   "metadata": {},
   "source": [
    "   - we `see` the first elements"
   ]
  },
  {
   "cell_type": "code",
   "execution_count": null,
   "metadata": {},
   "outputs": [],
   "source": [
    "planets.head()"
   ]
  },
  {
   "cell_type": "markdown",
   "metadata": {},
   "source": [
    "   - the `single` value is `broadcasted` to the `entire column` (here  *Solar System*)\n",
    "   - `missing` values are `replaced by` $\\texttt{numpy.NaN}$ (min/max temperature of neptune, saturn and uranus"
   ]
  },
  {
   "cell_type": "markdown",
   "metadata": {},
   "source": [
    "you can `retrieve` columns by `name`\n",
    "   - you obtain a `reference` on the `serie` `not` a `copy`"
   ]
  },
  {
   "cell_type": "code",
   "execution_count": null,
   "metadata": {},
   "outputs": [],
   "source": [
    "planets[['distance', 'lowest temperature', 'highest temperature']]"
   ]
  },
  {
   "cell_type": "code",
   "execution_count": null,
   "metadata": {},
   "outputs": [],
   "source": [
    "planets['distance'] # relative distance where earth is 1"
   ]
  },
  {
   "cell_type": "markdown",
   "metadata": {},
   "source": [
    "   - you can use the `columns names` as a `key` (when possible)\n",
    "   - it `won't` work for $\\texttt{lowest temperature}$"
   ]
  },
  {
   "cell_type": "code",
   "execution_count": null,
   "metadata": {},
   "outputs": [],
   "source": [
    "planets.distance"
   ]
  },
  {
   "cell_type": "markdown",
   "metadata": {},
   "source": [
    "planets.distance"
   ]
  },
  {
   "cell_type": "markdown",
   "metadata": {},
   "source": [
    "   - we can give a name to the data frame"
   ]
  },
  {
   "cell_type": "code",
   "execution_count": null,
   "metadata": {},
   "outputs": [],
   "source": [
    "planets.name = 'planets'"
   ]
  },
  {
   "cell_type": "markdown",
   "metadata": {},
   "source": [
    " - we can give a name to the index"
   ]
  },
  {
   "cell_type": "code",
   "execution_count": null,
   "metadata": {},
   "outputs": [],
   "source": [
    "planets.index.name = 'planets names'"
   ]
  },
  {
   "cell_type": "code",
   "execution_count": null,
   "metadata": {},
   "outputs": [],
   "source": [
    "planets.head()"
   ]
  },
  {
   "cell_type": "markdown",
   "metadata": {},
   "source": [
    "   - you can create a `data frame` from a `dict of dicts`"
   ]
  },
  {
   "cell_type": "code",
   "execution_count": null,
   "metadata": {},
   "outputs": [],
   "source": [
    "planets_2 = pd.DataFrame(\n",
    "    {'distance': {'Mercury' : 0.387, 'Venus' : 0.723, 'Neptune' : 30, 'Earth' : 1},\n",
    "     'lowest temperature': {'Mercury' : -200, 'Venus': 446, 'Earth' : -90},})\n",
    "                        "
   ]
  },
  {
   "cell_type": "code",
   "execution_count": null,
   "metadata": {},
   "outputs": [],
   "source": [
    "planets_2"
   ]
  },
  {
   "cell_type": "markdown",
   "metadata": {},
   "source": [
    "### 2) creating $\\texttt{pandas.DataFrame}$ by specifying parameters $\\texttt{data}$, $\\texttt{columns}$ and $\\texttt{index}$"
   ]
  },
  {
   "cell_type": "code",
   "execution_count": null,
   "metadata": {},
   "outputs": [],
   "source": [
    "planets_1 = pd.DataFrame([[1.000, -90.0, 60.0],\n",
    "                          [5.203, -125.0, 17.0],\n",
    "                          [1.523, -140.0, 20.0],\n",
    "                          [0.387, -200.0, 430.0],\n",
    "                          [30.0],\n",
    "                          [9.600],\n",
    "                          [ 19.190],\n",
    "                          [ 0.723, 446.0, 490.0]],\n",
    "                         \n",
    "                         index= ['Earth', 'Jupiter', 'Mars', 'Mercury', 'Neptune', 'Saturn', 'Uranus', 'Venus'],\n",
    "                         \n",
    "                         columns=['distance', 'lowest temperature', 'highest temperature'])"
   ]
  },
  {
   "cell_type": "code",
   "execution_count": null,
   "metadata": {},
   "outputs": [],
   "source": [
    "planets_1.head(3)"
   ]
  },
  {
   "cell_type": "markdown",
   "metadata": {},
   "source": [
    "in a `data frame`\n",
    "   - the `rows` and the `columns` are `indexed`\n",
    "   - the type is $\\texttt{pandas.Index}$ (for short)"
   ]
  },
  {
   "cell_type": "code",
   "execution_count": null,
   "metadata": {},
   "outputs": [],
   "source": [
    "type(planets_1.columns), type(planets_1.columns)"
   ]
  },
  {
   "cell_type": "code",
   "execution_count": null,
   "metadata": {},
   "outputs": [],
   "source": [
    "pd.Index"
   ]
  },
  {
   "cell_type": "markdown",
   "metadata": {},
   "source": [
    "   - you can create an object `Index`\n",
    "   - and pass it to the data frame `constructor`"
   ]
  },
  {
   "cell_type": "code",
   "execution_count": null,
   "metadata": {},
   "outputs": [],
   "source": [
    "index_rows = pd.Index(['Earth', 'Jupiter', 'Mars','Mercury',\n",
    "                       'Neptune', 'Saturn', 'Uranus', 'Venus'])"
   ]
  },
  {
   "cell_type": "code",
   "execution_count": null,
   "metadata": {},
   "outputs": [],
   "source": [
    "index_cols = pd.Index(['distance', 'lowest temperature',\n",
    "                     'highest temperature'])"
   ]
  },
  {
   "cell_type": "code",
   "execution_count": null,
   "metadata": {},
   "outputs": [],
   "source": [
    "planets_3 = pd.DataFrame([[1.000, -90.0, 60.0],\n",
    "                          [5.203, -125.0, 17.0],\n",
    "                          [1.523, -140.0, 20.0],\n",
    "                          [0.387, -200.0, 430.0],\n",
    "                          [30.0],\n",
    "                          [9.600],\n",
    "                          [ 19.190],\n",
    "                          [ 0.723, 446.0, 490.0]],                         \n",
    "                         index = index_rows,\n",
    "                         columns = index_cols)"
   ]
  },
  {
   "cell_type": "code",
   "execution_count": null,
   "metadata": {},
   "outputs": [],
   "source": []
  },
  {
   "cell_type": "markdown",
   "metadata": {},
   "source": [
    "### 3) information on $\\texttt{pandas.DataFrame}$"
   ]
  },
  {
   "cell_type": "markdown",
   "metadata": {},
   "source": [
    "   - you can access the `index`"
   ]
  },
  {
   "cell_type": "code",
   "execution_count": null,
   "metadata": {},
   "outputs": [],
   "source": [
    "planets.index"
   ]
  },
  {
   "cell_type": "markdown",
   "metadata": {},
   "source": [
    "   - you can access the `columns names`"
   ]
  },
  {
   "cell_type": "code",
   "execution_count": null,
   "metadata": {},
   "outputs": [],
   "source": [
    "planets.columns"
   ]
  },
  {
   "cell_type": "markdown",
   "metadata": {},
   "source": [
    "   - you access `columns` by keys like for a dictionary"
   ]
  },
  {
   "cell_type": "code",
   "execution_count": null,
   "metadata": {},
   "outputs": [],
   "source": [
    "planets['distance']"
   ]
  },
  {
   "cell_type": "markdown",
   "metadata": {},
   "source": [
    "   - you can `transpose` a $\\texttt{pandas.DataFrame}$"
   ]
  },
  {
   "cell_type": "code",
   "execution_count": null,
   "metadata": {},
   "outputs": [],
   "source": [
    "planets.T # nows columns are rows"
   ]
  },
  {
   "cell_type": "markdown",
   "metadata": {},
   "source": [
    "   - you can access the `underlying` two-dimensional $\\texttt{numpy.ndarray}$"
   ]
  },
  {
   "cell_type": "code",
   "execution_count": null,
   "metadata": {},
   "outputs": [],
   "source": [
    "planets.to_numpy()"
   ]
  },
  {
   "cell_type": "markdown",
   "metadata": {},
   "source": [
    "   - you can get general `statistics` on the `numerical` columns"
   ]
  },
  {
   "cell_type": "code",
   "execution_count": null,
   "metadata": {},
   "outputs": [],
   "source": [
    "planets.describe()"
   ]
  },
  {
   "cell_type": "markdown",
   "metadata": {},
   "source": [
    "   - you an access `information` on `columns`\n",
    "   - *numbers of non-null elements, types, memory usage*"
   ]
  },
  {
   "cell_type": "code",
   "execution_count": null,
   "metadata": {},
   "outputs": [],
   "source": [
    "planets.info()"
   ]
  },
  {
   "cell_type": "markdown",
   "metadata": {},
   "source": [
    "### 4) accessing elements in a $\\texttt{pandas.DataFrame}$ using $\\texttt{pandas.DataFrame.loc}$"
   ]
  },
  {
   "cell_type": "markdown",
   "metadata": {},
   "source": [
    "the classical way\n",
    "   - `standard` (python and numpy) `indexing operators` `[]` and attribute operator `.`\n",
    "   - are `available` and `intuitive`\n",
    "\n",
    "   \n",
    "However\n",
    "   - using `standard operators` has  `optimization` limits\n",
    "   - for `production code` use the `optimized pandas data access methods` \n",
    "   \n",
    "   \n",
    "   \n",
    "http://pandas.pydata.org/pandas-docs/stable/indexing.html"
   ]
  },
  {
   "cell_type": "markdown",
   "metadata": {},
   "source": [
    "#### accessing elements using `labels` and $\\texttt{pandas.DataFrame.loc}$\n",
    "   - $\\texttt{df.loc[row_label]}$\n",
    "   - $\\texttt{df.loc[row_label, column_label]}$\n",
    "   \n",
    "\n",
    "$\\texttt{row_label}$ and $\\texttt{column_label}$ can be:\n",
    "   - `labels`\n",
    "   - `list of labels`\n",
    "   - `slices` with labels\n",
    "   - `masks` (`Boolean array`) \n",
    "   "
   ]
  },
  {
   "cell_type": "markdown",
   "metadata": {},
   "source": [
    "when $\\texttt{row_label}$ and $\\texttt{column_label}$ are `labels`\n",
    "   - it returns a value"
   ]
  },
  {
   "cell_type": "code",
   "execution_count": null,
   "metadata": {},
   "outputs": [],
   "source": [
    "planets.loc['Earth', 'distance']"
   ]
  },
  {
   "cell_type": "code",
   "execution_count": null,
   "metadata": {},
   "outputs": [],
   "source": [
    "planets.loc['Earth']"
   ]
  },
  {
   "cell_type": "markdown",
   "metadata": {},
   "source": [
    "when only one $\\texttt{row_label}$ or $\\texttt{row_label}$ is a `label`\n",
    "   - it returns a $\\texttt{pandas.Series}$"
   ]
  },
  {
   "cell_type": "code",
   "execution_count": null,
   "metadata": {},
   "outputs": [],
   "source": [
    "planets.loc['Earth']"
   ]
  },
  {
   "cell_type": "code",
   "execution_count": null,
   "metadata": {},
   "outputs": [],
   "source": [
    "type(planets.loc['Earth'])"
   ]
  },
  {
   "cell_type": "code",
   "execution_count": null,
   "metadata": {},
   "outputs": [],
   "source": [
    "planets.loc[['Earth'], 'distance']"
   ]
  },
  {
   "cell_type": "code",
   "execution_count": null,
   "metadata": {},
   "outputs": [],
   "source": [
    "type(planets.loc[['Earth'], 'distance'])"
   ]
  },
  {
   "cell_type": "code",
   "execution_count": null,
   "metadata": {},
   "outputs": [],
   "source": [
    "planets.loc['Earth', ['distance']]"
   ]
  },
  {
   "cell_type": "code",
   "execution_count": null,
   "metadata": {},
   "outputs": [],
   "source": [
    "type(planets.loc['Earth', ['distance']])"
   ]
  },
  {
   "cell_type": "markdown",
   "metadata": {},
   "source": [
    "when $\\texttt{row_label}$ and $\\texttt{column_label}$ are `lists of labels`\n",
    "   - it returns a $\\texttt{pandas.DataFrame}$"
   ]
  },
  {
   "cell_type": "code",
   "execution_count": null,
   "metadata": {},
   "outputs": [],
   "source": [
    "planets.loc[['Earth']]"
   ]
  },
  {
   "cell_type": "code",
   "execution_count": null,
   "metadata": {},
   "outputs": [],
   "source": [
    "type(planets.loc[['Earth']])"
   ]
  },
  {
   "cell_type": "code",
   "execution_count": null,
   "metadata": {},
   "outputs": [],
   "source": [
    "planets.loc[['Earth', 'Mars']]"
   ]
  },
  {
   "cell_type": "markdown",
   "metadata": {},
   "source": [
    "   - all columns $\\texttt{':'}$\n",
    "   - rows fron 'Earth' included to 'Mars'`included`"
   ]
  },
  {
   "cell_type": "code",
   "execution_count": null,
   "metadata": {},
   "outputs": [],
   "source": [
    "planets.loc['Earth':'Mars', :]"
   ]
  },
  {
   "cell_type": "markdown",
   "metadata": {},
   "source": [
    "   - all rows $\\texttt{':'}$\n",
    "   - columns from $\\texttt{distance}$ to $\\texttt{highest temperature}$ `included`"
   ]
  },
  {
   "cell_type": "code",
   "execution_count": null,
   "metadata": {},
   "outputs": [],
   "source": [
    "planets.loc[:, 'distance':'highest temperature']"
   ]
  },
  {
   "cell_type": "markdown",
   "metadata": {},
   "source": [
    "   - $\\texttt{planets}$ `farther than` earth from the sum"
   ]
  },
  {
   "cell_type": "code",
   "execution_count": null,
   "metadata": {},
   "outputs": [],
   "source": [
    "planets.loc[planets.loc[:, 'distance'] > 1]"
   ]
  },
  {
   "cell_type": "markdown",
   "metadata": {},
   "source": [
    "### 5) accessing elements in a $\\texttt{pandas.DataFrame}$ using `position` and  $\\texttt{pandas.DataFrame.iloc}$"
   ]
  },
  {
   "cell_type": "markdown",
   "metadata": {},
   "source": [
    "#### accessing elements using $\\texttt{pandas.DataFrame.iloc}$\n",
    "   - $\\texttt{df.loc[row_id]}$\n",
    "   - $\\texttt{df.loc[row_id, column_id]}$\n",
    "   \n",
    "\n",
    "$\\texttt{row_id}$ and $\\texttt{column_id}$ can be:\n",
    "   - `integer`\n",
    "   - `list of integers`\n",
    "   - `slices`\n",
    "   - `masks` (`Boolean array`)  "
   ]
  },
  {
   "cell_type": "code",
   "execution_count": null,
   "metadata": {},
   "outputs": [],
   "source": [
    "planets_1 = pd.DataFrame([[1.000, -90.0, 60.0],\n",
    "                          [5.203, -125.0, 17.0],\n",
    "                          [1.523, -140.0, 20.0],\n",
    "                          [0.387, -200.0, 430.0]],\n",
    "                         \n",
    "                         index= ['Earth', 'Jupiter', 'Mars', 'Mercury'],\n",
    "                         \n",
    "                         columns=['distance', 'lowest temperature', 'highest temperature'])"
   ]
  },
  {
   "cell_type": "markdown",
   "metadata": {},
   "source": [
    "   - the first row"
   ]
  },
  {
   "cell_type": "code",
   "execution_count": null,
   "metadata": {},
   "outputs": [],
   "source": [
    "planets.iloc[0] # pandas.Series"
   ]
  },
  {
   "cell_type": "markdown",
   "metadata": {},
   "source": [
    "   - the first and the third rows"
   ]
  },
  {
   "cell_type": "code",
   "execution_count": null,
   "metadata": {},
   "outputs": [],
   "source": [
    "planets.iloc[[0, 2]] # pandas.DataFrame"
   ]
  },
  {
   "cell_type": "markdown",
   "metadata": {},
   "source": [
    "   - $\\texttt{[1, 3]}$ the second and the fourth columns\n",
    "   - $\\texttt{[0, 2]}$ of the first and the third rows"
   ]
  },
  {
   "cell_type": "code",
   "execution_count": null,
   "metadata": {},
   "outputs": [],
   "source": [
    "planets.iloc[[0, 2], [1, 3]] # pandas.DataFrame"
   ]
  },
  {
   "cell_type": "markdown",
   "metadata": {},
   "source": [
    "   - first row, first column (as a float)"
   ]
  },
  {
   "cell_type": "code",
   "execution_count": null,
   "metadata": {},
   "outputs": [],
   "source": [
    "planets.iloc[0, 1] # pandas.DataFrame"
   ]
  },
  {
   "cell_type": "markdown",
   "metadata": {},
   "source": [
    "   - first row, first column (as a $\\texttt{pandas.DataFrame}$)"
   ]
  },
  {
   "cell_type": "code",
   "execution_count": null,
   "metadata": {},
   "outputs": [],
   "source": [
    "planets.iloc[[0], [1]] # pandas.DataFrame"
   ]
  },
  {
   "cell_type": "markdown",
   "metadata": {},
   "source": [
    "   - the `rows` from `position` $0$ to `position` $2$ `excluded` (*python slicing rules*)\n",
    "   - the `columns` from `position` $1$ to position $3$ `excluded` (*python slicing rules*)"
   ]
  },
  {
   "cell_type": "code",
   "execution_count": null,
   "metadata": {},
   "outputs": [],
   "source": [
    "planets.iloc[0:2, 1:3] # pandas.DataFrame"
   ]
  },
  {
   "cell_type": "markdown",
   "metadata": {},
   "source": [
    "   - all rows $\\texttt{':'}$\n",
    "   - columns from $1$ to $3$ excluded"
   ]
  },
  {
   "cell_type": "code",
   "execution_count": null,
   "metadata": {},
   "outputs": [],
   "source": [
    "planets.iloc[:, 1:3]"
   ]
  },
  {
   "cell_type": "markdown",
   "metadata": {},
   "source": [
    "   - all columns $\\texttt{':'}$\n",
    "   - rows from $0$ to $3$ excluded"
   ]
  },
  {
   "cell_type": "code",
   "execution_count": null,
   "metadata": {},
   "outputs": [],
   "source": [
    "planets.iloc[0:3, :]"
   ]
  },
  {
   "cell_type": "markdown",
   "metadata": {},
   "source": [
    "   - planets farther from the sun than the erath"
   ]
  },
  {
   "cell_type": "markdown",
   "metadata": {},
   "source": [
    "### 6) changing the $\\texttt{pandas.DataFrame}$ $\\texttt{index}$"
   ]
  },
  {
   "cell_type": "markdown",
   "metadata": {},
   "source": [
    "   - $\\texttt{pandas.DataFramce.set_index(new_column)}$\n",
    "   - $\\texttt{pandas.DataFramce.reset_index()}$\n",
    "   - direct assignement"
   ]
  },
  {
   "cell_type": "code",
   "execution_count": null,
   "metadata": {},
   "outputs": [],
   "source": [
    "planets = pd.DataFrame([[1.000, -90.0, 60.0],\n",
    "                          [5.203, -125.0, 17.0],],                         \n",
    "                         index= ['Earth', 'Jupiter'],                         \n",
    "                         columns=['distance', 'lowest temperature', 'highest temperature'])"
   ]
  },
  {
   "cell_type": "markdown",
   "metadata": {},
   "source": [
    "   - with $\\texttt{pandas.DataFramce.set_index}$ you `index` by `another` column"
   ]
  },
  {
   "cell_type": "code",
   "execution_count": null,
   "metadata": {},
   "outputs": [],
   "source": [
    "planets.set_index('distance')"
   ]
  },
  {
   "cell_type": "markdown",
   "metadata": {},
   "source": [
    "   - with $\\texttt{pandas.DataFramce.reset_index}$  the `index` became a `normal` $\\texttt{pandas.DataFrame}$ column "
   ]
  },
  {
   "cell_type": "code",
   "execution_count": null,
   "metadata": {},
   "outputs": [],
   "source": [
    "planets.reset_index()"
   ]
  },
  {
   "cell_type": "markdown",
   "metadata": {},
   "source": [
    "   - with direct assigment you create a new index"
   ]
  },
  {
   "cell_type": "code",
   "execution_count": null,
   "metadata": {},
   "outputs": [],
   "source": [
    "planets"
   ]
  },
  {
   "cell_type": "code",
   "execution_count": null,
   "metadata": {},
   "outputs": [],
   "source": [
    "planets.index = ['la terre', 'jupiter']"
   ]
  },
  {
   "cell_type": "markdown",
   "metadata": {},
   "source": [
    "### 7) sorting $\\texttt{pandas.DataFrame}$ according `columns`"
   ]
  },
  {
   "cell_type": "code",
   "execution_count": null,
   "metadata": {},
   "outputs": [],
   "source": [
    "df = pd.DataFrame({ 'col1':  [19, 3, 26, 46, 4, 19],\n",
    "                    'col2': ['h', 'w', 'y', 'd', 'm', 'w'],\n",
    "                    'col3':  [8.45, 19.23, 89.56, 17.5, 54.76, 89.56]})"
   ]
  },
  {
   "cell_type": "code",
   "execution_count": null,
   "metadata": {},
   "outputs": [],
   "source": [
    "df.sort_values(by='col1', ascending=False)"
   ]
  },
  {
   "cell_type": "markdown",
   "metadata": {},
   "source": [
    "   - `first` $\\texttt{col1}$ is `sorted`\n",
    "   - then, for `identical values`, $\\texttt{col2}$ is sorted "
   ]
  },
  {
   "cell_type": "code",
   "execution_count": null,
   "metadata": {},
   "outputs": [],
   "source": [
    "df.sort_values(by=['col1', 'col2'], ascending=False)"
   ]
  },
  {
   "cell_type": "markdown",
   "metadata": {},
   "source": [
    "   - you can sort only a few elements ($\\texttt{pandas.DataFrame.nlargest()}$, $\\texttt{pandas.DataFrame.nsmallest()}$)\n",
    "   - (*it might be faster on large datasets*)"
   ]
  },
  {
   "cell_type": "code",
   "execution_count": null,
   "metadata": {},
   "outputs": [],
   "source": [
    "df.nlargest(2, 'col3')"
   ]
  },
  {
   "cell_type": "code",
   "execution_count": null,
   "metadata": {},
   "outputs": [],
   "source": [
    "df.nsmallest(3, 'col1')"
   ]
  },
  {
   "cell_type": "markdown",
   "metadata": {},
   "source": [
    "### 8) applying vectorized functions to $\\texttt{pandas.DataFrame}$"
   ]
  },
  {
   "cell_type": "markdown",
   "metadata": {},
   "source": [
    "   - $\\texttt{pandas.DataFrame}$ columns are stored in $\\texttt{numpy.ndarray}$\n",
    "   - `ufuncs` functions can be `applied` to $\\texttt{pandas.Series}$\n",
    "   - `rows` and `columns` labels are preserved"
   ]
  },
  {
   "cell_type": "code",
   "execution_count": null,
   "metadata": {},
   "outputs": [],
   "source": [
    "df = pd.DataFrame(np.linspace(0, 2*np.pi, 100), columns=['angle'])"
   ]
  },
  {
   "cell_type": "code",
   "execution_count": null,
   "metadata": {},
   "outputs": [],
   "source": [
    "df.head()"
   ]
  },
  {
   "cell_type": "code",
   "execution_count": null,
   "metadata": {},
   "outputs": [],
   "source": [
    "df['sinus'] = np.sin(df)"
   ]
  },
  {
   "cell_type": "code",
   "execution_count": null,
   "metadata": {},
   "outputs": [],
   "source": [
    "df.head(3)"
   ]
  },
  {
   "cell_type": "code",
   "execution_count": null,
   "metadata": {},
   "outputs": [],
   "source": [
    "df['cosinus'] = np.cos(df['angle'])"
   ]
  },
  {
   "cell_type": "code",
   "execution_count": null,
   "metadata": {},
   "outputs": [],
   "source": [
    "df.head(3)"
   ]
  },
  {
   "cell_type": "code",
   "execution_count": null,
   "metadata": {},
   "outputs": [],
   "source": [
    "from matplotlib import pyplot as plt\n",
    "%matplotlib inline"
   ]
  },
  {
   "cell_type": "code",
   "execution_count": null,
   "metadata": {},
   "outputs": [],
   "source": [
    "df[['sinus', 'cosinus']].plot()"
   ]
  },
  {
   "cell_type": "code",
   "execution_count": null,
   "metadata": {},
   "outputs": [],
   "source": [
    "( np.power(df['sinus'], 2) + np.power(df['cosinus'], 2) )[0:3]"
   ]
  },
  {
   "cell_type": "markdown",
   "metadata": {},
   "source": [
    "## III) `alignement` of `labels` (rows, columns)"
   ]
  },
  {
   "cell_type": "markdown",
   "metadata": {},
   "source": [
    "   - $\\texttt{pandas}$ automatically `align labels` to `perform` the operation\n",
    "   - operations will be performed on values with the `same row` and `same column` label"
   ]
  },
  {
   "cell_type": "markdown",
   "metadata": {},
   "source": [
    "   - to have `label alignement` you must use `pandas` `Ufuncs` not the `numpy`\n",
    "   - $\\texttt{numpy}$ Ufuncs will `operate` on the underlying `ndarray` independently of the `labels`"
   ]
  },
  {
   "cell_type": "markdown",
   "metadata": {},
   "source": [
    "### 1) `alignment` on $\\texttt{pandas.Series}$ (on `rows` labels)"
   ]
  },
  {
   "cell_type": "code",
   "execution_count": null,
   "metadata": {},
   "outputs": [],
   "source": [
    "s1 = pd.Series([1, 2, 3, 4],     index=['a', 'b', 'c', 'a'])\n",
    "s2 = pd.Series([10, 20, 30, 40], index=['a', 'e', 'f', 'c'])"
   ]
  },
  {
   "cell_type": "code",
   "execution_count": null,
   "metadata": {},
   "outputs": [],
   "source": [
    "s1 + s2  # s1['a'] + s2['a'] = 1 + 10\n",
    "         # s1['a'] + s2['a'] = 4 + 10\n",
    "         # s1['b'] + np.NaN  \n",
    "         # s1['c'] + s2['c'] = 3 + 40\n",
    "         # np.NaN + s2['e']\n",
    "         # np.NaN + s2['f']"
   ]
  },
  {
   "cell_type": "markdown",
   "metadata": {},
   "source": [
    "   - `missing` values are replaced by $\\texttt{numpy.NaN}$\n",
    "   - note that a $\\texttt{numpy.NaN}$ `\"contaminates\"` an expression:\n",
    "      - $\\texttt{nuppy.NaN + 20 = numpy.Nan}$"
   ]
  },
  {
   "cell_type": "code",
   "execution_count": null,
   "metadata": {},
   "outputs": [],
   "source": [
    "s1.add(s2) # the same as s1 + s2"
   ]
  },
  {
   "cell_type": "markdown",
   "metadata": {},
   "source": [
    "   - you can `fill` missing values\n",
    "   - (here missing values are replaced by $0$)"
   ]
  },
  {
   "cell_type": "code",
   "execution_count": null,
   "metadata": {},
   "outputs": [],
   "source": [
    "s1.add(s2, fill_value=0)"
   ]
  },
  {
   "cell_type": "markdown",
   "metadata": {},
   "source": [
    "   - **but** $\\texttt{numpy}$ `does not align` labels"
   ]
  },
  {
   "cell_type": "code",
   "execution_count": null,
   "metadata": {},
   "outputs": [],
   "source": [
    "np.add(s1, s2) # it adds the two numpy.ndarrays"
   ]
  },
  {
   "cell_type": "markdown",
   "metadata": {},
   "source": [
    "### 2) `alignment` on $\\texttt{pandas.DataFrame}$ ( on `rows` and `columns` labels)"
   ]
  },
  {
   "cell_type": "markdown",
   "metadata": {},
   "source": [
    "example\n",
    "   - number of `kilometers` done in `bicycles`, `cars` and `bus`\n",
    "   - by `Garance`, `Nathalie` et `Baptiste`"
   ]
  },
  {
   "cell_type": "code",
   "execution_count": null,
   "metadata": {},
   "outputs": [],
   "source": [
    "names = ['Garance', 'Nathalie', 'Baptiste']\n",
    "\n",
    "bicycle = pd.Series([280, 340, 150], index=['Garance', 'Nathalie', 'Baptiste'])\n",
    "car = pd.Series([1500, 450, 670], index=['Garance', 'Nathalie', 'Baptiste'])\n",
    "bus = pd.Series([30, 11, 36], index=['Garance', 'Nathalie', 'Baptiste'])\n",
    "\n",
    "trips_in_january = pd.DataFrame({'bicycle':bicycle, 'car': car, 'bus': bus})\n"
   ]
  },
  {
   "cell_type": "code",
   "execution_count": null,
   "metadata": {},
   "outputs": [],
   "source": [
    "trips_in_january"
   ]
  },
  {
   "cell_type": "code",
   "execution_count": null,
   "metadata": {},
   "outputs": [],
   "source": [
    "bicycle = pd.Series([130, 80], index=['Garance', 'Baptiste']) # missing Nathalie's values\n",
    "car = pd.Series([270, 890], index=['Nathalie', 'Baptiste'])  # missing Garance's values\n",
    "bus = pd.Series([27, 130], index=['Garance', 'Nathalie'])    # missing Baptiste' values\n",
    "\n",
    "trips_in_february = pd.DataFrame({'bicycle':bicycle, 'car': car, 'bus': bus})"
   ]
  },
  {
   "cell_type": "code",
   "execution_count": null,
   "metadata": {},
   "outputs": [],
   "source": [
    "trips_in_february # missing values are np.NaN"
   ]
  },
  {
   "cell_type": "code",
   "execution_count": null,
   "metadata": {},
   "outputs": [],
   "source": [
    "trips_with_NaN = trips_in_january + trips_in_february # alignment is done on rows and columns"
   ]
  },
  {
   "cell_type": "code",
   "execution_count": null,
   "metadata": {},
   "outputs": [],
   "source": [
    "trips_with_NaN"
   ]
  },
  {
   "cell_type": "code",
   "execution_count": null,
   "metadata": {},
   "outputs": [],
   "source": [
    "trips = trips_in_january.add(trips_in_february, fill_value=0)  # alignment is done on rows and columns"
   ]
  },
  {
   "cell_type": "code",
   "execution_count": null,
   "metadata": {},
   "outputs": [],
   "source": [
    "trips"
   ]
  },
  {
   "cell_type": "markdown",
   "metadata": {},
   "source": [
    "#### c) `alignment` on $\\texttt{pandas.Series}$  and $\\texttt{pandas.DataFrame}$"
   ]
  },
  {
   "cell_type": "code",
   "execution_count": null,
   "metadata": {},
   "outputs": [],
   "source": [
    "df = pd.DataFrame({'a': [1, 2, 3], 'b': [10, 20, 30], 'c': [100, 200, 300]}, index=['x', 'y', 'z'])"
   ]
  },
  {
   "cell_type": "code",
   "execution_count": null,
   "metadata": {},
   "outputs": [],
   "source": [
    "df"
   ]
  },
  {
   "cell_type": "markdown",
   "metadata": {},
   "source": [
    "   - we add a `row`"
   ]
  },
  {
   "cell_type": "code",
   "execution_count": null,
   "metadata": {},
   "outputs": [],
   "source": [
    "s_row = pd.Series([0.10, 0.20, 0.30], index=['a', 'b', 'c'])"
   ]
  },
  {
   "cell_type": "markdown",
   "metadata": {},
   "source": [
    "   - the $\\texttt{pandas.Series}$ is considered as a `row`\n",
    "   - the row is `broadcasted` on the three indexes\n",
    "   - the `alignement` is done on the `row` and the `columns` `labels`"
   ]
  },
  {
   "cell_type": "code",
   "execution_count": null,
   "metadata": {},
   "outputs": [],
   "source": [
    "df + s_row"
   ]
  },
  {
   "cell_type": "code",
   "execution_count": null,
   "metadata": {},
   "outputs": [],
   "source": [
    "s_col = pd.Series([1000, 2000, 3000], index=['x', 'y', 'z'])"
   ]
  },
  {
   "cell_type": "code",
   "execution_count": null,
   "metadata": {},
   "outputs": [],
   "source": [
    "df + s_col # it is wrong !\n",
    "           # for pandas, the serie is a `row`\n",
    "           # 'x', 'y' and 'z' are considered as new `columns`\n",
    "           # (axis is 1)"
   ]
  },
  {
   "cell_type": "markdown",
   "metadata": {},
   "source": [
    "you must indicate the `axis`\n",
    "   - $\\texttt{axis=0}$ `means` that the `Series labels` are `indexes`\n",
    "   - the `broadcast` is done `column-wise`"
   ]
  },
  {
   "cell_type": "code",
   "execution_count": null,
   "metadata": {},
   "outputs": [],
   "source": [
    "df.add(s_col, axis=0)\n",
    "# s_col is 'x' [1000]\n",
    "#          'y' [2000]\n",
    "#          'z' [3000]\n",
    "\n",
    "# s_col broadcasted is 'x' [1000][1000][1000]\n",
    "#                      'y' [2000][2000][2000]\n",
    "#                      'z' [3000][3000][3000]"
   ]
  },
  {
   "cell_type": "markdown",
   "metadata": {},
   "source": [
    "## IV) handling `missing data` in $\\texttt{numpy}$ and  $\\texttt{pandas}$"
   ]
  },
  {
   "cell_type": "markdown",
   "metadata": {},
   "source": [
    "   - in `real data` you can have `missing values`\n",
    "   - `missing values` are represented in $\\texttt{pandas}$ arrays by $\\texttt{numpy.NaN}$"
   ]
  },
  {
   "cell_type": "markdown",
   "metadata": {},
   "source": [
    "### 1) the type of `missing values`"
   ]
  },
  {
   "cell_type": "markdown",
   "metadata": {},
   "source": [
    "   - the type of $\\texttt{numpy.NaN}$ is `float`\n",
    "   \n",
    "       \n",
    "   - i.e. $\\texttt{numpy.NaN}$, can only be used for `float` or `object` types\n",
    "   \n",
    "   \n",
    "   - in other cases a conversion is done\n",
    "      - `integers` are converted to `float64`\n",
    "      - `Booleans` are converted to `object`"
   ]
  },
  {
   "cell_type": "markdown",
   "metadata": {},
   "source": [
    "  \n",
    "   - when a $\\texttt{numpy.NaN}$ is `present` in a numeric $\\texttt{numpy.Series}$\n",
    "   - the `dtype` of the $\\texttt{numpy.Series}$ is `numpy float64`\n",
    "   "
   ]
  },
  {
   "cell_type": "code",
   "execution_count": null,
   "metadata": {},
   "outputs": [],
   "source": [
    "df = pd.Series([1, 2, 3, np.NaN])\n",
    "df.dtype"
   ]
  },
  {
   "cell_type": "markdown",
   "metadata": {},
   "source": [
    "   - if you try to `force` an integer dtype, an `exception` is `raised`"
   ]
  },
  {
   "cell_type": "code",
   "execution_count": null,
   "metadata": {},
   "outputs": [],
   "source": [
    "try:\n",
    "    df = pd.Series([1, 2, 3, np.NaN], dtype=np.int64)\n",
    "except ValueError as e:\n",
    "    print(e)"
   ]
  },
  {
   "cell_type": "markdown",
   "metadata": {},
   "source": [
    "   - the `version 0.24` of the $\\texttt{pandas}$ `library`\n",
    "   - can hold `integer dtypes` with `missing values`\n",
    "   \n",
    "   \n",
    "   \n",
    "   - it is not done through the `regular integer type`\n",
    "   - but it uses `extension types`\n",
    "   \n",
    "   \n",
    "   - the `extended integer-type` that can hold NaN values is $\\texttt{'Int64'}$ (not $\\texttt{'int64'}$"
   ]
  },
  {
   "cell_type": "markdown",
   "metadata": {},
   "source": [
    "   - in $\\texttt{pandas.Series}$, $\\texttt{None}$ is replaced $\\texttt{numpy.NaN}$\n",
    "   \n",
    "   \n",
    "   - except of $\\texttt{pandas.Series}$ of type `object`\n"
   ]
  },
  {
   "cell_type": "code",
   "execution_count": null,
   "metadata": {},
   "outputs": [],
   "source": [
    "df = pd.Series([1, 2, 3, None], dtype='object')\n",
    "df"
   ]
  },
  {
   "cell_type": "code",
   "execution_count": null,
   "metadata": {},
   "outputs": [],
   "source": [
    "#pd.isna?"
   ]
  },
  {
   "cell_type": "markdown",
   "metadata": {},
   "source": [
    "### 2) $\\texttt{pandas}$ functions to `dealing` with `missing values`"
   ]
  },
  {
   "cell_type": "markdown",
   "metadata": {},
   "source": [
    "$\\texttt{pandas.isna()}$, $\\texttt{DataFrame.isna}$  and $\\texttt{Index.isna}$\n",
    "   - returns the `Boolean mask` of `missing` values "
   ]
  },
  {
   "cell_type": "code",
   "execution_count": null,
   "metadata": {},
   "outputs": [],
   "source": [
    "df = pd.Series([1, 2, np.NaN, None], dtype='object')\n",
    "pd.isna(df)  # same as df.isna()"
   ]
  },
  {
   "cell_type": "code",
   "execution_count": null,
   "metadata": {},
   "outputs": [],
   "source": [
    "df[df.isna()] # select the missing values in the Series"
   ]
  },
  {
   "cell_type": "code",
   "execution_count": null,
   "metadata": {},
   "outputs": [],
   "source": [
    "df = pd.DataFrame([[1, 2, 3, np.NaN], [4, 5, None]])\n",
    "   # 4 columns of two values each\n",
    "   # the two firsts are int64\n",
    "   # the third and the furth are float64 (presence of NaN)\n",
    "df.head()"
   ]
  },
  {
   "cell_type": "markdown",
   "metadata": {},
   "source": [
    "   - on `index`"
   ]
  },
  {
   "cell_type": "code",
   "execution_count": null,
   "metadata": {},
   "outputs": [],
   "source": [
    "df = pd.DataFrame([[1, 2], [4, 5]], index=['a', np.NaN])"
   ]
  },
  {
   "cell_type": "code",
   "execution_count": null,
   "metadata": {},
   "outputs": [],
   "source": [
    "df.index.isna()"
   ]
  },
  {
   "cell_type": "markdown",
   "metadata": {},
   "source": [
    "#### $\\texttt{pandas.notna()}$, $\\texttt{DataFrame.notna}$  and $\\texttt{Index.notna}$\n",
    "   - returns the `Boolean mask` of `non-missing` values "
   ]
  },
  {
   "cell_type": "markdown",
   "metadata": {},
   "source": [
    "#### $\\texttt{pandas.dropna}$  `remove missing values`"
   ]
  },
  {
   "cell_type": "markdown",
   "metadata": {},
   "source": [
    "on $\\texttt{pandas.Series}$ it remove the value"
   ]
  },
  {
   "cell_type": "markdown",
   "metadata": {},
   "source": [
    "on $\\texttt{pandas.DataFrame}$ it remove the `whole row` or `column`\n",
    "   - $\\texttt{axis = 0}$ or $\\texttt{axis = 'index'}$  for `rows`\n",
    "   - $\\texttt{axis = 1}$ or $\\texttt{axis = 'columns'}$  for `columns`"
   ]
  },
  {
   "cell_type": "code",
   "execution_count": null,
   "metadata": {},
   "outputs": [],
   "source": [
    "df = pd.DataFrame([[1, 2, 3, 4], [5, 6, np.NaN, 7], [np.NaN, 8, 9, 10]])\n",
    "df"
   ]
  },
  {
   "cell_type": "code",
   "execution_count": null,
   "metadata": {},
   "outputs": [],
   "source": [
    "df.dropna() # by default axis=0"
   ]
  },
  {
   "cell_type": "code",
   "execution_count": null,
   "metadata": {},
   "outputs": [],
   "source": [
    "df.dropna(axis='index')"
   ]
  },
  {
   "cell_type": "code",
   "execution_count": null,
   "metadata": {},
   "outputs": [],
   "source": [
    "df.dropna(axis=1)"
   ]
  },
  {
   "cell_type": "code",
   "execution_count": null,
   "metadata": {},
   "outputs": [],
   "source": [
    "df.dropna(axis='columns')"
   ]
  },
  {
   "cell_type": "markdown",
   "metadata": {},
   "source": [
    "the parameter $\\texttt{how}$\n",
    "\n",
    "\n",
    "\n",
    "   - when $\\texttt{how='any'}$ `row` or `column` is removed when it contains at least one NA or all NA\n",
    "   \n",
    "   \n",
    "   - when $\\texttt{how='any'}$ `row` or `column` is removed when all values are missing\n"
   ]
  },
  {
   "cell_type": "code",
   "execution_count": null,
   "metadata": {},
   "outputs": [],
   "source": [
    "df = pd.DataFrame([[1, 2, 3, np.NaN], []])\n",
    "df"
   ]
  },
  {
   "cell_type": "code",
   "execution_count": null,
   "metadata": {},
   "outputs": [],
   "source": [
    "df.dropna(how='all')"
   ]
  },
  {
   "cell_type": "code",
   "execution_count": null,
   "metadata": {},
   "outputs": [],
   "source": [
    "df.dropna(how='any') # there is nothing left !"
   ]
  },
  {
   "cell_type": "markdown",
   "metadata": {},
   "source": [
    "the parameter $\\texttt{thresh}$\n",
    "   - you keep `rows` (or `columns`)\n",
    "   - where `thresh` values or `more` are `not missing`"
   ]
  },
  {
   "cell_type": "code",
   "execution_count": null,
   "metadata": {},
   "outputs": [],
   "source": [
    "df = pd.DataFrame([[1, 2, 3, np.NaN], [4, 5, np.NaN, np.NaN], [6, 7, np.NaN, np.NaN]])\n",
    "df"
   ]
  },
  {
   "cell_type": "code",
   "execution_count": null,
   "metadata": {},
   "outputs": [],
   "source": [
    "df.dropna(thresh=3, axis=0)"
   ]
  },
  {
   "cell_type": "code",
   "execution_count": null,
   "metadata": {},
   "outputs": [],
   "source": [
    "df.dropna(thresh=1, axis=1)"
   ]
  },
  {
   "cell_type": "markdown",
   "metadata": {},
   "source": [
    "#### $\\texttt{pandas.fillna()}$  `missing values` are replaced\n",
    "   - you can specify the `strategy` ($\\texttt{method}$) of replacement\n",
    "\n",
    "methods\n",
    "   - `propagation` of the `last valid` observation to `next valid`\n",
    "   - `forward` ($\\texttt{ffill}$)\n",
    "   -  `backward`($\\texttt{bfill}$)"
   ]
  },
  {
   "cell_type": "code",
   "execution_count": null,
   "metadata": {},
   "outputs": [],
   "source": [
    "df = pd.Series([1, np.NaN, np.NaN, 5, np.NaN,  6, np.NaN, 9])\n",
    "df"
   ]
  },
  {
   "cell_type": "code",
   "execution_count": null,
   "metadata": {},
   "outputs": [],
   "source": [
    "df.fillna(method='ffill') # propagation forward "
   ]
  },
  {
   "cell_type": "code",
   "execution_count": null,
   "metadata": {},
   "outputs": [],
   "source": [
    "df.fillna(method='bfill')  # propagation backward"
   ]
  },
  {
   "cell_type": "markdown",
   "metadata": {},
   "source": [
    "   - the same for $\\texttt{pandas.DataFrame}$"
   ]
  },
  {
   "cell_type": "code",
   "execution_count": null,
   "metadata": {},
   "outputs": [],
   "source": [
    "df = pd.DataFrame([[1, np.NaN, np.NaN], [np.NaN, 6, np.NaN], [2, np.NaN, 9]])\n",
    "df.head()"
   ]
  },
  {
   "cell_type": "code",
   "execution_count": null,
   "metadata": {},
   "outputs": [],
   "source": [
    "df.fillna(axis=0, method='ffill')"
   ]
  },
  {
   "cell_type": "code",
   "execution_count": null,
   "metadata": {},
   "outputs": [],
   "source": [
    "df.fillna(axis=1, method='bfill')"
   ]
  },
  {
   "cell_type": "markdown",
   "metadata": {},
   "source": [
    "   - computing `equality` in presence of `NaN` values\n",
    "   - `equals` is not the same as `==`"
   ]
  },
  {
   "cell_type": "code",
   "execution_count": null,
   "metadata": {},
   "outputs": [],
   "source": [
    "df1 = pd.DataFrame([[2, 3, 4], [5, np.NaN, 7]])\n",
    "df2 = pd.DataFrame([[2, 3, 4], [5, np.NaN, 7]])"
   ]
  },
  {
   "cell_type": "code",
   "execution_count": null,
   "metadata": {},
   "outputs": [],
   "source": [
    "df1.equals(df2) # NaN == NaN"
   ]
  },
  {
   "cell_type": "code",
   "execution_count": null,
   "metadata": {},
   "outputs": [],
   "source": [
    "df1 == df2 # NaN != NaN"
   ]
  },
  {
   "cell_type": "markdown",
   "metadata": {},
   "source": [
    "## V) computing simple `statistics` in $\\texttt{pandas}$"
   ]
  },
  {
   "cell_type": "markdown",
   "metadata": {},
   "source": [
    "   - on $\\texttt{pandas.Series}$ it returns a `single number`\n",
    "   - on $\\texttt{pandas.DataFrame}$ it returns a `number per axis`"
   ]
  },
  {
   "cell_type": "markdown",
   "metadata": {},
   "source": [
    "### 1) $\\texttt{pandas.DataFrame.describe}$\n",
    "\n",
    "   - it is a statistical overview of a DataFrame"
   ]
  },
  {
   "cell_type": "markdown",
   "metadata": {},
   "source": [
    "#### a) on `DataFrame` with only `numerical data`"
   ]
  },
  {
   "cell_type": "markdown",
   "metadata": {},
   "source": [
    "   - you have `count`, `mean`, `standard error`, `min/max`, `quartiles`"
   ]
  },
  {
   "cell_type": "code",
   "execution_count": null,
   "metadata": {},
   "outputs": [],
   "source": [
    "df = pd.DataFrame([[1.70, 67], [1.67, 59], [1.84, 78], [1.86, 90], [1.56, 45], [1.57, 63]], columns=['height', 'weight'])"
   ]
  },
  {
   "cell_type": "code",
   "execution_count": null,
   "metadata": {},
   "outputs": [],
   "source": [
    "df.describe() "
   ]
  },
  {
   "cell_type": "markdown",
   "metadata": {},
   "source": [
    "#### b) on  `DataFrame` with only `categorical` data"
   ]
  },
  {
   "cell_type": "markdown",
   "metadata": {},
   "source": [
    "   - you obtain `count`, `number of values`, `frequency`, `top` (most common value), ..."
   ]
  },
  {
   "cell_type": "code",
   "execution_count": null,
   "metadata": {},
   "outputs": [],
   "source": [
    "df = pd.DataFrame([['M', 'Lower'], ['F', 'Middle'], ['F', 'Lower'],\n",
    "                   ['F', 'Middle'], ['M', 'Lower'], ['M', 'Lower']],\n",
    "                 columns=['Sex', 'Income'])"
   ]
  },
  {
   "cell_type": "code",
   "execution_count": null,
   "metadata": {},
   "outputs": [],
   "source": [
    "df.describe()"
   ]
  },
  {
   "cell_type": "markdown",
   "metadata": {},
   "source": [
    "#### c) on `DataFrame` mixing numerical and categorical data"
   ]
  },
  {
   "cell_type": "code",
   "execution_count": null,
   "metadata": {},
   "outputs": [],
   "source": [
    "df = pd.DataFrame([[1.70, 67, 'M', 'Lower'], [1.67, 59, 'F', 'Middle'], [1.84, 78, 'F', 'Lower'],\n",
    "                   [1.86, 90, 'F', 'Middle'], [1.56, 45, 'M', 'Lower'], [1.57, 63, 'M', 'Lower']],\n",
    "                  columns=['height', 'weight', 'sex', 'income'])"
   ]
  },
  {
   "cell_type": "code",
   "execution_count": null,
   "metadata": {},
   "outputs": [],
   "source": [
    "df.describe() # by default it is applied to numerical data only"
   ]
  },
  {
   "cell_type": "code",
   "execution_count": null,
   "metadata": {},
   "outputs": [],
   "source": [
    "df[['sex', 'income']].describe()"
   ]
  },
  {
   "cell_type": "markdown",
   "metadata": {},
   "source": [
    "### 2) index of the `minimum` or the `maximum`"
   ]
  },
  {
   "cell_type": "markdown",
   "metadata": {},
   "source": [
    "#### a) on $\\texttt{pandas.Series}$"
   ]
  },
  {
   "cell_type": "code",
   "execution_count": null,
   "metadata": {},
   "outputs": [],
   "source": [
    "s = pd.Series([10, 4, 4, 89, 4, 120, 67, 67])"
   ]
  },
  {
   "cell_type": "code",
   "execution_count": null,
   "metadata": {},
   "outputs": [],
   "source": [
    "s.idxmin(), s.idxmax()"
   ]
  },
  {
   "cell_type": "code",
   "execution_count": null,
   "metadata": {},
   "outputs": [],
   "source": [
    "s.value_counts() # number of elements of the same value"
   ]
  },
  {
   "cell_type": "code",
   "execution_count": null,
   "metadata": {},
   "outputs": [],
   "source": [
    "s.mode() # the most frequent value"
   ]
  },
  {
   "cell_type": "markdown",
   "metadata": {},
   "source": [
    "#### b) on $\\texttt{pandas.DataFrame}$"
   ]
  },
  {
   "cell_type": "code",
   "execution_count": null,
   "metadata": {},
   "outputs": [],
   "source": [
    "df = pd.DataFrame([[2, 3, 4], [5, 0, 7]])"
   ]
  },
  {
   "cell_type": "code",
   "execution_count": null,
   "metadata": {},
   "outputs": [],
   "source": [
    "df"
   ]
  },
  {
   "cell_type": "code",
   "execution_count": null,
   "metadata": {},
   "outputs": [],
   "source": [
    "df.idxmin(axis=0)"
   ]
  },
  {
   "cell_type": "code",
   "execution_count": null,
   "metadata": {},
   "outputs": [],
   "source": [
    "df.idxmax(axis=1)"
   ]
  },
  {
   "cell_type": "markdown",
   "metadata": {},
   "source": [
    "## VI) `multi indexing` in  $\\texttt{pandas}$"
   ]
  },
  {
   "cell_type": "markdown",
   "metadata": {},
   "source": [
    "   - in a $\\texttt{pandas.DataFrame}$ axis labels are `rows` and `columns` labels\n",
    "   - they are represented by $\\texttt{Index}$ `objects`\n",
    "   - with `row` and `column` `Index` you have `two-dimensional structured` arrays "
   ]
  },
  {
   "cell_type": "code",
   "execution_count": null,
   "metadata": {},
   "outputs": [],
   "source": [
    "df = pd.DataFrame({'row': [0, 1, 2],\n",
    "                   'one_X': [1, 2, 3],\n",
    "                   'one_Y': [4, 5, 6],\n",
    "                   'two_X': [10, 20, 30],\n",
    "                   'two-Y': [40, 50, 60]})\n",
    "\n",
    "df = df.set_index('row')   # we set the index to the 'row' column"
   ]
  },
  {
   "cell_type": "code",
   "execution_count": null,
   "metadata": {},
   "outputs": [],
   "source": [
    "df"
   ]
  },
  {
   "cell_type": "markdown",
   "metadata": {},
   "source": [
    "   - this example appears to be more `structured`\n",
    "   - we can see `two labelled pairs` of values $(X_{one}, Y_{one})$ and $(X_{two}, Y_{two})$\n",
    "   - the `first` pair is labelled by `one` and the `second` by `two`"
   ]
  },
  {
   "cell_type": "markdown",
   "metadata": {},
   "source": [
    "   - there is a `hierarchy` in the labels"
   ]
  },
  {
   "cell_type": "markdown",
   "metadata": {},
   "source": [
    "the `two pairs` of values $(X_{one}, Y_{one})$ and $(X_{two}, Y_{two})$ can be seen as:\n",
    "   - `two labels`: $one$ and $two$\n",
    "   - with `two values` labelled `X` and `Y` each\n",
    "   - with `three values` each indexed by the label `row`"
   ]
  },
  {
   "cell_type": "markdown",
   "metadata": {},
   "source": [
    "something like this:\n",
    "\n",
    "|$\\  $ |one   |$\\ $ |$\\ $ |two | $\\ $|\n",
    "|-     |-     |-    |    -|  - |-    |\n",
    "|$\\ $  |**X**     |**Y**    |$\\ $ |**X**   |**Y**    |\n",
    "|**row**   | $\\ $ |$\\ $ |$\\ $ |$\\ $|$\\ $ | \n",
    "|**0**  |1     |4    |$\\ $ |10  |40   |\n",
    "|**1**  |2     |5    |$\\ $ |20  |50   |\n",
    "|**2**  |3     |6    |$\\ $ |30  |60   |\n"
   ]
  },
  {
   "cell_type": "markdown",
   "metadata": {},
   "source": [
    "it is `multi-indexing`\n",
    "\n",
    "   - you want to express `multi-dimensionality` in a data structure of `lower dimension`\n",
    "      - a $\\texttt{pandas.Series}$ with `more than one` dimension\n",
    "      - a $\\texttt{pandas.DataFrame}$ with `more than two` dimensions\n",
    "      \n",
    "      \n",
    "\n",
    "   - `columns` `Index` will be `replaced by` a `columns multiIndex`"
   ]
  },
  {
   "cell_type": "markdown",
   "metadata": {},
   "source": [
    "   - you express the `multi-indexing` by `tuples` of `related labels`"
   ]
  },
  {
   "cell_type": "code",
   "execution_count": null,
   "metadata": {},
   "outputs": [],
   "source": [
    "tuples_from_pairs = [('one', 'X'), ('one', 'Y'), ('two', 'X'), ('two', 'Y')]"
   ]
  },
  {
   "cell_type": "markdown",
   "metadata": {},
   "source": [
    "   - you create a multi-index `object` from the `tuples`"
   ]
  },
  {
   "cell_type": "code",
   "execution_count": null,
   "metadata": {},
   "outputs": [],
   "source": [
    "pd.MultiIndex.from_tuples(tuples_from_pairs)"
   ]
  },
  {
   "cell_type": "markdown",
   "metadata": {},
   "source": [
    "a multi-index is `composed` of:\n",
    "   - the `levels` (groups of labels in *`descending`* `levels` like $[[one, two], [X, Y]]$)\n",
    "   - their `coding`"
   ]
  },
  {
   "cell_type": "markdown",
   "metadata": {},
   "source": [
    "   - you `replace` the columns index by a columns multi-index"
   ]
  },
  {
   "cell_type": "code",
   "execution_count": null,
   "metadata": {},
   "outputs": [],
   "source": [
    "df.columns = pd.MultiIndex.from_tuples(tuples_from_pairs)"
   ]
  },
  {
   "cell_type": "code",
   "execution_count": null,
   "metadata": {},
   "outputs": [],
   "source": [
    "df"
   ]
  },
  {
   "cell_type": "markdown",
   "metadata": {},
   "source": [
    "   - you have now an indexing with `hierarchical columns`"
   ]
  },
  {
   "cell_type": "markdown",
   "metadata": {},
   "source": [
    "   - to  `access` multi-index  use the $\\texttt{pandas.DataFrame.loc}$ and $\\texttt{pandas.DataFrame.loc}$\n",
    "   - the first index is the row and the second is the column"
   ]
  },
  {
   "cell_type": "code",
   "execution_count": null,
   "metadata": {},
   "outputs": [],
   "source": [
    "df.loc[0] # first rows, all columns"
   ]
  },
  {
   "cell_type": "code",
   "execution_count": null,
   "metadata": {},
   "outputs": [],
   "source": [
    "df.loc[0, 'one'] # first rows, columns 'one'"
   ]
  },
  {
   "cell_type": "code",
   "execution_count": null,
   "metadata": {},
   "outputs": [],
   "source": [
    "df.loc[0, ['one', 'two']] # first row\n",
    "                          # list of columns 'one' and 'two'"
   ]
  },
  {
   "cell_type": "markdown",
   "metadata": {},
   "source": [
    "   - the index of the columns is `hierarchical`\n",
    "   - i.e. it can be described using `tuples` of `labels`\n",
    "   - the same `tuples` you use to construct the `multi-index`\n",
    "   - $(one, X), (one, Y), (two, X), (two, Y)$"
   ]
  },
  {
   "cell_type": "markdown",
   "metadata": {},
   "source": [
    "   - you can use `tuples` of `labels` with `.loc`"
   ]
  },
  {
   "cell_type": "code",
   "execution_count": null,
   "metadata": {},
   "outputs": [],
   "source": [
    "df.loc[0, ('two', 'X')] # first row\n",
    "                        # columns label ('one', 'X')"
   ]
  },
  {
   "cell_type": "code",
   "execution_count": null,
   "metadata": {},
   "outputs": [],
   "source": [
    "df.loc[[0,2], ('two', 'X')] # columns label ('one', 'X')\n",
    "                            # of first and third rows"
   ]
  },
  {
   "cell_type": "markdown",
   "metadata": {},
   "source": [
    "   - you can use `.iloc`"
   ]
  },
  {
   "cell_type": "code",
   "execution_count": null,
   "metadata": {},
   "outputs": [],
   "source": [
    "df.iloc[0] # first row"
   ]
  },
  {
   "cell_type": "markdown",
   "metadata": {},
   "source": [
    "   - multi-index on `rows` and `columns`"
   ]
  },
  {
   "cell_type": "code",
   "execution_count": null,
   "metadata": {},
   "outputs": [],
   "source": [
    "# index for years and visits\n",
    "index = pd.MultiIndex.from_product([[2013, 2014],\n",
    "                                    [1, 2, 3]],\n",
    "                                   names=['year',\n",
    "                                          'visit'])"
   ]
  },
  {
   "cell_type": "code",
   "execution_count": null,
   "metadata": {},
   "outputs": [],
   "source": [
    "# columns for clients and medical data\n",
    "columns = pd.MultiIndex.from_product([['Alice', 'Bob'],\n",
    "                                      ['before test', 'after test']],\n",
    "                                     names=['Patient',\n",
    "                                            'HearthRate'])"
   ]
  },
  {
   "cell_type": "code",
   "execution_count": null,
   "metadata": {},
   "outputs": [],
   "source": [
    "data = np.random.randint(60, 100, 24).reshape(6, 4) # earth rates beteen 60 and 100 beats\n",
    "\n",
    "\n",
    "medical_data = pd.DataFrame(data, index=index, columns=columns)\n",
    "medical_data"
   ]
  },
  {
   "cell_type": "code",
   "execution_count": null,
   "metadata": {},
   "outputs": [],
   "source": [
    "medical_data.columns"
   ]
  },
  {
   "cell_type": "code",
   "execution_count": null,
   "metadata": {},
   "outputs": [],
   "source": [
    "medical_data.loc[:, 'Alice'] # all medical data on Alice"
   ]
  },
  {
   "cell_type": "code",
   "execution_count": null,
   "metadata": {},
   "outputs": [],
   "source": [
    "medical_data.loc[(2013, 2), ('Alice', 'before test')] # Alice's HearthRate 'before test'\n",
    "                                                      # in the second visit in 2013,"
   ]
  },
  {
   "cell_type": "code",
   "execution_count": null,
   "metadata": {},
   "outputs": [],
   "source": [
    "medical_data.loc[(2013, 2), ('Alice', 'before test')] = 82"
   ]
  },
  {
   "cell_type": "markdown",
   "metadata": {},
   "source": [
    "   - you `must` use `.loc` or `.iloc` to modify an element\n",
    "   - never use direct access\n",
    "   - http://pandas.pydata.org/pandas-docs/stable/indexing.html#returning-a-view-versus-a"
   ]
  },
  {
   "cell_type": "code",
   "execution_count": null,
   "metadata": {},
   "outputs": [],
   "source": [
    "medical_data< 80 # you can test"
   ]
  },
  {
   "cell_type": "markdown",
   "metadata": {},
   "source": [
    "## V) Importing data in pandas"
   ]
  },
  {
   "cell_type": "markdown",
   "metadata": {},
   "source": [
    "### 1) formats of files"
   ]
  },
  {
   "cell_type": "markdown",
   "metadata": {},
   "source": [
    "   - `pandas` can `import` files of `a lot of formats`\n",
    "      - CSV, JSON, HTML, Excel, ...\n",
    "   - see http://pandas.pydata.org/pandas-docs/stable/user_guide/io.html"
   ]
  },
  {
   "cell_type": "markdown",
   "metadata": {},
   "source": [
    "### 2) reading and writing `csv` files (comma separated values)"
   ]
  },
  {
   "cell_type": "markdown",
   "metadata": {},
   "source": [
    "   - to write a `csv` use the `method` $\\texttt{pandas.DataFrame.to_csv}$"
   ]
  },
  {
   "cell_type": "code",
   "execution_count": null,
   "metadata": {},
   "outputs": [],
   "source": [
    "distance = pd.Series([0.387, 0.723, 30, 1., 5.203, 1.523, 9.6, 19.19],\n",
    "                     index=['Mercury', 'Venus', 'Neptune', 'Earth', 'Jupiter', 'Mars', 'Saturn', 'Uranus'])\n",
    "\n",
    "lowest_temp = pd.Series([-200.0, 446.0,  -90.0, -125.0, -140.0],\n",
    "                        index=['Mercury', 'Venus', 'Earth', 'Jupiter', 'Mars'])\n",
    "\n",
    "highest_temp = pd.Series([430.0, 490.0, 60.0, 17.0, 20.0],\n",
    "                         index=['Mercury', 'Venus', 'Earth', 'Jupiter', 'Mars'])\n",
    "\n",
    "planets = pd.DataFrame({'distance': distance,\n",
    "                        'lowest temperature': lowest_temp, \n",
    "                        'highest temperature': highest_temp, \n",
    "                        'origin':'solar system'})"
   ]
  },
  {
   "cell_type": "code",
   "execution_count": null,
   "metadata": {},
   "outputs": [],
   "source": [
    "planets"
   ]
  },
  {
   "cell_type": "code",
   "execution_count": null,
   "metadata": {},
   "outputs": [],
   "source": [
    "planets.index"
   ]
  },
  {
   "cell_type": "code",
   "execution_count": null,
   "metadata": {},
   "outputs": [],
   "source": [
    "planets.to_csv('planets.csv', index_label='names', float_format='%.3f')"
   ]
  },
  {
   "cell_type": "markdown",
   "metadata": {},
   "source": [
    "   - a file `planets.csv` has been `created` in your current folder\n",
    "   - we gave a `name` to the `rows` index"
   ]
  },
  {
   "cell_type": "markdown",
   "metadata": {},
   "source": [
    "   - the csv `format` is very `simple`: a $2 \\times 2$ matrix, where:\n",
    "   - by default, the `first` line is the `columns` header (`labels` if any, else `indexes`)\n",
    "   - the `other` lines are `rows` written `one below the other` with values `separed by` ','"
   ]
  },
  {
   "cell_type": "markdown",
   "metadata": {},
   "source": [
    "`planets.csv`\n",
    "   - *names,distance,lowest temperature,highest temperature,origin  \n",
    "Earth,1.0,-90.0,60.0,solar system  \n",
    "Jupiter,5.203,-125.0,17.0,solar system  \n",
    "Mars,1.523,-140.0,20.0,solar system  \n",
    "Mercury,0.387,-200.0,430.0,solar system  \n",
    "Neptune,30.0,,,solar system  \n",
    "Saturn,9.6,,,solar system  \n",
    "Uranus,19.19,,,solar system  \n",
    "Venus,0.723,446.0,490.0,solar system*"
   ]
  },
  {
   "cell_type": "markdown",
   "metadata": {},
   "source": [
    "   - to `read` a `csv` use the `method` $\\texttt{pandas.DataFrame.read_csv}$"
   ]
  },
  {
   "cell_type": "code",
   "execution_count": null,
   "metadata": {},
   "outputs": [],
   "source": [
    "df = pd.read_csv('planets.csv')"
   ]
  },
  {
   "cell_type": "code",
   "execution_count": null,
   "metadata": {},
   "outputs": [],
   "source": [
    "df = df.set_index('names')       # the rows 'names' is the index"
   ]
  },
  {
   "cell_type": "markdown",
   "metadata": {},
   "source": [
    "#### digression:\n",
    "   - you can see a `general floating point problem` $5.523$ became $5.5230000000000001$ when printed by $\\texttt{to_csv}$\n",
    "   - https://github.com/pandas-dev/pandas/issues/17154"
   ]
  },
  {
   "cell_type": "code",
   "execution_count": null,
   "metadata": {},
   "outputs": [],
   "source": [
    "planets.loc['Mars', 'distance'], df.loc['Mars', 'distance']"
   ]
  },
  {
   "cell_type": "code",
   "execution_count": null,
   "metadata": {},
   "outputs": [],
   "source": [
    "df.loc['Mars', 'distance']  == planets.loc['Mars', 'distance']"
   ]
  },
  {
   "cell_type": "code",
   "execution_count": null,
   "metadata": {},
   "outputs": [],
   "source": [
    "np.isclose(df.loc['Mars', 'distance'], planets.loc['Mars', 'distance'])"
   ]
  },
  {
   "cell_type": "markdown",
   "metadata": {},
   "source": [
    "*trying to get exact equality out of floating points is generally a losing battle*\n",
    "\n",
    "*let's go back to the course*"
   ]
  },
  {
   "cell_type": "markdown",
   "metadata": {},
   "source": [
    "#### the method $\\texttt{pandas.DataFrame.read_csv}$\n",
    "   - has many optional `parameters` that you can `set`\n",
    "   - see the help"
   ]
  },
  {
   "cell_type": "code",
   "execution_count": null,
   "metadata": {},
   "outputs": [],
   "source": [
    "#pd.read_csv?"
   ]
  },
  {
   "cell_type": "code",
   "execution_count": null,
   "metadata": {},
   "outputs": [],
   "source": [
    "#pd.DataFrame.to_csv?"
   ]
  },
  {
   "cell_type": "markdown",
   "metadata": {},
   "source": [
    "## VI)  $\\texttt{pandas.DataFrame.groupby}$"
   ]
  },
  {
   "cell_type": "markdown",
   "metadata": {},
   "source": [
    "   - can be applied o $\\texttt{pandas.Series}$ and on $\\texttt{pandas.DataFrame}$\n",
    "   - to `group together` amounts of data from a DataFrame or a Series\n",
    "   - for example, to compute operation on these groups\n",
    "\n",
    "   - http://pandas.pydata.org/pandas-docs/stable/groupby.html"
   ]
  },
  {
   "cell_type": "code",
   "execution_count": null,
   "metadata": {},
   "outputs": [],
   "source": [
    "df = pd.DataFrame([[1.70, 67, 'M', 'Lower'], [1.67, 59, 'F', 'Middle'], [1.84, 78, 'F', 'Lower'],\n",
    "                   [1.86, 90, 'F', 'Middle'], [1.56, 45, 'M', 'Middle'], [1.57, 63, 'M', 'Lower']],\n",
    "                  columns=['height', 'weight', 'sex', 'income'])\n",
    "df"
   ]
  },
  {
   "cell_type": "markdown",
   "metadata": {},
   "source": [
    "   - we can `group by` `income`, or `sex`"
   ]
  },
  {
   "cell_type": "code",
   "execution_count": null,
   "metadata": {},
   "outputs": [],
   "source": [
    "gdf1 = df.groupby('sex')\n",
    "gdf1.size() # we have two groups:\n",
    "               # the three rows with `sex` == 'F' are grouped together\n",
    "               # the three rows with `sex` == 'M' are grouped together"
   ]
  },
  {
   "cell_type": "code",
   "execution_count": null,
   "metadata": {},
   "outputs": [],
   "source": [
    "gdf1.groups # the description of the group"
   ]
  },
  {
   "cell_type": "code",
   "execution_count": null,
   "metadata": {},
   "outputs": [],
   "source": [
    "gdf2 = df.groupby(['sex', 'income'])\n",
    "gdf2.size() # we have four groups:\n",
    "            # the first group cotains one row with 'sex' == 'F' and 'income' == 'Lower'\n",
    "            # the second group contains two rows with 'sex' == 'F' and 'income' == 'Middle'\n",
    "            # ..."
   ]
  },
  {
   "cell_type": "code",
   "execution_count": null,
   "metadata": {},
   "outputs": [],
   "source": [
    "gdf2.groups"
   ]
  },
  {
   "cell_type": "markdown",
   "metadata": {},
   "source": [
    "   - you can apply `operations` on the groups"
   ]
  },
  {
   "cell_type": "code",
   "execution_count": null,
   "metadata": {},
   "outputs": [],
   "source": [
    "gdf2.sum()"
   ]
  },
  {
   "cell_type": "markdown",
   "metadata": {},
   "source": [
    "## VII) combining datasets"
   ]
  },
  {
   "cell_type": "markdown",
   "metadata": {},
   "source": [
    "### 1) concatenation of `data frames` with the function $\\texttt{pandas.concat}$"
   ]
  },
  {
   "cell_type": "markdown",
   "metadata": {},
   "source": [
    "   - you can `concatenate` $\\texttt{pandas.Series}$\n",
    "   - you can `concatenate` $\\texttt{pandas.DataFrame}$ along an `axis` (rows or columns)\n",
    "   \n",
    "   \n",
    "   - it generates a `new` $\\texttt{pandas.DataFrame}$\n",
    "   \n",
    "   \n",
    "   \n",
    "   - there are many optional `parameters` you can `set`"
   ]
  },
  {
   "cell_type": "markdown",
   "metadata": {},
   "source": [
    "#### a) concatenation along the `columns axis`"
   ]
  },
  {
   "cell_type": "markdown",
   "metadata": {},
   "source": [
    "   - the first `data frame`"
   ]
  },
  {
   "cell_type": "code",
   "execution_count": null,
   "metadata": {},
   "outputs": [],
   "source": [
    "df1 = pd.DataFrame([[1.70, 67], [1.67, 59], [1.84, 78],\n",
    "                    [1.86, 90,], [1.56, 45,], [1.57, 63]],\n",
    "                  columns=['height', 'weight'],\n",
    "                  index=['Gabriel', 'Emma', 'Jules', 'Louise', 'Hugo', 'Nathan'])\n",
    "df1.head(2)"
   ]
  },
  {
   "cell_type": "markdown",
   "metadata": {},
   "source": [
    "   - the second `data frame`"
   ]
  },
  {
   "cell_type": "code",
   "execution_count": null,
   "metadata": {},
   "outputs": [],
   "source": [
    "df2 = pd.DataFrame([['M', 'Lower'], ['F', 'Middle'], ['M', 'Lower'],\n",
    "                   ['F', 'Middle'], ['M', 'Middle'], ['M', 'Lower']],\n",
    "                  columns=['sex', 'income'],\n",
    "                  index=['Gabriel', 'Emma', 'Jules', 'Louise', 'Hugo', 'Nathan'])\n",
    "df2.head(2)"
   ]
  },
  {
   "cell_type": "markdown",
   "metadata": {},
   "source": [
    "   - their `concatenation`"
   ]
  },
  {
   "cell_type": "code",
   "execution_count": null,
   "metadata": {},
   "outputs": [],
   "source": [
    "df3 = pd.concat([df1, df2], axis=1)\n",
    "df3.tail(2)"
   ]
  },
  {
   "cell_type": "markdown",
   "metadata": {},
   "source": [
    "#### b) concatenation along the `rows` `axis` "
   ]
  },
  {
   "cell_type": "markdown",
   "metadata": {},
   "source": [
    "   - the first `data frame` is `df3`"
   ]
  },
  {
   "cell_type": "markdown",
   "metadata": {},
   "source": [
    "   - the second `data frame`"
   ]
  },
  {
   "cell_type": "code",
   "execution_count": null,
   "metadata": {},
   "outputs": [],
   "source": [
    "df4 = pd.DataFrame([[1.54, 45, 'F', 'Lower'], [1.76, 84, 'F', 'Middle'], [1.67, 72, 'F', 'Middle']],\n",
    "                  columns=['height', 'weight', 'sex', 'income'],\n",
    "                  index=['Alice', 'Paul', 'Léna'])\n",
    "df4.head(2)"
   ]
  },
  {
   "cell_type": "markdown",
   "metadata": {},
   "source": [
    "   - their `concatenation`"
   ]
  },
  {
   "cell_type": "code",
   "execution_count": null,
   "metadata": {},
   "outputs": [],
   "source": [
    "df5 = pd.concat([df3, df4], axis=0)\n",
    "df5.tail(4)"
   ]
  },
  {
   "cell_type": "markdown",
   "metadata": {},
   "source": [
    "#### c) concatenation in presence of duplicate indexes"
   ]
  },
  {
   "cell_type": "markdown",
   "metadata": {},
   "source": [
    "   - by defaut you will get `several` indexes or columns with the `same name`"
   ]
  },
  {
   "cell_type": "markdown",
   "metadata": {},
   "source": [
    "   - the first dataset"
   ]
  },
  {
   "cell_type": "code",
   "execution_count": null,
   "metadata": {},
   "outputs": [],
   "source": [
    "df3.index"
   ]
  },
  {
   "cell_type": "markdown",
   "metadata": {},
   "source": [
    "   - the second dataset"
   ]
  },
  {
   "cell_type": "code",
   "execution_count": null,
   "metadata": {},
   "outputs": [],
   "source": [
    "df6 = pd.DataFrame([[1.54, 45, 'F', 'Lower'], [1.76, 84, 'F', 'Middle'], [1.67, 72, 'F', 'Middle']],\n",
    "                  columns=['height', 'weight', 'sex', 'income'],\n",
    "                  index=['Emma', 'Paul', 'Louise'])\n",
    "df6.index"
   ]
  },
  {
   "cell_type": "code",
   "execution_count": null,
   "metadata": {},
   "outputs": [],
   "source": [
    "set(df3.index).intersection(df6.index) # or df3.index.intersection(df6.index)"
   ]
  },
  {
   "cell_type": "markdown",
   "metadata": {},
   "source": [
    "   -  we concatenate in presence of two `duplicated` indexes"
   ]
  },
  {
   "cell_type": "code",
   "execution_count": null,
   "metadata": {},
   "outputs": [],
   "source": [
    "df7 = pd.concat([df3, df6], sort=False)\n",
    "df7.loc['Emma'] "
   ]
  },
  {
   "cell_type": "markdown",
   "metadata": {},
   "source": [
    "    - you get two 'Emma' entries in your index"
   ]
  },
  {
   "cell_type": "markdown",
   "metadata": {},
   "source": [
    "   - you can `force` `duplicate` indexes check with the $\\texttt{verify_integrity}$ parameter"
   ]
  },
  {
   "cell_type": "code",
   "execution_count": null,
   "metadata": {},
   "outputs": [],
   "source": [
    "try:\n",
    "    df7 = pd.concat([df3, df6], verify_integrity=True)\n",
    "except ValueError as e:\n",
    "    print(e)        "
   ]
  },
  {
   "cell_type": "markdown",
   "metadata": {},
   "source": [
    "   - you can `concatenate` when `axis` are not `aligned`\n",
    "   - `missing values` are replaced by $\\texttt{numpy.NaN}$"
   ]
  },
  {
   "cell_type": "markdown",
   "metadata": {},
   "source": [
    "   - the first `data frame` does not contain the `sex` column"
   ]
  },
  {
   "cell_type": "code",
   "execution_count": null,
   "metadata": {},
   "outputs": [],
   "source": [
    "df9 = pd.DataFrame([[1.70, 67, 'Lower'], [1.67, 59, 'Middle']],\n",
    "                  columns=['height', 'weight', 'income'],\n",
    "                  index=['Paul', 'Louise'])\n",
    "df9.head(2)"
   ]
  },
  {
   "cell_type": "markdown",
   "metadata": {},
   "source": [
    "   - the second `data frame` does not have the `income` column"
   ]
  },
  {
   "cell_type": "code",
   "execution_count": null,
   "metadata": {},
   "outputs": [],
   "source": [
    "df10 = pd.DataFrame([[1.54, 45, 'F'], [1.76, 84, 'F']],\n",
    "                  columns=['height', 'weight', 'sex'],\n",
    "                  index=['Alice', 'Léna'])\n",
    "df10.head(2)"
   ]
  },
  {
   "cell_type": "code",
   "execution_count": null,
   "metadata": {},
   "outputs": [],
   "source": [
    "df11 = pd.concat([df9, df10], axis=0, sort=False) # (we passe `sort=False` to silence a warning)\n",
    "df11"
   ]
  },
  {
   "cell_type": "markdown",
   "metadata": {},
   "source": [
    "   - the `resulting` dataframe contains NaN (not available, not a number, ...)"
   ]
  },
  {
   "cell_type": "markdown",
   "metadata": {},
   "source": [
    "   - the $\\texttt{pandas.append}$ fuction is a `shortcut` to `concat` with a `simplified interface`"
   ]
  },
  {
   "cell_type": "markdown",
   "metadata": {},
   "source": [
    "### 3) combining datasets with $\\texttt{pandas.merge}$"
   ]
  },
  {
   "cell_type": "markdown",
   "metadata": {},
   "source": [
    "   - the `rows` represent `objects` (like `objects` in a `data base`)\n",
    "   - you `merge` two `data frames` by `joining` objects"
   ]
  },
  {
   "cell_type": "markdown",
   "metadata": {},
   "source": [
    "   - two `rows` are `merged` if they have a `matching key`\n",
    "   - a `key` is defined by `one or several` columns `names`\n",
    "   - by default `merge` considers `all` columns with the `same name` in the data frames"
   ]
  },
  {
   "cell_type": "markdown",
   "metadata": {},
   "source": [
    "#### a) `one-by-one` merge"
   ]
  },
  {
   "cell_type": "markdown",
   "metadata": {},
   "source": [
    "   - there is `no duplicate entry` in the `key columns`\n",
    "   - two `rows` are merged when the `key column` matches"
   ]
  },
  {
   "cell_type": "markdown",
   "metadata": {},
   "source": [
    "   - the first `data frame`"
   ]
  },
  {
   "cell_type": "code",
   "execution_count": null,
   "metadata": {},
   "outputs": [],
   "source": [
    "df1 = pd.DataFrame({'names': ['Gabriel', 'Emma', 'Jules'],\n",
    "                    'sex': ['M', 'F', 'M']})\n",
    "df1"
   ]
  },
  {
   "cell_type": "markdown",
   "metadata": {},
   "source": [
    "   - the second `data frame`"
   ]
  },
  {
   "cell_type": "code",
   "execution_count": null,
   "metadata": {},
   "outputs": [],
   "source": [
    "df2 = pd.DataFrame({'names': ['Gabriel', 'Emma', 'Paul'],\n",
    "                    'incomes': ['Lower', 'Middle', 'Lower']})\n",
    "df2"
   ]
  },
  {
   "cell_type": "markdown",
   "metadata": {},
   "source": [
    "   - the two `data frames` describe two same `objects`: 'Gabriel' and 'Emma'\n",
    "   - 'Jules' cannot be joined to another `object`\n",
    "   - you `merge` objects of the two `data frames` `one-by-one`"
   ]
  },
  {
   "cell_type": "code",
   "execution_count": null,
   "metadata": {},
   "outputs": [],
   "source": [
    "df3 = pd.merge(df1, df2)\n",
    "df3"
   ]
  },
  {
   "cell_type": "markdown",
   "metadata": {},
   "source": [
    "   - when key are not unique "
   ]
  },
  {
   "cell_type": "markdown",
   "metadata": {},
   "source": [
    "   - `key` can be `multi-columns` "
   ]
  },
  {
   "cell_type": "code",
   "execution_count": null,
   "metadata": {},
   "outputs": [],
   "source": [
    "df1 = pd.DataFrame({'names': ['Gabriel', 'Jules', 'Emma'],\n",
    "                    'incomes': ['Lower', 'Upper', 'Lower'],\n",
    "                    'height': [1.87, 1.67, 1.64]})\n",
    "\n",
    "df2 = pd.DataFrame({'names': ['Gabriel', 'Jules', 'Emma'], \n",
    "                    'sex': ['M', 'M', 'F'],\n",
    "                    'incomes': ['Lower', 'Middle', 'Lower'],})"
   ]
  },
  {
   "cell_type": "code",
   "execution_count": null,
   "metadata": {},
   "outputs": [],
   "source": [
    "pd.merge(df1, df2) # merge on 'names' and 'incomes'\n",
    "                   # 'Jules' is not the same object, incomes are diffent"
   ]
  },
  {
   "cell_type": "markdown",
   "metadata": {},
   "source": [
    "#### b) `many-to-one` merge"
   ]
  },
  {
   "cell_type": "markdown",
   "metadata": {},
   "source": [
    "   - one of the two `key columns` contains `duplicate values`\n",
    "   - a `one-to-one` strategy for each duplicated row is `applied`"
   ]
  },
  {
   "cell_type": "code",
   "execution_count": null,
   "metadata": {},
   "outputs": [],
   "source": [
    "df4 = pd.DataFrame({'names': ['Gabriel', 'Jules', 'Emma'], \n",
    "                    'sex': ['M', 'M', 'F'],\n",
    "                    'height': [1.87, 1.67, 1.84]})"
   ]
  },
  {
   "cell_type": "code",
   "execution_count": null,
   "metadata": {},
   "outputs": [],
   "source": [
    "df5 = pd.DataFrame({'names': ['Gabriel', 'Emma', 'Jules'],\n",
    "                    'incomes': ['Lower', 'Middle', 'Lower'],})"
   ]
  },
  {
   "cell_type": "code",
   "execution_count": null,
   "metadata": {},
   "outputs": [],
   "source": [
    "pd.merge(df4, df5) # every 'Jules' of the first data frame is merged with the 'Jules' of the second data frame "
   ]
  },
  {
   "cell_type": "markdown",
   "metadata": {},
   "source": [
    "   - another example"
   ]
  },
  {
   "cell_type": "code",
   "execution_count": null,
   "metadata": {},
   "outputs": [],
   "source": [
    "df3 = pd.DataFrame({'names': ['Gabriel', 'Emma', 'Jules'],\n",
    "                    'incomes': ['L', 'M', 'L']})\n",
    "df3"
   ]
  },
  {
   "cell_type": "code",
   "execution_count": null,
   "metadata": {},
   "outputs": [],
   "source": [
    "df4 = pd.DataFrame({'incomes': ['L', 'M', 'U'],\n",
    "                    'explanation': ['Lower', 'Middle', 'Upper']})\n",
    "df4"
   ]
  },
  {
   "cell_type": "code",
   "execution_count": null,
   "metadata": {},
   "outputs": [],
   "source": [
    "pd.merge(df3, df4)"
   ]
  },
  {
   "cell_type": "markdown",
   "metadata": {},
   "source": [
    "#### c) `many-to-many` merge"
   ]
  },
  {
   "cell_type": "markdown",
   "metadata": {},
   "source": [
    "   - both `key columns` contain duplicates `entries`\n",
    "   - a `cartesian product` is used"
   ]
  },
  {
   "cell_type": "code",
   "execution_count": null,
   "metadata": {},
   "outputs": [],
   "source": [
    "df5 = pd.DataFrame({'names': ['Gabriel', 'Jules', 'Jules'],   # two \"Jules\"\n",
    "                    'height': [1.87, 1.67, 1.84]})\n",
    "df5"
   ]
  },
  {
   "cell_type": "code",
   "execution_count": null,
   "metadata": {},
   "outputs": [],
   "source": [
    "df6 = pd.DataFrame({'names': ['Gabriel', 'Jules', 'Jules'],   # two 'Jules'\n",
    "                    'incomes': ['Lower', 'Middle', 'Lower']})"
   ]
  },
  {
   "cell_type": "code",
   "execution_count": null,
   "metadata": {},
   "outputs": [],
   "source": [
    "pd.merge(df5, df6) # four 'Jules\""
   ]
  },
  {
   "cell_type": "markdown",
   "metadata": {},
   "source": [
    "#### d) controling `keys`"
   ]
  },
  {
   "cell_type": "markdown",
   "metadata": {},
   "source": [
    "   - you can `specify` the `key columns` with the parameter $\\texttt{on='names'}$\n",
    "   \n",
    "   \n",
    "   - you can `link` columns with different `names` (parameters $\\texttt{left_on='names', right_on='identity')}$"
   ]
  },
  {
   "cell_type": "code",
   "execution_count": null,
   "metadata": {},
   "outputs": [],
   "source": [
    "df1 = pd.DataFrame({'names': ['Gabriel', 'Jules', 'Emma'],\n",
    "                    'incomes': ['Lower', 'Upper', 'Lower'],\n",
    "                    'height': [1.87, 1.67, 1.64]})\n",
    "\n",
    "df2 = pd.DataFrame({'names': ['Gabriel', 'Jules', 'Emma'], \n",
    "                    'sex': ['M', 'M', 'F'],\n",
    "                    'incomes': ['Lower', 'Middle', 'Lower'],})"
   ]
  },
  {
   "cell_type": "code",
   "execution_count": null,
   "metadata": {},
   "outputs": [],
   "source": [
    "pd.merge(df1, df2, on=['names']) # incomes is no more involved in the merging"
   ]
  },
  {
   "cell_type": "code",
   "execution_count": null,
   "metadata": {},
   "outputs": [],
   "source": [
    "df1 = pd.DataFrame({'names': ['Gabriel', 'Jules', 'Emma'],\n",
    "                    'incomes': ['Lower', 'Middle', 'Lower'],\n",
    "                    'height': [1.87, 1.67, 1.64]})\n",
    "\n",
    "df2 = pd.DataFrame({'identity': ['Gabriel', 'Jules', 'Emma'], \n",
    "                    'sex': ['M', 'M', 'F'],\n",
    "                    'incomes': ['Lower', 'Middle', 'Lower'],})"
   ]
  },
  {
   "cell_type": "markdown",
   "metadata": {},
   "source": [
    "   - columns `excluded` from the `key` are `renamed`\n",
    "   "
   ]
  },
  {
   "cell_type": "code",
   "execution_count": null,
   "metadata": {},
   "outputs": [],
   "source": [
    "pd.merge(df1, df2, left_on='names', right_on='identity')   # 'incomes' is excluded => incomes will be renamed"
   ]
  },
  {
   "cell_type": "markdown",
   "metadata": {},
   "source": [
    "   - merge does not preserve the `index`"
   ]
  },
  {
   "cell_type": "markdown",
   "metadata": {},
   "source": []
  },
  {
   "cell_type": "markdown",
   "metadata": {},
   "source": [
    "   - `join` is a shortcut to `merge`"
   ]
  },
  {
   "cell_type": "markdown",
   "metadata": {},
   "source": [
    "##  VIII) pivoting tables"
   ]
  },
  {
   "cell_type": "markdown",
   "metadata": {},
   "source": [
    "   - let us see an `example`"
   ]
  },
  {
   "cell_type": "markdown",
   "metadata": {},
   "source": [
    "you have a `dataset` about the sinking of `titanic`\n",
    "   - for each `passenger` you have values such as:\n",
    "      - the `survival status`\n",
    "      - the `sex`\n",
    "      - the `class` (first, second, third)\n",
    "      - the `age`"
   ]
  },
  {
   "cell_type": "markdown",
   "metadata": {},
   "source": [
    "   - we `import` the dataset\n",
    "   - we keep the `interesting columns` (parameter $\\texttt{usecols}$)"
   ]
  },
  {
   "cell_type": "code",
   "execution_count": null,
   "metadata": {},
   "outputs": [],
   "source": [
    "df = pd.read_csv('titanic.csv', usecols=['Survived', 'Pclass', 'Sex', 'Age'])"
   ]
  },
  {
   "cell_type": "code",
   "execution_count": null,
   "metadata": {},
   "outputs": [],
   "source": [
    "df.head(3)"
   ]
  },
  {
   "cell_type": "markdown",
   "metadata": {},
   "source": [
    "   - the `number` of passengers in `each` class"
   ]
  },
  {
   "cell_type": "code",
   "execution_count": null,
   "metadata": {},
   "outputs": [],
   "source": [
    "df['Pclass'].value_counts()"
   ]
  },
  {
   "cell_type": "markdown",
   "metadata": {},
   "source": [
    "suppose you want to know\n",
    "   - the `survival rate` depending on the `sex` and the `class` "
   ]
  },
  {
   "cell_type": "markdown",
   "metadata": {},
   "source": [
    "you know\n",
    "   - the `value` to be `aggregated` here the `survival status`\n",
    "   - the `aggregation` function here the $\\texttt{numpy.mean}$\n",
    "   - the `key` to be the `index`   here the column `sex`\n",
    "   - the `key` to be the `column`  here the column `Pclass`"
   ]
  },
  {
   "cell_type": "markdown",
   "metadata": {},
   "source": [
    "   - this is done by the $\\texttt{pandas.DataFrame.pivot_table}$ `method`"
   ]
  },
  {
   "cell_type": "code",
   "execution_count": null,
   "metadata": {},
   "outputs": [],
   "source": [
    "df.pivot_table('Survived', index='Sex', columns='Pclass', aggfunc=np.mean)"
   ]
  },
  {
   "cell_type": "markdown",
   "metadata": {},
   "source": [
    "   - it returns a `new` data frame "
   ]
  },
  {
   "cell_type": "code",
   "execution_count": null,
   "metadata": {},
   "outputs": [],
   "source": [
    "df1 = df.pivot_table('Survived', index='Sex', columns='Pclass', aggfunc=np.mean)"
   ]
  },
  {
   "cell_type": "markdown",
   "metadata": {},
   "source": [
    "   - `Pclass` is the name of the `columns index`\n",
    "   - `Sex` is the name of the `rows index`"
   ]
  },
  {
   "cell_type": "markdown",
   "metadata": {},
   "source": [
    "   - another example"
   ]
  },
  {
   "cell_type": "markdown",
   "metadata": {},
   "source": [
    "   - you want to `compute` the `survival rate` by `age group`\n",
    "   - but we do not have `age group`\n",
    "   - so we must `pack` the ages in `bins` representing `age groupe`"
   ]
  },
  {
   "cell_type": "markdown",
   "metadata": {},
   "source": [
    "   - we create `bins` of ages and `names` for those `bins`"
   ]
  },
  {
   "cell_type": "code",
   "execution_count": null,
   "metadata": {},
   "outputs": [],
   "source": [
    "age_groups=[0, 11, 17, 25, 35, 45, 55, 65, 100] \n",
    "age_group_names = ['<11', '11-17', '17-25', '25-35', '35-45', '45-55', '55-65', '>65'] "
   ]
  },
  {
   "cell_type": "markdown",
   "metadata": {},
   "source": [
    "   - we create a new `column` where the `Age` is replaced by the `age group` \n",
    "   - using the `method` $\\texttt{pandas.cut}$ with the `bins` and the `names`"
   ]
  },
  {
   "cell_type": "markdown",
   "metadata": {},
   "source": [
    "   - we can `add` the column in our data frame"
   ]
  },
  {
   "cell_type": "code",
   "execution_count": null,
   "metadata": {},
   "outputs": [],
   "source": [
    "df['Age group'] = pd.cut(df['Age'], bins=age_groups, labels=age_group_names)"
   ]
  },
  {
   "cell_type": "code",
   "execution_count": null,
   "metadata": {},
   "outputs": [],
   "source": [
    "#df.sort_values(by='Age', ascending=False)"
   ]
  },
  {
   "cell_type": "markdown",
   "metadata": {},
   "source": [
    "   - we compute a new `data frame` with the  `survival rate` by `age group`"
   ]
  },
  {
   "cell_type": "code",
   "execution_count": null,
   "metadata": {},
   "outputs": [],
   "source": [
    "df.pivot_table('Survived', index=['Sex', 'Pclass'], columns='Age group', aggfunc=np.mean)"
   ]
  },
  {
   "cell_type": "markdown",
   "metadata": {},
   "source": [
    "   - a `higher` rate of `women` was `saved` in `all` categories except `children under 11`\n",
    "   - where $55 \\%$ of the boys were saved against $54 \\%$ of the girls"
   ]
  },
  {
   "cell_type": "markdown",
   "metadata": {},
   "source": [
    "   - we `do not need` to `add` a column to the `data frame`\n",
    "   \n",
    "   - here we  `pass` the number of `bins` and their `names`"
   ]
  },
  {
   "cell_type": "code",
   "execution_count": null,
   "metadata": {},
   "outputs": [],
   "source": [
    "col = pd.cut(df['Age'], 3, labels=['child', 'adult', 'old'])"
   ]
  },
  {
   "cell_type": "code",
   "execution_count": null,
   "metadata": {},
   "outputs": [],
   "source": [
    "df.pivot_table('Survived', index=['Sex', 'Pclass'], columns=col, aggfunc=np.mean)"
   ]
  },
  {
   "cell_type": "code",
   "execution_count": null,
   "metadata": {},
   "outputs": [],
   "source": [
    "df = pd.read_csv('titanic.csv')"
   ]
  },
  {
   "cell_type": "markdown",
   "metadata": {},
   "source": [
    "  - example of changing the `data`\n",
    "  - for example, we want to `replace` the `number` of the classes by the `names`\n",
    "  \n",
    "  \n",
    "  - create the `Boolean mask`\n",
    "  - always `loc` or `iloc` `never` use a classical `array` assignement"
   ]
  },
  {
   "cell_type": "code",
   "execution_count": null,
   "metadata": {},
   "outputs": [],
   "source": [
    "mask = (df['Pclass'] == 1)  # we have a mask of indexes"
   ]
  },
  {
   "cell_type": "code",
   "execution_count": null,
   "metadata": {},
   "outputs": [],
   "source": [
    "mask.head()"
   ]
  },
  {
   "cell_type": "markdown",
   "metadata": {},
   "source": [
    "   - we `localize` the `true` values\n",
    "   - and replace their `Pclass` column `value` by the string `'first'`"
   ]
  },
  {
   "cell_type": "code",
   "execution_count": null,
   "metadata": {},
   "outputs": [],
   "source": [
    "df.loc[ mask, 'Pclass'] = 'first'"
   ]
  },
  {
   "cell_type": "code",
   "execution_count": null,
   "metadata": {},
   "outputs": [],
   "source": [
    "df.loc[ df['Pclass'] == 2, 'Pclass'] = 'second'\n",
    "df.loc[ df['Pclass'] == 3, 'Pclass'] = 'third'"
   ]
  },
  {
   "cell_type": "code",
   "execution_count": null,
   "metadata": {},
   "outputs": [],
   "source": [
    "df.head()"
   ]
  },
  {
   "cell_type": "markdown",
   "metadata": {},
   "source": [
    "##  VIII) dealing with `temporality` in $\\texttt{pandas}$"
   ]
  },
  {
   "cell_type": "markdown",
   "metadata": {},
   "source": [
    "`3 ways` to talk about `temporality`\n",
    "   - `date` or `time`: it is an `instant` e.g. `just now` \n",
    "   - `time duration`: e.g. `3 hours` (deltas)\n",
    "   - `time period`: it is an `interval of time` e.g. a `date` plus a `duration`"
   ]
  },
  {
   "cell_type": "markdown",
   "metadata": {},
   "source": [
    "### 1) date and time intervals in `numpy`"
   ]
  },
  {
   "cell_type": "markdown",
   "metadata": {},
   "source": [
    "#### a) date in `numpy` $\\texttt{numpy.datetime64}$\n",
    "\n",
    "   - dates in $\\texttt{pandas}$ are based on $\\texttt{numpy.datetime64}$\n",
    "   - the format is `'year-month-day hour:minute:second'`\n",
    "   - the numbers are `zero-padded` ($09$ and not $9$)"
   ]
  },
  {
   "cell_type": "code",
   "execution_count": null,
   "metadata": {},
   "outputs": [],
   "source": [
    "np.datetime64('2019-09-04 14:00:09')"
   ]
  },
  {
   "cell_type": "markdown",
   "metadata": {},
   "source": [
    "#### b) `time duration` in `numpy` $\\texttt{numpy.timedelta64}$\n",
    "   "
   ]
  },
  {
   "cell_type": "code",
   "execution_count": null,
   "metadata": {},
   "outputs": [],
   "source": [
    "np.datetime64('2019-09-04 14:00:09') - np.datetime64('2019-09-11 09:27:09')"
   ]
  },
  {
   "cell_type": "markdown",
   "metadata": {},
   "source": [
    "### 2)  temporality in `pandas`"
   ]
  },
  {
   "cell_type": "markdown",
   "metadata": {},
   "source": [
    "#### a) dates in `pandas` $\\texttt{pandas.Timestamp}$"
   ]
  },
  {
   "cell_type": "code",
   "execution_count": null,
   "metadata": {},
   "outputs": [],
   "source": [
    "pd.Timestamp(0) # the Unix time "
   ]
  },
  {
   "cell_type": "markdown",
   "metadata": {},
   "source": [
    "*\"the Unix time is the number of seconds that have elapsed since 00:00:00 Thursday, 1 January 1970\"*"
   ]
  },
  {
   "cell_type": "code",
   "execution_count": null,
   "metadata": {},
   "outputs": [],
   "source": [
    "pd.Timestamp('2019-10-04 14:00:00') "
   ]
  },
  {
   "cell_type": "markdown",
   "metadata": {},
   "source": [
    "   - if you have a `specific format` use $\\texttt{pandas.to_datetime}$ with the $\\texttt{format}$ parameter\n",
    "   - `Y` is year (2019), `y` is year (19), `m` is month, `d` is day (number), `M` is minute, ..."
   ]
  },
  {
   "cell_type": "code",
   "execution_count": null,
   "metadata": {},
   "outputs": [],
   "source": [
    "pd.to_datetime('2019|10|04 14;00;07', format='%Y|%m|%d %H;%M;%S') "
   ]
  },
  {
   "cell_type": "markdown",
   "metadata": {},
   "source": [
    "#### b) time duration in `pandas`  $\\texttt{pandas.Timedelta}$"
   ]
  },
  {
   "cell_type": "markdown",
   "metadata": {},
   "source": [
    "   - it is a `time interval`\n",
    "   - with no mention of a precise `date`"
   ]
  },
  {
   "cell_type": "markdown",
   "metadata": {},
   "source": [
    "   - `duration` between `two` dates"
   ]
  },
  {
   "cell_type": "code",
   "execution_count": null,
   "metadata": {},
   "outputs": [],
   "source": [
    "pd.Timestamp('2019-09-04 14:00:00') - pd.Timestamp('2019-09-04 8:36:57')"
   ]
  },
  {
   "cell_type": "code",
   "execution_count": null,
   "metadata": {},
   "outputs": [],
   "source": [
    "pd.Timestamp('2019-10-04 14:00:00') - pd.Timestamp('2019-09-04 8:36:57')"
   ]
  },
  {
   "cell_type": "code",
   "execution_count": null,
   "metadata": {},
   "outputs": [],
   "source": [
    "#pd.Timedelta?"
   ]
  },
  {
   "cell_type": "markdown",
   "metadata": {},
   "source": [
    "#### c) time period in `pandas`  $\\texttt{pandas.Timedelta}$"
   ]
  },
  {
   "cell_type": "markdown",
   "metadata": {},
   "source": [
    "   - a `period` is a `date` and a `duration`"
   ]
  },
  {
   "cell_type": "code",
   "execution_count": null,
   "metadata": {},
   "outputs": [],
   "source": [
    "d = pd.Timestamp('2019-10-04 14:00:00')"
   ]
  },
  {
   "cell_type": "code",
   "execution_count": null,
   "metadata": {},
   "outputs": [],
   "source": [
    "d.to_period(d - pd.Timestamp('2019-09-04 8:36:57'))"
   ]
  },
  {
   "cell_type": "code",
   "execution_count": null,
   "metadata": {},
   "outputs": [],
   "source": [
    "d.to_period('D')"
   ]
  },
  {
   "cell_type": "markdown",
   "metadata": {},
   "source": [
    "### 3) columns of dates for $\\texttt{pandas.DataFrame}$"
   ]
  },
  {
   "cell_type": "markdown",
   "metadata": {},
   "source": [
    "#### a) in an already created `dataframe`"
   ]
  },
  {
   "cell_type": "markdown",
   "metadata": {},
   "source": [
    "   - you have a `dataset` with a column of `dates`"
   ]
  },
  {
   "cell_type": "code",
   "execution_count": null,
   "metadata": {},
   "outputs": [],
   "source": [
    "df = pd.DataFrame({'time': ['2019/12/25 23:59', '2019/12/31 23:59'],\n",
    "                   'holidays': ['Christmas', 'New Year']})"
   ]
  },
  {
   "cell_type": "markdown",
   "metadata": {},
   "source": [
    "   - the `time` is a `simple` a python `string` "
   ]
  },
  {
   "cell_type": "code",
   "execution_count": null,
   "metadata": {},
   "outputs": [],
   "source": [
    "type(df.loc[0, 'time'])   "
   ]
  },
  {
   "cell_type": "markdown",
   "metadata": {},
   "source": [
    "   - you can `transform` a `string` in `objects` of type `date`\n",
    "   - with the $\\texttt{pandas.to_datetime}$ method"
   ]
  },
  {
   "cell_type": "code",
   "execution_count": null,
   "metadata": {},
   "outputs": [],
   "source": [
    "df['time'] = pd.to_datetime(df['time'])"
   ]
  },
  {
   "cell_type": "markdown",
   "metadata": {},
   "source": [
    "   - note that $\\texttt{pandas.to_datetime}$, applied to an `array of dates`, returns an `index of dates`"
   ]
  },
  {
   "cell_type": "code",
   "execution_count": null,
   "metadata": {},
   "outputs": [],
   "source": [
    "df.dtypes"
   ]
  },
  {
   "cell_type": "markdown",
   "metadata": {},
   "source": [
    "   - remember the $\\texttt{pandas}$ datetimes rely on $\\texttt{numpy.datetime64}$"
   ]
  },
  {
   "cell_type": "markdown",
   "metadata": {},
   "source": [
    "   - you can `index` the `data frame` by a column of dates "
   ]
  },
  {
   "cell_type": "code",
   "execution_count": null,
   "metadata": {},
   "outputs": [],
   "source": [
    "df.set_index('time')"
   ]
  },
  {
   "cell_type": "markdown",
   "metadata": {},
   "source": [
    "#### b) creating `date` type while reading the `csv` file"
   ]
  },
  {
   "cell_type": "markdown",
   "metadata": {},
   "source": [
    "   - you can `convert` the date during a `csv` read\n",
    "   - and index your DataFrame by the date"
   ]
  },
  {
   "cell_type": "markdown",
   "metadata": {},
   "source": [
    "   - we write the data frame in a file without the index"
   ]
  },
  {
   "cell_type": "code",
   "execution_count": null,
   "metadata": {},
   "outputs": [],
   "source": [
    "df.to_csv('foo.csv', index=None)"
   ]
  },
  {
   "cell_type": "markdown",
   "metadata": {},
   "source": [
    "   - we `parse` the date while we `read` the csv-file"
   ]
  },
  {
   "cell_type": "code",
   "execution_count": null,
   "metadata": {},
   "outputs": [],
   "source": [
    "df = pd.read_csv('foo.csv', parse_dates=['time'])"
   ]
  },
  {
   "cell_type": "code",
   "execution_count": null,
   "metadata": {},
   "outputs": [],
   "source": [
    "df.dtypes"
   ]
  },
  {
   "cell_type": "code",
   "execution_count": null,
   "metadata": {},
   "outputs": [],
   "source": [
    "df.head()"
   ]
  },
  {
   "cell_type": "markdown",
   "metadata": {},
   "source": [
    "   - we `index` the data frame by `date` while we read the csv-file"
   ]
  },
  {
   "cell_type": "code",
   "execution_count": null,
   "metadata": {},
   "outputs": [],
   "source": [
    "df = pd.read_csv('foo.csv', parse_dates=['time'], index_col='time')"
   ]
  },
  {
   "cell_type": "code",
   "execution_count": null,
   "metadata": {},
   "outputs": [],
   "source": [
    "df.head()"
   ]
  },
  {
   "cell_type": "code",
   "execution_count": null,
   "metadata": {},
   "outputs": [],
   "source": [
    "df.index"
   ]
  },
  {
   "cell_type": "markdown",
   "metadata": {},
   "source": [
    "   - you have a new type: $\\texttt{pandas.DatetimeIndex}$"
   ]
  },
  {
   "cell_type": "markdown",
   "metadata": {},
   "source": [
    "   - for `unsusual dates format` indicate the parser function `to use` \n",
    "   - in the file `test_date.csv` we replace the '/' by '|' in the date strings"
   ]
  },
  {
   "cell_type": "code",
   "execution_count": null,
   "metadata": {},
   "outputs": [],
   "source": [
    "def my_date_parser (d):\n",
    "    return pd.to_datetime(d, format='%Y|%m|%d %H:%M')\n",
    "\n",
    "df = pd.read_csv('test_date.csv', parse_dates=['time'], index_col='time', date_parser=my_date_parser)"
   ]
  },
  {
   "cell_type": "code",
   "execution_count": null,
   "metadata": {},
   "outputs": [],
   "source": [
    "df.head()"
   ]
  },
  {
   "cell_type": "markdown",
   "metadata": {},
   "source": [
    "### xxx) when dates are `wrong` you can `ignore` or `coerce`"
   ]
  },
  {
   "cell_type": "markdown",
   "metadata": {},
   "source": [
    "   - you get an error"
   ]
  },
  {
   "cell_type": "code",
   "execution_count": null,
   "metadata": {},
   "outputs": [],
   "source": [
    "try:\n",
    "    pd.to_datetime('30/02/2019')\n",
    "except ValueError as e:\n",
    "    print(e)"
   ]
  },
  {
   "cell_type": "markdown",
   "metadata": {},
   "source": [
    "   - you ignore the error"
   ]
  },
  {
   "cell_type": "code",
   "execution_count": null,
   "metadata": {},
   "outputs": [],
   "source": [
    "pd.to_datetime('30/02/2019', errors='ignore') # your create a 30th of February"
   ]
  },
  {
   "cell_type": "markdown",
   "metadata": {},
   "source": [
    "   - you coerce the error"
   ]
  },
  {
   "cell_type": "code",
   "execution_count": null,
   "metadata": {},
   "outputs": [],
   "source": [
    "pd.to_datetime('30/02/2019', errors='coerce') # this is Not a Time"
   ]
  },
  {
   "cell_type": "markdown",
   "metadata": {},
   "source": [
    "   - it is the $\\texttt{pandas}$ `object`: $\\texttt{pandas.NaT}$\n",
    "   - classical `NaN` methods work on `NaT values`"
   ]
  },
  {
   "cell_type": "markdown",
   "metadata": {},
   "source": [
    "# ANNEXES"
   ]
  },
  {
   "cell_type": "markdown",
   "metadata": {},
   "source": [
    "## 1) Dealing with unicode in $\\texttt{pandas}$\n"
   ]
  },
  {
   "cell_type": "markdown",
   "metadata": {},
   "source": [
    "https://docs.python.org/3/library/codecs.html#standard-encodings"
   ]
  },
  {
   "cell_type": "code",
   "execution_count": null,
   "metadata": {},
   "outputs": [],
   "source": [
    "df = pd.DataFrame({'names': ['à è é ï ù']})"
   ]
  },
  {
   "cell_type": "code",
   "execution_count": null,
   "metadata": {},
   "outputs": [],
   "source": [
    "df.to_csv('bar.csv', header=True, index=False, encoding='utf-8')"
   ]
  },
  {
   "cell_type": "code",
   "execution_count": null,
   "metadata": {},
   "outputs": [],
   "source": []
  }
 ],
 "metadata": {
  "kernelspec": {
   "display_name": "Python 3",
   "language": "python",
   "name": "python3"
  },
  "language_info": {
   "codemirror_mode": {
    "name": "ipython",
    "version": 3
   },
   "file_extension": ".py",
   "mimetype": "text/x-python",
   "name": "python",
   "nbconvert_exporter": "python",
   "pygments_lexer": "ipython3",
   "version": "3.7.3"
  }
 },
 "nbformat": 4,
 "nbformat_minor": 2
}
