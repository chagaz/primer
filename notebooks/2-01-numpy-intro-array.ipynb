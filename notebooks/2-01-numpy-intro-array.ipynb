{
 "cells": [
  {
   "cell_type": "markdown",
   "metadata": {},
   "source": [
    "<div class=\"licence\">\n",
    "<span>Licence CC BY-NC-ND</span>\n",
    "<span>Valérie Roy</span>\n",
    "<span><img src=\"media/ensmp-25-alpha.png\" /></span>\n",
    "</div>"
   ]
  },
  {
   "cell_type": "markdown",
   "metadata": {
    "cell_style": "center",
    "slideshow": {
     "slide_type": "slide"
    }
   },
   "source": [
    "# **numpy**"
   ]
  },
  {
   "cell_type": "markdown",
   "metadata": {},
   "source": [
    "#### references\n",
    "   - https://docs.scipy.org/doc/numpy/reference/\n",
    "   - http://scipy-lectures.org/intro/index.html\n",
    "   - https://www.labri.fr/perso/nrougier/from-python-to-numpy/"
   ]
  },
  {
   "cell_type": "markdown",
   "metadata": {},
   "source": [
    "#### this course is inspired by:\n",
    "   - Arnaud Legout, Inria\n",
    "   - Thierry Parmentelat, Inria\n",
    "   - the numpy documentation\n",
    "   - stackoverflow\n",
    "   - ..."
   ]
  },
  {
   "cell_type": "markdown",
   "metadata": {
    "slideshow": {
     "slide_type": "slide"
    }
   },
   "source": [
    "#### a quick story of **numpy**\n",
    "   - Numpy 1.0 in 2006\n",
    "   - Reused old projects Numeric and Numarray\n",
    "   - No single coordinator, no single aim\n",
    "   - Guido refused to add Numeric in the Python\n",
    "      standard library\n",
    "      +  Guido deemed the code not maintainable\n",
    "   - Travis Oliphant merged Numeric and Numarray to create numpy"
   ]
  },
  {
   "cell_type": "markdown",
   "metadata": {},
   "source": [
    "Many $\\texttt{numpy}$ operations are programmed in C, making it faster."
   ]
  },
  {
   "cell_type": "markdown",
   "metadata": {
    "slideshow": {
     "slide_type": "slide"
    }
   },
   "source": [
    "# importing the $\\texttt{numpy}$ **library** "
   ]
  },
  {
   "cell_type": "markdown",
   "metadata": {},
   "source": [
    "   - $\\texttt{numpy}$ is **by convention** and **for short** named **np** "
   ]
  },
  {
   "cell_type": "code",
   "execution_count": 62,
   "metadata": {},
   "outputs": [],
   "source": [
    "import numpy as np"
   ]
  },
  {
   "cell_type": "markdown",
   "metadata": {
    "slideshow": {
     "slide_type": "slide"
    }
   },
   "source": [
    "# Creating array in **numpy**  $\\texttt{numpy.ndarray}$ "
   ]
  },
  {
   "cell_type": "markdown",
   "metadata": {},
   "source": [
    "## internal memory layout : array are homogenous"
   ]
  },
  {
   "cell_type": "markdown",
   "metadata": {},
   "source": [
    "$\\texttt{numpy.ndarray}$\n",
    "   - it is the **core datatype** of $\\texttt{numpy}$"
   ]
  },
  {
   "cell_type": "markdown",
   "metadata": {},
   "source": [
    "a $\\texttt{numpy.ndarray}$:\n",
    "   - it is a **contiguous one-dimensional segment of computer memory**\n",
    "   - we **combined it** with **indexing schemes** for **multi-dimensions**\n",
    "   - each **indexing scheme** is a **view** on the **underlying segment**"
   ]
  },
  {
   "cell_type": "markdown",
   "metadata": {},
   "source": [
    "#### elements\n",
    "  \n",
    "   - **all** the elements have the **same data type** (**unlike** python's containers)   \n",
    "   - elements are **directely** accessed"
   ]
  },
  {
   "cell_type": "markdown",
   "metadata": {},
   "source": [
    "#### why ? \n",
    "   - for the sake of **speed**\n",
    "   - it is **much faster** to access memory along a **single segment** (each **case** has the same size)\n",
    "   - than to access **small portions** of memory (the cases) **everywhere** in the memory of the computer (cf. NTFS vs ext4 fragmentation)\n",
    "   - (as we would be in the case of python lists !)\n",
    "   - but python lists have other **advantages** "
   ]
  },
  {
   "cell_type": "markdown",
   "metadata": {},
   "source": [
    "#### in consequence\n",
    "   - an $\\texttt{numpy.ndarray}$ is very **compact**\n",
    "   - the methods we can apply are **optimized**"
   ]
  },
  {
   "cell_type": "markdown",
   "metadata": {},
   "source": [
    "#### you can create $\\texttt{numpy.ndarray}$\n",
    "   - from **existing** arrays (e.g. $\\texttt{python}$ arrays)\n",
    "   - by **constructing** directly $\\texttt{numpy.ndarray}$ **objects**\n",
    "   - by **reading files** with data such as **csv** files"
   ]
  },
  {
   "cell_type": "markdown",
   "metadata": {
    "slideshow": {
     "slide_type": "slide"
    }
   },
   "source": [
    "## 2) creating $\\texttt{numpy.ndarray}$ from existing $\\texttt{python}$ arrays"
   ]
  },
  {
   "cell_type": "code",
   "execution_count": null,
   "metadata": {},
   "outputs": [],
   "source": [
    "tab = [1, 2, 3, 4, 5, 6, 7]\n",
    "np.array(tab)        # from a list\n",
    "\n",
    "# or\n",
    "\n",
    "np.array([1, 2, 3, 4, 5, 6, 7])  # from a list\n",
    "np.array((1, 2, 3, 4, 5, 6, 7))  # from a tuple"
   ]
  },
  {
   "cell_type": "code",
   "execution_count": null,
   "metadata": {},
   "outputs": [],
   "source": [
    "type(np.array ([1, 2, 3, 4, 5, 6, 7])) # we create a numpy.ndarray"
   ]
  },
  {
   "cell_type": "markdown",
   "metadata": {},
   "source": [
    "   - you can **create** an $\\texttt{numpy.ndarray}$ from a **python** generator"
   ]
  },
  {
   "cell_type": "code",
   "execution_count": null,
   "metadata": {},
   "outputs": [],
   "source": [
    "p = (i for i in range(20) if i%2 == 0) # p is a generator of the even numbers from 0 to 18"
   ]
  },
  {
   "cell_type": "code",
   "execution_count": null,
   "metadata": {},
   "outputs": [],
   "source": [
    "p"
   ]
  },
  {
   "cell_type": "code",
   "execution_count": null,
   "metadata": {},
   "outputs": [],
   "source": [
    "a = np.fromiter(p, dtype = np.int8)\n",
    "a"
   ]
  },
  {
   "cell_type": "markdown",
   "metadata": {
    "slideshow": {
     "slide_type": "slide"
    }
   },
   "source": [
    "## 3) deducing the type of the elements"
   ]
  },
  {
   "cell_type": "markdown",
   "metadata": {},
   "source": [
    "   - **without** any indication $\\texttt{numpy}$ **decides** on **its own**"
   ]
  },
  {
   "cell_type": "markdown",
   "metadata": {},
   "source": [
    "### a) initialising with an homogeneous array"
   ]
  },
  {
   "cell_type": "markdown",
   "metadata": {},
   "source": [
    "#### an **integer** array"
   ]
  },
  {
   "cell_type": "code",
   "execution_count": null,
   "metadata": {},
   "outputs": [],
   "source": [
    "np.array([0, 1, 2, 3, 4, 5, 6, 7]).dtype\n",
    "# elements are all integers\n",
    "# the array will be an integer-typed array"
   ]
  },
  {
   "cell_type": "markdown",
   "metadata": {},
   "source": [
    "   - here we **get** integers on $64$ bits"
   ]
  },
  {
   "cell_type": "markdown",
   "metadata": {},
   "source": [
    "#### a **float** array"
   ]
  },
  {
   "cell_type": "code",
   "execution_count": null,
   "metadata": {},
   "outputs": [],
   "source": [
    "np.array([0.72, -1.45, 2.29]).dtype\n",
    "# elements are all floats\n",
    "# the array will be a floating-point typed array"
   ]
  },
  {
   "cell_type": "markdown",
   "metadata": {},
   "source": [
    "#### a **Boolean** array"
   ]
  },
  {
   "cell_type": "code",
   "execution_count": null,
   "metadata": {},
   "outputs": [],
   "source": [
    "np.array([True, False]).dtype\n",
    "# elements are all booleans (scalar type)\n",
    "# the array will be a boolean typed array"
   ]
  },
  {
   "cell_type": "markdown",
   "metadata": {},
   "source": [
    "#### a **character string** array"
   ]
  },
  {
   "cell_type": "code",
   "execution_count": null,
   "metadata": {},
   "outputs": [],
   "source": [
    "np.array(['héllo', 'world!']).dtype"
   ]
  },
  {
   "cell_type": "markdown",
   "metadata": {},
   "source": [
    "   - the element must have the same **type**\n",
    "   - the **longuest** string has $6$ characters\n",
    "   - **all** the elements will be **strings with $6$ characters**"
   ]
  },
  {
   "cell_type": "markdown",
   "metadata": {},
   "source": [
    "#### the type is '<U6'\n",
    "   - **U** for Unicode\n",
    "   - $6$ is the number of octets to hold the longuest string (here 'world!')\n",
    "   - (< is for little endian, i.e. the order in which the octets are stored in memory)"
   ]
  },
  {
   "cell_type": "markdown",
   "metadata": {},
   "source": [
    "## exercise$^{(*)}$\n",
    "\n",
    "\n",
    "(\\*) *the exercices must be completed on the students' free time*"
   ]
  },
  {
   "cell_type": "markdown",
   "metadata": {},
   "source": [
    "### b) initialisation with an heterogeneous array"
   ]
  },
  {
   "cell_type": "markdown",
   "metadata": {},
   "source": [
    "   - for example, we mix **integers** and **float**"
   ]
  },
  {
   "cell_type": "code",
   "execution_count": null,
   "metadata": {},
   "outputs": [],
   "source": [
    "[0, 1., 2, 3, 4, 5, 6, 7.]"
   ]
  },
  {
   "cell_type": "markdown",
   "metadata": {},
   "source": [
    "   - containers in python are **heterogeneous**\n",
    "   - **no** conversion is done"
   ]
  },
  {
   "cell_type": "markdown",
   "metadata": {},
   "source": [
    "   - but in $\\texttt{numpy}$ the **array type** is homogeneous\n",
    "   - **conversions** shall be **done**"
   ]
  },
  {
   "cell_type": "code",
   "execution_count": null,
   "metadata": {},
   "outputs": [],
   "source": [
    "np.array([0, 1., 2, 3, 4, 5, 6, 7.]).dtype"
   ]
  },
  {
   "cell_type": "markdown",
   "metadata": {},
   "source": [
    "   - $0$, $1$, ..., $6$ are **converted** in **floats**"
   ]
  },
  {
   "cell_type": "markdown",
   "metadata": {},
   "source": [
    "#### the data type\n",
    "   - is **deduced** as the ***smaller*** **type** that can **hold** all the elements\n",
    "   - $\\texttt{numpy}$ tries **not** to **lose** information\n",
    "   - the elements are converted **automatically** and **silently**\n",
    "   - it is **very different** from the $\\texttt{Python}$ **philosophy**"
   ]
  },
  {
   "cell_type": "markdown",
   "metadata": {},
   "source": [
    "   - **False** is converted to  $0$ of the **integers**"
   ]
  },
  {
   "cell_type": "code",
   "execution_count": null,
   "metadata": {},
   "outputs": [],
   "source": [
    "np.array([False, 1, 2, 3, 4, 5, 6, 7]).dtype"
   ]
  },
  {
   "cell_type": "markdown",
   "metadata": {},
   "source": [
    "   - **True** is converted to $1.$ of the **floats**"
   ]
  },
  {
   "cell_type": "code",
   "execution_count": null,
   "metadata": {},
   "outputs": [],
   "source": [
    "np.array([False, 1., 2, 3, 4, 5, 6, 7]).dtype"
   ]
  },
  {
   "cell_type": "markdown",
   "metadata": {},
   "source": [
    "   - mixing **numbers** and **strings**"
   ]
  },
  {
   "cell_type": "code",
   "execution_count": null,
   "metadata": {},
   "outputs": [],
   "source": [
    "np.array([0, 1, 2, 3, 4, 5, 6, '7'])"
   ]
  },
  {
   "cell_type": "markdown",
   "metadata": {},
   "source": [
    "   - mixing **strings** and **numbers**"
   ]
  },
  {
   "cell_type": "code",
   "execution_count": null,
   "metadata": {},
   "outputs": [],
   "source": [
    "np.array(['0', 1, 2, 3, 4, 5, 6, 7])"
   ]
  },
  {
   "cell_type": "markdown",
   "metadata": {},
   "source": [
    "in such cases ask **stackoverflow** or do not try to understand ..."
   ]
  },
  {
   "cell_type": "markdown",
   "metadata": {},
   "source": [
    "### d) modifying an element in an $\\text{numpy.ndarray}$ can result in a loss of precision"
   ]
  },
  {
   "cell_type": "code",
   "execution_count": null,
   "metadata": {},
   "outputs": [],
   "source": [
    "a = np.array([0, 1, 2, 3, 4, 5, 6, 7])\n",
    "a.dtype"
   ]
  },
  {
   "cell_type": "code",
   "execution_count": null,
   "metadata": {},
   "outputs": [],
   "source": [
    "a[0] = 3.14159\n",
    "a[0]"
   ]
  },
  {
   "cell_type": "markdown",
   "metadata": {},
   "source": [
    "   - you will **not** get a **float**\n",
    "   - it will be **converted** to **integer**\n",
    "   - you have lost **precision**"
   ]
  },
  {
   "cell_type": "markdown",
   "metadata": {},
   "source": [
    "   - you can **forbid** to modify the **elements** of an array $\\texttt{numpy.ndarray.flags.writeable}$\n",
    "   - i.e. the array became **immutable** (an array with constant elements)"
   ]
  },
  {
   "cell_type": "code",
   "execution_count": null,
   "metadata": {},
   "outputs": [],
   "source": [
    "a = np.random.randint(1, 20, 10)"
   ]
  },
  {
   "cell_type": "code",
   "execution_count": null,
   "metadata": {},
   "outputs": [],
   "source": [
    "a[0] = 99"
   ]
  },
  {
   "cell_type": "code",
   "execution_count": null,
   "metadata": {},
   "outputs": [],
   "source": [
    "a.flags.writeable = False"
   ]
  },
  {
   "cell_type": "code",
   "execution_count": null,
   "metadata": {},
   "outputs": [],
   "source": [
    "try:\n",
    "    a[0] = 100\n",
    "except ValueError as e:\n",
    "    print(e)"
   ]
  },
  {
   "cell_type": "markdown",
   "metadata": {
    "slideshow": {
     "slide_type": "slide"
    }
   },
   "source": [
    "## 4) giving the type of the elements using $\\texttt{dtype}$\n",
    "\n",
    "$\\texttt{numpy}$ types are listed there: https://docs.scipy.org/doc/numpy/user/basics.types.html"
   ]
  },
  {
   "cell_type": "code",
   "execution_count": null,
   "metadata": {},
   "outputs": [],
   "source": [
    "a = np.array([0, 1, 2, 3, 4, 5, 6, 7])\n",
    "a.dtype"
   ]
  },
  {
   "cell_type": "markdown",
   "metadata": {},
   "source": [
    "###### computer memory\n",
    "   - a **chunk** of memory of $8$ **bits** forms a **byte** or an **octet**\n",
    "   - sometime, we speak of **types** as multiples of one **byte**\n",
    "   - $4$ bytes is $32$ bits, $8$ is $64$ bits"
   ]
  },
  {
   "cell_type": "markdown",
   "metadata": {},
   "source": [
    "   - you can **access** the number of **bytes** an **element** is **stored on**\n",
    "   - one **byte** is $8$ bits ($64 = 8 \\times 8$)"
   ]
  },
  {
   "cell_type": "code",
   "execution_count": null,
   "metadata": {},
   "outputs": [],
   "source": [
    "a.itemsize # 8 bytes (of 8 bits)"
   ]
  },
  {
   "cell_type": "markdown",
   "metadata": {},
   "source": [
    "#### how many integers can I store on a chunk of memory of $8$ bits ?\n",
    "   - $2^{8}$\n",
    "   - from $0$ to $255$ if **unsigned** ($0$ to $2^n-1$)\n",
    "   - from $-128$ to $127$ if **signed** ($-2^{n-1}$ to $2^{n-1} -1$)"
   ]
  },
  {
   "cell_type": "code",
   "execution_count": null,
   "metadata": {},
   "outputs": [],
   "source": [
    "a = np.array([0, 1, 2, 3, 4, 5, 6], dtype=np.int8)\n",
    "a"
   ]
  },
  {
   "cell_type": "code",
   "execution_count": null,
   "metadata": {},
   "outputs": [],
   "source": [
    "a.itemsize # one byte"
   ]
  },
  {
   "cell_type": "markdown",
   "metadata": {},
   "source": [
    "   - the size in **bytes** of the **array**"
   ]
  },
  {
   "cell_type": "code",
   "execution_count": null,
   "metadata": {},
   "outputs": [],
   "source": [
    "a.nbytes # the number of bytes"
   ]
  },
  {
   "cell_type": "markdown",
   "metadata": {},
   "source": [
    "   - here we **only** calculated the size of the data **buffer underlying** the $\\texttt{ndarray}$\n",
    "   - the $\\texttt{ndarray}$ has also some **overhead** of memory to store other attributes (meta data) "
   ]
  },
  {
   "cell_type": "markdown",
   "metadata": {},
   "source": [
    "#### conversion from 64-bits integers to 32-bits or 16-bits integers\n",
    "   - is not **safe**\n",
    "   - i.e. values can be **truncated**\n",
    "\n",
    "#### you must master what you do\n",
    "   - because $\\texttt{numpy}$ will obey your wishes"
   ]
  },
  {
   "cell_type": "markdown",
   "metadata": {},
   "source": [
    "#### integers can be truncated"
   ]
  },
  {
   "cell_type": "code",
   "execution_count": null,
   "metadata": {},
   "outputs": [],
   "source": [
    "nmax = 2**64 - 1  # greater unsigned 64-bits integer"
   ]
  },
  {
   "cell_type": "code",
   "execution_count": null,
   "metadata": {},
   "outputs": [],
   "source": [
    "np.array([nmax])"
   ]
  },
  {
   "cell_type": "code",
   "execution_count": null,
   "metadata": {},
   "outputs": [],
   "source": [
    "np.array([nmax], np.uint32)  # nmax is converted to the greatest 32-bits unsigned integer"
   ]
  },
  {
   "cell_type": "code",
   "execution_count": null,
   "metadata": {},
   "outputs": [],
   "source": [
    "2**32-1"
   ]
  },
  {
   "cell_type": "markdown",
   "metadata": {},
   "source": [
    "#### floats will be truncated too"
   ]
  },
  {
   "cell_type": "code",
   "execution_count": null,
   "metadata": {},
   "outputs": [],
   "source": [
    "np.array([1.22, 2.34, 3.57, 4.99], dtype=np.int32)  # you will not obtain floats !"
   ]
  },
  {
   "cell_type": "markdown",
   "metadata": {},
   "source": [
    "your floats have been **truncated** without hesitation !"
   ]
  },
  {
   "cell_type": "markdown",
   "metadata": {},
   "source": [
    "#### characters strings"
   ]
  },
  {
   "cell_type": "code",
   "execution_count": null,
   "metadata": {},
   "outputs": [],
   "source": [
    "np.array(['0', '1', '2', '3', '4', '5', '6', '7'], dtype='<U4') # your strings will 4 bytes long rather than 1"
   ]
  },
  {
   "cell_type": "code",
   "execution_count": null,
   "metadata": {},
   "outputs": [],
   "source": [
    "np.array(['0', '1', '2', '3', '4', '5', '6', '7'], dtype='int16') # you will obtain integers on 16 bits"
   ]
  },
  {
   "cell_type": "code",
   "execution_count": null,
   "metadata": {},
   "outputs": [],
   "source": [
    "np.array(['0', '1', True], dtype=np.int16) # you will obtain integers on 16 bits"
   ]
  },
  {
   "cell_type": "markdown",
   "metadata": {},
   "source": [
    "#### if you do non-sense, errors will be raised"
   ]
  },
  {
   "cell_type": "code",
   "execution_count": null,
   "metadata": {
    "tags": [
     "raises-exception"
    ]
   },
   "outputs": [],
   "source": [
    "np.array(['0', '1', 'True'], dtype=np.int16) # now you will obtain nothing"
   ]
  },
  {
   "cell_type": "code",
   "execution_count": null,
   "metadata": {},
   "outputs": [],
   "source": [
    "# in order to avoid interrupting the execution: we can catch the error \n",
    "try:\n",
    "    np.array(['0', '1', 'True'], dtype=np.int16)\n",
    "except ValueError as e:\n",
    "    print(\"we are here\")\n",
    "    print(e)    "
   ]
  },
  {
   "cell_type": "markdown",
   "metadata": {
    "slideshow": {
     "slide_type": "slide"
    }
   },
   "source": [
    "### conversion from one type to another with the method $\\texttt{numpy.ndarray.astype}$"
   ]
  },
  {
   "cell_type": "code",
   "execution_count": null,
   "metadata": {},
   "outputs": [],
   "source": [
    "d = np.array([1, 2, 3, 4, 5])\n",
    "d.dtype"
   ]
  },
  {
   "cell_type": "code",
   "execution_count": null,
   "metadata": {},
   "outputs": [],
   "source": [
    "d.astype(np.int16)  # cast to another type"
   ]
  },
  {
   "cell_type": "code",
   "execution_count": null,
   "metadata": {},
   "outputs": [],
   "source": [
    "d.dtype # the original array has not changed"
   ]
  },
  {
   "cell_type": "markdown",
   "metadata": {},
   "source": [
    "#### the method returns a new array\n",
    "   - it does **not modify** the **original** one\n",
    "   - you have to **assign** the new array to some variable"
   ]
  },
  {
   "cell_type": "code",
   "execution_count": null,
   "metadata": {},
   "outputs": [],
   "source": [
    "d = np.array([1, 2, 3, 4, 5])\n",
    "d = d.astype(np.int32)"
   ]
  },
  {
   "cell_type": "markdown",
   "metadata": {},
   "source": [
    "#### the conversion is not **safe**: values can be truncated"
   ]
  },
  {
   "cell_type": "code",
   "execution_count": null,
   "metadata": {},
   "outputs": [],
   "source": [
    "np.can_cast(np.int32, np.int64)  # ok to convert integers from 32-bits to 64-bits "
   ]
  },
  {
   "cell_type": "code",
   "execution_count": null,
   "metadata": {},
   "outputs": [],
   "source": [
    "np.can_cast(np.int64, np.int32)  # it is not safe to convert from 64-bits to 32-bits"
   ]
  },
  {
   "cell_type": "markdown",
   "metadata": {},
   "source": [
    "#### you can ask the method to **refuse** an **unsafe** conversion\n",
    "   - regardless to any modification of values"
   ]
  },
  {
   "cell_type": "markdown",
   "metadata": {},
   "source": [
    "#### it is **not safe** to cast from an integer 64-bits to an integer 32-bits"
   ]
  },
  {
   "cell_type": "code",
   "execution_count": null,
   "metadata": {},
   "outputs": [],
   "source": [
    "try:\n",
    "    d = np.array([1, 2, 3, 4, 5], dtype='int64')\n",
    "    d.astype(np.int32, casting='safe')\n",
    "except TypeError as e:\n",
    "    print(e)"
   ]
  },
  {
   "cell_type": "markdown",
   "metadata": {},
   "source": [
    "#### it is **safe** to cast from a 16-bits integer to a 32-bits integer"
   ]
  },
  {
   "cell_type": "code",
   "execution_count": null,
   "metadata": {},
   "outputs": [],
   "source": [
    "d = np.array([1, 2, 3, 4, 5], dtype='uint16')\n",
    "d.astype(np.int32, casting='safe')"
   ]
  },
  {
   "cell_type": "markdown",
   "metadata": {
    "slideshow": {
     "slide_type": "slide"
    }
   },
   "source": [
    "### predefined-types for $\\texttt{numpy-ndarray}$\n",
    "\n",
    "https://docs.scipy.org/doc/numpy/reference/arrays.scalars.html"
   ]
  },
  {
   "cell_type": "code",
   "execution_count": null,
   "metadata": {},
   "outputs": [],
   "source": [
    "np.sctypes # u for unsigned"
   ]
  },
  {
   "cell_type": "markdown",
   "metadata": {
    "slideshow": {
     "slide_type": "slide"
    }
   },
   "source": [
    "### **min** and **max** values of **numpy** **types**"
   ]
  },
  {
   "cell_type": "markdown",
   "metadata": {},
   "source": [
    "   - integer info"
   ]
  },
  {
   "cell_type": "code",
   "execution_count": null,
   "metadata": {},
   "outputs": [],
   "source": [
    "np.iinfo(np.int8).min"
   ]
  },
  {
   "cell_type": "code",
   "execution_count": null,
   "metadata": {},
   "outputs": [],
   "source": [
    "np.iinfo(np.int64).max"
   ]
  },
  {
   "cell_type": "markdown",
   "metadata": {},
   "source": [
    "   - float info"
   ]
  },
  {
   "cell_type": "code",
   "execution_count": null,
   "metadata": {},
   "outputs": [],
   "source": [
    "np.finfo(np.float32).min"
   ]
  },
  {
   "cell_type": "code",
   "execution_count": null,
   "metadata": {},
   "outputs": [],
   "source": [
    "np.finfo(np.float64).max"
   ]
  },
  {
   "cell_type": "markdown",
   "metadata": {
    "slideshow": {
     "slide_type": "slide"
    }
   },
   "source": [
    "### size of arrays"
   ]
  },
  {
   "cell_type": "markdown",
   "metadata": {},
   "source": [
    "| method                            | what they do                           \t  |\n",
    "|-----------------------------------|---------------------------------------------|\n",
    "| $\\texttt{numpy.size}$             | total number of elements in the array       |\n",
    "| $\\texttt{numpy.ndarray.itemsize}$  | size in bytes of a single item              |\n",
    "| $\\texttt{numpy.ndarray.nbytes}$  \t| total size in bytes of the underlying array |\n",
    "| $\\texttt{numpy.shape}$  \t        | **dimentional shape** of the array            |\n",
    "| $\\texttt{numpy.ndim}$  \t        | **dimentional shape** of the array            |"
   ]
  },
  {
   "cell_type": "code",
   "execution_count": null,
   "metadata": {},
   "outputs": [],
   "source": [
    "d = np.array([1, 2, 3, 10, 20, 30])"
   ]
  },
  {
   "cell_type": "code",
   "execution_count": null,
   "metadata": {},
   "outputs": [],
   "source": [
    "print(f'array\\n {d}\\n') # formating string using f and {}"
   ]
  },
  {
   "cell_type": "code",
   "execution_count": null,
   "metadata": {},
   "outputs": [],
   "source": [
    "print(f'd.size is {d.size} (number of elements)\\n')"
   ]
  },
  {
   "cell_type": "code",
   "execution_count": null,
   "metadata": {},
   "outputs": [],
   "source": [
    "print(f'd.itemsize is {d.itemsize} (number of bytes of a single element)\\n')"
   ]
  },
  {
   "cell_type": "code",
   "execution_count": null,
   "metadata": {},
   "outputs": [],
   "source": [
    "print(f'd.nbytes is {d.nbytes} (number of bytes of the elements in the array)\\n')"
   ]
  },
  {
   "cell_type": "code",
   "execution_count": null,
   "metadata": {},
   "outputs": [],
   "source": [
    "print(f'shape {d.shape} (dimentional structure of the array)\\n')"
   ]
  },
  {
   "cell_type": "code",
   "execution_count": null,
   "metadata": {},
   "outputs": [],
   "source": [
    "print(f'shape {d.ndim} (dimentional structure of the array)\\n')"
   ]
  },
  {
   "cell_type": "code",
   "execution_count": null,
   "metadata": {},
   "outputs": [],
   "source": [
    "print(f'shape {d.ndim} (number of dimensions of the array\\n')"
   ]
  },
  {
   "cell_type": "markdown",
   "metadata": {
    "slideshow": {
     "slide_type": "slide"
    }
   },
   "source": [
    "## 4) $\\texttt{na}$, $\\texttt{NaN}$, ...\n",
    "   - Not Avalaible\n",
    "   - Not a Number"
   ]
  },
  {
   "cell_type": "markdown",
   "metadata": {},
   "source": [
    "   - $\\texttt{numpy.NaN}$ is a **float**   \n",
    "   - there is **no** equivalent for **integers**"
   ]
  },
  {
   "cell_type": "code",
   "execution_count": null,
   "metadata": {},
   "outputs": [],
   "source": [
    "type(np.nan)"
   ]
  },
  {
   "cell_type": "markdown",
   "metadata": {},
   "source": [
    "  - **NaN** can be tested:"
   ]
  },
  {
   "cell_type": "code",
   "execution_count": null,
   "metadata": {},
   "outputs": [],
   "source": [
    "np.isnan([np.log(-1.), 1., np.log(0)])    # np.log(-1) is an invalid value i.e. it will be a NaN"
   ]
  },
  {
   "cell_type": "code",
   "execution_count": null,
   "metadata": {},
   "outputs": [],
   "source": [
    "np.log(0) == -np.inf"
   ]
  },
  {
   "cell_type": "markdown",
   "metadata": {},
   "source": [
    "   - $\\texttt{numpy.log(0)}$ is $-\\infty$ and not **NaN**\n",
    "   - see $\\texttt{numpy}$ **constants** https://www.numpy.org/devdocs/reference/constants.html"
   ]
  }
 ],
 "metadata": {
  "celltoolbar": "Edit Metadata",
  "ipub": {
   "sphinx": {
    "toggle_input": true,
    "toggle_input_all": true,
    "toggle_output": true,
    "toggle_output_all": true
   }
  },
  "kernelspec": {
   "display_name": "Python 3",
   "language": "python",
   "name": "python3"
  },
  "language_info": {
   "codemirror_mode": {
    "name": "ipython",
    "version": 3
   },
   "file_extension": ".py",
   "mimetype": "text/x-python",
   "name": "python",
   "nbconvert_exporter": "python",
   "pygments_lexer": "ipython3",
   "version": "3.7.3"
  },
  "notebookname": "**numpy**",
  "rise": {
   "autolaunch": true,
   "slideNumber": "c/t",
   "start_slideshow_at": "selected",
   "theme": "sky",
   "transition": "cube"
  },
  "version": "1.0"
 },
 "nbformat": 4,
 "nbformat_minor": 4
}
