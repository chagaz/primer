{
 "cells": [
  {
   "cell_type": "markdown",
   "metadata": {},
   "source": [
    "<div class=\"licence\">\n",
    "<span>Licence CC BY-NC-ND</span>\n",
    "<span>Thierry Parmentelat</span>\n",
    "<span><img src=\"media/inria-25-alpha.png\" /></span>\n",
    "</div>"
   ]
  },
  {
   "cell_type": "markdown",
   "metadata": {
    "slideshow": {
     "slide_type": ""
    }
   },
   "source": [
    "# Primer programmation Python\n",
    "\n",
    "comment utiliser le langage"
   ]
  },
  {
   "cell_type": "markdown",
   "metadata": {
    "slideshow": {
     "slide_type": "slide"
    }
   },
   "source": [
    "## version html\n",
    "\n",
    "pour suivre ce cours en version statique :\n",
    "\n",
    "https://flotpython-primer.readthedocs.io/"
   ]
  },
  {
   "cell_type": "markdown",
   "metadata": {
    "slideshow": {
     "slide_type": "slide"
    }
   },
   "source": [
    "## notion de programme"
   ]
  },
  {
   "cell_type": "markdown",
   "metadata": {},
   "source": [
    "dans un ordinateur coexistent plusieurs programmes \n",
    "\n",
    "* qui partagent les ressources matérielles\n",
    "* c'est le rôle de l'OS que de garantir leur cloisonnement\n",
    "\n",
    "parmi ces programmes\n",
    "\n",
    "* explorateur de fichiers\n",
    "* navigateur Internet\n",
    "* éditeur de code : Visual Studio code (vscode), atom, emacs, vim, pycharm, ...\n",
    "* et plein d'autres naturellement (mail, pdf, spotify, vlc, ...)\n",
    "* terminal\n",
    "* interpréteur Python"
   ]
  },
  {
   "cell_type": "markdown",
   "metadata": {
    "cell_style": "split",
    "slideshow": {
     "slide_type": "slide"
    }
   },
   "source": [
    "## démos d'utilisation de Python\n",
    "\n",
    "1. lancer un programme tout fait\n",
    "1. lancer un interpréteur interactif\n",
    "1. mode 'mixte' comme ce notebook"
   ]
  },
  {
   "cell_type": "markdown",
   "metadata": {
    "cell_style": "split"
   },
   "source": [
    " [vidéo introductive](https://youtu.be/ULzWaZQa1Dc)"
   ]
  },
  {
   "cell_type": "markdown",
   "metadata": {
    "slideshow": {
     "slide_type": "slide"
    }
   },
   "source": [
    "## nos cas d'usage"
   ]
  },
  {
   "cell_type": "markdown",
   "metadata": {
    "slideshow": {
     "slide_type": ""
    }
   },
   "source": [
    "les programmes impliqués dans les différents scénarios\n",
    "\n",
    "* terminal : la façon la plus simple/rustique de lancer d'autres programmes\n",
    "* interpréteur Python : le programme qui exécute le code Python\n",
    "  * (différence avec les langages compilés)\n",
    "* interpréteur IPython : une surcouche qui ajoute de la souplesse\n",
    "  * complétion\n",
    "  * aide en ligne\n",
    "  * déplacement et édition dans l'historique\n",
    "  "
   ]
  },
  {
   "cell_type": "markdown",
   "metadata": {
    "slideshow": {
     "slide_type": "slide"
    }
   },
   "source": [
    "## nos cas d'usage (2)"
   ]
  },
  {
   "cell_type": "markdown",
   "metadata": {
    "slideshow": {
     "slide_type": ""
    }
   },
   "source": [
    "dans les cas hybrides comme les notebooks, plusieurs programmes collaborent ensemble\n",
    "\n",
    "  * on écrit du code dans un éditeur / navigateur\n",
    "  * qui dialogue avec un serveur Jupyter\n",
    "  * qui lui-même dialogue avec un interpréteur Python (ou autre)\n",
    "  * le code et les résultats sont échangés de l'un à l'autre"
   ]
  },
  {
   "cell_type": "markdown",
   "metadata": {
    "slideshow": {
     "slide_type": "slide"
    }
   },
   "source": [
    "## sachez à qui vous parlez"
   ]
  },
  {
   "cell_type": "markdown",
   "metadata": {},
   "source": [
    "### convention\n",
    "\n",
    "lorsque c'est ambigu, on notera :\n",
    "\n",
    "* commande à taper dans un terminal, préfixée avec un `$`  \n",
    "\n",
    "```bash\n",
    "    $ python\n",
    "```\n",
    "    \n",
    "* commande à taper dans un interpréteur Python\n",
    "\n",
    "```python\n",
    ">>> a = 100\n",
    "```"
   ]
  },
  {
   "cell_type": "markdown",
   "metadata": {
    "slideshow": {
     "slide_type": "slide"
    }
   },
   "source": [
    "## note à propos de Windows"
   ]
  },
  {
   "cell_type": "markdown",
   "metadata": {},
   "source": [
    "* la notation avec un `$` pour se référer au terminal vient historiquement de Unix\n",
    "  * i.e. aujourd'hui Linux et MacOS\n",
    "\n",
    "* le programme en question s'appelle un *shell* \n",
    "  * on l'apparente à l'application `Terminal`\n",
    "  * en pratique souvent `bash` - il en existe des variantes\n",
    "  \n",
    "* sur Windows cette sorte de terminal n'est pas native\n",
    "  * mais elle est présente dans les versions récentes de Windows\n",
    "  * dans un composant `WSL` - Windows Susbsytem Linux\n",
    "  * envisagez de l'installer (quelques exemples du cours risquent peut-être de ne pas fonctionner à l'identique)\n",
    "\n",
    "* autre option: Git Bash semble être un bon `bash` pour Windows "
   ]
  },
  {
   "cell_type": "markdown",
   "metadata": {
    "slideshow": {
     "slide_type": "slide"
    }
   },
   "source": [
    "## savoir si Python est installé"
   ]
  },
  {
   "cell_type": "markdown",
   "metadata": {},
   "source": [
    "vous avez peut-être déjà python installé; tapez dans un terminal\n",
    "\n",
    "```bash\n",
    "$ python --version\n",
    "```\n",
    "\n",
    "ou encore\n",
    "\n",
    "```bash\n",
    "$ python3 --version\n",
    "```\n",
    "\n",
    "si vous lisez:\n",
    "\n",
    "* `Python 3.6.n` ou `Python 3.7.n` : vous avez un Python installé\n",
    "* `Python 3.x` avec $x <= 5$ : votre Python a besoin d'une mise à jour\n",
    "* `Python 2.x` : ne pas utiliser Python 2 !\n",
    "* `command not found` : Python n'est pas installé\n"
   ]
  },
  {
   "cell_type": "markdown",
   "metadata": {
    "slideshow": {
     "slide_type": "slide"
    }
   },
   "source": [
    "## guide pour l'installation"
   ]
  },
  {
   "cell_type": "markdown",
   "metadata": {},
   "source": [
    "il existe des programmes d'installation de Python pour toutes les plateformes, MAIS\n",
    "\n",
    "* si vous êtes débutant et n'avez pas d'idée préconçue \n",
    "* on recommande d'utiliser conda - <https://docs.conda.io>\n",
    "  * anaconda pour les utilisateurs débutants  \n",
    "    (grosse installation très complète)\n",
    "\n",
    "  * miniconda pour les plus aguerris\n",
    "  \n",
    "anaconda vient avec un ensemble très complet : \n",
    "\n",
    "* Python, IPython\n",
    "* notebooks Jupyter\n",
    "* énorme pile de data science / machine learning\n",
    "  * dont bien sûr `numpy`, `pandas` `matplotlib`\n",
    "  \n"
   ]
  },
  {
   "cell_type": "markdown",
   "metadata": {
    "slideshow": {
     "slide_type": "slide"
    }
   },
   "source": [
    "## note historique\n",
    "\n",
    "Python2 est une version plus ancienne du langage\n",
    "\n",
    "* elle **n'est pas compatible** et il ne **faut surtout pas** l'utiliser\n",
    "* sa fin de vie est prévue en Janvier 2020 (plus du tout de support)\n",
    "* ce qui achève une période de transition de 10 ans"
   ]
  },
  {
   "cell_type": "markdown",
   "metadata": {
    "cell_style": "center",
    "slideshow": {
     "slide_type": ""
    }
   },
   "source": [
    "c'est pourquoi \n",
    "\n",
    "* pendant la période transitoire les deux ont coexisté\n",
    "* d'où les commandes `python2` et `python3` \n",
    "* pour lancer Python3\n",
    "  * sur certains systèmes `python3`\n",
    "  * de plus en plus `python` tout court suffit \n",
    "  "
   ]
  },
  {
   "cell_type": "markdown",
   "metadata": {
    "slideshow": {
     "slide_type": "slide"
    }
   },
   "source": [
    "## testez votre installation"
   ]
  },
  {
   "cell_type": "markdown",
   "metadata": {
    "cell_style": "split"
   },
   "source": [
    "* avec votre navigateur allez visiter [le cours sur github](https://github.com/flotpython/primer/tree/master/demo)\n",
    "* téléchargez les deux fichiers (dans `demo/`)\n",
    "  * `fact.py`\n",
    "  * `users.py`\n",
    "* pensez à utiliser le mode `Raw` \n",
    "* ou utilisez `git clone`"
   ]
  },
  {
   "cell_type": "markdown",
   "metadata": {
    "cell_style": "split"
   },
   "source": [
    "![](media/github-raw-mode.png)"
   ]
  },
  {
   "cell_type": "markdown",
   "metadata": {
    "slideshow": {
     "slide_type": "slide"
    }
   },
   "source": [
    "## lancez les deux programmes\n",
    "\n",
    "```bash\n",
    "$ python3 fact.py\n",
    "fact(4) = 24\n",
    "fact(25) = 15511210043330985984000000\n",
    "```\n",
    "\n",
    "*** \n",
    "\n",
    "```bash\n",
    "$ python3 users.py\n",
    "Emilie (Lambert), 25 ans\n",
    "Julien (Masson), 30 ans\n",
    "```"
   ]
  },
  {
   "cell_type": "markdown",
   "metadata": {
    "slideshow": {
     "slide_type": "slide"
    }
   },
   "source": [
    "## option : Visual Studio Code"
   ]
  },
  {
   "cell_type": "markdown",
   "metadata": {
    "cell_style": "split"
   },
   "source": [
    "recommandé : Visual Studio Code  \n",
    "\n",
    "voir [page d'installation](https://code.visualstudio.com/download)\n",
    "\n",
    "mais pas obligatoire "
   ]
  },
  {
   "cell_type": "markdown",
   "metadata": {
    "cell_style": "split",
    "slideshow": {
     "slide_type": ""
    }
   },
   "source": [
    "```bash \n",
    "$ code .\n",
    "```"
   ]
  },
  {
   "cell_type": "markdown",
   "metadata": {
    "cell_style": "split"
   },
   "source": [
    "![](media/vscode-start.png)"
   ]
  },
  {
   "cell_type": "markdown",
   "metadata": {
    "slideshow": {
     "slide_type": "slide"
    }
   },
   "source": [
    "## vscode - plus de place"
   ]
  },
  {
   "cell_type": "markdown",
   "metadata": {
    "cell_style": "split"
   },
   "source": [
    "pour gagner de la place :  \n",
    "cliquer - 2 fois si nécessaire - dans la barre de gauche  \n",
    "(ou Command-b)"
   ]
  },
  {
   "cell_type": "markdown",
   "metadata": {
    "cell_style": "split"
   },
   "source": [
    "![](media/vscode-noexplorer.png)"
   ]
  },
  {
   "cell_type": "markdown",
   "metadata": {
    "slideshow": {
     "slide_type": "slide"
    }
   },
   "source": [
    "## vscode - la palette"
   ]
  },
  {
   "cell_type": "markdown",
   "metadata": {
    "cell_style": "split"
   },
   "source": [
    "vous cherchez de l'aide  \n",
    "utilisez la palette (touche F1)  \n",
    "et taper un mot-clé  \n",
    "sorir avec Escape"
   ]
  },
  {
   "cell_type": "markdown",
   "metadata": {
    "cell_style": "split"
   },
   "source": [
    "![](media/vscode-palette.png)"
   ]
  },
  {
   "cell_type": "markdown",
   "metadata": {
    "slideshow": {
     "slide_type": "slide"
    }
   },
   "source": [
    "## vscode - découper l'espace"
   ]
  },
  {
   "cell_type": "markdown",
   "metadata": {
    "cell_style": "center"
   },
   "source": [
    "pour afficher plusieurs fichiers  \n",
    "faites un glisser-déplacer à partir de l'onglet titre  \n",
    "marche en horizontal / vertical"
   ]
  },
  {
   "cell_type": "markdown",
   "metadata": {
    "cell_style": "split"
   },
   "source": [
    "![](media/vscode-before-split.png)"
   ]
  },
  {
   "cell_type": "markdown",
   "metadata": {
    "cell_style": "split"
   },
   "source": [
    "![](media/vscode-after-split.png)"
   ]
  },
  {
   "cell_type": "markdown",
   "metadata": {
    "slideshow": {
     "slide_type": "slide"
    }
   },
   "source": [
    "## vscode - extensions"
   ]
  },
  {
   "cell_type": "markdown",
   "metadata": {},
   "source": [
    "système modulaire à base d'**extensions**  \n",
    "à activer :\n",
    "\n",
    "* Code Runner\n",
    "* Python"
   ]
  },
  {
   "cell_type": "markdown",
   "metadata": {
    "cell_style": "split"
   },
   "source": [
    "![](media/vscode-ext-runner.png)"
   ]
  },
  {
   "cell_type": "markdown",
   "metadata": {
    "cell_style": "split"
   },
   "source": [
    "![](media/vscode-ext-python.png)"
   ]
  },
  {
   "cell_type": "markdown",
   "metadata": {
    "slideshow": {
     "slide_type": "slide"
    }
   },
   "source": [
    "## vscode - exécuter du code"
   ]
  },
  {
   "cell_type": "markdown",
   "metadata": {
    "cell_style": "split"
   },
   "source": [
    "une fois ces extensions installées  \n",
    "on peut exécuter du code   \n",
    "directement dans vscode"
   ]
  },
  {
   "cell_type": "markdown",
   "metadata": {
    "cell_style": "split"
   },
   "source": [
    "![](media/vscode-run-fact.png)"
   ]
  },
  {
   "cell_type": "markdown",
   "metadata": {
    "slideshow": {
     "slide_type": "slide"
    }
   },
   "source": [
    "## vscode - terminal"
   ]
  },
  {
   "cell_type": "markdown",
   "metadata": {
    "cell_style": "split"
   },
   "source": [
    "![](media/vscode-before-terminal.png)"
   ]
  },
  {
   "cell_type": "markdown",
   "metadata": {
    "cell_style": "split"
   },
   "source": [
    "![](media/vscode-after-terminal.png)"
   ]
  },
  {
   "cell_type": "markdown",
   "metadata": {
    "slideshow": {
     "slide_type": "slide"
    }
   },
   "source": [
    "## vscode - conclusion"
   ]
  },
  {
   "cell_type": "markdown",
   "metadata": {
    "cell_style": "split"
   },
   "source": [
    "gratuit, moderne et extensible  \n",
    "très pratique, peut servir à tout  \n",
    "réflexe : cherchez une extension  "
   ]
  },
  {
   "cell_type": "markdown",
   "metadata": {
    "cell_style": "split"
   },
   "source": [
    "résumés raccourcis clavier :\n",
    "\n",
    "* [*cheat sheet* Windows](https://code.visualstudio.com/shortcuts/keyboard-shortcuts-windows.pdf)\n",
    "* [*cheat sheet* MacOS](https://code.visualstudio.com/shortcuts/keyboard-shortcuts-macos.pdf)"
   ]
  },
  {
   "cell_type": "markdown",
   "metadata": {
    "cell_style": "center"
   },
   "source": [
    "bien sûr ce n'est pas obligatoire !  \n",
    "si vous êtes familier avec un outil il faut l'utiliser  \n",
    "notre sujet n'est pas VS-Code mais bien Python "
   ]
  }
 ],
 "metadata": {
  "celltoolbar": "Slideshow",
  "ipub": {
   "sphinx": {
    "toggle_input": true,
    "toggle_input_all": true,
    "toggle_output": true,
    "toggle_output_all": true
   }
  },
  "kernelspec": {
   "display_name": "Python 3",
   "language": "python",
   "name": "python3"
  },
  "language_info": {
   "codemirror_mode": {
    "name": "ipython",
    "version": 3
   },
   "file_extension": ".py",
   "mimetype": "text/x-python",
   "name": "python",
   "nbconvert_exporter": "python",
   "pygments_lexer": "ipython3",
   "version": "3.7.3"
  },
  "notebookname": "Primer programmation Python",
  "rise": {
   "autolaunch": true,
   "slideNumber": "c/t",
   "start_slideshow_at": "selected",
   "theme": "sky",
   "transition": "cube"
  },
  "version": "1.0"
 },
 "nbformat": 4,
 "nbformat_minor": 4
}
