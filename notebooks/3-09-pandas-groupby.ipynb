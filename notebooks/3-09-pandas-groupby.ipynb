{
 "cells": [
  {
   "cell_type": "markdown",
   "metadata": {},
   "source": [
    "<div class=\"licence\">\n",
    "<span>Licence CC BY-NC-ND</span>\n",
    "<span>Valérie Roy</span>\n",
    "<span><img src=\"media/ensmp-25-alpha.png\" /></span>\n",
    "</div>"
   ]
  },
  {
   "cell_type": "code",
   "execution_count": null,
   "metadata": {},
   "outputs": [],
   "source": [
    "import numpy as np\n",
    "import pandas as pd"
   ]
  },
  {
   "cell_type": "markdown",
   "metadata": {},
   "source": [
    "## VI)  *pandas.DataFrame.groupby*"
   ]
  },
  {
   "cell_type": "markdown",
   "metadata": {},
   "source": [
    "   - can be applied o *pandas.Series* and on *pandas.DataFrame*\n",
    "   - to **group together** amounts of data from a DataFrame or a Series\n",
    "   - for example, to compute operation on these groups\n",
    "\n",
    "   - http://pandas.pydata.org/pandas-docs/stable/groupby.html"
   ]
  },
  {
   "cell_type": "code",
   "execution_count": null,
   "metadata": {},
   "outputs": [],
   "source": [
    "df = pd.DataFrame([[1.70, 67, 'M', 'Lower'], [1.67, 59, 'F', 'Middle'], [1.84, 78, 'F', 'Lower'],\n",
    "                   [1.86, 90, 'F', 'Middle'], [1.56, 45, 'M', 'Middle'], [1.57, 63, 'M', 'Lower']],\n",
    "                  columns=['height', 'weight', 'sex', 'income'])\n",
    "df"
   ]
  },
  {
   "cell_type": "markdown",
   "metadata": {},
   "source": [
    "   - we can **group by** **income**, or **sex**"
   ]
  },
  {
   "cell_type": "code",
   "execution_count": null,
   "metadata": {},
   "outputs": [],
   "source": [
    "gdf1 = df.groupby('sex')\n",
    "gdf1.size() # we have two groups:\n",
    "               # the three rows with **sex** == 'F' are grouped together\n",
    "               # the three rows with **sex** == 'M' are grouped together"
   ]
  },
  {
   "cell_type": "code",
   "execution_count": null,
   "metadata": {},
   "outputs": [],
   "source": [
    "gdf1.groups # the description of the group"
   ]
  },
  {
   "cell_type": "code",
   "execution_count": null,
   "metadata": {},
   "outputs": [],
   "source": [
    "gdf2 = df.groupby(['sex', 'income'])\n",
    "gdf2.size() # we have four groups:\n",
    "            # the first group cotains one row with 'sex' == 'F' and 'income' == 'Lower'\n",
    "            # the second group contains two rows with 'sex' == 'F' and 'income' == 'Middle'\n",
    "            # ..."
   ]
  },
  {
   "cell_type": "code",
   "execution_count": null,
   "metadata": {},
   "outputs": [],
   "source": [
    "gdf2.groups"
   ]
  },
  {
   "cell_type": "markdown",
   "metadata": {},
   "source": [
    "   - you can apply **operations** on the groups"
   ]
  },
  {
   "cell_type": "code",
   "execution_count": null,
   "metadata": {},
   "outputs": [],
   "source": [
    "gdf2.sum()"
   ]
  }
 ],
 "metadata": {
  "ipub": {
   "sphinx": {
    "toggle_input": true,
    "toggle_input_all": true,
    "toggle_output": true,
    "toggle_output_all": true
   }
  },
  "kernelspec": {
   "display_name": "Python 3",
   "language": "python",
   "name": "python3"
  },
  "language_info": {
   "codemirror_mode": {
    "name": "ipython",
    "version": 3
   },
   "file_extension": ".py",
   "mimetype": "text/x-python",
   "name": "python",
   "nbconvert_exporter": "python",
   "pygments_lexer": "ipython3",
   "version": "3.7.3"
  },
  "notebookname": "groupby",
  "rise": {
   "autolaunch": true,
   "slideNumber": "c/t",
   "start_slideshow_at": "selected",
   "theme": "sky",
   "transition": "cube"
  },
  "version": "1.0"
 },
 "nbformat": 4,
 "nbformat_minor": 4
}
