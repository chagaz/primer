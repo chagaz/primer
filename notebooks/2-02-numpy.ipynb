{
 "cells": [
  {
   "cell_type": "markdown",
   "metadata": {},
   "source": [
    "# `numpy`"
   ]
  },
  {
   "cell_type": "markdown",
   "metadata": {},
   "source": [
    "   - https://docs.scipy.org/doc/numpy/reference/\n",
    "   - http://scipy-lectures.org/intro/index.html\n",
    "   - https://www.labri.fr/perso/nrougier/from-python-to-numpy/"
   ]
  },
  {
   "cell_type": "markdown",
   "metadata": {},
   "source": [
    "#### this course is inspired by:\n",
    "   - Arnaud Legout, Inria\n",
    "   - Thierry Parmentelat, Inria\n",
    "   - the numpy documentation\n",
    "   - stackoverflow\n",
    "   - ..."
   ]
  },
  {
   "cell_type": "markdown",
   "metadata": {},
   "source": [
    "#### a quick story of `numpy`\n",
    "   - Numpy 1.0 in 2006\n",
    "   - Reused old projects Numeric and Numarray\n",
    "   - No single coordinator, no single aim\n",
    "   - Guido refused to add Numeric in the Python\n",
    "      standard library\n",
    "      +  Guido deemed the code not maintainable\n",
    "   - Travis Oliphant merged Numeric and Numarray to create numpy"
   ]
  },
  {
   "cell_type": "markdown",
   "metadata": {},
   "source": [
    "Many $\\texttt{numpy}$ operations are programmed in C, making it faster."
   ]
  },
  {
   "cell_type": "markdown",
   "metadata": {},
   "source": [
    "# I) importing the $\\texttt{numpy}$ `library` "
   ]
  },
  {
   "cell_type": "markdown",
   "metadata": {},
   "source": [
    "   - $\\texttt{numpy}$ is `by convention` and `for short` named `np` "
   ]
  },
  {
   "cell_type": "code",
   "execution_count": null,
   "metadata": {},
   "outputs": [],
   "source": [
    "import numpy as np"
   ]
  },
  {
   "cell_type": "markdown",
   "metadata": {},
   "source": [
    "# II)  array in `numpy`  $\\texttt{numpy.ndarray}$"
   ]
  },
  {
   "cell_type": "markdown",
   "metadata": {},
   "source": [
    "## 1) internal memory layout : array are homogenous"
   ]
  },
  {
   "cell_type": "markdown",
   "metadata": {},
   "source": [
    "$\\texttt{numpy.ndarray}$\n",
    "   - it is the `core datatype` of $\\texttt{numpy}$"
   ]
  },
  {
   "cell_type": "markdown",
   "metadata": {},
   "source": [
    "a $\\texttt{numpy.ndarray}$:\n",
    "   - it is a `contiguous one-dimensional segment of computer memory`\n",
    "   - we `combined it` with `indexing schemes` for `multi-dimensions`\n",
    "   - each `indexing scheme` is a `view` on the `underlying segment`"
   ]
  },
  {
   "cell_type": "markdown",
   "metadata": {},
   "source": [
    "#### elements\n",
    "  \n",
    "   - `all` the elements have the `same data type` (`unlike` python's containers)   \n",
    "   - elements are `directely` accessed"
   ]
  },
  {
   "cell_type": "markdown",
   "metadata": {},
   "source": [
    "#### why ? \n",
    "   - for the sake of `speed`\n",
    "   - it is `much faster` to access memory along a `single segment` (each `case` has the same size)\n",
    "   - than to access `small portions` of memory (the cases) `everywhere` in the memory of the computer (cf. NTFS vs ext4 fragmentation)\n",
    "   - (as we would be in the case of python lists !)\n",
    "   - but python lists have other `advantages` "
   ]
  },
  {
   "cell_type": "markdown",
   "metadata": {},
   "source": [
    "#### in consequence\n",
    "   - an $\\texttt{numpy.ndarray}$ is very `compact`\n",
    "   - the methods we can apply are `optimized`"
   ]
  },
  {
   "cell_type": "markdown",
   "metadata": {},
   "source": [
    "#### you can create $\\texttt{numpy.ndarray}$\n",
    "   - from `existing` arrays (e.g. $\\texttt{python}$ arrays)\n",
    "   - by `constructing` directly $\\texttt{numpy.ndarray}$ `objects`\n",
    "   - by `reading files` with data such as `csv` files"
   ]
  },
  {
   "cell_type": "markdown",
   "metadata": {},
   "source": [
    "## 2) creating $\\texttt{numpy.ndarray}$ from existing $\\texttt{python}$ arrays"
   ]
  },
  {
   "cell_type": "code",
   "execution_count": null,
   "metadata": {},
   "outputs": [],
   "source": [
    "tab = [1, 2, 3, 4, 5, 6, 7]\n",
    "np.array(tab)        # from a list\n",
    "\n",
    "# or\n",
    "\n",
    "np.array([1, 2, 3, 4, 5, 6, 7])  # from a list\n",
    "np.array((1, 2, 3, 4, 5, 6, 7))  # from a tuple"
   ]
  },
  {
   "cell_type": "code",
   "execution_count": null,
   "metadata": {},
   "outputs": [],
   "source": [
    "type(np.array ([1, 2, 3, 4, 5, 6, 7])) # we create a numpy.ndarray"
   ]
  },
  {
   "cell_type": "markdown",
   "metadata": {},
   "source": [
    "   - you can `create` an $\\texttt{numpy.ndarray}$ from a `python` generator"
   ]
  },
  {
   "cell_type": "code",
   "execution_count": null,
   "metadata": {},
   "outputs": [],
   "source": [
    "p = (i for i in range(20) if i%2 == 0) # p is a generator of the even numbers from 0 to 18"
   ]
  },
  {
   "cell_type": "code",
   "execution_count": null,
   "metadata": {},
   "outputs": [],
   "source": [
    "p"
   ]
  },
  {
   "cell_type": "code",
   "execution_count": null,
   "metadata": {},
   "outputs": [],
   "source": [
    "a = np.fromiter(p, dtype = np.int8)\n",
    "a"
   ]
  },
  {
   "cell_type": "markdown",
   "metadata": {},
   "source": [
    "## 3) deducing the type of the elements"
   ]
  },
  {
   "cell_type": "markdown",
   "metadata": {},
   "source": [
    "   - `without` any indication $\\texttt{numpy}$ `decides` on `its own`"
   ]
  },
  {
   "cell_type": "markdown",
   "metadata": {},
   "source": [
    "### a) initialising with an homogeneous array"
   ]
  },
  {
   "cell_type": "markdown",
   "metadata": {},
   "source": [
    "#### an `integer` array"
   ]
  },
  {
   "cell_type": "code",
   "execution_count": null,
   "metadata": {},
   "outputs": [],
   "source": [
    "np.array([0, 1, 2, 3, 4, 5, 6, 7]).dtype\n",
    "# elements are all integers\n",
    "# the array will be an integer-typed array"
   ]
  },
  {
   "cell_type": "markdown",
   "metadata": {},
   "source": [
    "   - here we `get` integers on $64$ bits"
   ]
  },
  {
   "cell_type": "markdown",
   "metadata": {},
   "source": [
    "#### a `float` array"
   ]
  },
  {
   "cell_type": "code",
   "execution_count": null,
   "metadata": {},
   "outputs": [],
   "source": [
    "np.array([0.72, -1.45, 2.29]).dtype\n",
    "# elements are all floats\n",
    "# the array will be a floating-point typed array"
   ]
  },
  {
   "cell_type": "markdown",
   "metadata": {},
   "source": [
    "#### a `Boolean` array"
   ]
  },
  {
   "cell_type": "code",
   "execution_count": null,
   "metadata": {},
   "outputs": [],
   "source": [
    "np.array([True, False]).dtype\n",
    "# elements are all booleans (scalar type)\n",
    "# the array will be a boolean typed array"
   ]
  },
  {
   "cell_type": "markdown",
   "metadata": {},
   "source": [
    "#### a `character string` array"
   ]
  },
  {
   "cell_type": "code",
   "execution_count": null,
   "metadata": {},
   "outputs": [],
   "source": [
    "np.array(['héllo', 'world!']).dtype"
   ]
  },
  {
   "cell_type": "markdown",
   "metadata": {},
   "source": [
    "   - the element must have the same `type`\n",
    "   - the `longuest` string has $6$ characters\n",
    "   - `all` the elements will be `strings with $6$ characters`"
   ]
  },
  {
   "cell_type": "markdown",
   "metadata": {},
   "source": [
    "#### the type is '<U6'\n",
    "   - `U` for Unicode\n",
    "   - $6$ is the number of octets to hold the longuest string (here 'world!')\n",
    "   - (< is for little endian, i.e. the order in which the octets are stored in memory)"
   ]
  },
  {
   "cell_type": "markdown",
   "metadata": {},
   "source": [
    "## exercise$^{(*)}$\n",
    "\n",
    "\n",
    "(\\*) *the exercices must be completed on the students' free time*"
   ]
  },
  {
   "cell_type": "markdown",
   "metadata": {},
   "source": [
    "### b) initialisation with an heterogeneous array"
   ]
  },
  {
   "cell_type": "markdown",
   "metadata": {},
   "source": [
    "   - for example, we mix `integers` and `float`"
   ]
  },
  {
   "cell_type": "code",
   "execution_count": null,
   "metadata": {},
   "outputs": [],
   "source": [
    "[0, 1., 2, 3, 4, 5, 6, 7.]"
   ]
  },
  {
   "cell_type": "markdown",
   "metadata": {},
   "source": [
    "   - containers in python are `heterogeneous`\n",
    "   - `no` conversion is done"
   ]
  },
  {
   "cell_type": "markdown",
   "metadata": {},
   "source": [
    "   - but in $\\texttt{numpy}$ the `array type` is homogeneous\n",
    "   - `conversions` shall be `done`"
   ]
  },
  {
   "cell_type": "code",
   "execution_count": null,
   "metadata": {},
   "outputs": [],
   "source": [
    "np.array([0, 1., 2, 3, 4, 5, 6, 7.]).dtype"
   ]
  },
  {
   "cell_type": "markdown",
   "metadata": {},
   "source": [
    "   - $0$, $1$, ..., $6$ are `converted` in `floats`"
   ]
  },
  {
   "cell_type": "markdown",
   "metadata": {},
   "source": [
    "#### the data type\n",
    "   - is `deduced` as the *`smaller`* `type` that can `hold` all the elements\n",
    "   - $\\texttt{numpy}$ tries `not` to `lose` information\n",
    "   - the elements are converted `automatically` and `silently`\n",
    "   - it is `very different` from the $\\texttt{Python}$ `philosophy`"
   ]
  },
  {
   "cell_type": "markdown",
   "metadata": {},
   "source": [
    "   - `False` is converted to  $0$ of the `integers`"
   ]
  },
  {
   "cell_type": "code",
   "execution_count": null,
   "metadata": {},
   "outputs": [],
   "source": [
    "np.array([False, 1, 2, 3, 4, 5, 6, 7]).dtype"
   ]
  },
  {
   "cell_type": "markdown",
   "metadata": {},
   "source": [
    "   - `True` is converted to $1.$ of the `floats`"
   ]
  },
  {
   "cell_type": "code",
   "execution_count": null,
   "metadata": {},
   "outputs": [],
   "source": [
    "np.array([False, 1., 2, 3, 4, 5, 6, 7]).dtype"
   ]
  },
  {
   "cell_type": "markdown",
   "metadata": {},
   "source": [
    "   - mixing `numbers` and `strings`"
   ]
  },
  {
   "cell_type": "code",
   "execution_count": null,
   "metadata": {},
   "outputs": [],
   "source": [
    "np.array([0, 1, 2, 3, 4, 5, 6, '7'])"
   ]
  },
  {
   "cell_type": "markdown",
   "metadata": {},
   "source": [
    "   - mixing `strings` and `numbers`"
   ]
  },
  {
   "cell_type": "code",
   "execution_count": null,
   "metadata": {},
   "outputs": [],
   "source": [
    "np.array(['0', 1, 2, 3, 4, 5, 6, 7])"
   ]
  },
  {
   "cell_type": "markdown",
   "metadata": {},
   "source": [
    "in such cases ask `stackoverflow` or do not try to understand ..."
   ]
  },
  {
   "cell_type": "markdown",
   "metadata": {},
   "source": [
    "### d) modifying an element in an $\\text{numpy.ndarray}$ can result in a loss of precision"
   ]
  },
  {
   "cell_type": "code",
   "execution_count": null,
   "metadata": {},
   "outputs": [],
   "source": [
    "a = np.array([0, 1, 2, 3, 4, 5, 6, 7])\n",
    "a.dtype"
   ]
  },
  {
   "cell_type": "code",
   "execution_count": null,
   "metadata": {},
   "outputs": [],
   "source": [
    "a[0] = 3.14159\n",
    "a[0]"
   ]
  },
  {
   "cell_type": "markdown",
   "metadata": {},
   "source": [
    "   - you will `not` get a `float`\n",
    "   - it will be `converted` to `integer`\n",
    "   - you have lost `precision`"
   ]
  },
  {
   "cell_type": "markdown",
   "metadata": {},
   "source": [
    "   - you can `forbid` to modify the `elements` of an array $\\texttt{numpy.ndarray.flags.writeable}$\n",
    "   - i.e. the array became `immutable` (an array with constant elements)"
   ]
  },
  {
   "cell_type": "code",
   "execution_count": null,
   "metadata": {},
   "outputs": [],
   "source": [
    "a = np.random.randint(1, 20, 10)"
   ]
  },
  {
   "cell_type": "code",
   "execution_count": null,
   "metadata": {},
   "outputs": [],
   "source": [
    "a[0] = 99"
   ]
  },
  {
   "cell_type": "code",
   "execution_count": null,
   "metadata": {},
   "outputs": [],
   "source": [
    "a.flags.writeable = False"
   ]
  },
  {
   "cell_type": "code",
   "execution_count": null,
   "metadata": {},
   "outputs": [],
   "source": [
    "try:\n",
    "    a[0] = 100\n",
    "except ValueError as e:\n",
    "    print(e)"
   ]
  },
  {
   "cell_type": "markdown",
   "metadata": {},
   "source": [
    "## 4) giving the type of the elements using $\\texttt{dtype}$\n",
    "\n",
    "$\\texttt{numpy}$ types are listed there: https://docs.scipy.org/doc/numpy/user/basics.types.html"
   ]
  },
  {
   "cell_type": "code",
   "execution_count": null,
   "metadata": {},
   "outputs": [],
   "source": [
    "a = np.array([0, 1, 2, 3, 4, 5, 6, 7])\n",
    "a.dtype"
   ]
  },
  {
   "cell_type": "markdown",
   "metadata": {},
   "source": [
    "###### computer memory\n",
    "   - a `chunk` of memory of $8$ `bits` forms a `byte` or an `octet`\n",
    "   - sometime, we speak of `types` as multiples of one `byte`\n",
    "   - $4$ bytes is $32$ bits, $8$ is $64$ bits"
   ]
  },
  {
   "cell_type": "markdown",
   "metadata": {},
   "source": [
    "   - you can `access` the number of `bytes` an `element` is `stored on`\n",
    "   - one `byte` is $8$ bits ($64 = 8 \\times 8$)"
   ]
  },
  {
   "cell_type": "code",
   "execution_count": null,
   "metadata": {},
   "outputs": [],
   "source": [
    "a.itemsize # 8 bytes (of 8 bits)"
   ]
  },
  {
   "cell_type": "markdown",
   "metadata": {},
   "source": [
    "#### how many integers can I store on a chunk of memory of $8$ bits ?\n",
    "   - $2^{8}$\n",
    "   - from $0$ to $255$ if `unsigned` ($0$ to $2^n-1$)\n",
    "   - from $-128$ to $127$ if `signed` ($-2^{n-1}$ to $2^{n-1} -1$)"
   ]
  },
  {
   "cell_type": "code",
   "execution_count": null,
   "metadata": {},
   "outputs": [],
   "source": [
    "a = np.array([0, 1, 2, 3, 4, 5, 6], dtype=np.int8)\n",
    "a"
   ]
  },
  {
   "cell_type": "code",
   "execution_count": null,
   "metadata": {},
   "outputs": [],
   "source": [
    "a.itemsize # one byte"
   ]
  },
  {
   "cell_type": "markdown",
   "metadata": {},
   "source": [
    "   - the size in `bytes` of the `array`"
   ]
  },
  {
   "cell_type": "code",
   "execution_count": null,
   "metadata": {},
   "outputs": [],
   "source": [
    "a.nbytes # the number of bytes"
   ]
  },
  {
   "cell_type": "markdown",
   "metadata": {},
   "source": [
    "   - here we `only` calculated the size of the data `buffer underlying` the $\\texttt{ndarray}$\n",
    "   - the $\\texttt{ndarray}$ has also some `overhead` of memory to store other attributes (meta data) "
   ]
  },
  {
   "cell_type": "markdown",
   "metadata": {},
   "source": [
    "#### conversion from 64-bits integers to 32-bits or 16-bits integers\n",
    "   - is not `safe`\n",
    "   - i.e. values can be `truncated`\n",
    "\n",
    "#### you must master what you do\n",
    "   - because $\\texttt{numpy}$ will obey your wishes"
   ]
  },
  {
   "cell_type": "markdown",
   "metadata": {},
   "source": [
    "#### integers can be truncated"
   ]
  },
  {
   "cell_type": "code",
   "execution_count": null,
   "metadata": {},
   "outputs": [],
   "source": [
    "nmax = 2**64 - 1  # greater unsigned 64-bits integer"
   ]
  },
  {
   "cell_type": "code",
   "execution_count": null,
   "metadata": {},
   "outputs": [],
   "source": [
    "np.array([nmax])"
   ]
  },
  {
   "cell_type": "code",
   "execution_count": null,
   "metadata": {},
   "outputs": [],
   "source": [
    "np.array([nmax], np.uint32)  # nmax is converted to the greatest 32-bits unsigned integer"
   ]
  },
  {
   "cell_type": "code",
   "execution_count": null,
   "metadata": {},
   "outputs": [],
   "source": [
    "2**32-1"
   ]
  },
  {
   "cell_type": "markdown",
   "metadata": {},
   "source": [
    "#### floats will be truncated too"
   ]
  },
  {
   "cell_type": "code",
   "execution_count": null,
   "metadata": {},
   "outputs": [],
   "source": [
    "np.array([1.22, 2.34, 3.57, 4.99], dtype=np.int32)  # you will not obtain floats !"
   ]
  },
  {
   "cell_type": "markdown",
   "metadata": {},
   "source": [
    "your floats have been `truncated` without hesitation !"
   ]
  },
  {
   "cell_type": "markdown",
   "metadata": {},
   "source": [
    "#### characters strings"
   ]
  },
  {
   "cell_type": "code",
   "execution_count": null,
   "metadata": {},
   "outputs": [],
   "source": [
    "np.array(['0', '1', '2', '3', '4', '5', '6', '7'], dtype='<U4') # your strings will 4 bytes long rather than 1"
   ]
  },
  {
   "cell_type": "code",
   "execution_count": null,
   "metadata": {},
   "outputs": [],
   "source": [
    "np.array(['0', '1', '2', '3', '4', '5', '6', '7'], dtype='int16') # you will obtain integers on 16 bits"
   ]
  },
  {
   "cell_type": "code",
   "execution_count": null,
   "metadata": {},
   "outputs": [],
   "source": [
    "np.array(['0', '1', True], dtype=np.int16) # you will obtain integers on 16 bits"
   ]
  },
  {
   "cell_type": "markdown",
   "metadata": {},
   "source": [
    "#### if you do non-sense, errors will be raised"
   ]
  },
  {
   "cell_type": "code",
   "execution_count": null,
   "metadata": {},
   "outputs": [],
   "source": [
    "np.array(['0', '1', 'True'], dtype=np.int16) # now you will obtain nothing"
   ]
  },
  {
   "cell_type": "code",
   "execution_count": null,
   "metadata": {},
   "outputs": [],
   "source": [
    "# in order to avoid interrupting the execution: we can catch the error \n",
    "try:\n",
    "    np.array(['0', '1', 'True'], dtype=np.int16)\n",
    "except ValueError as e:\n",
    "    print(\"we are here\")\n",
    "    print(e)    "
   ]
  },
  {
   "cell_type": "markdown",
   "metadata": {},
   "source": [
    "### conversion from one type to another with the method $\\texttt{numpy.ndarray.astype}$"
   ]
  },
  {
   "cell_type": "code",
   "execution_count": null,
   "metadata": {},
   "outputs": [],
   "source": [
    "d = np.array([1, 2, 3, 4, 5])\n",
    "d.dtype"
   ]
  },
  {
   "cell_type": "code",
   "execution_count": null,
   "metadata": {},
   "outputs": [],
   "source": [
    "d.astype(np.int16)  # cast to another type"
   ]
  },
  {
   "cell_type": "code",
   "execution_count": null,
   "metadata": {},
   "outputs": [],
   "source": [
    "d.dtype # the original array has not changed"
   ]
  },
  {
   "cell_type": "markdown",
   "metadata": {},
   "source": [
    "#### the method returns a new array\n",
    "   - it does `not modify` the `original` one\n",
    "   - you have to `assign` the new array to some variable"
   ]
  },
  {
   "cell_type": "code",
   "execution_count": null,
   "metadata": {},
   "outputs": [],
   "source": [
    "d = np.array([1, 2, 3, 4, 5])\n",
    "d = d.astype(np.int32)"
   ]
  },
  {
   "cell_type": "markdown",
   "metadata": {},
   "source": [
    "#### the conversion is not `safe`: values can be truncated"
   ]
  },
  {
   "cell_type": "code",
   "execution_count": null,
   "metadata": {},
   "outputs": [],
   "source": [
    "np.can_cast(np.int32, np.int64)  # ok to convert integers from 32-bits to 64-bits "
   ]
  },
  {
   "cell_type": "code",
   "execution_count": null,
   "metadata": {},
   "outputs": [],
   "source": [
    "np.can_cast(np.int64, np.int32)  # it is not safe to convert from 64-bits to 32-bits"
   ]
  },
  {
   "cell_type": "markdown",
   "metadata": {},
   "source": [
    "#### you can ask the method to `refuse` an `unsafe` conversion\n",
    "   - regardless to any modification of values"
   ]
  },
  {
   "cell_type": "markdown",
   "metadata": {},
   "source": [
    "#### it is `not safe` to cast from an integer 64-bits to an integer 32-bits"
   ]
  },
  {
   "cell_type": "code",
   "execution_count": null,
   "metadata": {},
   "outputs": [],
   "source": [
    "try:\n",
    "    d = np.array([1, 2, 3, 4, 5], dtype='int64')\n",
    "    d.astype(np.int32, casting='safe')\n",
    "except TypeError as e:\n",
    "    print(e)"
   ]
  },
  {
   "cell_type": "markdown",
   "metadata": {},
   "source": [
    "#### it is `safe` to cast from a 16-bits integer to a 32-bits integer"
   ]
  },
  {
   "cell_type": "code",
   "execution_count": null,
   "metadata": {},
   "outputs": [],
   "source": [
    "d = np.array([1, 2, 3, 4, 5], dtype='uint16')\n",
    "d.astype(np.int32, casting='safe')"
   ]
  },
  {
   "cell_type": "markdown",
   "metadata": {},
   "source": [
    "### predefined-types for $\\texttt{numpy-ndarray}$\n",
    "\n",
    "https://docs.scipy.org/doc/numpy/reference/arrays.scalars.html"
   ]
  },
  {
   "cell_type": "code",
   "execution_count": null,
   "metadata": {},
   "outputs": [],
   "source": [
    "np.sctypes # u for unsigned"
   ]
  },
  {
   "cell_type": "markdown",
   "metadata": {},
   "source": [
    "### `min` and `max` values of `numpy` `types`"
   ]
  },
  {
   "cell_type": "markdown",
   "metadata": {},
   "source": [
    "   - integer info"
   ]
  },
  {
   "cell_type": "code",
   "execution_count": null,
   "metadata": {},
   "outputs": [],
   "source": [
    "np.iinfo(np.int8).min"
   ]
  },
  {
   "cell_type": "code",
   "execution_count": null,
   "metadata": {},
   "outputs": [],
   "source": [
    "np.iinfo(np.int64).max"
   ]
  },
  {
   "cell_type": "markdown",
   "metadata": {},
   "source": [
    "   - float info"
   ]
  },
  {
   "cell_type": "code",
   "execution_count": null,
   "metadata": {},
   "outputs": [],
   "source": [
    "np.finfo(np.float32).min"
   ]
  },
  {
   "cell_type": "code",
   "execution_count": null,
   "metadata": {},
   "outputs": [],
   "source": [
    "np.finfo(np.float64).max"
   ]
  },
  {
   "cell_type": "markdown",
   "metadata": {},
   "source": [
    "### size of arrays"
   ]
  },
  {
   "cell_type": "markdown",
   "metadata": {},
   "source": [
    "| method                            | what they do                           \t  |\n",
    "|-----------------------------------|---------------------------------------------|\n",
    "| $\\texttt{numpy.size}$             | total number of elements in the array       |\n",
    "| $\\texttt{numpy.ndarray.itemsize}$  | size in bytes of a single item              |\n",
    "| $\\texttt{numpy.ndarray.nbytes}$  \t| total size in bytes of the underlying array |\n",
    "| $\\texttt{numpy.shape}$  \t        | `dimentional shape` of the array            |\n",
    "| $\\texttt{numpy.ndim}$  \t        | `dimentional shape` of the array            |"
   ]
  },
  {
   "cell_type": "code",
   "execution_count": null,
   "metadata": {},
   "outputs": [],
   "source": [
    "d = np.array([1, 2, 3, 10, 20, 30])"
   ]
  },
  {
   "cell_type": "code",
   "execution_count": null,
   "metadata": {},
   "outputs": [],
   "source": [
    "print(f'array\\n {d}\\n') # formating string using f and {}"
   ]
  },
  {
   "cell_type": "code",
   "execution_count": null,
   "metadata": {},
   "outputs": [],
   "source": [
    "print(f'd.size is {d.size} (number of elements)\\n')"
   ]
  },
  {
   "cell_type": "code",
   "execution_count": null,
   "metadata": {},
   "outputs": [],
   "source": [
    "print(f'd.itemsize is {d.itemsize} (number of bytes of a single element)\\n')"
   ]
  },
  {
   "cell_type": "code",
   "execution_count": null,
   "metadata": {},
   "outputs": [],
   "source": [
    "print(f'd.nbytes is {d.nbytes} (number of bytes of the elements in the array)\\n')"
   ]
  },
  {
   "cell_type": "code",
   "execution_count": null,
   "metadata": {},
   "outputs": [],
   "source": [
    "print(f'shape {d.shape} (dimentional structure of the array)\\n')"
   ]
  },
  {
   "cell_type": "code",
   "execution_count": null,
   "metadata": {},
   "outputs": [],
   "source": [
    "print(f'shape {d.ndim} (dimentional structure of the array)\\n')"
   ]
  },
  {
   "cell_type": "code",
   "execution_count": null,
   "metadata": {},
   "outputs": [],
   "source": [
    "print(f'shape {d.ndim} (number of dimensions of the array\\n')"
   ]
  },
  {
   "cell_type": "markdown",
   "metadata": {},
   "source": [
    "### xxx) other methods to create $\\texttt{numpy.ndarray}$"
   ]
  },
  {
   "cell_type": "markdown",
   "metadata": {},
   "source": [
    "| methods                    | what they do                           \t|\n",
    "|---------------------------|-------------------------------------------|\n",
    "| $\\texttt{numpy.array}$  \t| create an array                           |\n",
    "| $\\texttt{numpy.empty}$  \t| return an empty without initializing its elements |\n",
    "| $\\texttt{numpy.zeros}$  \t| return an array filled with $0.$ (float)  |\n",
    "| $\\texttt{numpy.ones}$  \t| return an array filled with $1.$ (float)  |\n",
    "| $\\texttt{numpy.linspace}$ | floats spaced evenly within on an interval |\n",
    "| $\\texttt{numpy.arange}$   | integers spaced  evenly on an interval   |\n",
    "| $\\texttt{numpy.random.*}$ | random sampling                           |\n",
    "| $\\texttt{numpy.logspace}$ | return numbers spaced evenly on a log scale  |"
   ]
  },
  {
   "cell_type": "markdown",
   "metadata": {},
   "source": [
    "#### a) creating `integer` ranges"
   ]
  },
  {
   "cell_type": "code",
   "execution_count": null,
   "metadata": {},
   "outputs": [],
   "source": [
    "np.arange(0, 10, 2) # from, to-excluded, step\n",
    "                    # like the python range\n",
    "    \n",
    "np.arange(start=0, stop=10, step=2)"
   ]
  },
  {
   "cell_type": "markdown",
   "metadata": {},
   "source": [
    "   - `stop` is `excluded` (here $10$)"
   ]
  },
  {
   "cell_type": "markdown",
   "metadata": {},
   "source": [
    "#### a) creating `float` ranges with `step`\n"
   ]
  },
  {
   "cell_type": "code",
   "execution_count": null,
   "metadata": {},
   "outputs": [],
   "source": [
    "np.arange(0., 3., 0.3) # from, to-excluded, step"
   ]
  },
  {
   "cell_type": "markdown",
   "metadata": {},
   "source": [
    "   - `stop` is `excluded` (here $3$)"
   ]
  },
  {
   "cell_type": "markdown",
   "metadata": {},
   "source": [
    "#### b) creating `float` ranges with `number` of values}"
   ]
  },
  {
   "cell_type": "code",
   "execution_count": null,
   "metadata": {},
   "outputs": [],
   "source": [
    "np.linspace(0, 1, 5) # from, to-included, number"
   ]
  },
  {
   "cell_type": "markdown",
   "metadata": {},
   "source": [
    "   - `stop` is `included` (here $1$)\n",
    "   - (it was `excluded` in $\\texttt{numpy.arange}$)"
   ]
  },
  {
   "cell_type": "markdown",
   "metadata": {},
   "source": [
    "   - very useful for `function input` array"
   ]
  },
  {
   "cell_type": "code",
   "execution_count": null,
   "metadata": {},
   "outputs": [],
   "source": [
    "x = np.linspace(0, 6*np.pi, 80)\n",
    "y = np.sin(x)"
   ]
  },
  {
   "cell_type": "code",
   "execution_count": null,
   "metadata": {},
   "outputs": [],
   "source": [
    "from matplotlib import pyplot as plt\n",
    "%matplotlib inline"
   ]
  },
  {
   "cell_type": "code",
   "execution_count": null,
   "metadata": {},
   "outputs": [],
   "source": [
    "plt.figure(figsize=(3, 1))\n",
    "plt.plot(x, y)"
   ]
  },
  {
   "cell_type": "markdown",
   "metadata": {},
   "source": [
    "### exercice\n",
    "   - create an array of size $n \\times 2$\n",
    "   - initialized with `randon numbers` ($\\in [0, 1[$)\n",
    "   - the first column is the $x$ axe, the second the $y$\n",
    "   - compute the distance of all points"
   ]
  },
  {
   "cell_type": "markdown",
   "metadata": {},
   "source": [
    "### correction"
   ]
  },
  {
   "cell_type": "code",
   "execution_count": null,
   "metadata": {},
   "outputs": [],
   "source": [
    "n = 5\n",
    "pos = np.random.random((10,2))\n",
    "dist = np.sqrt(np.power(pos[:, 0], 2) + np.power(pos[:, 1], 2))"
   ]
  },
  {
   "cell_type": "markdown",
   "metadata": {},
   "source": [
    "### creation of `multi-dimensional` arrays"
   ]
  },
  {
   "cell_type": "markdown",
   "metadata": {},
   "source": [
    "   - the underlying array of a $\\texttt{numpy.ndarray}$\n",
    "   - is stored in a `contiguous one-dimensional segment of computer memory`\n",
    "   \n",
    "   \n",
    "   - for now we have only created `flat` arrays like `vectors`\n",
    "   \n",
    "   \n",
    "   - `but` with $\\texttt{numpy}$ you can create `multi-dimensional` arrays\n",
    "   - the underlying memory space is `still` a one-dimensional segment\n",
    "   - `but` it is view as a `multi-dimensional array`  "
   ]
  },
  {
   "cell_type": "code",
   "execution_count": null,
   "metadata": {},
   "outputs": [],
   "source": [
    "#np.array?"
   ]
  },
  {
   "cell_type": "code",
   "execution_count": null,
   "metadata": {},
   "outputs": [],
   "source": [
    "np.array([[1, 2, 3], [4, 5, 6]], np.int32)\n",
    "   # a (2 x 3) arrays of 32-bits integers"
   ]
  },
  {
   "cell_type": "code",
   "execution_count": null,
   "metadata": {},
   "outputs": [],
   "source": [
    "np.empty(shape=(3, 2))\n",
    "   # 1 array of shape (3 lines x 2 columnsS)\n",
    "   # without initialisation\n",
    "   # but not without value !"
   ]
  },
  {
   "cell_type": "code",
   "execution_count": null,
   "metadata": {},
   "outputs": [],
   "source": [
    "np.ones(shape=(3, 4), dtype=np.int16)\n",
    "   # a (3 X 4) matrix of 32-bits integers\n",
    "   # initialized to 1"
   ]
  },
  {
   "cell_type": "code",
   "execution_count": null,
   "metadata": {},
   "outputs": [],
   "source": [
    "np.zeros(shape=(2, 3, 4, 5))\n",
    "   # 2 times 3 arrays of shape (4 x 5)\n",
    "   # initialised with 0."
   ]
  },
  {
   "cell_type": "markdown",
   "metadata": {},
   "source": [
    "#### note\n",
    "   - a `shape = (n, )` shaped array is `not` a `multi-dimensionals` array"
   ]
  },
  {
   "cell_type": "code",
   "execution_count": null,
   "metadata": {},
   "outputs": [],
   "source": [
    "np.array([1, 2, 3]) # a (3,) vector"
   ]
  },
  {
   "cell_type": "code",
   "execution_count": null,
   "metadata": {},
   "outputs": [],
   "source": [
    "np.array([1, 2, 3]).shape"
   ]
  },
  {
   "cell_type": "code",
   "execution_count": null,
   "metadata": {},
   "outputs": [],
   "source": [
    "np.array( [[1, 2, 3]] ).shape"
   ]
  },
  {
   "cell_type": "markdown",
   "metadata": {},
   "source": [
    "#### example with $\\texttt{numpy.random.rand}$"
   ]
  },
  {
   "cell_type": "code",
   "execution_count": null,
   "metadata": {},
   "outputs": [],
   "source": [
    "np.random.randn(3, 2)\n",
    "   # a (3 x 2) array of random samples\n",
    "   # \"standard normal\" distribution N(mu=0, sigma=1)"
   ]
  },
  {
   "cell_type": "markdown",
   "metadata": {},
   "source": [
    "to generate a normal distribution of $\\mathcal{N(\\mu, \\sigma^2)}$"
   ]
  },
  {
   "cell_type": "code",
   "execution_count": null,
   "metadata": {},
   "outputs": [],
   "source": [
    "sigma = 0.17\n",
    "mu = 2.5"
   ]
  },
  {
   "cell_type": "code",
   "execution_count": null,
   "metadata": {},
   "outputs": [],
   "source": [
    "sigma * np.random.randn(3, 2) + mu"
   ]
  },
  {
   "cell_type": "markdown",
   "metadata": {},
   "source": [
    "###  we can `reshape` $\\texttt{numpy.ndarray}$ with the method $\\texttt{ndarray.reshape}$"
   ]
  },
  {
   "cell_type": "markdown",
   "metadata": {},
   "source": [
    "   - it changes the `shape` of an array (even a multi-dimensional one)\n",
    "   - by creating a `new view` with `new indexing`\n",
    "   - it does not change the `original` array\n",
    "   \n",
    "   \n",
    "   - the `two` arrays `share` the data"
   ]
  },
  {
   "cell_type": "markdown",
   "metadata": {},
   "source": [
    "   - the new `dimension` must `match` the number of elements of the `original array`"
   ]
  },
  {
   "cell_type": "code",
   "execution_count": null,
   "metadata": {},
   "outputs": [],
   "source": [
    "a = np.array([1, 2, 3, 4, 5, 6, 7, 8, 9, 10, 11, 12])\n",
    "print(a)"
   ]
  },
  {
   "cell_type": "code",
   "execution_count": null,
   "metadata": {},
   "outputs": [],
   "source": [
    "a.shape"
   ]
  },
  {
   "cell_type": "markdown",
   "metadata": {},
   "source": [
    "   - `taking` a new `view` on the array $\\texttt{a}$"
   ]
  },
  {
   "cell_type": "code",
   "execution_count": null,
   "metadata": {},
   "outputs": [],
   "source": [
    "b = a.reshape(2, 2, 3)  # b is a new view of a\n",
    "print(b)\n",
    "print('\\nthe shape of b is ', b.shape)"
   ]
  },
  {
   "cell_type": "markdown",
   "metadata": {},
   "source": [
    "   - the two arrays $\\texttt{a}$ and $\\texttt{b}$ `share` the same `underlying` array"
   ]
  },
  {
   "cell_type": "markdown",
   "metadata": {},
   "source": [
    "   - access to elements depends on the `geometry` of the views\n",
    "   - a is a `flat` array\n",
    "   - b is a $2 \\times 2 \\times 3$ shaped-array"
   ]
  },
  {
   "cell_type": "code",
   "execution_count": null,
   "metadata": {},
   "outputs": [],
   "source": [
    "a[0] = 99 # we change a"
   ]
  },
  {
   "cell_type": "code",
   "execution_count": null,
   "metadata": {},
   "outputs": [],
   "source": [
    "b[0][0][0] # it changes b"
   ]
  },
  {
   "cell_type": "markdown",
   "metadata": {},
   "source": [
    "   - `several` arrays can share the same data"
   ]
  },
  {
   "cell_type": "markdown",
   "metadata": {},
   "source": [
    "   - $\\texttt{c}$ is a new view of $\\texttt{b}$ which is a new view of $\\texttt{a}$"
   ]
  },
  {
   "cell_type": "code",
   "execution_count": null,
   "metadata": {},
   "outputs": [],
   "source": [
    "c = b.reshape(2, 6) "
   ]
  },
  {
   "cell_type": "code",
   "execution_count": null,
   "metadata": {},
   "outputs": [],
   "source": [
    "c.shape"
   ]
  },
  {
   "cell_type": "code",
   "execution_count": null,
   "metadata": {},
   "outputs": [],
   "source": [
    "a[0] = 300"
   ]
  },
  {
   "cell_type": "code",
   "execution_count": null,
   "metadata": {},
   "outputs": [],
   "source": [
    "c"
   ]
  },
  {
   "cell_type": "markdown",
   "metadata": {},
   "source": [
    "### we can `flatten` an array"
   ]
  },
  {
   "cell_type": "markdown",
   "metadata": {},
   "source": [
    "   - $\\texttt{numpy.ravel}$ returns a `view` on the `original data` (when possible)\n",
    "   - $\\texttt{numpy.ndarray.flatten}$ always returns a `copy` ofn the `original data`\n",
    "   - $\\texttt{numpy.ndarray.flat}$ returns a flat `iterator` over the array"
   ]
  },
  {
   "cell_type": "code",
   "execution_count": null,
   "metadata": {},
   "outputs": [],
   "source": [
    "a = np.array([[1, 2], [3, 4], [5, 6]])"
   ]
  },
  {
   "cell_type": "code",
   "execution_count": null,
   "metadata": {},
   "outputs": [],
   "source": [
    "a_ravel = a.ravel()\n",
    "a_flatten = a.flatten()"
   ]
  },
  {
   "cell_type": "markdown",
   "metadata": {},
   "source": [
    "   - if we modify `a_ravel`, `a` will be modified\n",
    "   - if we modify `a_flatten`, `a` will `not` be modified"
   ]
  },
  {
   "cell_type": "code",
   "execution_count": null,
   "metadata": {},
   "outputs": [],
   "source": [
    "a_ravel[0] = 99 ; a[0][0]"
   ]
  },
  {
   "cell_type": "code",
   "execution_count": null,
   "metadata": {},
   "outputs": [],
   "source": [
    "a_flatten[2] = 77 ; a[1][0]"
   ]
  },
  {
   "cell_type": "markdown",
   "metadata": {},
   "source": [
    "   - use of the `flat iterator`\n",
    "   - for example access the $n^{th}$ element of a $p \\times q$ array"
   ]
  },
  {
   "cell_type": "code",
   "execution_count": null,
   "metadata": {},
   "outputs": [],
   "source": [
    "a = np.random.randint(0, 20, 12).reshape(4, 3)\n",
    "a"
   ]
  },
  {
   "cell_type": "markdown",
   "metadata": {},
   "source": [
    "   - we get the index of the minimum with $\\texttt{numpy.ndarray.agrmin}$\n",
    "   - we obtain a index on the falt array\n",
    "   - we use the `flat iter` to get the element"
   ]
  },
  {
   "cell_type": "code",
   "execution_count": null,
   "metadata": {},
   "outputs": [],
   "source": [
    "a.flat[  a.argmin()  ]"
   ]
  },
  {
   "cell_type": "markdown",
   "metadata": {},
   "source": [
    "###  we can `resize` $\\texttt{numpy.ndarray}$ with the method $\\texttt{ndarray.resize}$"
   ]
  },
  {
   "cell_type": "markdown",
   "metadata": {},
   "source": [
    "   - it change the shape of an array `in-place`\n",
    "   - i.e. the indexing of the `original array` is `changed`"
   ]
  },
  {
   "cell_type": "markdown",
   "metadata": {},
   "source": [
    "   - we have the same restriction as for the reshaping\n",
    "   - the new `dimension` must `match` the number of elements of the `original array`"
   ]
  },
  {
   "cell_type": "code",
   "execution_count": null,
   "metadata": {},
   "outputs": [],
   "source": [
    "a = np.array([1, 2, 3, 4, 5, 6, 7, 8, 9, 10, 11, 12])\n",
    "print(a)"
   ]
  },
  {
   "cell_type": "code",
   "execution_count": null,
   "metadata": {},
   "outputs": [],
   "source": [
    "a.resize(2, 2, 3)  # indexes of a are modified\n",
    "print(a)"
   ]
  },
  {
   "cell_type": "code",
   "execution_count": null,
   "metadata": {},
   "outputs": [],
   "source": [
    "a.shape"
   ]
  },
  {
   "cell_type": "code",
   "execution_count": null,
   "metadata": {},
   "outputs": [],
   "source": [
    "a.resize(2, 6) # indexes of a are modified\n",
    "print(a)"
   ]
  },
  {
   "cell_type": "code",
   "execution_count": null,
   "metadata": {},
   "outputs": [],
   "source": [
    "a.shape"
   ]
  },
  {
   "cell_type": "markdown",
   "metadata": {},
   "source": [
    "###  we can `tile`and `repeat` $\\texttt{numpy.ndarray}$"
   ]
  },
  {
   "cell_type": "markdown",
   "metadata": {},
   "source": [
    "   - you can `repeat` `elements` of an array `several times`"
   ]
  },
  {
   "cell_type": "code",
   "execution_count": null,
   "metadata": {},
   "outputs": [],
   "source": [
    "a = np.array([[1, 2], [3, 4]])\n",
    "a"
   ]
  },
  {
   "cell_type": "code",
   "execution_count": null,
   "metadata": {},
   "outputs": [],
   "source": [
    "np.repeat(a, 3) # repeating elements 3 times in the flattened array"
   ]
  },
  {
   "cell_type": "code",
   "execution_count": null,
   "metadata": {},
   "outputs": [],
   "source": [
    "np.repeat(a, 3, axis=0) # repeating rows 3 times"
   ]
  },
  {
   "cell_type": "code",
   "execution_count": null,
   "metadata": {},
   "outputs": [],
   "source": [
    "np.repeat(a, (2, 3), axis=0) # repeating rows 2 times the first array\n",
    "                             #                3 times teh second array "
   ]
  },
  {
   "cell_type": "code",
   "execution_count": null,
   "metadata": {},
   "outputs": [],
   "source": [
    "np.repeat(a, (4, 3), axis=1) # repeating columns 4 times the first array\n",
    "                             #                   3 times the second array"
   ]
  },
  {
   "cell_type": "markdown",
   "metadata": {},
   "source": [
    "   - `repeating` the array along `axis`"
   ]
  },
  {
   "cell_type": "code",
   "execution_count": null,
   "metadata": {},
   "outputs": [],
   "source": [
    "np.tile(a, 3)"
   ]
  },
  {
   "cell_type": "code",
   "execution_count": null,
   "metadata": {},
   "outputs": [],
   "source": [
    "np.tile(a, (2, 3))"
   ]
  },
  {
   "cell_type": "markdown",
   "metadata": {},
   "source": [
    "###  we can `concatenate` $\\texttt{numpy.ndarray}$ with the method $\\texttt{ndarray.concatenate}$"
   ]
  },
  {
   "cell_type": "markdown",
   "metadata": {},
   "source": [
    "   - you concatenate along a dimension i.e. along an `axis`\n",
    "   - for example for a 2-dimensional array:\n",
    "      - $0$ is for `rows`\n",
    "      - $1$ is for `columns`"
   ]
  },
  {
   "cell_type": "markdown",
   "metadata": {},
   "source": [
    "   - $\\texttt{ndarray.concatenate}$ `returns` a `new` object of type $\\texttt{numpy.ndarray}$"
   ]
  },
  {
   "cell_type": "markdown",
   "metadata": {},
   "source": [
    "#### we can concatenate the rows i.e. `axis` $0$\n",
    "   - rows are `stacked` on top of each other\n",
    "   - (axis $0$ is the `default`)"
   ]
  },
  {
   "cell_type": "code",
   "execution_count": null,
   "metadata": {},
   "outputs": [],
   "source": [
    "a = np.array([[1, 2, 3, 4, 5, 6]])\n",
    "b = np.array([[10, 20, 30, 40, 50, 60]])"
   ]
  },
  {
   "cell_type": "code",
   "execution_count": null,
   "metadata": {},
   "outputs": [],
   "source": [
    "a, b"
   ]
  },
  {
   "cell_type": "code",
   "execution_count": null,
   "metadata": {},
   "outputs": [],
   "source": [
    "a.shape, b.shape"
   ]
  },
  {
   "cell_type": "code",
   "execution_count": null,
   "metadata": {},
   "outputs": [],
   "source": [
    "np.concatenate((a, b), axis=0)"
   ]
  },
  {
   "cell_type": "code",
   "execution_count": null,
   "metadata": {},
   "outputs": [],
   "source": [
    "np.concatenate((a, b))"
   ]
  },
  {
   "cell_type": "code",
   "execution_count": null,
   "metadata": {},
   "outputs": [],
   "source": [
    "a.reshape(2, 3)"
   ]
  },
  {
   "cell_type": "code",
   "execution_count": null,
   "metadata": {},
   "outputs": [],
   "source": [
    "b.reshape(2, 3)"
   ]
  },
  {
   "cell_type": "code",
   "execution_count": null,
   "metadata": {},
   "outputs": [],
   "source": [
    "np.concatenate((a.reshape(2, 3), b.reshape(2, 3)), axis=0)"
   ]
  },
  {
   "cell_type": "markdown",
   "metadata": {},
   "source": [
    "#### we can concatenate the columns i.e. `axis` $1$\n",
    "   - we `extend` the `columns`\n",
    "   - by concatenating the `rows`"
   ]
  },
  {
   "cell_type": "code",
   "execution_count": null,
   "metadata": {},
   "outputs": [],
   "source": [
    "a, b  # one row, 6 columns"
   ]
  },
  {
   "cell_type": "code",
   "execution_count": null,
   "metadata": {},
   "outputs": [],
   "source": [
    "np.concatenate((a, b), axis=1) # 1 rows, 12 columns"
   ]
  },
  {
   "cell_type": "code",
   "execution_count": null,
   "metadata": {},
   "outputs": [],
   "source": [
    "a.reshape(2, 3) # 2 rows, 3 columns"
   ]
  },
  {
   "cell_type": "code",
   "execution_count": null,
   "metadata": {},
   "outputs": [],
   "source": [
    "b.reshape(2, 3) # 2 rows, 3 columns"
   ]
  },
  {
   "cell_type": "code",
   "execution_count": null,
   "metadata": {},
   "outputs": [],
   "source": [
    "np.concatenate((a.reshape(2, 3), b.reshape(2, 3)), axis=1) # 2 rows, 6 columns"
   ]
  },
  {
   "cell_type": "markdown",
   "metadata": {},
   "source": [
    "##### we can `stack`  arrays along an `axis`"
   ]
  },
  {
   "cell_type": "markdown",
   "metadata": {},
   "source": [
    "$\\texttt{numpy.stack}$\n",
    "   - you `join` a sequence of `arrays` along an `axis`\n",
    "   - $\\texttt{axis = 0}$ the arrays are `rows`\n",
    "   - $\\texttt{axis = 1}$ the arrays are `columns`"
   ]
  },
  {
   "cell_type": "code",
   "execution_count": null,
   "metadata": {},
   "outputs": [],
   "source": [
    "a = [0, 2, 3,], [5, 6, 7], [8, 9, 10]"
   ]
  },
  {
   "cell_type": "code",
   "execution_count": null,
   "metadata": {},
   "outputs": [],
   "source": [
    "np.stack(a, axis = 0)"
   ]
  },
  {
   "cell_type": "code",
   "execution_count": null,
   "metadata": {},
   "outputs": [],
   "source": [
    "np.stack(a, axis = 1)"
   ]
  },
  {
   "cell_type": "markdown",
   "metadata": {},
   "source": [
    "   - see also $\\texttt{np.dstack}$, $\\texttt{np.hstack}$, $\\texttt{np.vstack}$, $\\texttt{numpy.column_stack}$"
   ]
  },
  {
   "cell_type": "markdown",
   "metadata": {},
   "source": [
    "### `concatenation` in higher dimensions [complement]"
   ]
  },
  {
   "cell_type": "markdown",
   "metadata": {},
   "source": [
    "#### we consider two $4$-dimensional arrays\n",
    "   - each array is of shape $(2, 3, 4, 5)$ i.e. $2$ times $3$ matrices of size $4 \\times 5$\n",
    "   - the first arrays contains `even` values\n",
    "   - the second contains `odd` values"
   ]
  },
  {
   "cell_type": "markdown",
   "metadata": {},
   "source": [
    "we use $\\texttt{numpy.arange(f, t, s)}$ to generate the values of the arrays:\n",
    "   - a `range` of values `starting` from $\\texttt{f}$ `going to` $\\texttt{t}$ (non included)\n",
    "   - with a step $\\texttt{s}$  "
   ]
  },
  {
   "cell_type": "code",
   "execution_count": null,
   "metadata": {},
   "outputs": [],
   "source": [
    "a = np.array(np.arange(0, 240, 2)) # even numbers from 0 to 238\n",
    "a.resize(2, 3, 4, 5)               # 2 times 3 matrix of 4 lines and 5 columns"
   ]
  },
  {
   "cell_type": "code",
   "execution_count": null,
   "metadata": {},
   "outputs": [],
   "source": [
    "a.shape"
   ]
  },
  {
   "cell_type": "code",
   "execution_count": null,
   "metadata": {},
   "outputs": [],
   "source": [
    "a[1] # the first three matrices"
   ]
  },
  {
   "cell_type": "code",
   "execution_count": null,
   "metadata": {},
   "outputs": [],
   "source": [
    "a[0][0][0][0]  # last value "
   ]
  },
  {
   "cell_type": "code",
   "execution_count": null,
   "metadata": {},
   "outputs": [],
   "source": [
    "a[1][2][3][4]  # last value "
   ]
  },
  {
   "cell_type": "markdown",
   "metadata": {},
   "source": [
    "same with odd numbers"
   ]
  },
  {
   "cell_type": "code",
   "execution_count": null,
   "metadata": {},
   "outputs": [],
   "source": [
    "b = np.array(np.arange(1, 241, 2)) # odd numbers from 1 to 249\n",
    "b.resize(2, 3, 4, 5)\n",
    "b[0]"
   ]
  },
  {
   "cell_type": "markdown",
   "metadata": {},
   "source": [
    "#### `concatenation` along axis $0$\n",
    "   - is like stacking the $2$ times ($3$ matrices of size $4 \\times 5$ of the two arrays)\n",
    "   - i.e. we obtain $4$ times $3$ matrices of size $4 \\times 5$"
   ]
  },
  {
   "cell_type": "code",
   "execution_count": null,
   "metadata": {},
   "outputs": [],
   "source": [
    "c = np.concatenate((a, b), axis=0)\n",
    "c.shape"
   ]
  },
  {
   "cell_type": "code",
   "execution_count": null,
   "metadata": {},
   "outputs": [],
   "source": [
    "c"
   ]
  },
  {
   "cell_type": "markdown",
   "metadata": {},
   "source": [
    "#### we can see that:\n",
    "   - $c[0]$ is $a[0]$\n",
    "   - $c[1]$ is $a[1]$\n",
    "   - $c[2]$ is $b[0]$\n",
    "   - $c[3]$ is $b[1]$"
   ]
  },
  {
   "cell_type": "code",
   "execution_count": null,
   "metadata": {},
   "outputs": [],
   "source": [
    "c[0] == a[0]   # we can compare array we obtain an array of booleans"
   ]
  },
  {
   "cell_type": "code",
   "execution_count": null,
   "metadata": {},
   "outputs": [],
   "source": [
    "np.all(c[0] == a[0]) # we can check if all booleans are True"
   ]
  },
  {
   "cell_type": "markdown",
   "metadata": {},
   "source": [
    "#### `concatenation` of $\\texttt{a}$ and $\\texttt{b}$ `along` axis $1$\n",
    "   - it is like stacking the $3$ matrices of size $4 \\times 5$ of the two arrays\n",
    "   - i.e. we obtain $2$ times $6$ matrices of size $4 \\times 5$\n",
    "      - the three first matrices come from $\\texttt{a}$ (even numbers)\n",
    "      - the three other matrices come from $\\texttt{b}$ (odd numbers)"
   ]
  },
  {
   "cell_type": "code",
   "execution_count": null,
   "metadata": {},
   "outputs": [],
   "source": [
    "d = np.concatenate((a, b), axis=1)\n",
    "d.shape"
   ]
  },
  {
   "cell_type": "code",
   "execution_count": null,
   "metadata": {},
   "outputs": [],
   "source": [
    "d"
   ]
  },
  {
   "cell_type": "markdown",
   "metadata": {},
   "source": [
    "#### `concatenation` of $\\texttt{a}$ and $\\texttt{b}$ `along` axis $2$\n",
    "   - in our example, it is like `stacking` the rows of the matrices ($4 \\times 5$)\n",
    "   - i.e. we obtain $2$ times $3$ matrices of size $8 \\times 5$\n",
    "      - the first four rows of the matrices come from $\\texttt{a}$ (even numbers)\n",
    "      - the other rows come from $\\texttt{b}$ (odd numbers)\n",
    "      \n",
    "      \n",
    "   - same for last `axis` $3$"
   ]
  },
  {
   "cell_type": "code",
   "execution_count": null,
   "metadata": {},
   "outputs": [],
   "source": [
    "d = np.concatenate((a, b), axis=2)\n",
    "d.shape"
   ]
  },
  {
   "cell_type": "code",
   "execution_count": null,
   "metadata": {},
   "outputs": [],
   "source": [
    "d[0]"
   ]
  },
  {
   "cell_type": "markdown",
   "metadata": {},
   "source": [
    "###  we can `split` $\\texttt{numpy.ndarray}$ with the method $\\texttt{ndarray.split}$"
   ]
  },
  {
   "cell_type": "markdown",
   "metadata": {},
   "source": [
    "   - You split along a dimension i.e. along an `axis`\n",
    "   - for 2-dimensional arrays ($0$ is for `rows`, $1$ is for `columns`)"
   ]
  },
  {
   "cell_type": "markdown",
   "metadata": {},
   "source": [
    "   - an array of $30$ elements between $0$ and $30$\n",
    "   - is created with a `shape` $(30, )$ using the function $\\texttt{nyumpy.arange}$\n",
    "   - and `reshaped` to a $5 \\times 6$ matrix"
   ]
  },
  {
   "cell_type": "code",
   "execution_count": null,
   "metadata": {},
   "outputs": [],
   "source": [
    "a = np.array(np.arange(1, 31)).reshape((5, 6)) # one 5 x 6 matrix of 64-bits integers\n",
    "a"
   ]
  },
  {
   "cell_type": "code",
   "execution_count": null,
   "metadata": {},
   "outputs": [],
   "source": [
    "a.dtype, a.shape"
   ]
  },
  {
   "cell_type": "markdown",
   "metadata": {},
   "source": [
    "to `split`\n",
    "   - you indicate the way to split: integer or sub-arrays\n",
    "   - and the `axis` to split"
   ]
  },
  {
   "cell_type": "markdown",
   "metadata": {},
   "source": [
    "`split` giving an integer $n$:\n",
    "   - it splits along the `axis` in two sub-arrays\n",
    "   - the first array contains the $n$ elements (if possible)\n",
    "   - the last sub-array contains what remains\n",
    "   - the last sub-array can be empty\n",
    "\n",
    "   \n",
    "   \n",
    "   \n",
    "   - if the index exceeds the shape\n",
    "   - a partial sub-array is returned"
   ]
  },
  {
   "cell_type": "code",
   "execution_count": null,
   "metadata": {},
   "outputs": [],
   "source": [
    "np.split(a, [3]) # in axis 0 by default (rows)\n",
    "                 # you split in two sub-arrays\n",
    "                 #   - the first is a 3 x 6 sub-array\n",
    "                 #   - the second is a 2 x 6 partial sub-array"
   ]
  },
  {
   "cell_type": "code",
   "execution_count": null,
   "metadata": {},
   "outputs": [],
   "source": [
    "np.split(a, [6]) # the first sub-array is the 5 x 6 array\n",
    "                 # the second sub-array is an empty-array"
   ]
  },
  {
   "cell_type": "code",
   "execution_count": null,
   "metadata": {},
   "outputs": [],
   "source": [
    "np.split(a, [10]) # the first sub-array is the 5 x 6 array\n",
    "                  # the second sub-array is an empty-array"
   ]
  },
  {
   "cell_type": "code",
   "execution_count": null,
   "metadata": {},
   "outputs": [],
   "source": [
    "np.split(a, [3], axis=1) # the first sub-array contains the 3 columns\n",
    "                         # the second the 3 others"
   ]
  },
  {
   "cell_type": "code",
   "execution_count": null,
   "metadata": {},
   "outputs": [],
   "source": [
    "np.split(a, [6], axis=1) # the first sub-array contains the 3 columns\n",
    "                         # the second is empty"
   ]
  },
  {
   "cell_type": "markdown",
   "metadata": {},
   "source": [
    "`split` giving an `section`:\n",
    "   - you indicate along which `axis` the array must be split\n",
    "   - and you indicate the sections\n",
    "   - e.g. `[p, q]` in `axis 0` results in:\n",
    "      - the `first` `p` elements of the axis\n",
    "      - then the elements from `p` to `q` (`q` is not included)\n",
    "      - then the elements from `q` to the end"
   ]
  },
  {
   "cell_type": "code",
   "execution_count": null,
   "metadata": {},
   "outputs": [],
   "source": [
    "a"
   ]
  },
  {
   "cell_type": "code",
   "execution_count": null,
   "metadata": {},
   "outputs": [],
   "source": [
    "np.split(a, [2, 4], axis=0) # the 2 first rows (indices 0 and 1)\n",
    "                            # then the rows from indice 2 to 4 not included (indice 3 and 4)\n",
    "                            # then the last row (indice 4)"
   ]
  },
  {
   "cell_type": "code",
   "execution_count": null,
   "metadata": {},
   "outputs": [],
   "source": [
    "a1, a2, a3 = np.split(a, [2, 5], axis=1) # the two first columns\n",
    "                                         # then the columns from 2 to 5 (not included)\n",
    "                                         # then the last column"
   ]
  },
  {
   "cell_type": "code",
   "execution_count": null,
   "metadata": {},
   "outputs": [],
   "source": [
    "a1.shape, a2.shape, a3.shape"
   ]
  },
  {
   "cell_type": "markdown",
   "metadata": {},
   "source": [
    "#### spliting in higher dimensions"
   ]
  },
  {
   "cell_type": "code",
   "execution_count": null,
   "metadata": {},
   "outputs": [],
   "source": [
    "a = np.array(np.arange(1, 61)).reshape((2, 5, 6)) # 2 arrays of 5 x 6 matrix\n",
    "a"
   ]
  },
  {
   "cell_type": "markdown",
   "metadata": {},
   "source": [
    "along `axis 0`\n",
    "   - i have two matrices of shape $5 \\times 6$"
   ]
  },
  {
   "cell_type": "code",
   "execution_count": null,
   "metadata": {},
   "outputs": [],
   "source": [
    "np.split(a, [1], axis=0) # i split the axis 0 in two, one matrix in each sub-array"
   ]
  },
  {
   "cell_type": "markdown",
   "metadata": {},
   "source": [
    "along `axis 1` (rows of the matrices)"
   ]
  },
  {
   "cell_type": "code",
   "execution_count": null,
   "metadata": {},
   "outputs": [],
   "source": [
    "a"
   ]
  },
  {
   "cell_type": "code",
   "execution_count": null,
   "metadata": {},
   "outputs": [],
   "source": [
    "a1, a2 = np.split(a, [2], axis=1) # we obtain two sub-arrays\n",
    "                                  # they have each:\n",
    "                                  #    - two times one array of size 2 x six (the [2])\n",
    "                                  # the first has two matrices with the first 2 rows (as requested by [2])\n",
    "                                  # the second has the remaining three rows"
   ]
  },
  {
   "cell_type": "code",
   "execution_count": null,
   "metadata": {},
   "outputs": [],
   "source": [
    "a1"
   ]
  },
  {
   "cell_type": "code",
   "execution_count": null,
   "metadata": {},
   "outputs": [],
   "source": [
    "a2"
   ]
  },
  {
   "cell_type": "code",
   "execution_count": null,
   "metadata": {},
   "outputs": [],
   "source": [
    "a1.shape, a2.shape"
   ]
  },
  {
   "cell_type": "code",
   "execution_count": null,
   "metadata": {},
   "outputs": [],
   "source": [
    "a1, a2"
   ]
  },
  {
   "cell_type": "markdown",
   "metadata": {},
   "source": [
    "## 2) you can `access` and `slice` arrays\n",
    "   - exactely like you `access` or `slice` `python lists`\n",
    "   - it returns a view, not a copy\n",
    "   - for the sake of `memory efficient`\n",
    "   - `copy` with the $\\texttt{numpy.ndarray.copy}$ function if needed"
   ]
  },
  {
   "cell_type": "code",
   "execution_count": null,
   "metadata": {},
   "outputs": [],
   "source": [
    "a = np.array(np.arange(1, 61)).reshape((2, 5, 6)) # 2 arrays of 5 x 6 matrix\n",
    "a"
   ]
  },
  {
   "cell_type": "code",
   "execution_count": null,
   "metadata": {},
   "outputs": [],
   "source": [
    "a # the whole object"
   ]
  },
  {
   "cell_type": "markdown",
   "metadata": {},
   "source": [
    "you can re-assign `a` but you loose the original array"
   ]
  },
  {
   "cell_type": "markdown",
   "metadata": {},
   "source": [
    "   - accessing sub-arrays"
   ]
  },
  {
   "cell_type": "code",
   "execution_count": null,
   "metadata": {},
   "outputs": [],
   "source": [
    "a[0] # the first element of axis 0\n",
    "     # all its rows\n",
    "     # all its columns"
   ]
  },
  {
   "cell_type": "markdown",
   "metadata": {},
   "source": [
    "   - the same slice"
   ]
  },
  {
   "cell_type": "code",
   "execution_count": null,
   "metadata": {},
   "outputs": [],
   "source": [
    "a[0, :, :] # : means \"every thing\" on this axis"
   ]
  },
  {
   "cell_type": "markdown",
   "metadata": {},
   "source": [
    "   - you can initialize a variable to refer to a portion of the object $\\texttt{a}$"
   ]
  },
  {
   "cell_type": "code",
   "execution_count": null,
   "metadata": {},
   "outputs": [],
   "source": [
    "a0 = a[0, :, :]"
   ]
  },
  {
   "cell_type": "code",
   "execution_count": null,
   "metadata": {},
   "outputs": [],
   "source": [
    "a0"
   ]
  },
  {
   "cell_type": "code",
   "execution_count": null,
   "metadata": {},
   "outputs": [],
   "source": [
    "a0.shape"
   ]
  },
  {
   "cell_type": "markdown",
   "metadata": {},
   "source": [
    "   - you can modify a slice"
   ]
  },
  {
   "cell_type": "code",
   "execution_count": null,
   "metadata": {},
   "outputs": [],
   "source": [
    "a0[0,:] = [4, 5, 6, 1, 2, 3]"
   ]
  },
  {
   "cell_type": "markdown",
   "metadata": {},
   "source": [
    "to `modify` a slice\n",
    "   - you must stay `consistent` with the initial sizes\n",
    "   - here you need a $5 \\times 6$ matrix"
   ]
  },
  {
   "cell_type": "code",
   "execution_count": null,
   "metadata": {},
   "outputs": [],
   "source": [
    "a[0]"
   ]
  },
  {
   "cell_type": "markdown",
   "metadata": {},
   "source": [
    "the object $\\texttt{a}$ has also been `modified`\n",
    "   - $\\texttt{a}$ and $\\texttt{a0}$ are refering to the same $\\texttt{nupy.ndarray}$ object"
   ]
  },
  {
   "cell_type": "markdown",
   "metadata": {},
   "source": [
    "   - you can create a variable refering to the object $\\texttt{a}$"
   ]
  },
  {
   "cell_type": "code",
   "execution_count": null,
   "metadata": {},
   "outputs": [],
   "source": [
    "b = a"
   ]
  },
  {
   "cell_type": "markdown",
   "metadata": {},
   "source": [
    "   - the two variables `share` the same `object`\n",
    "   - by modifying $\\texttt{b}$, you modify  $\\texttt{a}$"
   ]
  },
  {
   "cell_type": "code",
   "execution_count": null,
   "metadata": {},
   "outputs": [],
   "source": [
    "a[0][0] # the first element of axis 1\n",
    "        # of the first element of axis 0"
   ]
  },
  {
   "cell_type": "code",
   "execution_count": null,
   "metadata": {},
   "outputs": [],
   "source": [
    "b[0][0] # the same as previously but accessed through b"
   ]
  },
  {
   "cell_type": "markdown",
   "metadata": {},
   "source": [
    "you can affect the element but you must stay `consistent` with the initial sizes"
   ]
  },
  {
   "cell_type": "code",
   "execution_count": null,
   "metadata": {},
   "outputs": [],
   "source": [
    "b[0, 0, :] = [100, 200, 300, 400, 500, 600]"
   ]
  },
  {
   "cell_type": "markdown",
   "metadata": {},
   "source": [
    "you have modified $\\texttt{b}$ so you have modified $\\texttt{a}$"
   ]
  },
  {
   "cell_type": "code",
   "execution_count": null,
   "metadata": {},
   "outputs": [],
   "source": [
    "a"
   ]
  },
  {
   "cell_type": "code",
   "execution_count": null,
   "metadata": {},
   "outputs": [],
   "source": [
    "a[0][0][0] # the first element of axis 2 (columns)\n",
    "           # the first element of axis 1 (rows)\n",
    "           # of the first element of axis 0 "
   ]
  },
  {
   "cell_type": "markdown",
   "metadata": {},
   "source": [
    "   - the same"
   ]
  },
  {
   "cell_type": "code",
   "execution_count": null,
   "metadata": {},
   "outputs": [],
   "source": [
    "a[0, 0, 0]"
   ]
  },
  {
   "cell_type": "code",
   "execution_count": null,
   "metadata": {},
   "outputs": [],
   "source": [
    "a.dtype"
   ]
  },
  {
   "cell_type": "code",
   "execution_count": null,
   "metadata": {},
   "outputs": [],
   "source": [
    "a[0, 0, 0] = 999.90 # the value will be truncated to int64"
   ]
  },
  {
   "cell_type": "markdown",
   "metadata": {},
   "source": [
    "   - `basic slicing` $\\texttt{[from:to:step]}$ can be done (as for python lists):\n",
    "   - basic slicing can be applied in `each` dimension "
   ]
  },
  {
   "cell_type": "code",
   "execution_count": null,
   "metadata": {},
   "outputs": [],
   "source": [
    "a"
   ]
  },
  {
   "cell_type": "code",
   "execution_count": null,
   "metadata": {},
   "outputs": [],
   "source": [
    "a[:, 0::2, 3:-1]  # element from 3 to the end-1 on axis 2 \n",
    "                   # elements from 0 to the end with a step 2 on axis 1  (one in two rows)\n",
    "                   # : all the elements on axis 0                        (the two matrices)"
   ]
  },
  {
   "cell_type": "markdown",
   "metadata": {},
   "source": [
    "-----------------"
   ]
  },
  {
   "cell_type": "markdown",
   "metadata": {},
   "source": [
    "## 3) applying `vectorized` `operations`"
   ]
  },
  {
   "cell_type": "markdown",
   "metadata": {},
   "source": [
    "to apply `functions` to each element of a $\\texttt{numpy.ndarray}$:\n",
    "   - **never** use a $\\texttt{python}$ `loop` !\n",
    "   - **always** use the `vectorized` versions of the `operations`"
   ]
  },
  {
   "cell_type": "markdown",
   "metadata": {},
   "source": [
    "   - they are applied to  `each` element of a $\\texttt{numpy.ndarray}$\n",
    "   - but the `loop` is done in the `underlying library`"
   ]
  },
  {
   "cell_type": "markdown",
   "metadata": {},
   "source": [
    "### Why ?\n",
    "   - for the sake of `computation time`\n",
    "   - iterative version are always `slowler`\n",
    "   \n",
    "   - $\\texttt{numpy}$ provides `optimized functions on numeric types`"
   ]
  },
  {
   "cell_type": "markdown",
   "metadata": {},
   "source": [
    "   - $\\texttt{numpy}$ vectorized functions are called `UFuncs` (universal functions)\n",
    "   - see https://docs.scipy.org/doc/numpy/reference/ufuncs.html"
   ]
  },
  {
   "cell_type": "markdown",
   "metadata": {},
   "source": [
    "### execution time\n",
    "   - we will compute the `execution time` of the programs (with `magic functions`)\n",
    "   - only to `get an idea` of what's going on\n",
    "   \n",
    "   \n",
    "   - but `never` deduce `intangible rules` from `execution times`\n",
    "   - (too many parameters are `at play`)"
   ]
  },
  {
   "cell_type": "markdown",
   "metadata": {},
   "source": [
    "   - we use the magic functions $\\texttt{%timeit}$"
   ]
  },
  {
   "cell_type": "code",
   "execution_count": null,
   "metadata": {},
   "outputs": [],
   "source": [
    "import numpy as np"
   ]
  },
  {
   "cell_type": "code",
   "execution_count": null,
   "metadata": {},
   "outputs": [],
   "source": [
    "a = np.arange(1, 10000)\n",
    "   # it won't be relevant on a small number of elements"
   ]
  },
  {
   "cell_type": "markdown",
   "metadata": {},
   "source": [
    "#### we raise each element of $\\texttt{a}$ to the power of $2$"
   ]
  },
  {
   "cell_type": "markdown",
   "metadata": {},
   "source": [
    "   - with a python `loop`"
   ]
  },
  {
   "cell_type": "code",
   "execution_count": null,
   "metadata": {},
   "outputs": [],
   "source": [
    "l = []\n",
    "\n",
    "%timeit for e in a: l.append(e**2)"
   ]
  },
  {
   "cell_type": "markdown",
   "metadata": {},
   "source": [
    "   - using numpy arrays with a python `loop`"
   ]
  },
  {
   "cell_type": "code",
   "execution_count": null,
   "metadata": {},
   "outputs": [],
   "source": [
    "l = np.empty(a.shape)\n",
    "\n",
    "%timeit for i in np.arange(0, a.shape[0]): l[i] = a[i]**2"
   ]
  },
  {
   "cell_type": "markdown",
   "metadata": {},
   "source": [
    "   - with a python `comprehension`"
   ]
  },
  {
   "cell_type": "code",
   "execution_count": null,
   "metadata": {},
   "outputs": [],
   "source": [
    "%timeit [e**2 for e in a]"
   ]
  },
  {
   "cell_type": "markdown",
   "metadata": {},
   "source": [
    "   - with a `vectorized` $\\texttt{numpy}$ operation"
   ]
  },
  {
   "cell_type": "code",
   "execution_count": null,
   "metadata": {},
   "outputs": [],
   "source": [
    "%timeit a**2"
   ]
  },
  {
   "cell_type": "markdown",
   "metadata": {},
   "source": [
    "   - with a `vectorized` $\\texttt{numpy}$ function"
   ]
  },
  {
   "cell_type": "code",
   "execution_count": null,
   "metadata": {},
   "outputs": [],
   "source": [
    "%timeit np.power(a, 2)"
   ]
  },
  {
   "cell_type": "markdown",
   "metadata": {},
   "source": [
    "#### conclusion\n",
    "   - vectorized operations and functions are `way` much faster !\n",
    "   - never use `python loop`"
   ]
  },
  {
   "cell_type": "markdown",
   "metadata": {},
   "source": [
    "### classical operators **are** `UFuncs`\n",
    "   - classical `operators` applied to $\\texttt{numpy.ndarray}$ are `mapped` to `ufuncs`\n",
    "   - their $\\texttt{numpy}$ counterpart\n",
    "\n",
    "\n",
    "| operator | numpy function    |\n",
    "|----------|-------------------|\n",
    "|   $+$    | $\\texttt{numpy.add}$ |\n",
    "|   $-$    | $\\texttt{numpy.substract}$|\n",
    "|   $-$    | $\\texttt{numpy.negative}$ |\n",
    "|   $*$    | $\\texttt{numpy.multiply}$ |\n",
    "|   $/$    | $\\texttt{numpy.divide}$ |\n",
    "|   $//$   | $\\texttt{numpy.floor_divide}$ |\n",
    "|   $\\%$   | $\\texttt{numpy.mod}$ |\n",
    "|   $**$   | $\\texttt{numpy.power}$ |"
   ]
  },
  {
   "cell_type": "code",
   "execution_count": null,
   "metadata": {},
   "outputs": [],
   "source": [
    "a = np.array([1, 2, 3, 4, 5])\n",
    "b = np.array([10, 20, 30, 40, 50])\n",
    "a + b"
   ]
  },
  {
   "cell_type": "markdown",
   "metadata": {},
   "source": [
    "   - **but** on `python` `list`\n",
    "   - $\\texttt{+}$ is `concatenation`\n",
    "   - to add `element-by-element` use $\\texttt{numpy.add}$"
   ]
  },
  {
   "cell_type": "code",
   "execution_count": null,
   "metadata": {},
   "outputs": [],
   "source": [
    "c = [1, 2, 3, 4, 5]\n",
    "d = [10, 20, 30, 40, 50]\n",
    "c + d"
   ]
  },
  {
   "cell_type": "code",
   "execution_count": null,
   "metadata": {},
   "outputs": [],
   "source": [
    "np.add(c, d)"
   ]
  },
  {
   "cell_type": "markdown",
   "metadata": {},
   "source": [
    "   - the following function will work for python list and numpy ndarrays"
   ]
  },
  {
   "cell_type": "code",
   "execution_count": null,
   "metadata": {},
   "outputs": [],
   "source": [
    "def add (x, y):\n",
    "    return np.add(x, y)\n",
    "add(c, d)"
   ]
  },
  {
   "cell_type": "markdown",
   "metadata": {},
   "source": [
    "### there are many other `UFuncs` functions \n",
    "\n",
    "| function         | numpy function    |\n",
    "|------------------|-------------------|\n",
    "| comparison       | $\\texttt{numpy.greater}$, $\\texttt{numpy.less}$, $\\texttt{numpy.equal}$, ...|\n",
    "|   absolute       | $\\texttt{numpy.absolute}$ or $\\texttt{numpy.abs}$ |\n",
    "|   trigonometry   | $\\texttt{numpy.sin}$, $\\texttt{numpy.cos}$, ... |\n",
    "|   exponentiation | $\\texttt{numpy.exp}$, $\\texttt{numpy.exp2}$, .. |\n",
    "|   logarithm      | $\\texttt{np.log}$, $\\texttt{np.log2}$, $\\texttt{numpy.log10}$ |\n",
    "|   Floating point | $\\texttt{numpy.isinf}$, ....|\n",
    "| not a number     | $\\texttt{numpy.isnan}$, $\\texttt{numpy.isnull}$, ...|\n",
    "\n"
   ]
  },
  {
   "cell_type": "markdown",
   "metadata": {},
   "source": [
    "### checking if a function is a `UFunc`\n",
    "   - a `UFunc` is a $\\texttt{numpy.ufunc}$ object (its type is $\\texttt{numpy.ufunc}$)\n",
    "   - refer to the  `help`\n",
    "      - $\\texttt{help(np.sum)}$\n",
    "      - $\\texttt{numpy.sum?}$\n",
    "      - $\\texttt{numpy.info(numpy.sum)}$"
   ]
  },
  {
   "cell_type": "code",
   "execution_count": null,
   "metadata": {},
   "outputs": [],
   "source": [
    "type(np.sum) # numpy.sum is not a Ufunc"
   ]
  },
  {
   "cell_type": "code",
   "execution_count": null,
   "metadata": {},
   "outputs": [],
   "source": [
    "type(np.add) # numpty.ad is a UFunc"
   ]
  },
  {
   "cell_type": "code",
   "execution_count": null,
   "metadata": {},
   "outputs": [],
   "source": [
    "# help(np.add)"
   ]
  },
  {
   "cell_type": "code",
   "execution_count": null,
   "metadata": {},
   "outputs": [],
   "source": [
    "# np.add?"
   ]
  },
  {
   "cell_type": "code",
   "execution_count": null,
   "metadata": {},
   "outputs": [],
   "source": [
    "# np.info(np.add)"
   ]
  },
  {
   "cell_type": "markdown",
   "metadata": {},
   "source": [
    "#### conclusion\n",
    "   - `write` code using `vectorization` can be `harder` than `loop-based` python `code`\n",
    "   - but for the sake of time performance you cannot avoid it\n",
    "   - it is just `another way` to `think` your problem\n",
    "   - you might need to `use` `different` algorithms or `invent` `new` ones\n",
    "   \n",
    "   \n",
    "   - see https://www.labri.fr/perso/nrougier/from-python-to-numpy/#bibliography"
   ]
  },
  {
   "cell_type": "markdown",
   "metadata": {},
   "source": [
    "#### **exercice$^{(*)}$ NNN**\n",
    "   - example of chosing the wrong algorithm ...\n",
    "\n",
    "   - given two vectors $a$ and $b$ of shape $(n,)$\n",
    "   - we want to compute the sum of the product of each pairs of elements $a[i]* b[j]$\n",
    "   - with two algorithms: the `direct` algorithm and a `more subtle` one\n",
    "   \n",
    "\n",
    "(\\*) *the exercices must be completed in students' mandatory non-attendance time*"
   ]
  },
  {
   "cell_type": "markdown",
   "metadata": {},
   "source": [
    "   1. compute the function with `two nexted loops in python` (timeit)\n",
    "   2. compute the function by summing the `inner` product of two vectors\n",
    "      - $a$ being reshaped to $(n, 1)$ and $b$ to $(1, n)$ (timeit)\n",
    "      \n",
    "      \n",
    "   3. notice that\n",
    "      - $x[0] \\times y[0] + x[0] \\times y[1] + x[0] \\times y[2] +$  \n",
    "      - $x[1] \\times y[0] + x[1] \\times y[1] + x[2] \\times y[2] +$  \n",
    "      - $x[2] \\times y[0] + x[1] \\times y[1] + x[2] \\times y[2]$\n",
    "      - $ == $  \n",
    "      - $(x[0] + x[1] + x[2]) \\times (y[0] + y[1] + y[2])$  \n",
    "   \n",
    "   \n",
    "   - the two last functions were `implementing` a $O(n^2)$ algorithm\n",
    "   - while there `exist` a different algorithm in $O(n)$ \n",
    "   \n",
    "   \n",
    "  4. compute the new algorithm in python (using the built-in function $\\texttt{sum}$)\n",
    "  5. compute the function in `numpy` (using $\\texttt{nunmpy.sum}$)"
   ]
  },
  {
   "cell_type": "markdown",
   "metadata": {},
   "source": [
    "   - example of code to time your functions"
   ]
  },
  {
   "cell_type": "code",
   "execution_count": null,
   "metadata": {},
   "outputs": [],
   "source": [
    "def fct_in_python (a, b):\n",
    "    # your code here\n",
    "    return 0 # of course another value here ...\n",
    "\n",
    "n = 1000\n",
    "a = np.arange(n) # for example\n",
    "b = np.arange(n)\n",
    "print(fct_in_python(a, b))\n",
    "%timeit fct_in_python(a, b)"
   ]
  },
  {
   "cell_type": "markdown",
   "metadata": {},
   "source": [
    "#### **correction NNN**"
   ]
  },
  {
   "cell_type": "markdown",
   "metadata": {},
   "source": [
    "   - the `python` way"
   ]
  },
  {
   "cell_type": "code",
   "execution_count": null,
   "metadata": {},
   "outputs": [],
   "source": [
    "def fct_in_python (x, y):\n",
    "    ''' two loops to obtain all the pairs\n",
    "        of elements (x_i, y_j) '''\n",
    "    s = 0\n",
    "    for x_i in x:\n",
    "        for y_j in y:\n",
    "            s = s + x_i*y_j\n",
    "    return s"
   ]
  },
  {
   "cell_type": "code",
   "execution_count": null,
   "metadata": {},
   "outputs": [],
   "source": [
    "n = 1000\n",
    "a = np.arange(n)\n",
    "b = np.arange(n)\n",
    "print(fct_in_python(a, b))\n",
    "%timeit fct_in_python(a, b)"
   ]
  },
  {
   "cell_type": "markdown",
   "metadata": {},
   "source": [
    "   - the `numpy` way"
   ]
  },
  {
   "cell_type": "code",
   "execution_count": null,
   "metadata": {},
   "outputs": [],
   "source": [
    "def fct_in_numpy(x, y):\n",
    "    ''' x is reshaped in a column vector (len(x), 1)\n",
    "        y is reshaped in a row column    (1 , len(y))\n",
    "        we do the product (each array is broadcasted)\n",
    "    '''    \n",
    "    z = x.reshape(len(x), 1) * y.reshape(1, len(x))\n",
    "    return z.sum()"
   ]
  },
  {
   "cell_type": "code",
   "execution_count": null,
   "metadata": {},
   "outputs": [],
   "source": [
    "n = 1000\n",
    "a = np.arange(n)\n",
    "b = np.arange(n)\n",
    "print(fct_in_numpy(a, b))\n",
    "%timeit fct_in_numpy(a, b)"
   ]
  },
  {
   "cell_type": "markdown",
   "metadata": {},
   "source": [
    "   - the two last functions were `implementing` a $O(n^2)$ algorithm\n",
    "   - while there `exist` a $O(n)$ algorithm "
   ]
  },
  {
   "cell_type": "code",
   "execution_count": null,
   "metadata": {},
   "outputs": [],
   "source": [
    "def fct_python_better (x, y):\n",
    "    return sum(y) * sum(y)"
   ]
  },
  {
   "cell_type": "code",
   "execution_count": null,
   "metadata": {},
   "outputs": [],
   "source": [
    "n = 1000\n",
    "a = np.arange(n)\n",
    "b = np.arange(n)\n",
    "print(fct_python_better(a, b))\n",
    "%timeit fct_python_better(a, b)"
   ]
  },
  {
   "cell_type": "code",
   "execution_count": null,
   "metadata": {},
   "outputs": [],
   "source": [
    "def fct_numpy_better (x, y):\n",
    "    return np.sum(y) * np.sum(y)"
   ]
  },
  {
   "cell_type": "code",
   "execution_count": null,
   "metadata": {},
   "outputs": [],
   "source": [
    "n = 1000\n",
    "a = np.arange(n)\n",
    "b = np.arange(n)\n",
    "print(fct_numpy_better(a, b))\n",
    "%timeit fct_numpy_better(a, b)"
   ]
  },
  {
   "cell_type": "markdown",
   "metadata": {},
   "source": []
  },
  {
   "cell_type": "markdown",
   "metadata": {},
   "source": [
    "## 4) $\\texttt{na}$, $\\texttt{NaN}$, ...\n",
    "   - Not Avalaible\n",
    "   - Not a Number"
   ]
  },
  {
   "cell_type": "markdown",
   "metadata": {},
   "source": [
    "   - $\\texttt{numpy.NaN}$ is a `float`   \n",
    "   - there is `no` equivalent for `integers`"
   ]
  },
  {
   "cell_type": "code",
   "execution_count": null,
   "metadata": {},
   "outputs": [],
   "source": [
    "type(np.nan)"
   ]
  },
  {
   "cell_type": "markdown",
   "metadata": {},
   "source": [
    "  - `NaN` can be tested:"
   ]
  },
  {
   "cell_type": "code",
   "execution_count": null,
   "metadata": {},
   "outputs": [],
   "source": [
    "np.isnan([np.log(-1.), 1., np.log(0)])    # np.log(-1) is an invalid value i.e. it will be a NaN"
   ]
  },
  {
   "cell_type": "code",
   "execution_count": null,
   "metadata": {},
   "outputs": [],
   "source": [
    "np.log(0) == -np.inf"
   ]
  },
  {
   "cell_type": "markdown",
   "metadata": {},
   "source": [
    "   - $\\texttt{numpy.log(0)}$ is $-\\infty$ and not `NaN`\n",
    "   - see $\\texttt{numpy}$ `constants` https://www.numpy.org/devdocs/reference/constants.html"
   ]
  },
  {
   "cell_type": "markdown",
   "metadata": {},
   "source": [
    "## 5) function can aggregate array values in $\\texttt{numpy}$\n",
    "\n",
    "   - i.e. `combine` the values of the array"
   ]
  },
  {
   "cell_type": "markdown",
   "metadata": {},
   "source": [
    "#### classic functions:\n",
    "   - $\\texttt{numpy.sum}$, $\\texttt{numpy.prod}$\n",
    "   - $\\texttt{numpy.mean}$, $\\texttt{numpy.std}$, $\\texttt{numpy.var}$\n",
    "   - $\\texttt{numpy.min}$, $\\texttt{numpy.max}$\n",
    "   - $\\texttt{numpy.median}$, $\\texttt{numpy.percentile}$\n",
    "   \n",
    "example of one operation (here the sum)   "
   ]
  },
  {
   "cell_type": "markdown",
   "metadata": {},
   "source": [
    "### 1) suming an `array` along `axis`"
   ]
  },
  {
   "cell_type": "markdown",
   "metadata": {},
   "source": [
    "#### a) summing an `array` along `axis`"
   ]
  },
  {
   "cell_type": "code",
   "execution_count": null,
   "metadata": {},
   "outputs": [],
   "source": [
    "a = np.random.randint(0, 10, size=(3, 4))\n",
    "a"
   ]
  },
  {
   "cell_type": "markdown",
   "metadata": {},
   "source": [
    "   - we have an array of $3$ rows and $4$ columns"
   ]
  },
  {
   "cell_type": "markdown",
   "metadata": {},
   "source": [
    "`axis = 0` \n",
    "   - we sum along the `rows`\n",
    "   - i.e. we sum the `columns` together"
   ]
  },
  {
   "cell_type": "code",
   "execution_count": null,
   "metadata": {},
   "outputs": [],
   "source": [
    "np.sum(a, axis = 0)"
   ]
  },
  {
   "cell_type": "markdown",
   "metadata": {},
   "source": [
    "`axis = 1`\n",
    "   - we sum along the `columns`\n",
    "   - i.e. we sum the `rows` together"
   ]
  },
  {
   "cell_type": "code",
   "execution_count": null,
   "metadata": {},
   "outputs": [],
   "source": [
    "np.sum(a, axis = 1)"
   ]
  },
  {
   "cell_type": "markdown",
   "metadata": {},
   "source": [
    "### 2) summing a group of arrays along `axis`"
   ]
  },
  {
   "cell_type": "markdown",
   "metadata": {},
   "source": [
    "   - we have $2$ arrays to $3$ rows and $4$ columns "
   ]
  },
  {
   "cell_type": "code",
   "execution_count": null,
   "metadata": {},
   "outputs": [],
   "source": [
    "a = np.random.randint(0, 50, size=(2, 3, 4))\n",
    "a"
   ]
  },
  {
   "cell_type": "markdown",
   "metadata": {},
   "source": [
    "  - summing on `axis` $0$ is `summing` the $2$ arrays (of the`axis` $0$) "
   ]
  },
  {
   "cell_type": "code",
   "execution_count": null,
   "metadata": {},
   "outputs": [],
   "source": [
    "np.sum(a, axis=0) # we sum the arrays"
   ]
  },
  {
   "cell_type": "markdown",
   "metadata": {},
   "source": [
    "   - summing along `axis` $1$ is summing along the `rows` of each array \n",
    "   - i.e. we obtain one `row` per array\n",
    "   - they form a new array"
   ]
  },
  {
   "cell_type": "code",
   "execution_count": null,
   "metadata": {},
   "outputs": [],
   "source": [
    "np.sum(a, axis=1)"
   ]
  },
  {
   "cell_type": "markdown",
   "metadata": {},
   "source": [
    "   - summing along `axis` $2$ is summing along the `columns` of each array \n",
    "   - i.e. we obtain one `column` per array\n",
    "   - they form a new array"
   ]
  },
  {
   "cell_type": "code",
   "execution_count": null,
   "metadata": {},
   "outputs": [],
   "source": [
    "np.sum(a, axis=2)"
   ]
  },
  {
   "cell_type": "markdown",
   "metadata": {},
   "source": [
    "### 3) summing over all the elements"
   ]
  },
  {
   "cell_type": "code",
   "execution_count": null,
   "metadata": {},
   "outputs": [],
   "source": [
    "np.sum(a) # sum of all the elements"
   ]
  },
  {
   "cell_type": "markdown",
   "metadata": {},
   "source": [
    "### 4) summing in presence of $\\texttt{numpy.nan}$ values"
   ]
  },
  {
   "cell_type": "markdown",
   "metadata": {},
   "source": [
    "#### classic functions with their `NaN-safe` counterpart:\n",
    "   - $\\texttt{numpy.nansum}$, $\\texttt{numpy.nanprod}$\n",
    "   - $\\texttt{numpy.nanmean}$, $\\texttt{numpy.nanstd}$, $\\texttt{numpy.nanvar}$\n",
    "   - $\\texttt{numpy.nanmin}$, $\\texttt{numpy.nanmax}$\n",
    "   - $\\texttt{numpy.nanmedian}$, $\\texttt{numpy.nanpercentile}$"
   ]
  },
  {
   "cell_type": "markdown",
   "metadata": {},
   "source": [
    "   - `NaN` needs `floats`"
   ]
  },
  {
   "cell_type": "code",
   "execution_count": null,
   "metadata": {},
   "outputs": [],
   "source": [
    "a = np.random.randint(0, 50, size=(2, 3, 4)).astype(float)\n",
    "a"
   ]
  },
  {
   "cell_type": "markdown",
   "metadata": {},
   "source": [
    "we insert some `NaN` values"
   ]
  },
  {
   "cell_type": "code",
   "execution_count": null,
   "metadata": {},
   "outputs": [],
   "source": [
    "a[0, 1, 0] = np.nan\n",
    "a[0, 2, 2] = np.nan\n",
    "a[0, 0, 3] = np.nan\n",
    "\n",
    "a[1, 0, 0] = np.nan\n",
    "a[1, 1, 3] = np.nan\n",
    "a[1, 2, 2] = np.nan\n",
    "a"
   ]
  },
  {
   "cell_type": "markdown",
   "metadata": {},
   "source": [
    "with `normal` operations `NaN` is `dominant`"
   ]
  },
  {
   "cell_type": "code",
   "execution_count": null,
   "metadata": {},
   "outputs": [],
   "source": [
    "np.sum(a) # np.nan is dominant - contagious"
   ]
  },
  {
   "cell_type": "markdown",
   "metadata": {},
   "source": [
    "we can `treat` `NaNs` as `zero`"
   ]
  },
  {
   "cell_type": "code",
   "execution_count": null,
   "metadata": {},
   "outputs": [],
   "source": [
    "np.nansum(a) # np.nan values are 0"
   ]
  },
  {
   "cell_type": "markdown",
   "metadata": {},
   "source": [
    "   - on `axis=0` "
   ]
  },
  {
   "cell_type": "code",
   "execution_count": null,
   "metadata": {},
   "outputs": [],
   "source": [
    "np.nansum(a, axis=0) # summing the two array together"
   ]
  },
  {
   "cell_type": "code",
   "execution_count": null,
   "metadata": {},
   "outputs": [],
   "source": [
    "np.nansum(a, axis=1) # summing the rows together in each array"
   ]
  },
  {
   "cell_type": "code",
   "execution_count": null,
   "metadata": {},
   "outputs": [],
   "source": [
    "np.nansum(a, axis=2) # summing the columns together in each array"
   ]
  },
  {
   "cell_type": "markdown",
   "metadata": {},
   "source": [
    "### 5) index of min adn  max values\n",
    "   - $\\texttt{numpy.argmax}$, $\\texttt{numpy.argmin}$"
   ]
  },
  {
   "cell_type": "markdown",
   "metadata": {},
   "source": [
    "the indice is given on the `flattened` array"
   ]
  },
  {
   "cell_type": "code",
   "execution_count": null,
   "metadata": {},
   "outputs": [],
   "source": [
    "a = np.random.randint(0, 100, 30).reshape(5, 6)\n",
    "a"
   ]
  },
  {
   "cell_type": "code",
   "execution_count": null,
   "metadata": {},
   "outputs": [],
   "source": [
    "np.min(a) # or a.min()"
   ]
  },
  {
   "cell_type": "code",
   "execution_count": null,
   "metadata": {},
   "outputs": [],
   "source": [
    "np.argmin(a) # or a.argmin()"
   ]
  },
  {
   "cell_type": "code",
   "execution_count": null,
   "metadata": {},
   "outputs": [],
   "source": [
    "a.flatten().argmin()"
   ]
  },
  {
   "cell_type": "code",
   "execution_count": null,
   "metadata": {},
   "outputs": [],
   "source": [
    "a.flatten().argmin()"
   ]
  },
  {
   "cell_type": "markdown",
   "metadata": {},
   "source": [
    "## xxx) tests on all values\n",
    "   - $\\texttt{numpy.all}$ returns $\\texttt{True}$ if `all` values are $\\texttt{True}$\n",
    "   - $\\texttt{numpy.any}$ returns $\\texttt{True}$ if `any` value is $\\texttt{True}$\n",
    "   - $\\texttt{np.where(cond, x, y)}$ returns $\\texttt{x}$ or $\\texttt{y}$ depending on the condition\n",
    "   - (https://docs.scipy.org/doc/numpy/reference/generated/numpy.where.html)\n",
    "   \n",
    "   - they have no NaN-safer counterpart"
   ]
  },
  {
   "cell_type": "code",
   "execution_count": null,
   "metadata": {},
   "outputs": [],
   "source": [
    "a = np.random.randint(0, 100, 30).reshape(5, 6)\n",
    "a"
   ]
  },
  {
   "cell_type": "code",
   "execution_count": null,
   "metadata": {},
   "outputs": [],
   "source": [
    "a <= 50"
   ]
  },
  {
   "cell_type": "code",
   "execution_count": null,
   "metadata": {},
   "outputs": [],
   "source": [
    "np.any(a <= 50)"
   ]
  },
  {
   "cell_type": "code",
   "execution_count": null,
   "metadata": {},
   "outputs": [],
   "source": [
    "np.all(a <= 100)"
   ]
  },
  {
   "cell_type": "code",
   "execution_count": null,
   "metadata": {},
   "outputs": [],
   "source": [
    "#np.where?"
   ]
  },
  {
   "cell_type": "code",
   "execution_count": null,
   "metadata": {},
   "outputs": [],
   "source": [
    "np.where(a<50, 2*a, 3*a) "
   ]
  },
  {
   "cell_type": "markdown",
   "metadata": {},
   "source": [
    "## 6)  Broadcasting when working with arrays of different sizes"
   ]
  },
  {
   "cell_type": "markdown",
   "metadata": {},
   "source": [
    "### reminder about the dimensions\n",
    "\n",
    "`dimension 2`\n",
    "   - $\\texttt{shape=(r, c)}$ $\\texttt{r}$ `rows`, $\\texttt{c}$ `columns`\n",
    "   \n",
    "   \n",
    "`dimension 3`\n",
    "   - $\\texttt{shape=(p, r, c)}$ $\\texttt{p}$ `frames` $\\texttt{r}$ `rows`, $\\texttt{c}$ `columns`\n",
    "   \n",
    "   \n",
    "`greather dimension`\n",
    "   - $\\texttt{shape=(g1, ..., g, r, c)}$\n",
    "   - the two last elements are always $\\texttt{r}$ `rows`, and $\\texttt{c}$ `columns` "
   ]
  },
  {
   "cell_type": "markdown",
   "metadata": {},
   "source": [
    "### usually in $\\texttt{numpy}$\n",
    "   - operations are done on `pairs of arrays`\n",
    "   - on an `element-by-element` basis\n",
    "   - the two arrays must have `exactly the same shape`"
   ]
  },
  {
   "cell_type": "code",
   "execution_count": null,
   "metadata": {},
   "outputs": [],
   "source": [
    "a = np.arange(0, 10)\n",
    "a"
   ]
  },
  {
   "cell_type": "code",
   "execution_count": null,
   "metadata": {},
   "outputs": [],
   "source": [
    "a * a # multiplication element-by-element\n",
    "      # power of 2"
   ]
  },
  {
   "cell_type": "code",
   "execution_count": null,
   "metadata": {},
   "outputs": [],
   "source": [
    "a + a # sum element-by-element"
   ]
  },
  {
   "cell_type": "markdown",
   "metadata": {},
   "source": [
    "###   $\\texttt{numpy}$ `relaxes` this constraint\n",
    "   - when the `arrays’ shapes` meet `certain conditions`"
   ]
  },
  {
   "cell_type": "markdown",
   "metadata": {},
   "source": [
    "#### example"
   ]
  },
  {
   "cell_type": "code",
   "execution_count": null,
   "metadata": {},
   "outputs": [],
   "source": [
    "a = np.arange(0, 4) # [0, 1, 2, 3]\n",
    "a"
   ]
  },
  {
   "cell_type": "code",
   "execution_count": null,
   "metadata": {},
   "outputs": [],
   "source": [
    "b = np.array([10])  # [10]\n",
    "b"
   ]
  },
  {
   "cell_type": "code",
   "execution_count": null,
   "metadata": {},
   "outputs": [],
   "source": [
    "a + b # [0, 1, 2, 3] + [10, 10, 10, 10] = [10, 11, 12, 13]"
   ]
  },
  {
   "cell_type": "markdown",
   "metadata": {},
   "source": [
    "   - to `add` the array $[0, 1, 2, 3]$ to the array $[10]$ \n",
    "   - the array $[10]$ is `expended` to `match the size` $[10, 10, 10, 10]$"
   ]
  },
  {
   "cell_type": "code",
   "execution_count": null,
   "metadata": {},
   "outputs": [],
   "source": [
    "10 + a # the same with a single value"
   ]
  },
  {
   "cell_type": "markdown",
   "metadata": {},
   "source": [
    "### broadcasting `rules`\n",
    "\n",
    "   - when arrays `do not have` the `same` shape\n",
    "   - $\\texttt{numpy}$ `expands` the arrays (*when possible*)\n",
    "   - for `element-by-element` operation to `take place`\n",
    "\n",
    "   \n",
    "   \n",
    "   - dimensions are `compared` from `right` to `left`\n",
    "   - dimensions are taken `pairwise`\n",
    "   - broadcasting is `possible`\n",
    "      - 1) when the `dimensions` are `identical`\n",
    "      - 1) when `one` is $1$\n",
    "      \n",
    "      \n",
    "   \n",
    "   - https://docs.scipy.org/doc/numpy/user/basics.broadcasting.html\n",
    "   - http://scipy.github.io/old-wiki/pages/EricsBroadcastingDoc"
   ]
  },
  {
   "cell_type": "code",
   "execution_count": null,
   "metadata": {},
   "outputs": [],
   "source": [
    "a = 100 * np.ones((2, 3))\n",
    "a"
   ]
  },
  {
   "cell_type": "code",
   "execution_count": null,
   "metadata": {},
   "outputs": [],
   "source": [
    "b = 4\n",
    "b"
   ]
  },
  {
   "cell_type": "markdown",
   "metadata": {},
   "source": [
    "   - $a$ has `shape` $(2_a, 3_a)$\n",
    "   - $b$ has `shape` $(1_b)$\n",
    "   \n",
    "   \n",
    "   \n",
    "   - $3_a$ is `compared` to $1_b$\n",
    "   - $1_b$ `became` one row of size $3$ i.e. $b = [4, 4, 4]$\n",
    "   \n",
    "   \n",
    "   - the shape of $b$ is `now` $(1_b, 3_b)$\n",
    "   \n",
    "   \n",
    "   \n",
    "   - $2_a$ is `compared` to $1_b$\n",
    "   - $1_b$ `became` two rows i.e. $b = [[4, 4, 4], [4, 4, 4]]$\n",
    "   \n",
    "\n",
    "\n",
    "   - the shape of $b$ is `now` $(2_b, 3_b)$\n",
    "   \n",
    "   \n",
    "   - the two arrays can be added `element by element`\n",
    "   "
   ]
  },
  {
   "cell_type": "markdown",
   "metadata": {},
   "source": [
    "#### wrong example\n",
    "\n",
    "   - sometime shapes `cannot` be `broadcasted`"
   ]
  },
  {
   "cell_type": "code",
   "execution_count": null,
   "metadata": {},
   "outputs": [],
   "source": [
    "a = 100 * np.ones((2, 3))\n",
    "a"
   ]
  },
  {
   "cell_type": "code",
   "execution_count": null,
   "metadata": {},
   "outputs": [],
   "source": [
    "b = 10 * np.ones((2, 4))\n",
    "b"
   ]
  },
  {
   "cell_type": "markdown",
   "metadata": {},
   "source": [
    "   - $a$ has `shape` $(2_a, 3_a)$\n",
    "   - $b$ has `shape` $(2_b, 4_b)$\n",
    "   \n",
    "   \n",
    "   - broadcasting compares the pairs $(3_a, 4_b)$ then $(2_a, 2_b)$  \n",
    "   \n",
    "   \n",
    "   - $3_a$ is `compared` to $4_b$ and it `fails`\n",
    "   \n",
    "   \n",
    "\n",
    "the operation `does not follow the rules`"
   ]
  },
  {
   "cell_type": "code",
   "execution_count": null,
   "metadata": {},
   "outputs": [],
   "source": [
    "try:\n",
    "    a + b\n",
    "except ValueError as e:\n",
    "    print(e)"
   ]
  },
  {
   "cell_type": "markdown",
   "metadata": {},
   "source": [
    "   - broadcasting compares the pairs $(3_a, 1_b)$ and $(1_a, 2_a)$  "
   ]
  },
  {
   "cell_type": "markdown",
   "metadata": {},
   "source": [
    "#### 2D example "
   ]
  },
  {
   "cell_type": "code",
   "execution_count": null,
   "metadata": {},
   "outputs": [],
   "source": [
    "a = 10 * np.ones((1, 3))\n",
    "a"
   ]
  },
  {
   "cell_type": "code",
   "execution_count": null,
   "metadata": {},
   "outputs": [],
   "source": [
    "b = 100 * np.ones((2, 1))\n",
    "b"
   ]
  },
  {
   "cell_type": "markdown",
   "metadata": {},
   "source": [
    "   - $a$ has `shape` $(1_a, 3_a)$\n",
    "   - $b$ has `shape` $(2_b, 1_b)$\n",
    "   \n",
    "   \n",
    "   - broadcasting compares the pairs $(3_a, 1_b)$ then $(1_a, 2_b)$ \n",
    "   \n",
    "   \n",
    "   - first $b$ is broadcasted to `fit` $3$ `columns`\n",
    "   - $b$ became $[[100., 100., 100.],[100., 100., 100.]]$\n",
    "   \n",
    "   \n",
    "   \n",
    "   - then $a$ is broadcasted to `fit` $2$ `rows`\n",
    "   - $a$ became $[[10., 10., 10.], [10., 10., 10.]]$\n",
    "   \n",
    "   \n",
    "   \n",
    "   - the operation `does follow the rules`\n",
    "  \n",
    "   \n",
    "   - the `element by element` operation can take `place`\n",
    "   "
   ]
  },
  {
   "cell_type": "code",
   "execution_count": null,
   "metadata": {},
   "outputs": [],
   "source": [
    "a+b"
   ]
  },
  {
   "cell_type": "markdown",
   "metadata": {},
   "source": [
    "### greather dimensions"
   ]
  },
  {
   "cell_type": "code",
   "execution_count": null,
   "metadata": {},
   "outputs": [],
   "source": [
    "a = 100 * np.ones((2, 3, 4))\n",
    "a"
   ]
  },
  {
   "cell_type": "code",
   "execution_count": null,
   "metadata": {},
   "outputs": [],
   "source": [
    "b0 = 10\n",
    "a + b0"
   ]
  },
  {
   "cell_type": "code",
   "execution_count": null,
   "metadata": {},
   "outputs": [],
   "source": [
    "b1 = 10 * np.ones((3, 1))\n",
    "print(b1)\n",
    "a + b1"
   ]
  },
  {
   "cell_type": "code",
   "execution_count": null,
   "metadata": {},
   "outputs": [],
   "source": [
    "b2 = 10 * np.ones((1, 4))\n",
    "print(b2)\n",
    "a + b2"
   ]
  },
  {
   "cell_type": "code",
   "execution_count": null,
   "metadata": {},
   "outputs": [],
   "source": [
    "b3 = 2* np.ones((1, 3, 1))\n",
    "print(b3)\n",
    "a + b3"
   ]
  },
  {
   "cell_type": "markdown",
   "metadata": {},
   "source": [
    "*and so on, ...*"
   ]
  },
  {
   "cell_type": "markdown",
   "metadata": {},
   "source": [
    "### Broadcasting and vectorization\n",
    "   - broadcasting is very efficient\n",
    "   - (the broadcasted elements are not actually created in memory)\n",
    "   - broadcasting is based on optimized C code (same efficiency as vectorized operations)"
   ]
  },
  {
   "cell_type": "markdown",
   "metadata": {},
   "source": [
    "## 7) Array Indexing by `Boolean Masks`"
   ]
  },
  {
   "cell_type": "markdown",
   "metadata": {},
   "source": [
    "  - Boolean comparison operators are `UFuncs`\n",
    "  - when applied on arrays, they return the array of the element-by-element comparisons\n",
    "   \n",
    "   \n",
    "   - you obtain a `mask` i.e. you can `filter` your array"
   ]
  },
  {
   "cell_type": "code",
   "execution_count": null,
   "metadata": {},
   "outputs": [],
   "source": [
    "a = np.arange(6)\n",
    "a"
   ]
  },
  {
   "cell_type": "code",
   "execution_count": null,
   "metadata": {},
   "outputs": [],
   "source": [
    "a < 0"
   ]
  },
  {
   "cell_type": "code",
   "execution_count": null,
   "metadata": {},
   "outputs": [],
   "source": [
    "a > 0"
   ]
  },
  {
   "cell_type": "code",
   "execution_count": null,
   "metadata": {},
   "outputs": [],
   "source": [
    "a == 1"
   ]
  },
  {
   "cell_type": "markdown",
   "metadata": {},
   "source": [
    "### computing with Boolean values\n",
    "   - $\\texttt{False}$ is $0$, $\\texttt{True}$ is $1$\n",
    "   - use it to compute useful functions"
   ]
  },
  {
   "cell_type": "markdown",
   "metadata": {},
   "source": [
    "   - number of values less than $0.5$ ?"
   ]
  },
  {
   "cell_type": "code",
   "execution_count": null,
   "metadata": {},
   "outputs": [],
   "source": [
    "a = np.random.random((3, 4))\n",
    "a"
   ]
  },
  {
   "cell_type": "code",
   "execution_count": null,
   "metadata": {},
   "outputs": [],
   "source": [
    "np.sum(a < 0.5) # number of values less than 0.5 in the array a"
   ]
  },
  {
   "cell_type": "code",
   "execution_count": null,
   "metadata": {},
   "outputs": [],
   "source": [
    "np.count_nonzero(a < 0.5) # the same"
   ]
  },
  {
   "cell_type": "code",
   "execution_count": null,
   "metadata": {},
   "outputs": [],
   "source": [
    "np.sum(a < 0.5, axis=0) # number of values less than 0.5 in columns"
   ]
  },
  {
   "cell_type": "code",
   "execution_count": null,
   "metadata": {},
   "outputs": [],
   "source": [
    "np.sum(a < 0.5, axis=1) # number of values less than 0.5 in rows"
   ]
  },
  {
   "cell_type": "code",
   "execution_count": null,
   "metadata": {},
   "outputs": [],
   "source": [
    "np.sum(a < 1) == a.size  # True if all the values are less tha 1"
   ]
  },
  {
   "cell_type": "code",
   "execution_count": null,
   "metadata": {},
   "outputs": [],
   "source": [
    "np.all(a < 1)  # the same"
   ]
  },
  {
   "cell_type": "code",
   "execution_count": null,
   "metadata": {},
   "outputs": [],
   "source": [
    "np.sum(a < 0.5) >= 1  # True if any element is less than 0.5"
   ]
  },
  {
   "cell_type": "code",
   "execution_count": null,
   "metadata": {},
   "outputs": [],
   "source": [
    "np.any(a < 0.5)  # True if any element is less that 0.5"
   ]
  },
  {
   "cell_type": "markdown",
   "metadata": {},
   "source": [
    "### you can compose questions"
   ]
  },
  {
   "cell_type": "code",
   "execution_count": null,
   "metadata": {},
   "outputs": [],
   "source": [
    "a = np.arange(10)\n",
    "a"
   ]
  },
  {
   "cell_type": "markdown",
   "metadata": {},
   "source": [
    "number of elements less than 6 and even in the array $\\texttt{a}$"
   ]
  },
  {
   "cell_type": "code",
   "execution_count": null,
   "metadata": {},
   "outputs": [],
   "source": [
    "np.count_nonzero((a < 6) & (a%2 == 0)) # use parentheses"
   ]
  },
  {
   "cell_type": "markdown",
   "metadata": {},
   "source": [
    "### in $\\texttt{numpy}$\n",
    "   - use the `bitwise` operators $\\texttt{&}$, $\\texttt{|}$, $\\texttt{~}$ (or respectively `np.logical_and`, `np.logical_or`, `np.logical_not`)\n",
    "   - do not use the `logical` operators $\\texttt{and}$, $\\texttt{or}$, $\\texttt{not}$\n",
    "   \n",
    "   \n",
    "   - only `bitwise` operators are applied `element-by-element`"
   ]
  },
  {
   "cell_type": "markdown",
   "metadata": {},
   "source": [
    "### Indexing arrays with `masks`\n",
    "   - returns the elements for which the mask is True\n",
    "   - it creates a `new array`, not a `view`on the existing one"
   ]
  },
  {
   "cell_type": "code",
   "execution_count": null,
   "metadata": {},
   "outputs": [],
   "source": [
    "a = np.random.rand(3, 4) # a 3 x 4 matrix randomly initialized by values between 0 and 1\n",
    "a"
   ]
  },
  {
   "cell_type": "markdown",
   "metadata": {},
   "source": [
    "array of the elements of $\\texttt{a}$ that are less than $0.5$"
   ]
  },
  {
   "cell_type": "code",
   "execution_count": null,
   "metadata": {},
   "outputs": [],
   "source": [
    "a < 0.5"
   ]
  },
  {
   "cell_type": "code",
   "execution_count": null,
   "metadata": {},
   "outputs": [],
   "source": [
    "a[a < 0.5]"
   ]
  },
  {
   "cell_type": "markdown",
   "metadata": {},
   "source": [
    "indices of the elements"
   ]
  },
  {
   "cell_type": "code",
   "execution_count": null,
   "metadata": {},
   "outputs": [],
   "source": [
    "np.argwhere(a < 0.5) # [[i, j], ...] where i is the indice in the rows and j in the columns"
   ]
  },
  {
   "cell_type": "markdown",
   "metadata": {},
   "source": [
    "### indexing arrays with list or arrays of indices\n",
    "   - it returns a `new` array, not a `view`"
   ]
  },
  {
   "cell_type": "code",
   "execution_count": null,
   "metadata": {},
   "outputs": [],
   "source": [
    "a = np.arange(5)\n",
    "a"
   ]
  },
  {
   "cell_type": "code",
   "execution_count": null,
   "metadata": {},
   "outputs": [],
   "source": [
    "l = [1, 1, 4, 4]\n",
    "a[l]"
   ]
  },
  {
   "cell_type": "code",
   "execution_count": null,
   "metadata": {},
   "outputs": [],
   "source": [
    "l = np.array([1, 1, 4, 4])\n",
    "a[l]"
   ]
  },
  {
   "cell_type": "markdown",
   "metadata": {},
   "source": [
    "#### xxx) change elements of an array based on conditions with $\\texttt{numpy.putmask}$\n"
   ]
  },
  {
   "cell_type": "markdown",
   "metadata": {},
   "source": [
    "   - we want to `modify` the elements of an array\n",
    "   - based on `conditional`"
   ]
  },
  {
   "cell_type": "markdown",
   "metadata": {},
   "source": [
    "   - for example replace values between $-0.5$ and $0.5$ with $0$"
   ]
  },
  {
   "cell_type": "code",
   "execution_count": null,
   "metadata": {},
   "outputs": [],
   "source": [
    "import numpy as np"
   ]
  },
  {
   "cell_type": "code",
   "execution_count": null,
   "metadata": {},
   "outputs": [],
   "source": [
    "a = np.random.randn(20)\n",
    "a"
   ]
  },
  {
   "cell_type": "code",
   "execution_count": null,
   "metadata": {},
   "outputs": [],
   "source": [
    "np.putmask(a, (-0.5<a) & (a<0.5), 0)   # you cannot use `and` here"
   ]
  },
  {
   "cell_type": "code",
   "execution_count": null,
   "metadata": {},
   "outputs": [],
   "source": [
    "a"
   ]
  },
  {
   "cell_type": "code",
   "execution_count": null,
   "metadata": {},
   "outputs": [],
   "source": [
    "#np.putmask?"
   ]
  },
  {
   "cell_type": "markdown",
   "metadata": {},
   "source": [
    "## 8) deleting elements, rows and columns"
   ]
  },
  {
   "cell_type": "markdown",
   "metadata": {},
   "source": [
    "   - `delete` return a new array"
   ]
  },
  {
   "cell_type": "code",
   "execution_count": null,
   "metadata": {},
   "outputs": [],
   "source": [
    "a = np.arange(0, 12).reshape(3, 4)\n",
    "a"
   ]
  },
  {
   "cell_type": "markdown",
   "metadata": {},
   "source": [
    "   - deleting `rows`"
   ]
  },
  {
   "cell_type": "code",
   "execution_count": null,
   "metadata": {},
   "outputs": [],
   "source": [
    "np.delete(a, [0], axis=0)"
   ]
  },
  {
   "cell_type": "markdown",
   "metadata": {},
   "source": [
    "   - deleting `column` "
   ]
  },
  {
   "cell_type": "code",
   "execution_count": null,
   "metadata": {},
   "outputs": [],
   "source": [
    "np.delete(a, [0, 3], axis=1)"
   ]
  },
  {
   "cell_type": "markdown",
   "metadata": {},
   "source": [
    "   - deleting `elements`"
   ]
  },
  {
   "cell_type": "code",
   "execution_count": null,
   "metadata": {},
   "outputs": [],
   "source": [
    "np.delete(a, [0, 6, 11])"
   ]
  },
  {
   "cell_type": "code",
   "execution_count": null,
   "metadata": {},
   "outputs": [],
   "source": [
    "x.put?"
   ]
  },
  {
   "cell_type": "markdown",
   "metadata": {},
   "source": [
    "## 9) `view`, `copy` and temporary `copy`"
   ]
  },
  {
   "cell_type": "markdown",
   "metadata": {},
   "source": [
    "#### `views` on arrays"
   ]
  },
  {
   "cell_type": "markdown",
   "metadata": {},
   "source": [
    "   - `view` does `not` use `computer memory` for `array elements`\n",
    "   - (only for the indexes)\n",
    "   - for the `sake` of `memory efficiency`"
   ]
  },
  {
   "cell_type": "markdown",
   "metadata": {},
   "source": [
    "   - you can `check` if the `resut` of an `operation` is a `view` or a `copy`\n",
    "   - because `views` need to know the `original array`\n",
    "   - thus they must `store` it\n",
    "   - it is `called` $\\texttt{numpy.ndarray.base}$"
   ]
  },
  {
   "cell_type": "code",
   "execution_count": null,
   "metadata": {},
   "outputs": [],
   "source": [
    "a = np.array([[1, 2], [3, 4], [5, 6]])"
   ]
  },
  {
   "cell_type": "markdown",
   "metadata": {},
   "source": [
    "   - $\\texttt{a}$ is an `original` array\n",
    "   - it is `not` a `view` on an `existing` array\n",
    "   - i.e. it does `not` have a `base` array"
   ]
  },
  {
   "cell_type": "code",
   "execution_count": null,
   "metadata": {},
   "outputs": [],
   "source": [
    "a.base == None"
   ]
  },
  {
   "cell_type": "markdown",
   "metadata": {},
   "source": [
    "   - if we `take` a `view` on the array $\\texttt{a}$\n",
    "   - the `view` will refer to $\\texttt{a}$\n",
    "   - i.e. its $\\texttt{base}$ is $\\texttt{a}$"
   ]
  },
  {
   "cell_type": "code",
   "execution_count": null,
   "metadata": {},
   "outputs": [],
   "source": [
    "a_view = a[1:3]"
   ]
  },
  {
   "cell_type": "code",
   "execution_count": null,
   "metadata": {},
   "outputs": [],
   "source": [
    "a == a_view.base"
   ]
  },
  {
   "cell_type": "markdown",
   "metadata": {},
   "source": [
    "   - the `original` array ($\\texttt{a}$) and the `base` array of $\\texttt{a_view}$ are not only `equal`"
   ]
  },
  {
   "cell_type": "code",
   "execution_count": null,
   "metadata": {},
   "outputs": [],
   "source": [
    "a[1:3].base is a"
   ]
  },
  {
   "cell_type": "markdown",
   "metadata": {},
   "source": [
    "   - they are the same `computer objects`"
   ]
  },
  {
   "cell_type": "code",
   "execution_count": null,
   "metadata": {},
   "outputs": [],
   "source": [
    "a = np.array([[1, 2], [3, 4], [5, 6]])\n",
    "b = np.ravel(a)\n",
    "b.base is a"
   ]
  },
  {
   "cell_type": "markdown",
   "metadata": {},
   "source": [
    "#### `copy` on arrays"
   ]
  },
  {
   "cell_type": "code",
   "execution_count": null,
   "metadata": {},
   "outputs": [],
   "source": [
    "a = np.array([[1, 2], [3, 4], [5, 6]])\n",
    "b = a.flatten()\n",
    "b.base is None"
   ]
  },
  {
   "cell_type": "markdown",
   "metadata": {},
   "source": [
    "#### `temporary arrays`"
   ]
  },
  {
   "cell_type": "markdown",
   "metadata": {},
   "source": [
    "   - `copy` can be make `implicitly` during the `operations`\n",
    "   - to `store` `intermediate` values of the `array`"
   ]
  },
  {
   "cell_type": "code",
   "execution_count": null,
   "metadata": {},
   "outputs": [],
   "source": [
    "a = np.ones(5)\n",
    "b = np.ones(5)"
   ]
  },
  {
   "cell_type": "code",
   "execution_count": null,
   "metadata": {},
   "outputs": [],
   "source": [
    "x = 3 * a + 5 * b\n",
    "x"
   ]
  },
  {
   "cell_type": "markdown",
   "metadata": {},
   "source": [
    "   - `one` `temporary` array holds $3 \\times a$\n",
    "   - `one` holds $5 \\times b$\n",
    "   - and $x$ holds the `result`"
   ]
  },
  {
   "cell_type": "code",
   "execution_count": null,
   "metadata": {},
   "outputs": [],
   "source": [
    "a = np.ones(1000000000, dtype=np.int)"
   ]
  },
  {
   "cell_type": "code",
   "execution_count": null,
   "metadata": {},
   "outputs": [],
   "source": [
    "b = np.ones(1000000000, dtype=np.int)"
   ]
  },
  {
   "cell_type": "code",
   "execution_count": null,
   "metadata": {},
   "outputs": [],
   "source": [
    "timeit('x = 3*a + 5*b', globals())\n",
    "\n",
    "timeit('np.multiply(a, 3, out=a); np.multiply(b, 5, out=b); np.add(a, b, out=a)', globals())"
   ]
  },
  {
   "cell_type": "markdown",
   "metadata": {},
   "source": [
    "## XXX) sorting an array "
   ]
  },
  {
   "cell_type": "markdown",
   "metadata": {},
   "source": [
    "   - $\\texttt{numpy.sort}$ returns a `copy` of the array\n",
    "   - $\\texttt{numpy.ndarray.sort}$ sorts the array `in place`\n",
    "      \n",
    "   - you sort along an `axis`"
   ]
  },
  {
   "cell_type": "code",
   "execution_count": null,
   "metadata": {},
   "outputs": [],
   "source": [
    "a = np.random.randint(0, 10, (3, 4))\n",
    "a"
   ]
  },
  {
   "cell_type": "markdown",
   "metadata": {},
   "source": [
    "   - we can sort in the `axis` of the `column`\n",
    "   - i.e. the `columns` will be sorted for each `row`\n",
    "   - i.e. `row` will end-up `sorted`"
   ]
  },
  {
   "cell_type": "code",
   "execution_count": null,
   "metadata": {},
   "outputs": [],
   "source": [
    "np.sort(a, axis=1)  # a.sort() will modify a in place"
   ]
  },
  {
   "cell_type": "markdown",
   "metadata": {},
   "source": [
    "  - we can sort along the `axis` of the `rows`"
   ]
  },
  {
   "cell_type": "code",
   "execution_count": null,
   "metadata": {},
   "outputs": [],
   "source": [
    "np.sort(a, axis=0)"
   ]
  },
  {
   "cell_type": "markdown",
   "metadata": {},
   "source": [
    "## XXX) `advanced` indexing\n",
    "   - you can define `slices` of arrays using `lists` or `arrays` of index\n",
    "   - you obtain a `copy` of the `original` array\n",
    "   \n",
    "   - *(like we have done for the boolean masks)*"
   ]
  },
  {
   "cell_type": "code",
   "execution_count": null,
   "metadata": {},
   "outputs": [],
   "source": [
    "a = np.array([[5, 2, 0], [9, 3, 8], [7, 0, 6]])\n",
    "a"
   ]
  },
  {
   "cell_type": "markdown",
   "metadata": {},
   "source": [
    "   - what if, for example, we want to `sort` the array $\\texttt{a}$, along a `given column`\n",
    "   - and `keep` the `rows` the same ?"
   ]
  },
  {
   "cell_type": "markdown",
   "metadata": {},
   "source": [
    "   - we want to sort the array `by` the `second column`\n",
    "   - $\\texttt{a[:, 1]}$ is $[2_0, 3_1, 0_2]$"
   ]
  },
  {
   "cell_type": "markdown",
   "metadata": {},
   "source": [
    "   - we get the `indices` of the `sorted column`\n",
    "   - here $[2, 0, 1]$"
   ]
  },
  {
   "cell_type": "code",
   "execution_count": null,
   "metadata": {},
   "outputs": [],
   "source": [
    "np.argsort(a[:, 1])"
   ]
  },
  {
   "cell_type": "markdown",
   "metadata": {},
   "source": [
    "   - we `indice` the array by the `array of indices`\n",
    "   - it is called `advanced` indexing \n",
    "   - it returns a `copy` of the array `not` a `view`"
   ]
  },
  {
   "cell_type": "code",
   "execution_count": null,
   "metadata": {},
   "outputs": [],
   "source": [
    "a[np.argsort(a[:, 1])].base == None # None because it is not a view on an existing array"
   ]
  },
  {
   "cell_type": "code",
   "execution_count": null,
   "metadata": {},
   "outputs": [],
   "source": [
    "a[0].base is a # simple indexing it returns a view on the array `a` (it has a base)"
   ]
  },
  {
   "cell_type": "code",
   "execution_count": null,
   "metadata": {},
   "outputs": [],
   "source": [
    "a[[0]].base == None # advanced indexing: it returns a copy of the slice"
   ]
  },
  {
   "cell_type": "code",
   "execution_count": null,
   "metadata": {},
   "outputs": [],
   "source": [
    "a"
   ]
  },
  {
   "cell_type": "markdown",
   "metadata": {},
   "source": [
    "## XX) strides"
   ]
  },
  {
   "cell_type": "markdown",
   "metadata": {},
   "source": [
    "   - `strides` are `offset` you have to `step` in each `dimension` when `traversing` an `array`"
   ]
  },
  {
   "cell_type": "markdown",
   "metadata": {},
   "source": [
    "https://docs.scipy.org/doc/numpy/reference/generated/numpy.ndarray.strides.html#numpy.ndarray.strides"
   ]
  },
  {
   "cell_type": "code",
   "execution_count": null,
   "metadata": {},
   "outputs": [],
   "source": [
    "import numpy as np"
   ]
  },
  {
   "cell_type": "code",
   "execution_count": null,
   "metadata": {},
   "outputs": [],
   "source": [
    "x = np.array([[0, 1, 2, 3, 4], [5, 6, 7, 8, 9]], dtype=np.int32)"
   ]
  },
  {
   "cell_type": "code",
   "execution_count": null,
   "metadata": {},
   "outputs": [],
   "source": [
    "x"
   ]
  },
  {
   "cell_type": "markdown",
   "metadata": {},
   "source": [
    "##### memory is contiguous i.e.\n",
    "   - the array is $[0, 1, 2, 3, 4, 5, 6, 7, 8, 9]$\n",
    "   - each element is $4$ bytes long (i.e. 32 bits)\n",
    "   \n",
    "   \n",
    "   - to go from the `first element` of the `first array`\n",
    "   - to the `first element` of the `second array`\n",
    "   - i `step` $5 \\times 4$ bytes i.e. $20$ bytes\n",
    "   \n",
    "   \n",
    "   - thus the two `offsets` are $20$ and $4$\n",
    "\n",
    "   - this is given by the $\\texttt{strides}$ of the array"
   ]
  },
  {
   "cell_type": "code",
   "execution_count": null,
   "metadata": {},
   "outputs": [],
   "source": [
    "x.strides"
   ]
  },
  {
   "cell_type": "markdown",
   "metadata": {},
   "source": [
    "   - another example"
   ]
  },
  {
   "cell_type": "code",
   "execution_count": null,
   "metadata": {},
   "outputs": [],
   "source": [
    "a = np.arange(0, 24)\n",
    "x = a.reshape(2, 3, 4)\n",
    "x"
   ]
  },
  {
   "cell_type": "markdown",
   "metadata": {},
   "source": [
    "   - the underlying array is $[0, 1, ..., 23]$"
   ]
  },
  {
   "cell_type": "code",
   "execution_count": null,
   "metadata": {},
   "outputs": [],
   "source": [
    "x.base is a"
   ]
  },
  {
   "cell_type": "markdown",
   "metadata": {},
   "source": [
    "   - to go `from` the `first` array ($x[0]$) to the `second` ($x[1]$)\n",
    "   - we have to step $3 \\times 4$ elements\n",
    "   - each `element` being 8 `bytes`\n",
    "   - the offset is $3 \\times 4 \\times 8$"
   ]
  },
  {
   "cell_type": "code",
   "execution_count": null,
   "metadata": {},
   "outputs": [],
   "source": [
    "x.itemsize * x.shape[1] * x.shape[2] # 8 x 3 x 4"
   ]
  },
  {
   "cell_type": "markdown",
   "metadata": {},
   "source": [
    "   - to `step` from `one` row of the array to the `next one`\n",
    "   - it is $4 \\times 8$"
   ]
  },
  {
   "cell_type": "code",
   "execution_count": null,
   "metadata": {},
   "outputs": [],
   "source": [
    "x.strides"
   ]
  },
  {
   "cell_type": "markdown",
   "metadata": {},
   "source": [
    "   `strides` for `views` "
   ]
  },
  {
   "cell_type": "code",
   "execution_count": null,
   "metadata": {},
   "outputs": [],
   "source": [
    "y = x[0, 0:3:2]\n",
    "y"
   ]
  },
  {
   "cell_type": "code",
   "execution_count": null,
   "metadata": {},
   "outputs": [],
   "source": [
    "y.base is x.base"
   ]
  },
  {
   "cell_type": "markdown",
   "metadata": {},
   "source": [
    "   - to `step` from one `row` to the other\n",
    "   - we go from element $0$ to element $8$\n",
    "   - we jump $4$ elements, two times and elements are $8$ bytes\n",
    "   - $4 \\times 2 \\times 8$"
   ]
  },
  {
   "cell_type": "code",
   "execution_count": null,
   "metadata": {},
   "outputs": [],
   "source": [
    "y.strides"
   ]
  },
  {
   "cell_type": "markdown",
   "metadata": {},
   "source": [
    "## 10) linear algebra"
   ]
  },
  {
   "cell_type": "markdown",
   "metadata": {},
   "source": [
    "   - with $\\texttt{numpy}$ you `manipulate` `vectors` and `matrices`\n",
    "   - https://docs.scipy.org/doc/numpy/reference/routines.linalg.html"
   ]
  },
  {
   "cell_type": "markdown",
   "metadata": {},
   "source": [
    "### a) vector, matrix multiplication with $\\texttt{numpy.dot}$\n",
    "\n",
    "https://stackoverflow.com/questions/3890621/how-does-multiplication-differ-for-numpy-matrix-vs-array-classes"
   ]
  },
  {
   "cell_type": "markdown",
   "metadata": {},
   "source": [
    "##### we can multiply `two vectors` (`inner product` of vectors)"
   ]
  },
  {
   "cell_type": "code",
   "execution_count": null,
   "metadata": {},
   "outputs": [],
   "source": [
    "v = np.array([1, 2, 3])\n",
    "w = np.array([4, 5, 6])"
   ]
  },
  {
   "cell_type": "code",
   "execution_count": null,
   "metadata": {},
   "outputs": [],
   "source": [
    "np.dot(v, w)"
   ]
  },
  {
   "cell_type": "code",
   "execution_count": null,
   "metadata": {},
   "outputs": [],
   "source": [
    "v.dot(w)"
   ]
  },
  {
   "cell_type": "markdown",
   "metadata": {},
   "source": [
    "   - be careful $\\texttt{*}$ is `an element by element` product"
   ]
  },
  {
   "cell_type": "code",
   "execution_count": null,
   "metadata": {},
   "outputs": [],
   "source": [
    "v*w"
   ]
  },
  {
   "cell_type": "markdown",
   "metadata": {},
   "source": [
    "##### we can multiply a `matrix` by a `vector`"
   ]
  },
  {
   "cell_type": "markdown",
   "metadata": {},
   "source": [
    "   - $a$ is a $(3 \\times 4)$ matrix"
   ]
  },
  {
   "cell_type": "code",
   "execution_count": null,
   "metadata": {},
   "outputs": [],
   "source": [
    "a = np.arange(1, 13).reshape(3, 4)\n",
    "a"
   ]
  },
  {
   "cell_type": "markdown",
   "metadata": {},
   "source": [
    "   - the `vector` must have $4$ rows"
   ]
  },
  {
   "cell_type": "code",
   "execution_count": null,
   "metadata": {},
   "outputs": [],
   "source": [
    "b = np.arange(11, 15).reshape(4, 1)\n",
    "b"
   ]
  },
  {
   "cell_type": "code",
   "execution_count": null,
   "metadata": {},
   "outputs": [],
   "source": [
    "print(a, '.\\n', b)"
   ]
  },
  {
   "cell_type": "code",
   "execution_count": null,
   "metadata": {},
   "outputs": [],
   "source": [
    "np.dot(a, b)"
   ]
  },
  {
   "cell_type": "markdown",
   "metadata": {},
   "source": [
    "   - another way to call $\\texttt{numpy.dot}$"
   ]
  },
  {
   "cell_type": "code",
   "execution_count": null,
   "metadata": {},
   "outputs": [],
   "source": [
    "a.dot(b)"
   ]
  },
  {
   "cell_type": "markdown",
   "metadata": {},
   "source": [
    "   - be careful $*$ is the `element-by-element` multiplication"
   ]
  },
  {
   "cell_type": "code",
   "execution_count": null,
   "metadata": {},
   "outputs": [],
   "source": [
    "a*a"
   ]
  },
  {
   "cell_type": "markdown",
   "metadata": {},
   "source": [
    "##### we can multiply two `matrices`"
   ]
  },
  {
   "cell_type": "markdown",
   "metadata": {},
   "source": [
    "   - $a$ is a $(3 \\times 4)$ matrix"
   ]
  },
  {
   "cell_type": "code",
   "execution_count": null,
   "metadata": {},
   "outputs": [],
   "source": [
    "b = np.arange(11, 23).reshape(4, 3)\n",
    "b"
   ]
  },
  {
   "cell_type": "markdown",
   "metadata": {},
   "source": [
    "   - the second `matrix` must be  $(4 \\times 3)$"
   ]
  },
  {
   "cell_type": "code",
   "execution_count": null,
   "metadata": {},
   "outputs": [],
   "source": [
    "np.dot(a, b)"
   ]
  },
  {
   "cell_type": "markdown",
   "metadata": {},
   "source": [
    "   - the method exists also on the $\\texttt{numpy}$ `object` "
   ]
  },
  {
   "cell_type": "code",
   "execution_count": null,
   "metadata": {},
   "outputs": [],
   "source": [
    "a.dot(b)"
   ]
  },
  {
   "cell_type": "markdown",
   "metadata": {},
   "source": [
    "$\\texttt{numpy.vdot}$\n",
    "   - it returns the `dot product` of two `vectors`\n",
    "   - should `only` be used for `vectors`\n",
    "   - handles `multidimensional` arrays by `flattening` its `input` arrays\n"
   ]
  },
  {
   "cell_type": "code",
   "execution_count": null,
   "metadata": {},
   "outputs": [],
   "source": [
    "a = np.arange(1, 13).reshape(4, 3)\n",
    "\n",
    "b = np.arange(11, 23).reshape(3, 4)\n",
    "\n",
    "print(np.vdot(a, b))"
   ]
  },
  {
   "cell_type": "markdown",
   "metadata": {},
   "source": [
    "   - to obtain the same with $\\texttt{numpy.dot}$\n",
    "   -you must `flatten` the matrices"
   ]
  },
  {
   "cell_type": "code",
   "execution_count": null,
   "metadata": {},
   "outputs": [],
   "source": [
    "np.dot(a.flatten(), b.flatten())"
   ]
  },
  {
   "cell_type": "markdown",
   "metadata": {},
   "source": [
    "$\\texttt{numpy.dot}$ return a $\\texttt{numpy.ndarray}$"
   ]
  },
  {
   "cell_type": "markdown",
   "metadata": {},
   "source": [
    "see also $\\texttt{numpy.tensordot}$, $\\texttt{numpy.inner}$, $\\texttt{numpy.outer}$, ..."
   ]
  },
  {
   "cell_type": "markdown",
   "metadata": {},
   "source": [
    "### a) matrix multiplication with $\\texttt{numpy.matmul}$"
   ]
  },
  {
   "cell_type": "code",
   "execution_count": null,
   "metadata": {},
   "outputs": [],
   "source": [
    "np.matmul(a, b)"
   ]
  },
  {
   "cell_type": "code",
   "execution_count": null,
   "metadata": {},
   "outputs": [],
   "source": [
    "b = np.array([[10, 20],\n",
    "              [30, 40]])\n",
    "b"
   ]
  },
  {
   "cell_type": "markdown",
   "metadata": {},
   "source": [
    "$\\texttt{numpy.matmul}$ return a $\\texttt{numpy.ndarray}$"
   ]
  },
  {
   "cell_type": "markdown",
   "metadata": {},
   "source": [
    "   - in this example $\\texttt{numpy.matmul}$ and $\\texttt{numpy.dot}$ return the `same` result"
   ]
  },
  {
   "cell_type": "code",
   "execution_count": null,
   "metadata": {},
   "outputs": [],
   "source": [
    "np.matmul(a, b) == np.dot(a, b)"
   ]
  },
  {
   "cell_type": "markdown",
   "metadata": {},
   "source": [
    "   - but it not always the same\n",
    "   - the functions are `different` see the help\n",
    "   - or see https://stackoverflow.com/questions/34142485/difference-between-numpy-dot-and-python-3-5-matrix-multiplication"
   ]
  },
  {
   "cell_type": "markdown",
   "metadata": {},
   "source": [
    "### matrix transposition"
   ]
  },
  {
   "cell_type": "code",
   "execution_count": null,
   "metadata": {},
   "outputs": [],
   "source": [
    "a.T"
   ]
  },
  {
   "cell_type": "code",
   "execution_count": null,
   "metadata": {},
   "outputs": [],
   "source": [
    "np.transpose(a)"
   ]
  },
  {
   "cell_type": "markdown",
   "metadata": {},
   "source": [
    "### other mathematic functions"
   ]
  },
  {
   "cell_type": "markdown",
   "metadata": {},
   "source": [
    "| methods           |   behavior |\n",
    "|-----------------|--------|\n",
    "| $\\texttt{numpy.linalg.det}$ | determinant |\n",
    "| $\\texttt{numpy.linalg.inv}$ | inversion |\n",
    "| $\\texttt{numpy.linalg.eig}$ | eigen values |\n",
    "| $\\texttt{numpy.linalg..solve}$ | solving equation system |\n",
    "| $\\texttt{numpy.eye}$       |identity matrix |\n",
    "| $\\texttt{numpy.diag}$      | extract diagonal|\n",
    "| $\\texttt{numpy.diag}$      | build diagonal matrix |\n",
    "| `...`           | ...|\n"
   ]
  },
  {
   "cell_type": "markdown",
   "metadata": {},
   "source": [
    "### norm"
   ]
  },
  {
   "cell_type": "code",
   "execution_count": null,
   "metadata": {},
   "outputs": [],
   "source": [
    "a = np.arange(1, 16).reshape(3, 5)\n",
    "a"
   ]
  },
  {
   "cell_type": "markdown",
   "metadata": {},
   "source": [
    "   - `2-morm`\n",
    "   - $\\displaystyle \\left\\|{\\boldsymbol {x}}\\right\\|_{2}={\\sqrt {x_{1}^{2}+\\cdots +x_{n}^{2}}}$ "
   ]
  },
  {
   "cell_type": "code",
   "execution_count": null,
   "metadata": {},
   "outputs": [],
   "source": [
    "np.linalg.norm(a)"
   ]
  },
  {
   "cell_type": "code",
   "execution_count": null,
   "metadata": {},
   "outputs": [],
   "source": [
    "np.sqrt(np.sum(np.power(a.ravel(), 2)))"
   ]
  },
  {
   "cell_type": "markdown",
   "metadata": {},
   "source": [
    "   - `2-norm` on `rows`"
   ]
  },
  {
   "cell_type": "code",
   "execution_count": null,
   "metadata": {},
   "outputs": [],
   "source": [
    "np.linalg.norm(a, axis=0)"
   ]
  },
  {
   "cell_type": "code",
   "execution_count": null,
   "metadata": {},
   "outputs": [],
   "source": [
    "np.sqrt(np.sum(np.power(a, 2), axis=0))"
   ]
  },
  {
   "cell_type": "markdown",
   "metadata": {},
   "source": [
    "   - `2-norm` on `columns`"
   ]
  },
  {
   "cell_type": "code",
   "execution_count": null,
   "metadata": {},
   "outputs": [],
   "source": [
    "np.linalg.norm(a, axis=1)"
   ]
  },
  {
   "cell_type": "code",
   "execution_count": null,
   "metadata": {},
   "outputs": [],
   "source": [
    "np.sqrt(np.sum(np.power(a, 2), axis=1))"
   ]
  },
  {
   "cell_type": "markdown",
   "metadata": {},
   "source": [
    "### determinant"
   ]
  },
  {
   "cell_type": "code",
   "execution_count": null,
   "metadata": {},
   "outputs": [],
   "source": [
    "b = np.random.random(size=(3, 3))\n",
    "b"
   ]
  },
  {
   "cell_type": "code",
   "execution_count": null,
   "metadata": {},
   "outputs": [],
   "source": [
    "np.linalg.det(b)"
   ]
  },
  {
   "cell_type": "markdown",
   "metadata": {},
   "source": [
    "### diagonal"
   ]
  },
  {
   "cell_type": "markdown",
   "metadata": {},
   "source": [
    "   - return the diagonal"
   ]
  },
  {
   "cell_type": "code",
   "execution_count": null,
   "metadata": {},
   "outputs": [],
   "source": [
    "np.diag(b) "
   ]
  },
  {
   "cell_type": "markdown",
   "metadata": {},
   "source": [
    "   - create a diagonal matrix"
   ]
  },
  {
   "cell_type": "code",
   "execution_count": null,
   "metadata": {},
   "outputs": [],
   "source": [
    "np.diag([1, 2, 3])"
   ]
  },
  {
   "cell_type": "markdown",
   "metadata": {},
   "source": [
    "### trace"
   ]
  },
  {
   "cell_type": "markdown",
   "metadata": {},
   "source": [
    "   - the sum along the `diagonal` of the arrays"
   ]
  },
  {
   "cell_type": "code",
   "execution_count": null,
   "metadata": {},
   "outputs": [],
   "source": [
    "b = np.arange(12).reshape(3, 4)\n",
    "b"
   ]
  },
  {
   "cell_type": "code",
   "execution_count": null,
   "metadata": {},
   "outputs": [],
   "source": [
    "np.trace(b)"
   ]
  },
  {
   "cell_type": "markdown",
   "metadata": {},
   "source": [
    "### inversion"
   ]
  },
  {
   "cell_type": "code",
   "execution_count": null,
   "metadata": {},
   "outputs": [],
   "source": [
    "b = np.random.random(size=(3, 3))\n",
    "b"
   ]
  },
  {
   "cell_type": "markdown",
   "metadata": {},
   "source": [
    "   - $b^{-1}b=I$\n",
    "   - (`almost equal` for computer-numbers) "
   ]
  },
  {
   "cell_type": "code",
   "execution_count": null,
   "metadata": {},
   "outputs": [],
   "source": [
    "np.isclose(  np.dot(np.linalg.inv(b), b),   np.identity(b.shape[0]) )"
   ]
  },
  {
   "cell_type": "markdown",
   "metadata": {},
   "source": [
    "### eignen values"
   ]
  },
  {
   "cell_type": "markdown",
   "metadata": {},
   "source": [
    "   - $f(v) = \\lambda v$ \n",
    "   - $M v = \\lambda v$"
   ]
  },
  {
   "cell_type": "code",
   "execution_count": null,
   "metadata": {},
   "outputs": [],
   "source": [
    "M = np.random.random(size=(3, 3))\n",
    "l, v = np.linalg.eig(M)  # eigen_values, eigen_vectors\n",
    "l, v"
   ]
  },
  {
   "cell_type": "markdown",
   "metadata": {},
   "source": [
    "   - $M v = \\lambda v$"
   ]
  },
  {
   "cell_type": "code",
   "execution_count": null,
   "metadata": {},
   "outputs": [],
   "source": [
    "np.isclose(   np.dot(M, v[:, 0]),  l[0]* v[:, 0] )"
   ]
  },
  {
   "cell_type": "markdown",
   "metadata": {},
   "source": [
    "   - $(M - \\lambda I) = 0$"
   ]
  },
  {
   "cell_type": "code",
   "execution_count": null,
   "metadata": {},
   "outputs": [],
   "source": [
    "np.isclose(    np.dot(M - l[0]*np.identity(3), v[:, 0]),   np.zeros(3))"
   ]
  },
  {
   "cell_type": "markdown",
   "metadata": {},
   "source": [
    "### solve"
   ]
  },
  {
   "cell_type": "markdown",
   "metadata": {},
   "source": [
    "a x = b"
   ]
  },
  {
   "cell_type": "code",
   "execution_count": null,
   "metadata": {},
   "outputs": [],
   "source": [
    "A = np.random.random(size=(3, 3))\n",
    "b = [1, 2, 3]"
   ]
  },
  {
   "cell_type": "code",
   "execution_count": null,
   "metadata": {},
   "outputs": [],
   "source": [
    "x = np.linalg.solve(A, b) # A x = b\n",
    "x"
   ]
  },
  {
   "cell_type": "code",
   "execution_count": null,
   "metadata": {},
   "outputs": [],
   "source": [
    "np.isclose( np.dot(A, x), b)"
   ]
  },
  {
   "cell_type": "markdown",
   "metadata": {},
   "source": [
    "## xxx) structured arrays"
   ]
  },
  {
   "cell_type": "markdown",
   "metadata": {},
   "source": [
    "   - we have seen `homogeneous` arrays\n",
    "   - i.e. `all the elements` have the `same type` (int, float, bool, str, etc.)"
   ]
  },
  {
   "cell_type": "markdown",
   "metadata": {},
   "source": [
    "   - we can also define `structured types` (also called `composed-type`, `user-defined` type, ...)\n",
    "   - (like `class` in c++ or java)"
   ]
  },
  {
   "cell_type": "markdown",
   "metadata": {},
   "source": [
    "   - the data is a list of `homogeneous` elements\n",
    "   - but each element is `structured`"
   ]
  },
  {
   "cell_type": "markdown",
   "metadata": {},
   "source": [
    "### xxx) without giving the `dtype` the array will still be `homogeneous` and `non -structured`"
   ]
  },
  {
   "cell_type": "code",
   "execution_count": null,
   "metadata": {},
   "outputs": [],
   "source": [
    "names = np.array([('Carmen', 'Thompson', 27),\n",
    "                  ('Billie', 'Chambers', 25),\n",
    "                  ('Kris', 'Moore', 29) ])\n",
    "names"
   ]
  },
  {
   "cell_type": "markdown",
   "metadata": {},
   "source": [
    "   - $\\texttt{numpy}$ infers a `data type` or a $3 \\times 3$ array\n",
    "   - here a `8 bytes long` character string\n",
    "\n",
    "   - i.e. each `element` is a `string` of $8$ characters"
   ]
  },
  {
   "cell_type": "code",
   "execution_count": null,
   "metadata": {},
   "outputs": [],
   "source": [
    "names[0].dtype"
   ]
  },
  {
   "cell_type": "markdown",
   "metadata": {},
   "source": [
    "   - we can `lose` information\n",
    "   - if we `modify` an element, it can be `truncated` if needed"
   ]
  },
  {
   "cell_type": "code",
   "execution_count": null,
   "metadata": {},
   "outputs": [],
   "source": [
    "names[0][0] = 'Jean-Sebastien' # it is more than 8 characters long"
   ]
  },
  {
   "cell_type": "code",
   "execution_count": null,
   "metadata": {},
   "outputs": [],
   "source": [
    "names[0][0] # "
   ]
  },
  {
   "cell_type": "markdown",
   "metadata": {},
   "source": [
    "## specifying the `dtype`"
   ]
  },
  {
   "cell_type": "markdown",
   "metadata": {},
   "source": [
    "   - if you want the `components` of your objects to be `heteroneneous`\n",
    "   - you must `specify` the $\\texttt{dtype}$"
   ]
  },
  {
   "cell_type": "markdown",
   "metadata": {},
   "source": [
    "for example:\n",
    "   - $\\texttt{last name}$ is a `10 bytes long unicode character string`\n",
    "   - $\\texttt{first name}$ is a `8 bytes long unicode character string`\n",
    "   - $\\texttt{age}$ is a `1 byte (8 bits) long integer`"
   ]
  },
  {
   "cell_type": "code",
   "execution_count": null,
   "metadata": {},
   "outputs": [],
   "source": [
    "names = np.array([('Carmen', 'Thompson', 27),\n",
    "                  ('Billie', 'Chambers', 25),\n",
    "                  ('Kris', 'Moore', 29),\n",
    "                  ('Anna', 'Young', 24) ],\n",
    "                 dtype = [('first name', '<U10'), ('last name', '<U8'), ('age', np.int8)])\n",
    "names"
   ]
  },
  {
   "cell_type": "markdown",
   "metadata": {},
   "source": [
    "   - $\\texttt{names}$ is a `flat array` of $4$ elements"
   ]
  },
  {
   "cell_type": "code",
   "execution_count": null,
   "metadata": {},
   "outputs": [],
   "source": [
    "names.shape"
   ]
  },
  {
   "cell_type": "markdown",
   "metadata": {},
   "source": [
    "   - you can access `elements`"
   ]
  },
  {
   "cell_type": "code",
   "execution_count": null,
   "metadata": {},
   "outputs": [],
   "source": [
    "names[0]['first name'], names[0]['last name'], names[0]['age']"
   ]
  },
  {
   "cell_type": "markdown",
   "metadata": {},
   "source": [
    "   - you can modify elements"
   ]
  },
  {
   "cell_type": "code",
   "execution_count": null,
   "metadata": {},
   "outputs": [],
   "source": [
    "names[0][0] = 'Maria-Carmelita'"
   ]
  },
  {
   "cell_type": "markdown",
   "metadata": {},
   "source": [
    "   - the $\\texttt{firt name}$ is `too long` for the `defined type`\n",
    "   - it will be `truncated` to `fit`"
   ]
  },
  {
   "cell_type": "code",
   "execution_count": null,
   "metadata": {},
   "outputs": [],
   "source": [
    "names[0][0] "
   ]
  },
  {
   "cell_type": "markdown",
   "metadata": {},
   "source": [
    "   - you can `reshape` the array"
   ]
  },
  {
   "cell_type": "code",
   "execution_count": null,
   "metadata": {},
   "outputs": [],
   "source": [
    "names = names.reshape((2, 2))\n",
    "names"
   ]
  },
  {
   "cell_type": "code",
   "execution_count": null,
   "metadata": {},
   "outputs": [],
   "source": [
    "names[:, 1] # all rows column 1"
   ]
  },
  {
   "cell_type": "markdown",
   "metadata": {},
   "source": [
    "   - there are `short cuts` to create `structured` arrays"
   ]
  },
  {
   "cell_type": "code",
   "execution_count": null,
   "metadata": {},
   "outputs": [],
   "source": [
    "np.array?"
   ]
  },
  {
   "cell_type": "code",
   "execution_count": null,
   "metadata": {},
   "outputs": [],
   "source": [
    "names = np.array([('Carmen', 'Thompson', 27),\n",
    "                  ('Billie', 'Chambers', 25),\n",
    "                  ('Kris', 'Moore', 29),\n",
    "                  ('Anna', 'Young', 24) ],\n",
    "                 dtype = ['U10,U8,i8'],\n",
    "                 names = ['first name', 'last name', 'age'])\n",
    "names"
   ]
  },
  {
   "cell_type": "code",
   "execution_count": null,
   "metadata": {},
   "outputs": [],
   "source": []
  }
 ],
 "metadata": {
  "kernelspec": {
   "display_name": "Python 3",
   "language": "python",
   "name": "python3"
  },
  "language_info": {
   "codemirror_mode": {
    "name": "ipython",
    "version": 3
   },
   "file_extension": ".py",
   "mimetype": "text/x-python",
   "name": "python",
   "nbconvert_exporter": "python",
   "pygments_lexer": "ipython3",
   "version": "3.7.3"
  }
 },
 "nbformat": 4,
 "nbformat_minor": 4
}
