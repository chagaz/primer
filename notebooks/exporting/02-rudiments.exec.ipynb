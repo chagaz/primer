{
 "cells": [
  {
   "cell_type": "markdown",
   "metadata": {
    "slideshow": {
     "slide_type": ""
    }
   },
   "source": [
    "# le langage Python"
   ]
  },
  {
   "cell_type": "markdown",
   "metadata": {},
   "source": [
    "## commentaires\n",
    "\n",
    "tout ce qui est après un `#` est un commentaire, c'est ignoré"
   ]
  },
  {
   "cell_type": "code",
   "execution_count": 1,
   "metadata": {},
   "outputs": [
    {
     "data": {
      "text/plain": [
       "100"
      ]
     },
     "execution_count": 1,
     "metadata": {},
     "output_type": "execute_result"
    }
   ],
   "source": [
    "# ceci est un commentaire\n",
    "\n",
    "10 * 10   # et ici aussi"
   ]
  },
  {
   "cell_type": "markdown",
   "metadata": {
    "slideshow": {
     "slide_type": "slide"
    }
   },
   "source": [
    "## nombres"
   ]
  },
  {
   "cell_type": "code",
   "execution_count": 2,
   "metadata": {
    "cell_style": "split"
   },
   "outputs": [
    {
     "data": {
      "text/plain": [
       "10"
      ]
     },
     "execution_count": 2,
     "metadata": {},
     "output_type": "execute_result"
    }
   ],
   "source": [
    "# entiers \n",
    "10"
   ]
  },
  {
   "cell_type": "code",
   "execution_count": 3,
   "metadata": {
    "cell_style": "split"
   },
   "outputs": [
    {
     "data": {
      "text/plain": [
       "3.14"
      ]
     },
     "execution_count": 3,
     "metadata": {},
     "output_type": "execute_result"
    }
   ],
   "source": [
    "# flottants\n",
    "3.14"
   ]
  },
  {
   "cell_type": "code",
   "execution_count": 4,
   "metadata": {
    "cell_style": "split"
   },
   "outputs": [
    {
     "data": {
      "text/plain": [
       "(-4+2j)"
      ]
     },
     "execution_count": 4,
     "metadata": {},
     "output_type": "execute_result"
    }
   ],
   "source": [
    "# complexes\n",
    "1j * (2+4j)"
   ]
  },
  {
   "cell_type": "code",
   "execution_count": 5,
   "metadata": {
    "cell_style": "split"
   },
   "outputs": [
    {
     "data": {
      "text/plain": [
       "True"
      ]
     },
     "execution_count": 5,
     "metadata": {},
     "output_type": "execute_result"
    }
   ],
   "source": [
    "# booléens True et False\n",
    "True"
   ]
  },
  {
   "cell_type": "markdown",
   "metadata": {
    "slideshow": {
     "slide_type": "slide"
    }
   },
   "source": [
    "## variables\n",
    "\n",
    "pour définir une variable, il suffit de l'affecter avec le signe `=` "
   ]
  },
  {
   "cell_type": "code",
   "execution_count": 6,
   "metadata": {
    "cell_style": "split",
    "slideshow": {
     "slide_type": ""
    }
   },
   "outputs": [],
   "source": [
    "# remarquez que ceci n'affiche rien\n",
    "a = 10"
   ]
  },
  {
   "cell_type": "code",
   "execution_count": 7,
   "metadata": {
    "cell_style": "split"
   },
   "outputs": [
    {
     "data": {
      "text/plain": [
       "20"
      ]
     },
     "execution_count": 7,
     "metadata": {},
     "output_type": "execute_result"
    }
   ],
   "source": [
    "# l'utilité c'est bien sûr \n",
    "# de garder un résultat pour\n",
    "# s'en reservir ensuite\n",
    "a + a"
   ]
  },
  {
   "cell_type": "markdown",
   "metadata": {
    "slideshow": {
     "slide_type": "slide"
    }
   },
   "source": [
    "## fonctions\n",
    "\n",
    "on définit une fonction avec le mot-clé `def`"
   ]
  },
  {
   "cell_type": "code",
   "execution_count": 8,
   "metadata": {
    "cell_style": "split"
   },
   "outputs": [],
   "source": [
    "# on définit une fonction en donnant un nom\n",
    "# aux paramètres sur lesquelles \n",
    "# on pourra l'appliquer\n",
    "# \n",
    "# à nouveau ici on ne va rien afficher\n",
    "def P(x):\n",
    "    return x**2 + 3*x + 2"
   ]
  },
  {
   "cell_type": "code",
   "execution_count": 9,
   "metadata": {
    "cell_style": "split"
   },
   "outputs": [
    {
     "data": {
      "text/plain": [
       "132"
      ]
     },
     "execution_count": 9,
     "metadata": {},
     "output_type": "execute_result"
    }
   ],
   "source": [
    "# mais on peut maintenant\n",
    "# appeler la fonction P\n",
    "P(10)"
   ]
  },
  {
   "cell_type": "code",
   "execution_count": 10,
   "metadata": {
    "cell_style": "split"
   },
   "outputs": [
    {
     "data": {
      "text/plain": [
       "10302"
      ]
     },
     "execution_count": 10,
     "metadata": {},
     "output_type": "execute_result"
    }
   ],
   "source": [
    "P(100)"
   ]
  },
  {
   "cell_type": "markdown",
   "metadata": {
    "slideshow": {
     "slide_type": "slide"
    }
   },
   "source": [
    "## mots clés"
   ]
  },
  {
   "cell_type": "markdown",
   "metadata": {
    "cell_style": "center"
   },
   "source": [
    "un certain nombre de mots sont réservés;  \n",
    "on ne peut pas les utiliser comme noms de variable"
   ]
  },
  {
   "cell_type": "markdown",
   "metadata": {
    "cell_style": "split"
   },
   "source": [
    "```python\n",
    "# ceci provoque une erreur\n",
    "if = 2 \n",
    "\n",
    "  File \"<ipython-input>\", line 3\n",
    "    if = 2\n",
    "       ^\n",
    "SyntaxError: invalid syntax\n",
    "```\n"
   ]
  },
  {
   "cell_type": "markdown",
   "metadata": {
    "cell_style": "split"
   },
   "source": [
    "| **liste**    |   &nbsp; | &nbsp;  | &nbsp;       | &nbsp; |\n",
    "|----------:|---------:|--------:|-------------:|-------:|\n",
    "| False | await | else    | import       | pass   |\n",
    "| None  | break    | except  | in           | raise  |\n",
    "| True  | class    | finally | is           | return |\n",
    "| and       | continue | for     | lambda       | try    |\n",
    "| as        | def      | from    | nonlocal | while  |\n",
    "| assert    | del      | global  | not          | with   |\n",
    "| async | elif     | if      | or           | yield  |"
   ]
  },
  {
   "cell_type": "markdown",
   "metadata": {
    "slideshow": {
     "slide_type": "slide"
    }
   },
   "source": [
    "## importer une librairie"
   ]
  },
  {
   "cell_type": "markdown",
   "metadata": {},
   "source": [
    "certaines fonctionnalités sont disponibles au travers  \n",
    "de bibliothèques, auxquelles on peut accéder en les important"
   ]
  },
  {
   "cell_type": "code",
   "execution_count": 11,
   "metadata": {},
   "outputs": [],
   "source": [
    "import math"
   ]
  },
  {
   "cell_type": "code",
   "execution_count": 12,
   "metadata": {},
   "outputs": [],
   "source": [
    "# attention cette façon d'obtenir de l'aide est \n",
    "# spécifique à IPython / notebooks\n",
    "# avec un interprète Python standard, on ferait \n",
    "# help(math)\n",
    "math?"
   ]
  },
  {
   "cell_type": "markdown",
   "metadata": {
    "slideshow": {
     "slide_type": "slide"
    }
   },
   "source": [
    "## utiliser une librairie\n",
    "\n",
    "une bibliothèque expose typiquement un certain nombre de symboles  \n",
    "par exemple dans `math` on va trouver\n",
    "\n",
    "* `pi` une variable qui dénote le nombre $\\pi$\n",
    "* `sin` une fonction qui sait calculer le sinus\n",
    "\n",
    "pour accéder à ces symboles on utilise la notation `.`"
   ]
  },
  {
   "cell_type": "code",
   "execution_count": 13,
   "metadata": {
    "cell_style": "split"
   },
   "outputs": [
    {
     "data": {
      "text/plain": [
       "3.141592653589793"
      ]
     },
     "execution_count": 13,
     "metadata": {},
     "output_type": "execute_result"
    }
   ],
   "source": [
    "math.pi"
   ]
  },
  {
   "cell_type": "code",
   "execution_count": 14,
   "metadata": {
    "cell_style": "split"
   },
   "outputs": [
    {
     "data": {
      "text/plain": [
       "1.2246467991473532e-16"
      ]
     },
     "execution_count": 14,
     "metadata": {},
     "output_type": "execute_result"
    }
   ],
   "source": [
    "# ça devrait être 0 mais ...\n",
    "math.sin(math.pi)"
   ]
  },
  {
   "cell_type": "markdown",
   "metadata": {
    "slideshow": {
     "slide_type": "slide"
    }
   },
   "source": [
    "## alternative\n",
    "\n",
    "on peut aussi faire comme ceci"
   ]
  },
  {
   "cell_type": "code",
   "execution_count": 15,
   "metadata": {
    "cell_style": "split"
   },
   "outputs": [
    {
     "data": {
      "text/plain": [
       "3.141592653589793"
      ]
     },
     "execution_count": 15,
     "metadata": {},
     "output_type": "execute_result"
    }
   ],
   "source": [
    "from math import pi, sin\n",
    "\n",
    "pi"
   ]
  },
  {
   "cell_type": "code",
   "execution_count": 16,
   "metadata": {
    "cell_style": "split"
   },
   "outputs": [
    {
     "data": {
      "text/plain": [
       "1.2246467991473532e-16"
      ]
     },
     "execution_count": 16,
     "metadata": {},
     "output_type": "execute_result"
    }
   ],
   "source": [
    "# ditto\n",
    "sin(pi)"
   ]
  },
  {
   "cell_type": "markdown",
   "metadata": {
    "slideshow": {
     "slide_type": "slide"
    }
   },
   "source": [
    "## précision des calculs flottants\n",
    "\n",
    "bien sûr un flottant est représenté comme une suite de bits 0 ou 1  \n",
    "cela induit des calculs avec une précision imparfaite"
   ]
  },
  {
   "cell_type": "code",
   "execution_count": 17,
   "metadata": {},
   "outputs": [
    {
     "data": {
      "text/plain": [
       "0.30000000000000004"
      ]
     },
     "execution_count": 17,
     "metadata": {},
     "output_type": "execute_result"
    }
   ],
   "source": [
    "# sur les architectures actuelles \n",
    "# un flottant est encodé sur 64 bits \n",
    "0.2 + 0.1"
   ]
  },
  {
   "cell_type": "markdown",
   "metadata": {
    "slideshow": {
     "slide_type": "slide"
    }
   },
   "source": [
    "## précision des calculs flottants (option)"
   ]
  },
  {
   "cell_type": "markdown",
   "metadata": {
    "slideshow": {
     "slide_type": ""
    }
   },
   "source": [
    "la façon de passer d'un flottant à une séquence de bits  \n",
    "s'appelle un **encodage** \n",
    "[dans le cas des flottants: IEE754](https://en.wikipedia.org/wiki/IEEE_754)  \n",
    "qui est efficace car supporté par le processeur"
   ]
  },
  {
   "cell_type": "markdown",
   "metadata": {
    "slideshow": {
     "slide_type": ""
    }
   },
   "source": [
    "pour faire court - dans le cas le plus courant (`binary64`)  \n",
    "la précision des calculs est de l'ordre de $10^{-15}$ \n",
    "\n",
    "\n",
    "voir un [convertisseur en ligne](http://www.binaryconvert.com/convert_double.html) pour visuels"
   ]
  },
  {
   "cell_type": "markdown",
   "metadata": {
    "slideshow": {
     "slide_type": "slide"
    }
   },
   "source": [
    "## booléens"
   ]
  },
  {
   "cell_type": "code",
   "execution_count": 18,
   "metadata": {
    "cell_style": "split"
   },
   "outputs": [
    {
     "data": {
      "text/plain": [
       "True"
      ]
     },
     "execution_count": 18,
     "metadata": {},
     "output_type": "execute_result"
    }
   ],
   "source": [
    "True"
   ]
  },
  {
   "cell_type": "code",
   "execution_count": 19,
   "metadata": {
    "cell_style": "split"
   },
   "outputs": [
    {
     "data": {
      "text/plain": [
       "False"
      ]
     },
     "execution_count": 19,
     "metadata": {},
     "output_type": "execute_result"
    }
   ],
   "source": [
    "False"
   ]
  },
  {
   "cell_type": "markdown",
   "metadata": {
    "slideshow": {
     "slide_type": "slide"
    }
   },
   "source": [
    "## texte (chaines)"
   ]
  },
  {
   "cell_type": "code",
   "execution_count": 20,
   "metadata": {
    "cell_style": "split"
   },
   "outputs": [
    {
     "name": "stdout",
     "output_type": "stream",
     "text": [
      "bonjour le monde\n"
     ]
    }
   ],
   "source": [
    "# un texte est entre deux '\n",
    "\n",
    "texte1 = 'bonjour le monde'\n",
    "print(texte1)"
   ]
  },
  {
   "cell_type": "code",
   "execution_count": 21,
   "metadata": {
    "cell_style": "split"
   },
   "outputs": [
    {
     "name": "stdout",
     "output_type": "stream",
     "text": [
      "bonjour le monde\n"
     ]
    }
   ],
   "source": [
    "# ou si on préfère entre \"\n",
    "\n",
    "texte2 = \"bonjour le monde\"\n",
    "print(texte2)"
   ]
  },
  {
   "cell_type": "code",
   "execution_count": 22,
   "metadata": {
    "cell_style": "split"
   },
   "outputs": [
    {
     "name": "stdout",
     "output_type": "stream",
     "text": [
      "Python est un langage \"typé\"\n"
     ]
    }
   ],
   "source": [
    "# comme ça on peut insérer un \"\n",
    "\n",
    "print('Python est un langage \"typé\"')"
   ]
  },
  {
   "cell_type": "code",
   "execution_count": 23,
   "metadata": {
    "cell_style": "split"
   },
   "outputs": [
    {
     "name": "stdout",
     "output_type": "stream",
     "text": [
      "Python est un langage 'typé'\n"
     ]
    }
   ],
   "source": [
    "# ou un '\n",
    "\n",
    "print(\"Python est un langage 'typé'\")"
   ]
  },
  {
   "cell_type": "markdown",
   "metadata": {
    "slideshow": {
     "slide_type": "slide"
    }
   },
   "source": [
    "## `print()`\n",
    "\n",
    "remarquez qu'on a utilisé la fonction `print` qui est prédéfinie  \n",
    "on peut l'appeler avec autant d'arguments qu'on veut  \n",
    "  et de n'importe quel type"
   ]
  },
  {
   "cell_type": "code",
   "execution_count": 24,
   "metadata": {},
   "outputs": [
    {
     "name": "stdout",
     "output_type": "stream",
     "text": [
      "la somme de 12 et 13 vaut 25\n"
     ]
    }
   ],
   "source": [
    "# simplement pour illustration des possibilités d'appel de fonction\n",
    "# car on va voir plus loin une forme beaucoup plus pratique\n",
    "# pour faire ce genre de choses\n",
    "# \n",
    "print(\"la somme de\", 12, \"et\", 13, \"vaut\", 12+13)"
   ]
  },
  {
   "cell_type": "markdown",
   "metadata": {
    "slideshow": {
     "slide_type": "slide"
    }
   },
   "source": [
    "## `len()`"
   ]
  },
  {
   "cell_type": "markdown",
   "metadata": {},
   "source": [
    "il existe une autre fonction prédéfinie très pratique: `len()`  \n",
    "qui retourne la longeur d'un objet"
   ]
  },
  {
   "cell_type": "code",
   "execution_count": 25,
   "metadata": {
    "cell_style": "split"
   },
   "outputs": [
    {
     "data": {
      "text/plain": [
       "3"
      ]
     },
     "execution_count": 25,
     "metadata": {},
     "output_type": "execute_result"
    }
   ],
   "source": [
    "# sur une chaine len()\n",
    "# retourne le nombre de caractères\n",
    "# \n",
    "# remarquez que les guillemets ne comptent pas\n",
    "len(\"abc\")"
   ]
  },
  {
   "cell_type": "code",
   "execution_count": 26,
   "metadata": {
    "cell_style": "split"
   },
   "outputs": [
    {
     "data": {
      "text/plain": [
       "3"
      ]
     },
     "execution_count": 26,
     "metadata": {},
     "output_type": "execute_result"
    }
   ],
   "source": [
    "# on compte les caractères \n",
    "# et pas les octets\n",
    "\n",
    "len(\"été\")"
   ]
  },
  {
   "cell_type": "markdown",
   "metadata": {
    "slideshow": {
     "slide_type": "slide"
    }
   },
   "source": [
    "## textes plus longs\n",
    "\n",
    "si vous avez besoin d'écrire des textes de plusieurs lignes  \n",
    "utilisez `\"\"\"` au lieu de `\"`  -- (ou `'''`) "
   ]
  },
  {
   "cell_type": "code",
   "execution_count": 27,
   "metadata": {
    "cell_style": "split"
   },
   "outputs": [],
   "source": [
    "bafouille = \\\n",
    "\"\"\"Rappelez-vous l'objet que nous vîmes, mon âme,\n",
    "Ce beau matin d'été si doux:\n",
    "Au détour d'un sentier une charogne infâme\n",
    "Sur un lit semé de cailloux,\"\"\""
   ]
  },
  {
   "cell_type": "code",
   "execution_count": 28,
   "metadata": {
    "cell_style": "split"
   },
   "outputs": [
    {
     "name": "stdout",
     "output_type": "stream",
     "text": [
      "Rappelez-vous l'objet que nous vîmes, mon âme,\n",
      "Ce beau matin d'été si doux:\n",
      "Au détour d'un sentier une charogne infâme\n",
      "Sur un lit semé de cailloux,\n"
     ]
    }
   ],
   "source": [
    "print(bafouille)"
   ]
  },
  {
   "cell_type": "code",
   "execution_count": 29,
   "metadata": {
    "cell_style": "split"
   },
   "outputs": [],
   "source": [
    "# idem avec '''\n",
    "# le changement de ligne compte \n",
    "# pour un caractère (newline) \n",
    "court = '''a\n",
    "b'''"
   ]
  },
  {
   "cell_type": "code",
   "execution_count": 30,
   "metadata": {
    "cell_style": "split"
   },
   "outputs": [
    {
     "name": "stdout",
     "output_type": "stream",
     "text": [
      "a\n",
      "b\n"
     ]
    }
   ],
   "source": [
    "print(court)"
   ]
  },
  {
   "cell_type": "code",
   "execution_count": 31,
   "metadata": {
    "cell_style": "split"
   },
   "outputs": [
    {
     "data": {
      "text/plain": [
       "3"
      ]
     },
     "execution_count": 31,
     "metadata": {},
     "output_type": "execute_result"
    }
   ],
   "source": [
    "# les caractères sont 'a', '\\n', et 'b'\n",
    "len(court)"
   ]
  },
  {
   "cell_type": "markdown",
   "metadata": {
    "slideshow": {
     "slide_type": "slide"
    }
   },
   "source": [
    "## formattage\n",
    "\n",
    "pour construire des chaines lisibles,  \n",
    "le plus simple est la *f-string* "
   ]
  },
  {
   "cell_type": "code",
   "execution_count": 32,
   "metadata": {
    "cell_style": "split"
   },
   "outputs": [
    {
     "data": {
      "text/plain": [
       "'une f-string'"
      ]
     },
     "execution_count": 32,
     "metadata": {},
     "output_type": "execute_result"
    }
   ],
   "source": [
    "# une f-string se présente comme une chaine \n",
    "# mais préfixée par un f collé\n",
    "# avant le guillement ouvrant\n",
    "f\"une f-string\""
   ]
  },
  {
   "cell_type": "code",
   "execution_count": 33,
   "metadata": {
    "cell_style": "split"
   },
   "outputs": [
    {
     "name": "stdout",
     "output_type": "stream",
     "text": [
      "pi = 3.141592653589793\n"
     ]
    }
   ],
   "source": [
    "# l'intérêt est qu'on peut \n",
    "# alors insérer des variables\n",
    "# directement dans la chaine\n",
    "# en les mettant entre {}\n",
    "\n",
    "print(f\"pi = {pi}\")"
   ]
  },
  {
   "cell_type": "code",
   "execution_count": 34,
   "metadata": {},
   "outputs": [
    {
     "name": "stdout",
     "output_type": "stream",
     "text": [
      "pi = 3.141592653589793 et sin(pi) = 1.2246467991473532e-16\n"
     ]
    }
   ],
   "source": [
    "# à l'intérieur des {} on peut faire des calculs\n",
    "print(f\"pi = {pi} et sin(pi) = {sin(pi)}\")"
   ]
  },
  {
   "cell_type": "markdown",
   "metadata": {
    "slideshow": {
     "slide_type": "slide"
    }
   },
   "source": [
    "## formattage - suite\n",
    "\n",
    "il y a des tas de possibilité pour affiner la façon  \n",
    "dont les données sont mises en forme  \n",
    "pour cela ajouter un format dans les `{}` avec un `:`  \n",
    "comme illustré :"
   ]
  },
  {
   "cell_type": "code",
   "execution_count": 35,
   "metadata": {
    "cell_style": "split"
   },
   "outputs": [
    {
     "name": "stdout",
     "output_type": "stream",
     "text": [
      "bla 6.28 bla\n"
     ]
    }
   ],
   "source": [
    "print(f\"bla {2*math.pi:.2f} bla\")"
   ]
  },
  {
   "cell_type": "markdown",
   "metadata": {
    "cell_style": "split"
   },
   "source": [
    "![](media/f-string.png)"
   ]
  },
  {
   "cell_type": "markdown",
   "metadata": {
    "slideshow": {
     "slide_type": "slide"
    }
   },
   "source": [
    "## méthodes sur les chaines\n",
    "\n",
    "on reviendra plus tard sur la notion de méthode  \n",
    "mais pour l'instant vous pouvez aller consulter la doc  \n",
    "  https://docs.python.org/3/library/stdtypes.html#string-methods\n",
    "qui donne la liste des méthodes disponibles sur les chaines"
   ]
  },
  {
   "cell_type": "code",
   "execution_count": 36,
   "metadata": {
    "cell_style": "split"
   },
   "outputs": [
    {
     "data": {
      "text/plain": [
       "'Bonjour'"
      ]
     },
     "execution_count": 36,
     "metadata": {},
     "output_type": "execute_result"
    }
   ],
   "source": [
    "# une méthode s'utilise comme ceci\n",
    "\n",
    "chaine = \"bonjour\"\n",
    "\n",
    "chaine.capitalize()"
   ]
  },
  {
   "cell_type": "code",
   "execution_count": 37,
   "metadata": {
    "cell_style": "split"
   },
   "outputs": [
    {
     "data": {
      "text/plain": [
       "'---bonjour---'"
      ]
     },
     "execution_count": 37,
     "metadata": {},
     "output_type": "execute_result"
    }
   ],
   "source": [
    "# par exemple, cette méthode\n",
    "# sert à centrer\n",
    "# en précisant avec quoi remplir\n",
    "\n",
    "chaine.center(13, '-')"
   ]
  }
 ],
 "metadata": {
  "celltoolbar": "Slideshow",
  "ipub": {
   "sphinx": {
    "toggle_input": true,
    "toggle_input_all": true,
    "toggle_output": true,
    "toggle_output_all": true
   }
  },
  "kernelspec": {
   "display_name": "Python 3",
   "language": "python",
   "name": "python3"
  },
  "language_info": {
   "codemirror_mode": {
    "name": "ipython",
    "version": 3
   },
   "file_extension": ".py",
   "mimetype": "text/x-python",
   "name": "python",
   "nbconvert_exporter": "python",
   "pygments_lexer": "ipython3",
   "version": "3.7.3"
  },
  "notebookname": "le langage Python",
  "rise": {
   "autolaunch": true,
   "slideNumber": "c/t",
   "start_slideshow_at": "selected",
   "theme": "sky",
   "transition": "cube"
  },
  "version": "1.0"
 },
 "nbformat": 4,
 "nbformat_minor": 4
}
