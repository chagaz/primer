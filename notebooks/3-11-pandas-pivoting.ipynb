{
 "cells": [
  {
   "cell_type": "markdown",
   "metadata": {},
   "source": [
    "<div class=\"licence\">\n",
    "<span>Licence CC BY-NC-ND</span>\n",
    "<span>Valérie Roy</span>\n",
    "<span><img src=\"media/ensmp-25-alpha.png\" /></span>\n",
    "</div>"
   ]
  },
  {
   "cell_type": "code",
   "execution_count": null,
   "metadata": {},
   "outputs": [],
   "source": [
    "import numpy as np\n",
    "import pandas as pd"
   ]
  },
  {
   "cell_type": "markdown",
   "metadata": {},
   "source": [
    "##  VIII) pivoting tables"
   ]
  },
  {
   "cell_type": "markdown",
   "metadata": {},
   "source": [
    "   - let us see an **example**"
   ]
  },
  {
   "cell_type": "markdown",
   "metadata": {},
   "source": [
    "you have a **dataset** about the sinking of **titanic**\n",
    "   - for each **passenger** you have values such as:\n",
    "      - the **survival status**\n",
    "      - the **sex**\n",
    "      - the **class** (first, second, third)\n",
    "      - the **age**"
   ]
  },
  {
   "cell_type": "markdown",
   "metadata": {},
   "source": [
    "   - we **import** the dataset\n",
    "   - we keep the **interesting columns** (parameter *usecols*)"
   ]
  },
  {
   "cell_type": "code",
   "execution_count": null,
   "metadata": {},
   "outputs": [],
   "source": [
    "df = pd.read_csv('titanic.csv', usecols=['Survived', 'Pclass', 'Sex', 'Age'])"
   ]
  },
  {
   "cell_type": "code",
   "execution_count": null,
   "metadata": {},
   "outputs": [],
   "source": [
    "df.head(3)"
   ]
  },
  {
   "cell_type": "markdown",
   "metadata": {},
   "source": [
    "   - the **number** of passengers in **each** class"
   ]
  },
  {
   "cell_type": "code",
   "execution_count": null,
   "metadata": {},
   "outputs": [],
   "source": [
    "df['Pclass'].value_counts()"
   ]
  },
  {
   "cell_type": "markdown",
   "metadata": {},
   "source": [
    "suppose you want to know\n",
    "   - the **survival rate** depending on the **sex** and the **class** "
   ]
  },
  {
   "cell_type": "markdown",
   "metadata": {},
   "source": [
    "you know\n",
    "   - the **value** to be **aggregated** here the **survival status**\n",
    "   - the **aggregation** function here the *numpy.mean*\n",
    "   - the **key** to be the **index**   here the column **sex**\n",
    "   - the **key** to be the **column**  here the column **Pclass**"
   ]
  },
  {
   "cell_type": "markdown",
   "metadata": {},
   "source": [
    "   - this is done by the *pandas.DataFrame.pivot_table* **method**"
   ]
  },
  {
   "cell_type": "code",
   "execution_count": null,
   "metadata": {},
   "outputs": [],
   "source": [
    "df.pivot_table('Survived', index='Sex', columns='Pclass', aggfunc=np.mean)"
   ]
  },
  {
   "cell_type": "markdown",
   "metadata": {},
   "source": [
    "   - it returns a **new** data frame "
   ]
  },
  {
   "cell_type": "code",
   "execution_count": null,
   "metadata": {},
   "outputs": [],
   "source": [
    "df1 = df.pivot_table('Survived', index='Sex', columns='Pclass', aggfunc=np.mean)"
   ]
  },
  {
   "cell_type": "markdown",
   "metadata": {},
   "source": [
    "   - **Pclass** is the name of the **columns index**\n",
    "   - **Sex** is the name of the **rows index**"
   ]
  },
  {
   "cell_type": "markdown",
   "metadata": {},
   "source": [
    "   - another example"
   ]
  },
  {
   "cell_type": "markdown",
   "metadata": {},
   "source": [
    "   - you want to **compute** the **survival rate** by **age group**\n",
    "   - but we do not have **age group**\n",
    "   - so we must **pack** the ages in **bins** representing **age groupe**"
   ]
  },
  {
   "cell_type": "markdown",
   "metadata": {},
   "source": [
    "   - we create **bins** of ages and **names** for those **bins**"
   ]
  },
  {
   "cell_type": "code",
   "execution_count": null,
   "metadata": {},
   "outputs": [],
   "source": [
    "age_groups=[0, 11, 17, 25, 35, 45, 55, 65, 100] \n",
    "age_group_names = ['<11', '11-17', '17-25', '25-35', '35-45', '45-55', '55-65', '>65'] "
   ]
  },
  {
   "cell_type": "markdown",
   "metadata": {},
   "source": [
    "   - we create a new **column** where the **Age** is replaced by the **age group** \n",
    "   - using the **method** *pandas.cut* with the **bins** and the **names**"
   ]
  },
  {
   "cell_type": "markdown",
   "metadata": {},
   "source": [
    "   - we can **add** the column in our data frame"
   ]
  },
  {
   "cell_type": "code",
   "execution_count": null,
   "metadata": {},
   "outputs": [],
   "source": [
    "df['Age group'] = pd.cut(df['Age'], bins=age_groups, labels=age_group_names)"
   ]
  },
  {
   "cell_type": "code",
   "execution_count": null,
   "metadata": {},
   "outputs": [],
   "source": [
    "#df.sort_values(by='Age', ascending=False)"
   ]
  },
  {
   "cell_type": "markdown",
   "metadata": {},
   "source": [
    "   - we compute a new **data frame** with the  **survival rate** by **age group**"
   ]
  },
  {
   "cell_type": "code",
   "execution_count": null,
   "metadata": {},
   "outputs": [],
   "source": [
    "df.pivot_table('Survived', index=['Sex', 'Pclass'], columns='Age group', aggfunc=np.mean)"
   ]
  },
  {
   "cell_type": "markdown",
   "metadata": {},
   "source": [
    "   - a **higher** rate of **women** was **saved** in **all** categories except **children under 11**\n",
    "   - where $55 \\%$ of the boys were saved against $54 \\%$ of the girls"
   ]
  },
  {
   "cell_type": "markdown",
   "metadata": {},
   "source": [
    "   - we **do not need** to **add** a column to the **data frame**\n",
    "   \n",
    "   - here we  **pass** the number of **bins** and their **names**"
   ]
  },
  {
   "cell_type": "code",
   "execution_count": null,
   "metadata": {},
   "outputs": [],
   "source": [
    "col = pd.cut(df['Age'], 3, labels=['child', 'adult', 'old'])"
   ]
  },
  {
   "cell_type": "code",
   "execution_count": null,
   "metadata": {},
   "outputs": [],
   "source": [
    "df.pivot_table('Survived', index=['Sex', 'Pclass'], columns=col, aggfunc=np.mean)"
   ]
  },
  {
   "cell_type": "code",
   "execution_count": null,
   "metadata": {},
   "outputs": [],
   "source": [
    "df = pd.read_csv('titanic.csv')"
   ]
  },
  {
   "cell_type": "markdown",
   "metadata": {},
   "source": [
    "  - example of changing the **data**\n",
    "  - for example, we want to **replace** the **number** of the classes by the **names**\n",
    "  \n",
    "  \n",
    "  - create the **Boolean mask**\n",
    "  - always **loc** or **iloc** **never** use a classical **array** assignement"
   ]
  },
  {
   "cell_type": "code",
   "execution_count": null,
   "metadata": {},
   "outputs": [],
   "source": [
    "mask = (df['Pclass'] == 1)  # we have a mask of indexes"
   ]
  },
  {
   "cell_type": "code",
   "execution_count": null,
   "metadata": {},
   "outputs": [],
   "source": [
    "mask.head()"
   ]
  },
  {
   "cell_type": "markdown",
   "metadata": {},
   "source": [
    "   - we **localize** the **true** values\n",
    "   - and replace their **Pclass** column **value** by the string **'first'**"
   ]
  },
  {
   "cell_type": "code",
   "execution_count": null,
   "metadata": {},
   "outputs": [],
   "source": [
    "df.loc[ mask, 'Pclass'] = 'first'"
   ]
  },
  {
   "cell_type": "code",
   "execution_count": null,
   "metadata": {},
   "outputs": [],
   "source": [
    "df.loc[ df['Pclass'] == 2, 'Pclass'] = 'second'\n",
    "df.loc[ df['Pclass'] == 3, 'Pclass'] = 'third'"
   ]
  },
  {
   "cell_type": "code",
   "execution_count": null,
   "metadata": {},
   "outputs": [],
   "source": [
    "df.head()"
   ]
  }
 ],
 "metadata": {
  "ipub": {
   "sphinx": {
    "toggle_input": true,
    "toggle_input_all": true,
    "toggle_output": true,
    "toggle_output_all": true
   }
  },
  "kernelspec": {
   "display_name": "Python 3",
   "language": "python",
   "name": "python3"
  },
  "language_info": {
   "codemirror_mode": {
    "name": "ipython",
    "version": 3
   },
   "file_extension": ".py",
   "mimetype": "text/x-python",
   "name": "python",
   "nbconvert_exporter": "python",
   "pygments_lexer": "ipython3",
   "version": "3.7.3"
  },
  "notebookname": "NO HEADING 1 found",
  "rise": {
   "autolaunch": true,
   "slideNumber": "c/t",
   "start_slideshow_at": "selected",
   "theme": "sky",
   "transition": "cube"
  },
  "version": "1.0"
 },
 "nbformat": 4,
 "nbformat_minor": 4
}
