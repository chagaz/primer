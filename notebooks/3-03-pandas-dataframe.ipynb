{
 "cells": [
  {
   "cell_type": "markdown",
   "metadata": {},
   "source": [
    "<div class=\"licence\">\n",
    "<span>Licence CC BY-NC-ND</span>\n",
    "<span>Valérie Roy</span>\n",
    "<span><img src=\"media/ensmp-25-alpha.png\" /></span>\n",
    "</div>"
   ]
  },
  {
   "cell_type": "markdown",
   "metadata": {},
   "source": [
    "## II) $\\texttt{pandas.DataFrame}$\n",
    "\n",
    "\n",
    "   - **two-dimensional** arrays\n",
    "   - where **rows** and **columns** are indexed\n",
    "   - **missing** values are replaced by $\\texttt{numpy.NaN}$\n",
    "   - **scalar** values are broadcasted\n",
    "   \n",
    "   \n",
    "   \n",
    "   - can be build in **several ways** or **read** from files (the most usual way)"
   ]
  },
  {
   "cell_type": "code",
   "execution_count": null,
   "metadata": {},
   "outputs": [],
   "source": [
    "import pandas as pd"
   ]
  },
  {
   "cell_type": "markdown",
   "metadata": {},
   "source": [
    "### 1) creating $\\texttt{pandas.DataFrame}$ from $\\texttt{pandas.Series}$\n",
    "   - **index** must be identical"
   ]
  },
  {
   "cell_type": "markdown",
   "metadata": {},
   "source": [
    "   - we create three **series of data**\n",
    "      - **distance**, **lowest_temp** and **highest_temp** related to the solar system\n",
    "   - series are **indexed by** the **names** of the planets\n",
    "   - some values are **missing**\n",
    "      - the **lowest** and the **highest** temperature of **neptune**, **saturn** and **uranus**\n",
    "   - all planets are from the **solar system**"
   ]
  },
  {
   "cell_type": "code",
   "execution_count": null,
   "metadata": {},
   "outputs": [],
   "source": [
    "# distance are relative to earth\n",
    "distance = pd.Series([0.387, 0.723, 30, 1., 5.203, 1.523, 9.6, 19.19],\n",
    "                     index=['Mercury', 'Venus', 'Neptune', 'Earth', 'Jupiter', 'Mars', 'Saturn', 'Uranus'])\n",
    "\n",
    "lowest_temp = pd.Series([-200.0, 446.0,  -90.0, -125.0, -140.0],\n",
    "                        index=['Mercury', 'Venus', 'Earth', 'Jupiter', 'Mars'])\n",
    "\n",
    "highest_temp = pd.Series([430.0, 490.0, 60.0, 17.0, 20.0],\n",
    "                         index=['Mercury', 'Venus', 'Earth', 'Jupiter', 'Mars'])\n"
   ]
  },
  {
   "cell_type": "markdown",
   "metadata": {},
   "source": [
    "we **group** the series using a **python dict** \n",
    "   - the **names** of the series are the **keys** of **dict**\n",
    "   - the **elements** of the series are the **values** "
   ]
  },
  {
   "cell_type": "code",
   "execution_count": null,
   "metadata": {},
   "outputs": [],
   "source": [
    "planets = pd.DataFrame({'distance': distance,\n",
    "                        'lowest temperature': lowest_temp, \n",
    "                        'highest temperature': highest_temp, \n",
    "                        'origin':'solar system'})"
   ]
  },
  {
   "cell_type": "markdown",
   "metadata": {},
   "source": [
    "   - for the **serie** $\\texttt{'origin'}$\n",
    "   - we give the **single** value $\\texttt{'solar system'}$"
   ]
  },
  {
   "cell_type": "markdown",
   "metadata": {},
   "source": [
    "   - we **see** the first elements"
   ]
  },
  {
   "cell_type": "code",
   "execution_count": null,
   "metadata": {},
   "outputs": [],
   "source": [
    "planets.head()"
   ]
  },
  {
   "cell_type": "markdown",
   "metadata": {},
   "source": [
    "   - the **single** value is **broadcasted** to the **entire column** (here  *Solar System*)\n",
    "   - **missing** values are **replaced by** $\\texttt{numpy.NaN}$ (min/max temperature of neptune, saturn and uranus"
   ]
  },
  {
   "cell_type": "markdown",
   "metadata": {},
   "source": [
    "you can **retrieve** columns by **name**\n",
    "   - you obtain a **reference** on the **serie** **not** a **copy**"
   ]
  },
  {
   "cell_type": "code",
   "execution_count": null,
   "metadata": {},
   "outputs": [],
   "source": [
    "planets[['distance', 'lowest temperature', 'highest temperature']]"
   ]
  },
  {
   "cell_type": "code",
   "execution_count": null,
   "metadata": {},
   "outputs": [],
   "source": [
    "planets['distance'] # relative distance where earth is 1"
   ]
  },
  {
   "cell_type": "markdown",
   "metadata": {},
   "source": [
    "   - you can use the **columns names** as a **key** (when possible)\n",
    "   - it **won't** work for $\\texttt{lowest temperature}$"
   ]
  },
  {
   "cell_type": "code",
   "execution_count": null,
   "metadata": {},
   "outputs": [],
   "source": [
    "planets.distance"
   ]
  },
  {
   "cell_type": "markdown",
   "metadata": {},
   "source": [
    "planets.distance"
   ]
  },
  {
   "cell_type": "markdown",
   "metadata": {},
   "source": [
    "   - we can give a name to the data frame"
   ]
  },
  {
   "cell_type": "code",
   "execution_count": null,
   "metadata": {},
   "outputs": [],
   "source": [
    "planets.name = 'planets'"
   ]
  },
  {
   "cell_type": "markdown",
   "metadata": {},
   "source": [
    " - we can give a name to the index"
   ]
  },
  {
   "cell_type": "code",
   "execution_count": null,
   "metadata": {},
   "outputs": [],
   "source": [
    "planets.index.name = 'planets names'"
   ]
  },
  {
   "cell_type": "code",
   "execution_count": null,
   "metadata": {},
   "outputs": [],
   "source": [
    "planets.head()"
   ]
  },
  {
   "cell_type": "markdown",
   "metadata": {},
   "source": [
    "   - you can create a **data frame** from a **dict of dicts**"
   ]
  },
  {
   "cell_type": "code",
   "execution_count": null,
   "metadata": {},
   "outputs": [],
   "source": [
    "planets_2 = pd.DataFrame(\n",
    "    {'distance': {'Mercury' : 0.387, 'Venus' : 0.723, 'Neptune' : 30, 'Earth' : 1},\n",
    "     'lowest temperature': {'Mercury' : -200, 'Venus': 446, 'Earth' : -90},})\n",
    "                        "
   ]
  },
  {
   "cell_type": "code",
   "execution_count": null,
   "metadata": {},
   "outputs": [],
   "source": [
    "planets_2"
   ]
  },
  {
   "cell_type": "markdown",
   "metadata": {},
   "source": [
    "### 2) creating $\\texttt{pandas.DataFrame}$ by specifying parameters $\\texttt{data}$, $\\texttt{columns}$ and $\\texttt{index}$"
   ]
  },
  {
   "cell_type": "code",
   "execution_count": null,
   "metadata": {},
   "outputs": [],
   "source": [
    "planets_1 = pd.DataFrame([[1.000, -90.0, 60.0],\n",
    "                          [5.203, -125.0, 17.0],\n",
    "                          [1.523, -140.0, 20.0],\n",
    "                          [0.387, -200.0, 430.0],\n",
    "                          [30.0],\n",
    "                          [9.600],\n",
    "                          [ 19.190],\n",
    "                          [ 0.723, 446.0, 490.0]],\n",
    "                         \n",
    "                         index= ['Earth', 'Jupiter', 'Mars', 'Mercury', 'Neptune', 'Saturn', 'Uranus', 'Venus'],\n",
    "                         \n",
    "                         columns=['distance', 'lowest temperature', 'highest temperature'])"
   ]
  },
  {
   "cell_type": "code",
   "execution_count": null,
   "metadata": {},
   "outputs": [],
   "source": [
    "planets_1.head(3)"
   ]
  },
  {
   "cell_type": "markdown",
   "metadata": {},
   "source": [
    "in a **data frame**\n",
    "   - the **rows** and the **columns** are **indexed**\n",
    "   - the type is $\\texttt{pandas.Index}$ (for short)"
   ]
  },
  {
   "cell_type": "code",
   "execution_count": null,
   "metadata": {},
   "outputs": [],
   "source": [
    "type(planets_1.columns), type(planets_1.columns)"
   ]
  },
  {
   "cell_type": "code",
   "execution_count": null,
   "metadata": {},
   "outputs": [],
   "source": [
    "pd.Index"
   ]
  },
  {
   "cell_type": "markdown",
   "metadata": {},
   "source": [
    "   - you can create an object **Index**\n",
    "   - and pass it to the data frame **constructor**"
   ]
  },
  {
   "cell_type": "code",
   "execution_count": null,
   "metadata": {},
   "outputs": [],
   "source": [
    "index_rows = pd.Index(['Earth', 'Jupiter', 'Mars','Mercury',\n",
    "                       'Neptune', 'Saturn', 'Uranus', 'Venus'])"
   ]
  },
  {
   "cell_type": "code",
   "execution_count": null,
   "metadata": {},
   "outputs": [],
   "source": [
    "index_cols = pd.Index(['distance', 'lowest temperature',\n",
    "                     'highest temperature'])"
   ]
  },
  {
   "cell_type": "code",
   "execution_count": null,
   "metadata": {},
   "outputs": [],
   "source": [
    "planets_3 = pd.DataFrame([[1.000, -90.0, 60.0],\n",
    "                          [5.203, -125.0, 17.0],\n",
    "                          [1.523, -140.0, 20.0],\n",
    "                          [0.387, -200.0, 430.0],\n",
    "                          [30.0],\n",
    "                          [9.600],\n",
    "                          [ 19.190],\n",
    "                          [ 0.723, 446.0, 490.0]],                         \n",
    "                         index = index_rows,\n",
    "                         columns = index_cols)"
   ]
  },
  {
   "cell_type": "markdown",
   "metadata": {},
   "source": [
    "### 3) information on $\\texttt{pandas.DataFrame}$"
   ]
  },
  {
   "cell_type": "markdown",
   "metadata": {},
   "source": [
    "   - you can access the **index**"
   ]
  },
  {
   "cell_type": "code",
   "execution_count": null,
   "metadata": {},
   "outputs": [],
   "source": [
    "planets.index"
   ]
  },
  {
   "cell_type": "markdown",
   "metadata": {},
   "source": [
    "   - you can access the **columns names**"
   ]
  },
  {
   "cell_type": "code",
   "execution_count": null,
   "metadata": {},
   "outputs": [],
   "source": [
    "planets.columns"
   ]
  },
  {
   "cell_type": "markdown",
   "metadata": {},
   "source": [
    "   - you access **columns** by keys like for a dictionary"
   ]
  },
  {
   "cell_type": "code",
   "execution_count": null,
   "metadata": {},
   "outputs": [],
   "source": [
    "planets['distance']"
   ]
  },
  {
   "cell_type": "markdown",
   "metadata": {},
   "source": [
    "   - you can **transpose** a $\\texttt{pandas.DataFrame}$"
   ]
  },
  {
   "cell_type": "code",
   "execution_count": null,
   "metadata": {},
   "outputs": [],
   "source": [
    "planets.T # nows columns are rows"
   ]
  },
  {
   "cell_type": "markdown",
   "metadata": {},
   "source": [
    "   - you can access the **underlying** two-dimensional $\\texttt{numpy.ndarray}$"
   ]
  },
  {
   "cell_type": "code",
   "execution_count": null,
   "metadata": {},
   "outputs": [],
   "source": [
    "planets.to_numpy()"
   ]
  },
  {
   "cell_type": "markdown",
   "metadata": {},
   "source": [
    "   - you can get general **statistics** on the **numerical** columns"
   ]
  },
  {
   "cell_type": "code",
   "execution_count": null,
   "metadata": {},
   "outputs": [],
   "source": [
    "planets.describe()"
   ]
  },
  {
   "cell_type": "markdown",
   "metadata": {},
   "source": [
    "   - you an access **information** on **columns**\n",
    "   - *numbers of non-null elements, types, memory usage*"
   ]
  },
  {
   "cell_type": "code",
   "execution_count": null,
   "metadata": {},
   "outputs": [],
   "source": [
    "planets.info()"
   ]
  },
  {
   "cell_type": "markdown",
   "metadata": {},
   "source": [
    "### 4) accessing elements in a $\\texttt{pandas.DataFrame}$ using $\\texttt{pandas.DataFrame.loc}$"
   ]
  },
  {
   "cell_type": "markdown",
   "metadata": {},
   "source": [
    "the classical way\n",
    "   - **standard** (python and numpy) **indexing operators** **[]** and attribute operator **.**\n",
    "   - are **available** and **intuitive**\n",
    "\n",
    "   \n",
    "However\n",
    "   - using **standard operators** has  **optimization** limits\n",
    "   - for **production code** use the **optimized pandas data access methods** \n",
    "   \n",
    "   \n",
    "   \n",
    "http://pandas.pydata.org/pandas-docs/stable/indexing.html"
   ]
  },
  {
   "cell_type": "markdown",
   "metadata": {},
   "source": [
    "#### accessing elements using **labels** and $\\texttt{pandas.DataFrame.loc}$\n",
    "   - $\\texttt{df.loc[row_label]}$\n",
    "   - $\\texttt{df.loc[row_label, column_label]}$\n",
    "   \n",
    "\n",
    "$\\texttt{row_label}$ and $\\texttt{column_label}$ can be:\n",
    "   - **labels**\n",
    "   - **list of labels**\n",
    "   - **slices** with labels\n",
    "   - **masks** (**Boolean array**) \n",
    "   "
   ]
  },
  {
   "cell_type": "markdown",
   "metadata": {},
   "source": [
    "when $\\texttt{row_label}$ and $\\texttt{column_label}$ are **labels**\n",
    "   - it returns a value"
   ]
  },
  {
   "cell_type": "code",
   "execution_count": null,
   "metadata": {},
   "outputs": [],
   "source": [
    "planets.loc['Earth', 'distance']"
   ]
  },
  {
   "cell_type": "code",
   "execution_count": null,
   "metadata": {},
   "outputs": [],
   "source": [
    "planets.loc['Earth']"
   ]
  },
  {
   "cell_type": "markdown",
   "metadata": {},
   "source": [
    "when only one $\\texttt{row_label}$ or $\\texttt{row_label}$ is a **label**\n",
    "   - it returns a $\\texttt{pandas.Series}$"
   ]
  },
  {
   "cell_type": "code",
   "execution_count": null,
   "metadata": {},
   "outputs": [],
   "source": [
    "planets.loc['Earth']"
   ]
  },
  {
   "cell_type": "code",
   "execution_count": null,
   "metadata": {},
   "outputs": [],
   "source": [
    "type(planets.loc['Earth'])"
   ]
  },
  {
   "cell_type": "code",
   "execution_count": null,
   "metadata": {},
   "outputs": [],
   "source": [
    "planets.loc[['Earth'], 'distance']"
   ]
  },
  {
   "cell_type": "code",
   "execution_count": null,
   "metadata": {},
   "outputs": [],
   "source": [
    "type(planets.loc[['Earth'], 'distance'])"
   ]
  },
  {
   "cell_type": "code",
   "execution_count": null,
   "metadata": {},
   "outputs": [],
   "source": [
    "planets.loc['Earth', ['distance']]"
   ]
  },
  {
   "cell_type": "code",
   "execution_count": null,
   "metadata": {},
   "outputs": [],
   "source": [
    "type(planets.loc['Earth', ['distance']])"
   ]
  },
  {
   "cell_type": "markdown",
   "metadata": {},
   "source": [
    "when $\\texttt{row_label}$ and $\\texttt{column_label}$ are **lists of labels**\n",
    "   - it returns a $\\texttt{pandas.DataFrame}$"
   ]
  },
  {
   "cell_type": "code",
   "execution_count": null,
   "metadata": {},
   "outputs": [],
   "source": [
    "planets.loc[['Earth']]"
   ]
  },
  {
   "cell_type": "code",
   "execution_count": null,
   "metadata": {},
   "outputs": [],
   "source": [
    "type(planets.loc[['Earth']])"
   ]
  },
  {
   "cell_type": "code",
   "execution_count": null,
   "metadata": {},
   "outputs": [],
   "source": [
    "planets.loc[['Earth', 'Mars']]"
   ]
  },
  {
   "cell_type": "markdown",
   "metadata": {},
   "source": [
    "   - all columns $\\texttt{':'}$\n",
    "   - rows fron 'Earth' included to 'Mars'**included**"
   ]
  },
  {
   "cell_type": "code",
   "execution_count": null,
   "metadata": {},
   "outputs": [],
   "source": [
    "planets.loc['Earth':'Mars', :]"
   ]
  },
  {
   "cell_type": "markdown",
   "metadata": {},
   "source": [
    "   - all rows $\\texttt{':'}$\n",
    "   - columns from $\\texttt{distance}$ to $\\texttt{highest temperature}$ **included**"
   ]
  },
  {
   "cell_type": "code",
   "execution_count": null,
   "metadata": {},
   "outputs": [],
   "source": [
    "planets.loc[:, 'distance':'highest temperature']"
   ]
  },
  {
   "cell_type": "markdown",
   "metadata": {},
   "source": [
    "   - $\\texttt{planets}$ **farther than** earth from the sum"
   ]
  },
  {
   "cell_type": "code",
   "execution_count": null,
   "metadata": {},
   "outputs": [],
   "source": [
    "planets.loc[planets.loc[:, 'distance'] > 1]"
   ]
  },
  {
   "cell_type": "markdown",
   "metadata": {},
   "source": [
    "### 5) accessing elements in a $\\texttt{pandas.DataFrame}$ using **position** and  $\\texttt{pandas.DataFrame.iloc}$"
   ]
  },
  {
   "cell_type": "markdown",
   "metadata": {},
   "source": [
    "#### accessing elements using $\\texttt{pandas.DataFrame.iloc}$\n",
    "   - $\\texttt{df.loc[row_id]}$\n",
    "   - $\\texttt{df.loc[row_id, column_id]}$\n",
    "   \n",
    "\n",
    "$\\texttt{row_id}$ and $\\texttt{column_id}$ can be:\n",
    "   - **integer**\n",
    "   - **list of integers**\n",
    "   - **slices**\n",
    "   - **masks** (**Boolean array**)  "
   ]
  },
  {
   "cell_type": "code",
   "execution_count": null,
   "metadata": {},
   "outputs": [],
   "source": [
    "planets_1 = pd.DataFrame([[1.000, -90.0, 60.0],\n",
    "                          [5.203, -125.0, 17.0],\n",
    "                          [1.523, -140.0, 20.0],\n",
    "                          [0.387, -200.0, 430.0]],\n",
    "                         \n",
    "                         index= ['Earth', 'Jupiter', 'Mars', 'Mercury'],\n",
    "                         \n",
    "                         columns=['distance', 'lowest temperature', 'highest temperature'])"
   ]
  },
  {
   "cell_type": "markdown",
   "metadata": {},
   "source": [
    "   - the first row"
   ]
  },
  {
   "cell_type": "code",
   "execution_count": null,
   "metadata": {},
   "outputs": [],
   "source": [
    "planets.iloc[0] # pandas.Series"
   ]
  },
  {
   "cell_type": "markdown",
   "metadata": {},
   "source": [
    "   - the first and the third rows"
   ]
  },
  {
   "cell_type": "code",
   "execution_count": null,
   "metadata": {},
   "outputs": [],
   "source": [
    "planets.iloc[[0, 2]] # pandas.DataFrame"
   ]
  },
  {
   "cell_type": "markdown",
   "metadata": {},
   "source": [
    "   - $\\texttt{[1, 3]}$ the second and the fourth columns\n",
    "   - $\\texttt{[0, 2]}$ of the first and the third rows"
   ]
  },
  {
   "cell_type": "code",
   "execution_count": null,
   "metadata": {},
   "outputs": [],
   "source": [
    "planets.iloc[[0, 2], [1, 3]] # pandas.DataFrame"
   ]
  },
  {
   "cell_type": "markdown",
   "metadata": {},
   "source": [
    "   - first row, first column (as a float)"
   ]
  },
  {
   "cell_type": "code",
   "execution_count": null,
   "metadata": {},
   "outputs": [],
   "source": [
    "planets.iloc[0, 1] # pandas.DataFrame"
   ]
  },
  {
   "cell_type": "markdown",
   "metadata": {},
   "source": [
    "   - first row, first column (as a $\\texttt{pandas.DataFrame}$)"
   ]
  },
  {
   "cell_type": "code",
   "execution_count": null,
   "metadata": {},
   "outputs": [],
   "source": [
    "planets.iloc[[0], [1]] # pandas.DataFrame"
   ]
  },
  {
   "cell_type": "markdown",
   "metadata": {},
   "source": [
    "   - the **rows** from **position** $0$ to **position** $2$ **excluded** (*python slicing rules*)\n",
    "   - the **columns** from **position** $1$ to position $3$ **excluded** (*python slicing rules*)"
   ]
  },
  {
   "cell_type": "code",
   "execution_count": null,
   "metadata": {},
   "outputs": [],
   "source": [
    "planets.iloc[0:2, 1:3] # pandas.DataFrame"
   ]
  },
  {
   "cell_type": "markdown",
   "metadata": {},
   "source": [
    "   - all rows $\\texttt{':'}$\n",
    "   - columns from $1$ to $3$ excluded"
   ]
  },
  {
   "cell_type": "code",
   "execution_count": null,
   "metadata": {},
   "outputs": [],
   "source": [
    "planets.iloc[:, 1:3]"
   ]
  },
  {
   "cell_type": "markdown",
   "metadata": {},
   "source": [
    "   - all columns $\\texttt{':'}$\n",
    "   - rows from $0$ to $3$ excluded"
   ]
  },
  {
   "cell_type": "code",
   "execution_count": null,
   "metadata": {},
   "outputs": [],
   "source": [
    "planets.iloc[0:3, :]"
   ]
  },
  {
   "cell_type": "markdown",
   "metadata": {},
   "source": [
    "   - planets farther from the sun than the erath"
   ]
  },
  {
   "cell_type": "markdown",
   "metadata": {},
   "source": [
    "### 6) changing the $\\texttt{pandas.DataFrame}$ $\\texttt{index}$"
   ]
  },
  {
   "cell_type": "markdown",
   "metadata": {},
   "source": [
    "   - $\\texttt{pandas.DataFramce.set_index(new_column)}$\n",
    "   - $\\texttt{pandas.DataFramce.reset_index()}$\n",
    "   - direct assignement"
   ]
  },
  {
   "cell_type": "code",
   "execution_count": null,
   "metadata": {},
   "outputs": [],
   "source": [
    "planets = pd.DataFrame([[1.000, -90.0, 60.0],\n",
    "                          [5.203, -125.0, 17.0],],                         \n",
    "                         index= ['Earth', 'Jupiter'],                         \n",
    "                         columns=['distance', 'lowest temperature', 'highest temperature'])"
   ]
  },
  {
   "cell_type": "markdown",
   "metadata": {},
   "source": [
    "   - with $\\texttt{pandas.DataFramce.set_index}$ you **index** by **another** column"
   ]
  },
  {
   "cell_type": "code",
   "execution_count": null,
   "metadata": {},
   "outputs": [],
   "source": [
    "planets.set_index('distance')"
   ]
  },
  {
   "cell_type": "markdown",
   "metadata": {},
   "source": [
    "   - with $\\texttt{pandas.DataFramce.reset_index}$  the **index** became a **normal** $\\texttt{pandas.DataFrame}$ column "
   ]
  },
  {
   "cell_type": "code",
   "execution_count": null,
   "metadata": {},
   "outputs": [],
   "source": [
    "planets.reset_index()"
   ]
  },
  {
   "cell_type": "markdown",
   "metadata": {},
   "source": [
    "   - with direct assigment you create a new index"
   ]
  },
  {
   "cell_type": "code",
   "execution_count": null,
   "metadata": {},
   "outputs": [],
   "source": [
    "planets"
   ]
  },
  {
   "cell_type": "code",
   "execution_count": null,
   "metadata": {},
   "outputs": [],
   "source": [
    "planets.index = ['la terre', 'jupiter']"
   ]
  },
  {
   "cell_type": "markdown",
   "metadata": {},
   "source": [
    "### 7) sorting $\\texttt{pandas.DataFrame}$ according **columns**"
   ]
  },
  {
   "cell_type": "code",
   "execution_count": null,
   "metadata": {},
   "outputs": [],
   "source": [
    "df = pd.DataFrame({ 'col1':  [19, 3, 26, 46, 4, 19],\n",
    "                    'col2': ['h', 'w', 'y', 'd', 'm', 'w'],\n",
    "                    'col3':  [8.45, 19.23, 89.56, 17.5, 54.76, 89.56]})"
   ]
  },
  {
   "cell_type": "code",
   "execution_count": null,
   "metadata": {},
   "outputs": [],
   "source": [
    "df.sort_values(by='col1', ascending=False)"
   ]
  },
  {
   "cell_type": "markdown",
   "metadata": {},
   "source": [
    "   - **first** $\\texttt{col1}$ is **sorted**\n",
    "   - then, for **identical values**, $\\texttt{col2}$ is sorted "
   ]
  },
  {
   "cell_type": "code",
   "execution_count": null,
   "metadata": {},
   "outputs": [],
   "source": [
    "df.sort_values(by=['col1', 'col2'], ascending=False)"
   ]
  },
  {
   "cell_type": "markdown",
   "metadata": {},
   "source": [
    "   - you can sort only a few elements ($\\texttt{pandas.DataFrame.nlargest()}$, $\\texttt{pandas.DataFrame.nsmallest()}$)\n",
    "   - (*it might be faster on large datasets*)"
   ]
  },
  {
   "cell_type": "code",
   "execution_count": null,
   "metadata": {},
   "outputs": [],
   "source": [
    "df.nlargest(2, 'col3')"
   ]
  },
  {
   "cell_type": "code",
   "execution_count": null,
   "metadata": {},
   "outputs": [],
   "source": [
    "df.nsmallest(3, 'col1')"
   ]
  },
  {
   "cell_type": "markdown",
   "metadata": {},
   "source": [
    "### 8) applying vectorized functions to $\\texttt{pandas.DataFrame}$"
   ]
  },
  {
   "cell_type": "markdown",
   "metadata": {},
   "source": [
    "   - $\\texttt{pandas.DataFrame}$ columns are stored in $\\texttt{numpy.ndarray}$\n",
    "   - **ufuncs** functions can be **applied** to $\\texttt{pandas.Series}$\n",
    "   - **rows** and **columns** labels are preserved"
   ]
  },
  {
   "cell_type": "code",
   "execution_count": null,
   "metadata": {},
   "outputs": [],
   "source": [
    "import numpy as np\n",
    "\n",
    "df = pd.DataFrame(np.linspace(0, 2*np.pi, 100), columns=['angle'])"
   ]
  },
  {
   "cell_type": "code",
   "execution_count": null,
   "metadata": {},
   "outputs": [],
   "source": [
    "df.head()"
   ]
  },
  {
   "cell_type": "code",
   "execution_count": null,
   "metadata": {},
   "outputs": [],
   "source": [
    "df['sinus'] = np.sin(df)"
   ]
  },
  {
   "cell_type": "code",
   "execution_count": null,
   "metadata": {},
   "outputs": [],
   "source": [
    "df.head(3)"
   ]
  },
  {
   "cell_type": "code",
   "execution_count": null,
   "metadata": {},
   "outputs": [],
   "source": [
    "df['cosinus'] = np.cos(df['angle'])"
   ]
  },
  {
   "cell_type": "code",
   "execution_count": null,
   "metadata": {},
   "outputs": [],
   "source": [
    "df.head(3)"
   ]
  },
  {
   "cell_type": "code",
   "execution_count": null,
   "metadata": {},
   "outputs": [],
   "source": [
    "from matplotlib import pyplot as plt\n",
    "%matplotlib inline"
   ]
  },
  {
   "cell_type": "code",
   "execution_count": null,
   "metadata": {},
   "outputs": [],
   "source": [
    "df[['sinus', 'cosinus']].plot()"
   ]
  },
  {
   "cell_type": "code",
   "execution_count": null,
   "metadata": {},
   "outputs": [],
   "source": [
    "( np.power(df['sinus'], 2) + np.power(df['cosinus'], 2) )[0:3]"
   ]
  }
 ],
 "metadata": {
  "ipub": {
   "sphinx": {
    "toggle_input": true,
    "toggle_input_all": true,
    "toggle_output": true,
    "toggle_output_all": true
   }
  },
  "kernelspec": {
   "display_name": "Python 3",
   "language": "python",
   "name": "python3"
  },
  "language_info": {
   "codemirror_mode": {
    "name": "ipython",
    "version": 3
   },
   "file_extension": ".py",
   "mimetype": "text/x-python",
   "name": "python",
   "nbconvert_exporter": "python",
   "pygments_lexer": "ipython3",
   "version": "3.7.3"
  },
  "notebookname": "NO HEADING 1 found",
  "rise": {
   "autolaunch": true,
   "slideNumber": "c/t",
   "start_slideshow_at": "selected",
   "theme": "sky",
   "transition": "cube"
  },
  "version": "1.0"
 },
 "nbformat": 4,
 "nbformat_minor": 4
}
