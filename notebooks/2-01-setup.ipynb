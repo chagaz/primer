{
 "cells": [
  {
   "cell_type": "markdown",
   "metadata": {},
   "source": [
    "# Setting-up Your environment \"Python for Data Science\""
   ]
  },
  {
   "cell_type": "markdown",
   "metadata": {},
   "source": [
    "   - all `mathematic and computer science courses` will use `python`, `Ipython` and the `Jupyter notebook`\n",
    "   - the extension of a notebook file is `.ipynb` (for `Ipython Notebook`)"
   ]
  },
  {
   "cell_type": "markdown",
   "metadata": {},
   "source": [
    "### two `disctinct` ways to `work`:\n",
    "   1. you acess a `remote` `nbhosting` (hosting of notebooks)\n",
    "   1. you `download` the files locally on `your computer` (by cloning the repositories) and you run them on your `system`"
   ]
  },
  {
   "cell_type": "markdown",
   "metadata": {},
   "source": [
    "#### 1) the notebook hosting\n",
    "   - it is here https://nbhosting-dev.inria.fr/auditor/courses/\n",
    "   - you will have a `login/passwd`\n"
   ]
  },
  {
   "cell_type": "markdown",
   "metadata": {},
   "source": [
    "#### 2) working `locally on your computer`\n",
    "   - you will need a lot of `libraries`\n",
    "   - we `recommend` you install `miniconda` for `Python 3.7`\n",
    "   - and do `additional` installations of `packages` with `pip install`\n",
    "   \n",
    "   - see the installation instructions here https://docs.conda.io/en/latest/miniconda.html\n",
    "   - install the `Python 3.7` miniconda\n",
    "   \n",
    "   \n",
    "with `mini-conda`, you will get at minima, the libraries needed for this course:\n",
    "   - `python` version $\\geq 3.$\n",
    "   - `numpy`\n",
    "   - `pandas`\n",
    "   - `matplotlib`\n",
    "   - `ipython`\n",
    "   - `jupyter`"
   ]
  },
  {
   "cell_type": "code",
   "execution_count": null,
   "metadata": {},
   "outputs": [],
   "source": []
  }
 ],
 "metadata": {
  "kernelspec": {
   "display_name": "Python 3",
   "language": "python",
   "name": "python3"
  },
  "language_info": {
   "codemirror_mode": {
    "name": "ipython",
    "version": 3
   },
   "file_extension": ".py",
   "mimetype": "text/x-python",
   "name": "python",
   "nbconvert_exporter": "python",
   "pygments_lexer": "ipython3",
   "version": "3.7.3"
  }
 },
 "nbformat": 4,
 "nbformat_minor": 2
}
