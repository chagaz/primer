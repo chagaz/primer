{
 "cells": [
  {
   "cell_type": "markdown",
   "metadata": {},
   "source": [
    "<div class=\"licence\">\n",
    "<span>Licence CC BY-NC-ND</span>\n",
    "<span>Valérie Roy</span>\n",
    "<span><img src=\"media/ensmp-25-alpha.png\" /></span>\n",
    "</div>"
   ]
  },
  {
   "cell_type": "markdown",
   "metadata": {},
   "source": [
    "# data visualization in python"
   ]
  },
  {
   "cell_type": "markdown",
   "metadata": {},
   "source": [
    "   - https://github.com/rougier/matplotlib-tutorial#introduction\n",
    "   - https://www.labri.fr/perso/nrougier/python-opengl/"
   ]
  },
  {
   "cell_type": "markdown",
   "metadata": {},
   "source": [
    "# matplotlib"
   ]
  },
  {
   "cell_type": "markdown",
   "metadata": {},
   "source": [
    "## 1) introduction"
   ]
  },
  {
   "cell_type": "markdown",
   "metadata": {},
   "source": [
    "   - the project started in $\\approx$ **2003**\n",
    "   - it is inspired by **MATLAB**\n",
    "   - it was the first **Python data visualization** library\n",
    "   - and it is **for the time being** the **most popular** library\n",
    "   - there is an **active developer community**\n",
    "   - its **license** is **based** on the **Python Software Foundation** (PSF) **license**\n",
    "   - https://matplotlib.org/"
   ]
  },
  {
   "cell_type": "markdown",
   "metadata": {},
   "source": [
    "   - it is a **2D plotting** library\n",
    "   - it can be used with the **Jupyter notebook**\n",
    "   \n",
    "   \n",
    "   - the **3d plotting** is a **mpl toolkit** (*from mpl_toolkits.mplot3d import Axes3D*)"
   ]
  },
  {
   "cell_type": "markdown",
   "metadata": {},
   "source": [
    "   - it has a **concise syntax**\n",
    "   - it is rather **simple** and **powerful**\n",
    "   - it makes **heavy use** of **numpy** to have **good performance** for **large arrays**\n",
    "   - some other libraries are **built** on top of **matplotlib** (e.g. **seaborn**)\n",
    "   - **pandas** has **wrappers** over **matplotlib**"
   ]
  },
  {
   "cell_type": "markdown",
   "metadata": {},
   "source": [
    "   - it offers the **classic** functionnalities: **plots**, **histograms**, **bar charts**, **scatterplots**, ...\n",
    "   - https://matplotlib.org/gallery/index.html\n",
    "   \n",
    "   \n",
    "   - that you can **customize** with **texts**, **grids**, **labels**, **legends**, ...   \n",
    "   - **parameters** control **colors**, **line styles**, **font properties**, **axes properties**, ...\n",
    "   \n",
    "   \n",
    "   - https://matplotlib.org/api/pyplot_summary.html"
   ]
  },
  {
   "cell_type": "markdown",
   "metadata": {},
   "source": [
    "   - **pyplot** is the interface to the matplotlib plotting library"
   ]
  },
  {
   "cell_type": "code",
   "execution_count": null,
   "metadata": {},
   "outputs": [],
   "source": [
    "#import matplotlib as mpl"
   ]
  },
  {
   "cell_type": "code",
   "execution_count": null,
   "metadata": {},
   "outputs": [],
   "source": [
    "#mpl.__version__"
   ]
  },
  {
   "cell_type": "markdown",
   "metadata": {},
   "source": [
    "## 2) **plots**"
   ]
  },
  {
   "cell_type": "markdown",
   "metadata": {},
   "source": [
    "#### a) a simple plot"
   ]
  },
  {
   "cell_type": "markdown",
   "metadata": {},
   "source": [
    "   - we **import** the useful **libraries**\n",
    "   - **plots** are done by the *matplotlib.pyplot* **functions**\n",
    "   - **by convention***matplotlib.pyplot* is **named** *plt*"
   ]
  },
  {
   "cell_type": "code",
   "execution_count": null,
   "metadata": {},
   "outputs": [],
   "source": [
    "import matplotlib.pyplot as plt\n",
    "%matplotlib inline"
   ]
  },
  {
   "cell_type": "code",
   "execution_count": null,
   "metadata": {},
   "outputs": [],
   "source": [
    "import pandas as pd\n",
    "import numpy as np"
   ]
  },
  {
   "cell_type": "markdown",
   "metadata": {},
   "source": [
    "   - we **create** an **array** *x* with **values** linearly spaced between $0$ and $2\\pi$\n",
    "   - we **get** a *numpy.ndarray* "
   ]
  },
  {
   "cell_type": "code",
   "execution_count": null,
   "metadata": {},
   "outputs": [],
   "source": [
    "x = np.linspace(0, 2*np.pi, 50)"
   ]
  },
  {
   "cell_type": "markdown",
   "metadata": {},
   "source": [
    "   - we **create** an **array** *y* by **computing** the **sinus** of the values of *x*\n",
    "   - we **create** an **array** *z* by **computing** the **cosinus** of the values of *x*\n",
    "   - we **get** two *numpy.ndarray* "
   ]
  },
  {
   "cell_type": "code",
   "execution_count": null,
   "metadata": {},
   "outputs": [],
   "source": [
    "y = np.sin(x)\n",
    "z = np.cos(x)"
   ]
  },
  {
   "cell_type": "markdown",
   "metadata": {},
   "source": [
    "   - *pyplot.plot(x, y)*  **plot** **y** versus **x** with varying **linesize**, **color**, etc.\n",
    "   - *pyplot.scatter* **scatter plot** of **y** versus **x** with varying **marker** **shape**, **size** and **color**"
   ]
  },
  {
   "cell_type": "code",
   "execution_count": null,
   "metadata": {},
   "outputs": [],
   "source": [
    "plt.plot(x, y)\n",
    "plt.scatter(x, z)"
   ]
  },
  {
   "cell_type": "markdown",
   "metadata": {},
   "source": [
    "   - we have **plot** with the **default** settings"
   ]
  },
  {
   "cell_type": "markdown",
   "metadata": {},
   "source": [
    "#### b) improving the plot"
   ]
  },
  {
   "cell_type": "markdown",
   "metadata": {},
   "source": [
    "with **parameters** and **methods**, we can **add** in the **drawing**:\n",
    "   - **title**\n",
    "   - **legends** to the **axis**\n",
    "   - **labels** to the **plots**, ...\n",
    "   - with different **fontsize**"
   ]
  },
  {
   "cell_type": "code",
   "execution_count": null,
   "metadata": {},
   "outputs": [],
   "source": [
    "x = np.linspace(0, 2*np.pi, 50)\n",
    "y = np.sin(x)\n",
    "\n",
    "plt.title('trigonometric functions of angles between 0 and $2 \\pi$', fontsize=20)\n",
    "\n",
    "plt.xlabel('x coordinate', fontsize=18) # legend to axis x\n",
    "plt.ylabel('y coordinate') # legend to axis y\n",
    "\n",
    "plt.plot(x, y, label='sinus')\n",
    "plt.scatter(x, z, label='cosinus')\n",
    "\n",
    "plt.legend(fontsize=12) # make the legend appear\n",
    "\n",
    "plt.show() # not mandatory in jupyter notebooks !"
   ]
  },
  {
   "cell_type": "markdown",
   "metadata": {},
   "source": [
    "   - we can **vary** marker, color, size, linewidth"
   ]
  },
  {
   "cell_type": "code",
   "execution_count": null,
   "metadata": {},
   "outputs": [],
   "source": [
    "x = np.arange(1, 10)\n",
    "y = np.power(x, 2)\n",
    "\n",
    "plt.plot(x, y, color='orange', linestyle='--', linewidth=3)"
   ]
  },
  {
   "cell_type": "code",
   "execution_count": null,
   "metadata": {},
   "outputs": [],
   "source": [
    "plt.plot(x, y, 'g--', linewidth=4)    # green, dashed line\n",
    "plt.plot(x, y, 'rs', markersize=15)   # red, square marker\n",
    "plt.plot(x, y, 'y^', markersize=6)    # yellow, triangle marker"
   ]
  },
  {
   "cell_type": "markdown",
   "metadata": {},
   "source": [
    "   - **varying** **colors** and **size** depending of values **c** and **s**"
   ]
  },
  {
   "cell_type": "markdown",
   "metadata": {},
   "source": [
    "*plt.scatter* \n",
    "   - you can pass to the parameter **c** a **sequence** of **numbers** to be **mapped** to **colors**\n",
    "   - you can pass to the parameter **s** a **sequence** of **numbers** to be **mapped** to **shapes**\n",
    "   "
   ]
  },
  {
   "cell_type": "markdown",
   "metadata": {},
   "source": [
    "the **c** values will go through a **colormap** (list can be seen on the documentation at https://matplotlib.org/users/colormaps.html)"
   ]
  },
  {
   "cell_type": "code",
   "execution_count": null,
   "metadata": {},
   "outputs": [],
   "source": [
    "x = np.arange(10)\n",
    "y = x + 10 * np.random.randn(10)\n",
    "\n",
    "z = np.random.randint(100, 10000, 10) # random values for colors\n",
    "v = np.random.randint(100, 5000, 10)  # random values for size \n",
    "\n",
    "plt.scatter(x, y, marker='o', c=z, s=v, cmap='Blues')"
   ]
  },
  {
   "cell_type": "markdown",
   "metadata": {},
   "source": [
    "####  we can set the **limits** and the **ticks** of the **axes** "
   ]
  },
  {
   "cell_type": "code",
   "execution_count": null,
   "metadata": {},
   "outputs": [],
   "source": [
    "x = np.linspace(0, 2*np.pi, 50)\n",
    "y = np.sin(x)\n",
    "plt.plot(x, y)"
   ]
  },
  {
   "cell_type": "markdown",
   "metadata": {},
   "source": [
    "   - setting the **abscissa**\n",
    "   - here from $-2\\pi$ to $2\\pi$ "
   ]
  },
  {
   "cell_type": "code",
   "execution_count": null,
   "metadata": {},
   "outputs": [],
   "source": [
    "plt.xlim(-2*np.pi, 2*np.pi)\n",
    "#plt.plot(x, y)"
   ]
  },
  {
   "cell_type": "markdown",
   "metadata": {},
   "source": [
    "   - setting the number of **tick** on the **abscissa**"
   ]
  },
  {
   "cell_type": "code",
   "execution_count": null,
   "metadata": {},
   "outputs": [],
   "source": [
    "plt.xticks(np.linspace(-2*np.pi, 2*np.pi, 10, endpoint=True));"
   ]
  },
  {
   "cell_type": "markdown",
   "metadata": {},
   "source": [
    "   - we can set **tick labels**"
   ]
  },
  {
   "cell_type": "code",
   "execution_count": null,
   "metadata": {},
   "outputs": [],
   "source": [
    "plt.xticks([-2*np.pi, -np.pi, 0, np.pi/2, np.pi, 2*np.pi],\n",
    "           ['$-2\\pi$', '$-\\pi$', 0, '$\\pi/2$', '$\\pi$', '$2\\pi$']);"
   ]
  },
  {
   "cell_type": "markdown",
   "metadata": {},
   "source": [
    "   - we can do the same for the **ordinate**"
   ]
  },
  {
   "cell_type": "markdown",
   "metadata": {},
   "source": [
    "   - setting the **ordinate**\n",
    "   - here $-2$ and $2$"
   ]
  },
  {
   "cell_type": "code",
   "execution_count": null,
   "metadata": {},
   "outputs": [],
   "source": [
    "plt.ylim(-2.0, 2.0)"
   ]
  },
  {
   "cell_type": "markdown",
   "metadata": {},
   "source": [
    "   - setting the number of **tick** on the **ordinate**"
   ]
  },
  {
   "cell_type": "code",
   "execution_count": null,
   "metadata": {},
   "outputs": [],
   "source": [
    "plt.yticks(np.linspace(-2, 2, 15, endpoint=True));"
   ]
  },
  {
   "cell_type": "markdown",
   "metadata": {},
   "source": [
    "   - the **whole** figure"
   ]
  },
  {
   "cell_type": "code",
   "execution_count": null,
   "metadata": {},
   "outputs": [],
   "source": [
    "x = np.linspace(-np.pi, np.pi, 50)\n",
    "y = np.sin(x)\n",
    "\n",
    "plt.xlim(-4, 4) \n",
    "plt.xticks(np.linspace(-4, 4, 10))\n",
    "\n",
    "plt.ylim(-1, 1)\n",
    "plt.yticks(np.linspace(-2, 2, 10))\n",
    "\n",
    "plt.plot(x, y);"
   ]
  },
  {
   "cell_type": "markdown",
   "metadata": {},
   "source": [
    "#### c) writing **text**"
   ]
  },
  {
   "cell_type": "code",
   "execution_count": null,
   "metadata": {},
   "outputs": [],
   "source": [
    "plt.text(0.5, 0.5, 'I wrote here !', fontsize=20, bbox=dict(facecolor='red', alpha=0.5));"
   ]
  },
  {
   "cell_type": "markdown",
   "metadata": {},
   "source": [
    "  - with *plt.annotate* **text** can be used to **annotate** some **feature** of the **plot**\n",
    "  - you give **two points**:\n",
    "     - the **location** being **annotated** (parameter *xy*)\n",
    "     - the **location** of the **text**(parameter *xytext*\n",
    "     - you can add an **arrow** that will point toward the **point**"
   ]
  },
  {
   "cell_type": "code",
   "execution_count": null,
   "metadata": {},
   "outputs": [],
   "source": [
    "plt.scatter([0, 1, 2], [0, 1, 2], color='magenta')\n",
    "\n",
    "plt.annotate('a point', xy=(0, 0), xytext=(0.25, 0.251),\n",
    "             arrowprops=dict())\n",
    "\n",
    "plt.annotate('not a point', xy=(1, 2), xytext=(0.15, 1.75),\n",
    "             arrowprops=dict(arrowstyle='fancy'))"
   ]
  },
  {
   "cell_type": "markdown",
   "metadata": {},
   "source": [
    "#### d) boxplot"
   ]
  },
  {
   "cell_type": "markdown",
   "metadata": {},
   "source": [
    "https://pandas.pydata.org/pandas-docs/stable/reference/api/pandas.DataFrame.boxplot.html"
   ]
  },
  {
   "cell_type": "markdown",
   "metadata": {},
   "source": [
    "   - we generate a **dataframe** of **people** with random **age**, **gender**, **height** and **weight**"
   ]
  },
  {
   "cell_type": "code",
   "execution_count": null,
   "metadata": {},
   "outputs": [],
   "source": [
    "N = 20 # number of elements\n",
    "df = pd.DataFrame({'age':     np.random.randint(15, 45, size=N),\n",
    "                   'gender':  np.random.choice(['S', 'M'], size=N),\n",
    "                   'height' : np.random.randint(140, 189, size=N)/100,\n",
    "                   'weight':np.random.randint(350, 890, size=N)/10},)"
   ]
  },
  {
   "cell_type": "code",
   "execution_count": null,
   "metadata": {},
   "outputs": [],
   "source": [
    "df.boxplot(['age', 'weight'])"
   ]
  },
  {
   "cell_type": "markdown",
   "metadata": {},
   "source": [
    "   - we add some **outliers**\n",
    "   - read the help"
   ]
  },
  {
   "cell_type": "code",
   "execution_count": null,
   "metadata": {},
   "outputs": [],
   "source": [
    "df.loc[0, 'height'] = 2.5\n",
    "df.loc[1, 'height'] = 2.6\n",
    "df.loc[2, 'height'] = 0.8\n",
    "df.loc[3, 'height'] = 0.6"
   ]
  },
  {
   "cell_type": "code",
   "execution_count": null,
   "metadata": {},
   "outputs": [],
   "source": [
    "df.boxplot(['height'])"
   ]
  },
  {
   "cell_type": "markdown",
   "metadata": {},
   "source": [
    "#### d) histograms"
   ]
  },
  {
   "cell_type": "code",
   "execution_count": null,
   "metadata": {},
   "outputs": [],
   "source": [
    "df.hist();"
   ]
  },
  {
   "cell_type": "code",
   "execution_count": null,
   "metadata": {},
   "outputs": [],
   "source": [
    "df.hist(['height'], grid=False, bins = 10);"
   ]
  },
  {
   "cell_type": "markdown",
   "metadata": {},
   "source": [
    "#### d) barchart"
   ]
  },
  {
   "cell_type": "code",
   "execution_count": null,
   "metadata": {},
   "outputs": [],
   "source": [
    "df = pd.DataFrame({'speed' : [0.1, 17.5, 40, 48, 52, 69, 88],\n",
    "                   'lifespan' : [2, 8, 70, 1.5, 25, 12, 28]},\n",
    "                  index = ['snail', 'pig', 'elephant',\n",
    "                           'rabbit', 'giraffe', 'coyote', 'horse'])"
   ]
  },
  {
   "cell_type": "code",
   "execution_count": null,
   "metadata": {},
   "outputs": [],
   "source": [
    "df.plot.barh();"
   ]
  },
  {
   "cell_type": "code",
   "execution_count": null,
   "metadata": {},
   "outputs": [],
   "source": [
    "ax = df.plot.barh(x='lifespan', y='speed')"
   ]
  },
  {
   "cell_type": "markdown",
   "metadata": {},
   "source": [
    "#### e) you can **save** the **plots**"
   ]
  },
  {
   "cell_type": "code",
   "execution_count": null,
   "metadata": {},
   "outputs": [],
   "source": [
    "#plt.savefig?"
   ]
  },
  {
   "cell_type": "code",
   "execution_count": null,
   "metadata": {},
   "outputs": [],
   "source": [
    "x = np.linspace(-10, 10, 50)\n",
    "y = np.power(x, 2)\n",
    "plt.title('$y = x^2$', fontsize=20)\n",
    "plt.xlabel('x')\n",
    "plt.ylabel('$x^2$')\n",
    "plt.plot(x, y, label='$x^2$')\n",
    "plt.legend(fontsize=12)\n",
    "\n",
    "plt.savefig('my_figure.png')"
   ]
  },
  {
   "cell_type": "markdown",
   "metadata": {},
   "source": [
    "#### f) ploting an array like an **image** (on a 2D regular raster)"
   ]
  },
  {
   "cell_type": "markdown",
   "metadata": {},
   "source": [
    "   - we create an array"
   ]
  },
  {
   "cell_type": "code",
   "execution_count": null,
   "metadata": {},
   "outputs": [],
   "source": [
    "i = np.random.random((50, 100)) # numbers between [0, 1["
   ]
  },
  {
   "cell_type": "markdown",
   "metadata": {},
   "source": [
    "   - we **plot** the array like we plot an **image**"
   ]
  },
  {
   "cell_type": "code",
   "execution_count": null,
   "metadata": {},
   "outputs": [],
   "source": [
    "my_map = plt.imshow(i)"
   ]
  },
  {
   "cell_type": "code",
   "execution_count": null,
   "metadata": {},
   "outputs": [],
   "source": [
    "plt.imshow(i, cmap=plt.cm.Blues, alpha=0.5) # color map, transparency (alpha)\n",
    "plt.colorbar()"
   ]
  },
  {
   "cell_type": "markdown",
   "metadata": {},
   "source": [
    "### g) ploting a 2D function using a grid of points"
   ]
  },
  {
   "cell_type": "markdown",
   "metadata": {},
   "source": [
    "   - **suppose** you want to plot a **function** *foo(x, y)*"
   ]
  },
  {
   "cell_type": "markdown",
   "metadata": {},
   "source": [
    "   - you create all the **couples** of *(x, y)* to **cover** the area\n",
    "   - you **compute** the function on **each** point\n",
    "   - you plot the **image**"
   ]
  },
  {
   "cell_type": "markdown",
   "metadata": {},
   "source": [
    "exampe of the Gaussian function: on variable $x$ and $y$:\n",
    "   - $foo(x, y)=\n",
    "\\dfrac{1}{(2 \\pi \\sigma^2)}e^{-\\dfrac{[(x-\\mu_x)^2+(y-\\mu_y)^2]}{(2 \\sigma^2))}}$ "
   ]
  },
  {
   "cell_type": "code",
   "execution_count": null,
   "metadata": {},
   "outputs": [],
   "source": [
    "def foo (x, y, mu_x, mu_y, sigma):\n",
    "    return (1/(2*np.pi*sigma**2))*np.exp(-(np.power(x - mu_x, 2) + np.power(y - mu_y, 2))/(2*sigma**2))"
   ]
  },
  {
   "cell_type": "code",
   "execution_count": null,
   "metadata": {},
   "outputs": [],
   "source": [
    "x, y = np.mgrid[-50:50, -50:50]\n",
    "z = foo(x, y, 0.5, 0.4, 20)"
   ]
  },
  {
   "cell_type": "code",
   "execution_count": null,
   "metadata": {},
   "outputs": [],
   "source": [
    "plt.imshow(z)\n",
    "plt.axis('on')  # to how the axis \n",
    "cc = plt.colorbar()"
   ]
  },
  {
   "cell_type": "markdown",
   "metadata": {},
   "source": [
    "## 3) figures"
   ]
  },
  {
   "cell_type": "markdown",
   "metadata": {},
   "source": [
    "https://matplotlib.org/faq/usage_faq.html"
   ]
  },
  {
   "cell_type": "markdown",
   "metadata": {},
   "source": [
    "  - with **functions** of *matplotlib.pyplot*\n",
    "  - there is the **notion** of a **current figure** and **current axes**"
   ]
  },
  {
   "cell_type": "markdown",
   "metadata": {},
   "source": [
    "in this exemple:\n",
    "   - the **first call** *plt.plot(x, y)* **creates** the **axe**\n",
    "   - the **second call** *plt.plot(x, z)* **adds** the plot on the **same axe**"
   ]
  },
  {
   "cell_type": "code",
   "execution_count": null,
   "metadata": {},
   "outputs": [],
   "source": [
    "x = np.linspace(0, np.pi, 100)\n",
    "y = np.cos(4*x)+ np.sin(-x)\n",
    "z = -2 * np.cos(x)+ 4*np.sin(5*x)\n",
    "\n",
    "plt.plot(x, y)\n",
    "plt.plot(x, z);"
   ]
  },
  {
   "cell_type": "markdown",
   "metadata": {},
   "source": [
    "   - we can create **figure** with one or many **drawings**\n",
    "   - the **drawings** are called **Axes**"
   ]
  },
  {
   "cell_type": "markdown",
   "metadata": {},
   "source": [
    "   - by default the **plot** has $1$ line, $1$ column and its number is $1$"
   ]
  },
  {
   "cell_type": "markdown",
   "metadata": {},
   "source": [
    "**parameters** of **figures**"
   ]
  },
  {
   "cell_type": "markdown",
   "metadata": {},
   "source": [
    "   - the **current** figure can be **accessed**"
   ]
  },
  {
   "cell_type": "code",
   "execution_count": null,
   "metadata": {},
   "outputs": [],
   "source": [
    "fig = plt.gcf()"
   ]
  },
  {
   "cell_type": "code",
   "execution_count": null,
   "metadata": {},
   "outputs": [],
   "source": [
    "fig.number   # number of figure"
   ]
  },
  {
   "cell_type": "code",
   "execution_count": null,
   "metadata": {},
   "outputs": [],
   "source": [
    "fig.dpi         # resolution in dots per inch"
   ]
  },
  {
   "cell_type": "code",
   "execution_count": null,
   "metadata": {},
   "outputs": [],
   "source": [
    " # figure size in inches (width, height)"
   ]
  },
  {
   "cell_type": "code",
   "execution_count": null,
   "metadata": {},
   "outputs": [],
   "source": [
    "fig.frameon # draw figure frame or not"
   ]
  },
  {
   "cell_type": "code",
   "execution_count": null,
   "metadata": {},
   "outputs": [],
   "source": [
    "fig.get_figheight(), fig.get_figwidth() # fig size in inch"
   ]
  },
  {
   "cell_type": "markdown",
   "metadata": {},
   "source": [
    "   - you can give the **size** and the **dpi**"
   ]
  },
  {
   "cell_type": "code",
   "execution_count": null,
   "metadata": {},
   "outputs": [],
   "source": [
    "# size is 8x6 inches, 80 dots per inch\n",
    "plt.figure(figsize=(8, 6), dpi=80);"
   ]
  },
  {
   "cell_type": "markdown",
   "metadata": {},
   "source": [
    "### a) create a **figure** with a unique **Axe** (a unique drawing)"
   ]
  },
  {
   "cell_type": "code",
   "execution_count": null,
   "metadata": {},
   "outputs": [],
   "source": [
    "x = np.linspace(0, 2*np.pi, 100)\n",
    "y = np.sin(x)\n",
    "fig, ax = plt.subplots()\n",
    "\n",
    "ax.plot(x, y);"
   ]
  },
  {
   "cell_type": "markdown",
   "metadata": {},
   "source": [
    "   - you can add **title**, **labels**, **axis labels** to the **Axe**"
   ]
  },
  {
   "cell_type": "code",
   "execution_count": null,
   "metadata": {},
   "outputs": [],
   "source": [
    "ax.set_title('sinus')\n",
    "ax.set_xlabel('x coordinate')\n",
    "ax.set_ylabel('y coordinate');"
   ]
  },
  {
   "cell_type": "markdown",
   "metadata": {},
   "source": [
    "   - getting the **current** axis "
   ]
  },
  {
   "cell_type": "code",
   "execution_count": null,
   "metadata": {},
   "outputs": [],
   "source": [
    "x = np.linspace(-2*np.pi, 2*np.pi, 50)\n",
    "y = np.sin(x)\n",
    "plt.plot(x, y)\n",
    "ax = plt.gca() # gca stands for 'get current axis'"
   ]
  },
  {
   "cell_type": "markdown",
   "metadata": {},
   "source": [
    "   - giving a size to a figure"
   ]
  },
  {
   "cell_type": "code",
   "execution_count": null,
   "metadata": {},
   "outputs": [],
   "source": [
    "fig = plt.figure(figsize=(10, 2))\n",
    "x = np.linspace(-2*np.pi, 2*np.pi, 50)\n",
    "y = np.sin(x)\n",
    "plt.plot(x, y)"
   ]
  },
  {
   "cell_type": "markdown",
   "metadata": {},
   "source": [
    "   - the **lines** at the **borders** of the figure are called **spines**\n",
    "   - there are four **spines**: **top**, **left**, **right** and **bottom** \n",
    "   - you can move the **spines** of an **axis**"
   ]
  },
  {
   "cell_type": "markdown",
   "metadata": {},
   "source": [
    "   - to discard a spine, **set** its **color** to **None**\n",
    "   - to move a spine, give its **new** position in the **data** space coordinates"
   ]
  },
  {
   "cell_type": "markdown",
   "metadata": {},
   "source": [
    "   - to move its **spines** you need to **refer** to the **axis**"
   ]
  },
  {
   "cell_type": "markdown",
   "metadata": {},
   "source": [
    "   - we move the **left** and **bottom** **spines**\n",
    "   - of the **current axis**\n",
    "   - to the **origin** of the **data**"
   ]
  },
  {
   "cell_type": "code",
   "execution_count": null,
   "metadata": {},
   "outputs": [],
   "source": [
    "x = np.linspace(-np.pi, np.pi, 50)\n",
    "y = np.sin(x)\n",
    "plt.plot(x, y)\n",
    "\n",
    "ax = plt.gca()  # gca stands for 'get current axis'\n",
    "\n",
    "ax.spines['right'].set_color('none')\n",
    "ax.spines['top'].set_color('none')\n",
    "\n",
    "ax.spines['bottom'].set_position(('data', 0))\n",
    "ax.spines['left'].set_position(('data', 0))\n"
   ]
  },
  {
   "cell_type": "markdown",
   "metadata": {},
   "source": [
    "### b) **create** a **figure** with **several** **Axes** with *pyplot.subplots(nrows, ncols)*"
   ]
  },
  {
   "cell_type": "markdown",
   "metadata": {},
   "source": [
    "   - you give the **number** of **rows** and the **number** of **cols**"
   ]
  },
  {
   "cell_type": "code",
   "execution_count": null,
   "metadata": {},
   "outputs": [],
   "source": [
    "fig, axes = plt.subplots(2, 3) # 2 rows, 3 columns"
   ]
  },
  {
   "cell_type": "markdown",
   "metadata": {},
   "source": [
    "   - the **axes** is a *numpy.ndarray*"
   ]
  },
  {
   "cell_type": "code",
   "execution_count": null,
   "metadata": {},
   "outputs": [],
   "source": [
    "axes.shape # 2 lines and 3 columns"
   ]
  },
  {
   "cell_type": "markdown",
   "metadata": {},
   "source": [
    "   - we can **attach** **plots** to **Axes**"
   ]
  },
  {
   "cell_type": "code",
   "execution_count": null,
   "metadata": {},
   "outputs": [],
   "source": [
    "x = np.linspace(0, 2*np.pi, 50)\n",
    "y = np.sin(x)\n",
    "z = np.cos(x)"
   ]
  },
  {
   "cell_type": "code",
   "execution_count": null,
   "metadata": {},
   "outputs": [],
   "source": [
    "axes[0, 0].plot(x, y) \n",
    "axes[1, 2].plot(x, z) \n",
    "fig"
   ]
  },
  {
   "cell_type": "markdown",
   "metadata": {},
   "source": [
    "   - we can give a **global title** to the **figure**"
   ]
  },
  {
   "cell_type": "code",
   "execution_count": null,
   "metadata": {},
   "outputs": [],
   "source": [
    "fig.suptitle('trigonometric functions')\n",
    "fig"
   ]
  },
  {
   "cell_type": "markdown",
   "metadata": {},
   "source": [
    "### c) **create** a **figure** with **several** **Axes** with *pyplot.subplots(pos)*"
   ]
  },
  {
   "cell_type": "markdown",
   "metadata": {},
   "source": [
    "you give the **position** by a **three digit integer**:\n",
    "   - the **first** digit is the number of **rows**\n",
    "   - the **second** digit is the number of **columns**\n",
    "   - the **third** digit the **index** of the subplot\n",
    "   - **index** from **1** (upper left corner) to the (lower right corner)"
   ]
  },
  {
   "cell_type": "markdown",
   "metadata": {},
   "source": [
    "   - the **previous** example will be"
   ]
  },
  {
   "cell_type": "code",
   "execution_count": null,
   "metadata": {},
   "outputs": [],
   "source": [
    "plt.figure()\n",
    "ax = plt.subplot(231)\n",
    "ax.plot(x, y)\n",
    "\n",
    "ax = plt.subplot(232)\n",
    "ax = plt.subplot(233)\n",
    "ax = plt.subplot(234)\n",
    "ax = plt.subplot(235)\n",
    "\n",
    "ax = plt.subplot(236)\n",
    "ax.plot(x, z)"
   ]
  },
  {
   "cell_type": "markdown",
   "metadata": {},
   "source": [
    "### d) to **create** **multiple** figures"
   ]
  },
  {
   "cell_type": "markdown",
   "metadata": {},
   "source": [
    "   - call the constructor *plt.figure(i)* with **increasing** figure number"
   ]
  },
  {
   "cell_type": "code",
   "execution_count": null,
   "metadata": {},
   "outputs": [],
   "source": [
    "fig1 = plt.figure(1)\n",
    "plt.subplot(121)\n",
    "plt.subplot(122)\n",
    "\n",
    "fig2 = plt.figure(2)\n",
    "plt.subplot(211)\n",
    "plt.subplot(212)"
   ]
  },
  {
   "cell_type": "markdown",
   "metadata": {},
   "source": [
    "## 5) use **matplotlib** for data science in **python**"
   ]
  },
  {
   "cell_type": "markdown",
   "metadata": {},
   "source": [
    "**matplotlib**\n",
    "   - it has **two** dual **interfaces**: a **state-based** interface and an **object-oriented** interface\n",
    "   - furthermore, you can use **tools** (like pandas or seaborn) built **on top of** matplotlib\n",
    "   - **find out** which **solution** to use is **challenging** and can be **confusing**\n",
    "\n",
    "\n",
    "   - **but** to **work** with the **python data science stack**\n",
    "   - you **need** to have **basic** knowledge of **matplotlib**"
   ]
  },
  {
   "cell_type": "markdown",
   "metadata": {},
   "source": [
    "  - the *plt.figure* is the **whole** image\n",
    "  - a **figure** can contain $1$ or more **axes**\n",
    "  - **axes** are the **individual** plots\n",
    "  \n",
    "  \n",
    "  - data-visualisation in **matplotlib** is based on **figures** and **axes**\n",
    "\n",
    "\n",
    "  - when dealing with **pandas** **data frames** use **pandas** plotting"
   ]
  },
  {
   "cell_type": "code",
   "execution_count": null,
   "metadata": {},
   "outputs": [],
   "source": [
    "import matplotlib.pyplot as plt\n",
    "%matplotlib inline\n",
    "\n",
    "import numpy as np\n",
    "import pandas as pd"
   ]
  },
  {
   "cell_type": "markdown",
   "metadata": {},
   "source": [
    "### a) simple ploting a **dataframe**"
   ]
  },
  {
   "cell_type": "markdown",
   "metadata": {},
   "source": [
    "   - the **dataset** contains the french nuclear and renewable **electricity production** between 1970 and 2011"
   ]
  },
  {
   "cell_type": "markdown",
   "metadata": {},
   "source": [
    "   - we **read** the file\n",
    "   - the **index** is set to the **first** column (the years)"
   ]
  },
  {
   "cell_type": "code",
   "execution_count": null,
   "metadata": {},
   "outputs": [],
   "source": [
    "file = 'france_prod_elec_enr_nucl.csv'"
   ]
  },
  {
   "cell_type": "code",
   "execution_count": null,
   "metadata": {},
   "outputs": [],
   "source": [
    "df = pd.read_csv(file, index_col=0)"
   ]
  },
  {
   "cell_type": "code",
   "execution_count": null,
   "metadata": {},
   "outputs": [],
   "source": [
    "df.head()"
   ]
  },
  {
   "cell_type": "markdown",
   "metadata": {},
   "source": [
    "   - a *pandas.DataFrame* has a **method** to  **plot**\n",
    "   - the **method** is **built on** **matplotlib.pyplot.plot**"
   ]
  },
  {
   "cell_type": "code",
   "execution_count": null,
   "metadata": {},
   "outputs": [],
   "source": [
    "df.plot();"
   ]
  },
  {
   "cell_type": "markdown",
   "metadata": {},
   "source": [
    "   - a *pandas.Series* has a **method** to  **plot**\n",
    "   - the **method** is **built on** **matplotlib.pyplot.plot**"
   ]
  },
  {
   "cell_type": "code",
   "execution_count": null,
   "metadata": {},
   "outputs": [],
   "source": [
    "(df['prod brute elec nucleaire'] + df['prod brute elec primaire renouv']).plot()"
   ]
  },
  {
   "cell_type": "markdown",
   "metadata": {},
   "source": []
  },
  {
   "cell_type": "markdown",
   "metadata": {},
   "source": []
  },
  {
   "cell_type": "markdown",
   "metadata": {},
   "source": [
    "### b) ploting columns 2 by 2"
   ]
  },
  {
   "cell_type": "markdown",
   "metadata": {},
   "source": [
    "- **2D plots** can show **several** information **thanks to**: **colors**, **shapes**, ..."
   ]
  },
  {
   "cell_type": "markdown",
   "metadata": {},
   "source": [
    "   - we use the well-known **iris flowers** dataset\n",
    "   - it describes three types of **iris** **virginica**, **versilolor** and **setosa**\n",
    "   - by the **length** et the **width** of their **sepals** and **petals**\n",
    "   - we have $50$ iris of each type"
   ]
  },
  {
   "cell_type": "code",
   "execution_count": null,
   "metadata": {},
   "outputs": [],
   "source": [
    "df = pd.read_csv('iris123.csv')"
   ]
  },
  {
   "cell_type": "code",
   "execution_count": null,
   "metadata": {},
   "outputs": [],
   "source": [
    "df.head(2)"
   ]
  },
  {
   "cell_type": "code",
   "execution_count": null,
   "metadata": {},
   "outputs": [],
   "source": [
    "df.dtypes"
   ]
  },
  {
   "cell_type": "markdown",
   "metadata": {},
   "source": [
    "   - we can plot one column in function of one other"
   ]
  },
  {
   "cell_type": "code",
   "execution_count": null,
   "metadata": {},
   "outputs": [],
   "source": [
    "df.plot.scatter(x='sepal length', y = 'sepal width')"
   ]
  },
  {
   "cell_type": "markdown",
   "metadata": {},
   "source": [
    "   - it will be more **informative** of you add the **type**\n",
    "   - with the **c** parameters of **scatter** function"
   ]
  },
  {
   "cell_type": "code",
   "execution_count": null,
   "metadata": {},
   "outputs": [],
   "source": [
    "plt.scatter(df['sepal length'], df['sepal width'], c=df['type'])"
   ]
  },
  {
   "cell_type": "markdown",
   "metadata": {},
   "source": [
    "   - we can **use** some other column to **shape** the **markers**"
   ]
  },
  {
   "cell_type": "code",
   "execution_count": null,
   "metadata": {},
   "outputs": [],
   "source": [
    "plt.scatter(df['sepal length'], df['sepal width'], c=df['type'], s=df['petal width']*50)"
   ]
  },
  {
   "cell_type": "markdown",
   "metadata": {},
   "source": [
    "   - a simple plot can give you a lot of information on your data"
   ]
  },
  {
   "cell_type": "markdown",
   "metadata": {},
   "source": [
    "---"
   ]
  },
  {
   "cell_type": "markdown",
   "metadata": {},
   "source": [
    "   - we can **use** the **codes** as **colors levels** (see complements)"
   ]
  },
  {
   "cell_type": "code",
   "execution_count": null,
   "metadata": {},
   "outputs": [],
   "source": [
    "df['type'].value_counts(), df.dtypes['type']"
   ]
  },
  {
   "cell_type": "markdown",
   "metadata": {},
   "source": [
    "   - **type** is integer we need a **categorical type**"
   ]
  },
  {
   "cell_type": "code",
   "execution_count": null,
   "metadata": {},
   "outputs": [],
   "source": [
    "df['type'] = df['type'].astype('category')"
   ]
  },
  {
   "cell_type": "markdown",
   "metadata": {},
   "source": [
    "   - the **type** column contains now values of the **categorical** type"
   ]
  },
  {
   "cell_type": "code",
   "execution_count": null,
   "metadata": {},
   "outputs": [],
   "source": [
    "df['type'].cat.codes[47:52]"
   ]
  },
  {
   "cell_type": "markdown",
   "metadata": {},
   "source": [
    "## 4) ploting 3D figures"
   ]
  },
  {
   "cell_type": "markdown",
   "metadata": {},
   "source": [
    "   - you construct **two** **arrays** of points $x$ and $y$\n",
    "   - you **cover** the **area** $(x \\times y)$ by a **grid**\n",
    "   - you have pairs $(x_i, y_j)$\n",
    "   - you compute a **function** on the **grid** $z = f(x, y)$\n",
    "   - you **plot** the surface"
   ]
  },
  {
   "cell_type": "markdown",
   "metadata": {},
   "source": [
    "   - you **import** the **library**"
   ]
  },
  {
   "cell_type": "code",
   "execution_count": null,
   "metadata": {},
   "outputs": [],
   "source": [
    "from mpl_toolkits.mplot3d import Axes3D"
   ]
  },
  {
   "cell_type": "markdown",
   "metadata": {},
   "source": [
    "   - you create a **figure**"
   ]
  },
  {
   "cell_type": "code",
   "execution_count": null,
   "metadata": {},
   "outputs": [],
   "source": [
    "fig = plt.figure()"
   ]
  },
  {
   "cell_type": "markdown",
   "metadata": {},
   "source": [
    "   - you create the **axis** (the plot) of the **figure**"
   ]
  },
  {
   "cell_type": "code",
   "execution_count": null,
   "metadata": {},
   "outputs": [],
   "source": [
    "ax = Axes3D(fig)"
   ]
  },
  {
   "cell_type": "markdown",
   "metadata": {},
   "source": [
    "   - we re-use the exampe of the Gaussian function\n",
    "   - $foo(x, y)=\n",
    "\\dfrac{1}{(2 \\pi \\sigma^2)}e^{-\\dfrac{[(x-\\mu_x)^2+(y-\\mu_y)^2]}{(2 \\sigma^2))}}$ "
   ]
  },
  {
   "cell_type": "code",
   "execution_count": null,
   "metadata": {},
   "outputs": [],
   "source": [
    "def foo (x, y, mu_x, mu_y, sigma):\n",
    "    return (1/(2*np.pi*sigma**2))*np.exp(-(np.power(x - mu_x, 2) + np.power(y - mu_y, 2))/(2*sigma**2))"
   ]
  },
  {
   "cell_type": "markdown",
   "metadata": {},
   "source": [
    "   - you create the arrays $x$ and $y$"
   ]
  },
  {
   "cell_type": "code",
   "execution_count": null,
   "metadata": {},
   "outputs": [],
   "source": [
    "x = np.arange(-30, 30, 0.5)   # x is an array from -20 to +20 (a pt each 0.25)\n",
    "y = x                          # y is the same array"
   ]
  },
  {
   "cell_type": "code",
   "execution_count": null,
   "metadata": {},
   "outputs": [],
   "source": [
    "x[0:10]"
   ]
  },
  {
   "cell_type": "code",
   "execution_count": null,
   "metadata": {},
   "outputs": [],
   "source": [
    "x.shape"
   ]
  },
  {
   "cell_type": "markdown",
   "metadata": {},
   "source": [
    "   - you create the **grid**"
   ]
  },
  {
   "cell_type": "code",
   "execution_count": null,
   "metadata": {},
   "outputs": [],
   "source": [
    "x_mg, y_mg = np.meshgrid(x, y)"
   ]
  },
  {
   "cell_type": "code",
   "execution_count": null,
   "metadata": {},
   "outputs": [],
   "source": [
    "x_mg.shape"
   ]
  },
  {
   "cell_type": "code",
   "execution_count": null,
   "metadata": {},
   "outputs": [],
   "source": [
    "x_mg, y_mg"
   ]
  },
  {
   "cell_type": "markdown",
   "metadata": {},
   "source": [
    "   - you compute the function"
   ]
  },
  {
   "cell_type": "code",
   "execution_count": null,
   "metadata": {},
   "outputs": [],
   "source": [
    "z = foo(x_mg, y_mg, mu_x = 0.5, mu_y = 0.4, sigma = 20)"
   ]
  },
  {
   "cell_type": "markdown",
   "metadata": {},
   "source": [
    "   - you plot the **function**"
   ]
  },
  {
   "cell_type": "code",
   "execution_count": null,
   "metadata": {},
   "outputs": [],
   "source": [
    "ax.plot_surface(x_mg, y_mg, z, cmap='winter')"
   ]
  },
  {
   "cell_type": "markdown",
   "metadata": {},
   "source": [
    "  - all together"
   ]
  },
  {
   "cell_type": "code",
   "execution_count": null,
   "metadata": {},
   "outputs": [],
   "source": [
    "x = np.arange(-30, 30, 0.5)   # x is an array from -20 to +20 (a pt each 0.25)\n",
    "y = x                          # y is the same array\n",
    "\n",
    "x_mg, y_mg = np.meshgrid(x, y)  # we create a grid that cover the area of side x and y\n",
    "\n",
    "z = foo(x_mg, y_mg, 0.5, 0.4, 20) # we apply the function foo (it a gaussian)\n",
    "\n",
    "\n",
    "fig = plt.figure()    # we create a figure\n",
    "ax = Axes3D(fig)      # we create a plot 3D\n",
    "\n",
    "ax.plot_surface(x_mg, y_mg, z,    # we plot the 3D surface \n",
    "                alpha = 0.8,      # alpha is the transparency factor\n",
    "                cmap = 'spring'); # the color map"
   ]
  },
  {
   "cell_type": "markdown",
   "metadata": {},
   "source": [
    "###### exercice:\n",
    "   1. create two arrays $x$ and $y$ from $-d$  to $d$ with a step $0.5$ \n",
    "   1. compute the **meshgrid**\n",
    "   1. compute the **euclidian distance** of the points of the grid\n",
    "   1. compute the **sinus** of the distances\n",
    "   1. create the **figure** and the **axe** (the plot)\n",
    "   1. draw the **sinus** in **3D**\n",
    "   1. do the same but create the function **distance** and call it"
   ]
  },
  {
   "cell_type": "code",
   "execution_count": null,
   "metadata": {},
   "outputs": [],
   "source": [
    "# 1\n",
    "d_x = 4\n",
    "d_y = 5\n",
    "step = 0.25\n",
    "\n",
    "x = np.arange(-d_x, d_x, step)\n",
    "y = np.arange(-d_y, d_y, step)\n",
    "\n",
    "# 2\n",
    "x_mg, y_mg = np.meshgrid(x, y)\n",
    "\n",
    "# 3\n",
    "d = np.sqrt(x_mg**2 + y_mg**2)\n",
    "\n",
    "# 4\n",
    "z = np.sin(d)\n",
    "\n",
    "# 5\n",
    "fig = plt.figure()\n",
    "ax = Axes3D(fig)\n",
    "\n",
    "# 6\n",
    "ax.plot_surface(x_mg, y_mg, z, cmap='Reds')\n",
    "d.shape"
   ]
  },
  {
   "cell_type": "code",
   "execution_count": null,
   "metadata": {},
   "outputs": [],
   "source": [
    "# 1\n",
    "d_x = 4\n",
    "d_y = 5\n",
    "step = 0.25\n",
    "\n",
    "x = np.arange(-d_x, d_x, step)\n",
    "y = np.arange(-d_y, d_y, step)\n",
    "\n",
    "# 2\n",
    "x_mg, y_mg = np.meshgrid(x, y)\n",
    "\n",
    "# 7 \n",
    "def dist (a, b):\n",
    "    return np.sqrt(a**2 + b**2)\n",
    "\n",
    "# 4\n",
    "z = np.sin(dist(x_mg, y_mg))\n",
    "\n",
    "# 5\n",
    "fig = plt.figure()\n",
    "ax = Axes3D(fig)\n",
    "\n",
    "# 6\n",
    "ax.plot_surface(x_mg, y_mg, z, cmap='Blues')\n",
    "d.shape"
   ]
  },
  {
   "cell_type": "markdown",
   "metadata": {},
   "source": [
    "## xxx) customizing **matplotlib** "
   ]
  },
  {
   "cell_type": "markdown",
   "metadata": {},
   "source": [
    "   - **matplotlib** provides **pre-defined** **styles**\n",
    "   - that you can **set globally**"
   ]
  },
  {
   "cell_type": "markdown",
   "metadata": {},
   "source": [
    "### a) listing the available styles"
   ]
  },
  {
   "cell_type": "code",
   "execution_count": null,
   "metadata": {},
   "outputs": [],
   "source": [
    "from matplotlib import pyplot as plt\n",
    "import numpy as np"
   ]
  },
  {
   "cell_type": "code",
   "execution_count": null,
   "metadata": {},
   "outputs": [],
   "source": [
    "print(plt.style.available)"
   ]
  },
  {
   "cell_type": "markdown",
   "metadata": {},
   "source": [
    "   - you can see a lot of **seaborn** styles\n",
    "   - we will speak of **seaborn** later on"
   ]
  },
  {
   "cell_type": "markdown",
   "metadata": {},
   "source": [
    "### b) setting a global style in your current environment"
   ]
  },
  {
   "cell_type": "code",
   "execution_count": null,
   "metadata": {},
   "outputs": [],
   "source": [
    "plt.style.use('ggplot') # a popular plotting-style\n",
    "plt.plot(np.sin(np.linspace(0, 4*np.pi, 100)))"
   ]
  },
  {
   "cell_type": "markdown",
   "metadata": {},
   "source": [
    "   - you can **isolate** the effect of a style\n",
    "   - in a **context**"
   ]
  },
  {
   "cell_type": "code",
   "execution_count": null,
   "metadata": {},
   "outputs": [],
   "source": [
    "with plt.style.context(('dark_background')):   # set a style locally (in the body of the with)\n",
    "    plt.plot(np.sin(np.linspace(0, 2 * np.pi)))\n",
    "plt.show()\n",
    "plt.plot(np.sin(np.linspace(0, 2 * np.pi)))   # use the previously globally-set style"
   ]
  },
  {
   "cell_type": "markdown",
   "metadata": {},
   "source": [
    "   - you can create your own **custom** styles\n",
    "   - (outside the scope of this presentation) \n",
    "   - see https://matplotlib.org/users/customizing.html"
   ]
  },
  {
   "cell_type": "markdown",
   "metadata": {},
   "source": [
    "### xxx) the **xkcd** style\n",
    "   - https://xkcd.com/676/\n",
    "   - https://matplotlib.org/xkcd/gallery.html\n",
    "   \n",
    "   \n",
    "   - installing new **fonts** in **matplotlib**\n",
    "   - is **outside** the **scope** of this **introduction**\n",
    "   - (**refer** to the documentation)"
   ]
  },
  {
   "cell_type": "code",
   "execution_count": null,
   "metadata": {},
   "outputs": [],
   "source": [
    "with plt.xkcd():\n",
    "    plt.plot(np.sin(np.linspace(0, 4*np.pi)))\n",
    "    plt.title('Whoo Hoo!!!');"
   ]
  },
  {
   "cell_type": "markdown",
   "metadata": {},
   "source": []
  },
  {
   "cell_type": "markdown",
   "metadata": {},
   "source": [
    "# Seaborn\n",
    "http://seaborn.pydata.org/index.html"
   ]
  },
  {
   "cell_type": "markdown",
   "metadata": {},
   "source": [
    "   - it is built on top of Matplotlib\n",
    "   - default styles and color palettes are more sophisticated than Matplotlib\n",
    "   - it is a higher-level library than matplotlib i.e. it iss easier to generate certain kinds of plots\n",
    "      \n",
    "  - **seaborn** is for more complex statistical visualizations.\n",
    "Use matplotlib to customize the pandas or seaborn visualization.\n",
    "\n"
   ]
  },
  {
   "cell_type": "markdown",
   "metadata": {},
   "source": [
    "   - a **library** dedicated to **statistical graphics** in Python\n",
    "   - built **on top** of **matplotlib**\n",
    "   - **closely** integrated with **pandas**"
   ]
  },
  {
   "cell_type": "markdown",
   "metadata": {},
   "source": [
    "   - a **library** dedicated to **statistical graphics** in Python\n",
    "   - built **on top** of **matplotlib**\n",
    "   - **closely** integrated with **pandas**\n",
    "   - i.e. **plotting functions** operate on **dataframes** and **arrays**\n"
   ]
  },
  {
   "cell_type": "markdown",
   "metadata": {},
   "source": [
    "   - it offers API specialized on **statistics**\n",
    "   - it eases **visualising** the structure of complex datasets (through abstractions)\n",
    "   - it eases **controling** **matplotlib** figures **styling** with **built-in themes**\n",
    "   - it makes **visualization** a **central part** of **exploring** and **understanding** data"
   ]
  },
  {
   "cell_type": "markdown",
   "metadata": {},
   "source": [
    "**pip install seaborn**"
   ]
  },
  {
   "cell_type": "code",
   "execution_count": null,
   "metadata": {},
   "outputs": [],
   "source": [
    "import seaborn as sns"
   ]
  },
  {
   "cell_type": "markdown",
   "metadata": {},
   "source": [
    "   - **seaborn** offers many **functionnalities**\n",
    "   - but **further** customization requires **matplotlib directly**"
   ]
  },
  {
   "cell_type": "markdown",
   "metadata": {},
   "source": [
    "basic "
   ]
  },
  {
   "cell_type": "code",
   "execution_count": null,
   "metadata": {},
   "outputs": [],
   "source": [
    "sns.set()\n",
    "tips = sns.load_dataset(\"tips\")\n",
    "sns.relplot(x=\"total_bill\", y=\"tip\", col=\"time\",\n",
    "            hue=\"smoker\", style=\"smoker\", size=\"size\",\n",
    "            data=tips);"
   ]
  },
  {
   "cell_type": "code",
   "execution_count": null,
   "metadata": {},
   "outputs": [],
   "source": [
    "import seaborn"
   ]
  }
 ],
 "metadata": {
  "ipub": {
   "sphinx": {
    "toggle_input": true,
    "toggle_input_all": true,
    "toggle_output": true,
    "toggle_output_all": true
   }
  },
  "kernelspec": {
   "display_name": "Python 3",
   "language": "python",
   "name": "python3"
  },
  "language_info": {
   "codemirror_mode": {
    "name": "ipython",
    "version": 3
   },
   "file_extension": ".py",
   "mimetype": "text/x-python",
   "name": "python",
   "nbconvert_exporter": "python",
   "pygments_lexer": "ipython3",
   "version": "3.7.3"
  },
  "notebookname": "data visualization in python",
  "rise": {
   "autolaunch": true,
   "slideNumber": "c/t",
   "start_slideshow_at": "selected",
   "theme": "sky",
   "transition": "cube"
  },
  "version": "1.0"
 },
 "nbformat": 4,
 "nbformat_minor": 2
}
