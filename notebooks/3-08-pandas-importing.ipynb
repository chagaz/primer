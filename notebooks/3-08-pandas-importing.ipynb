{
 "cells": [
  {
   "cell_type": "markdown",
   "metadata": {},
   "source": [
    "<div class=\"licence\">\n",
    "<span>Licence CC BY-NC-ND</span>\n",
    "<span>Valérie Roy</span>\n",
    "<span><img src=\"media/ensmp-25-alpha.png\" /></span>\n",
    "</div>"
   ]
  },
  {
   "cell_type": "code",
   "execution_count": null,
   "metadata": {},
   "outputs": [],
   "source": [
    "import numpy as np\n",
    "import pandas as pd"
   ]
  },
  {
   "cell_type": "markdown",
   "metadata": {},
   "source": [
    "## V) Importing data in pandas"
   ]
  },
  {
   "cell_type": "markdown",
   "metadata": {},
   "source": [
    "### 1) formats of files"
   ]
  },
  {
   "cell_type": "markdown",
   "metadata": {},
   "source": [
    "   - **pandas** can **import** files of **a lot of formats**\n",
    "      - CSV, JSON, HTML, Excel, ...\n",
    "   - see http://pandas.pydata.org/pandas-docs/stable/user_guide/io.html"
   ]
  },
  {
   "cell_type": "markdown",
   "metadata": {},
   "source": [
    "### 2) reading and writing **csv** files (comma separated values)"
   ]
  },
  {
   "cell_type": "markdown",
   "metadata": {},
   "source": [
    "   - to write a **csv** use the **method** $\\texttt{pandas.DataFrame.to_csv}$"
   ]
  },
  {
   "cell_type": "code",
   "execution_count": null,
   "metadata": {},
   "outputs": [],
   "source": [
    "distance = pd.Series([0.387, 0.723, 30, 1., 5.203, 1.523, 9.6, 19.19],\n",
    "                     index=['Mercury', 'Venus', 'Neptune', 'Earth', 'Jupiter', 'Mars', 'Saturn', 'Uranus'])\n",
    "\n",
    "lowest_temp = pd.Series([-200.0, 446.0,  -90.0, -125.0, -140.0],\n",
    "                        index=['Mercury', 'Venus', 'Earth', 'Jupiter', 'Mars'])\n",
    "\n",
    "highest_temp = pd.Series([430.0, 490.0, 60.0, 17.0, 20.0],\n",
    "                         index=['Mercury', 'Venus', 'Earth', 'Jupiter', 'Mars'])\n",
    "\n",
    "planets = pd.DataFrame({'distance': distance,\n",
    "                        'lowest temperature': lowest_temp, \n",
    "                        'highest temperature': highest_temp, \n",
    "                        'origin':'solar system'})"
   ]
  },
  {
   "cell_type": "code",
   "execution_count": null,
   "metadata": {},
   "outputs": [],
   "source": [
    "planets"
   ]
  },
  {
   "cell_type": "code",
   "execution_count": null,
   "metadata": {},
   "outputs": [],
   "source": [
    "planets.index"
   ]
  },
  {
   "cell_type": "code",
   "execution_count": null,
   "metadata": {},
   "outputs": [],
   "source": [
    "planets.to_csv('planets.csv', index_label='names', float_format='%.3f')"
   ]
  },
  {
   "cell_type": "markdown",
   "metadata": {},
   "source": [
    "   - a file **planets.csv** has been **created** in your current folder\n",
    "   - we gave a **name** to the **rows** index"
   ]
  },
  {
   "cell_type": "markdown",
   "metadata": {},
   "source": [
    "   - the csv **format** is very **simple**: a $2 \\times 2$ matrix, where:\n",
    "   - by default, the **first** line is the **columns** header (**labels** if any, else **indexes**)\n",
    "   - the **other** lines are **rows** written **one below the other** with values **separed by** ','"
   ]
  },
  {
   "cell_type": "markdown",
   "metadata": {},
   "source": [
    "**planets.csv**\n",
    "   - *names,distance,lowest temperature,highest temperature,origin  \n",
    "Earth,1.0,-90.0,60.0,solar system  \n",
    "Jupiter,5.203,-125.0,17.0,solar system  \n",
    "Mars,1.523,-140.0,20.0,solar system  \n",
    "Mercury,0.387,-200.0,430.0,solar system  \n",
    "Neptune,30.0,,,solar system  \n",
    "Saturn,9.6,,,solar system  \n",
    "Uranus,19.19,,,solar system  \n",
    "Venus,0.723,446.0,490.0,solar system*"
   ]
  },
  {
   "cell_type": "markdown",
   "metadata": {},
   "source": [
    "   - to **read** a **csv** use the **method** $\\texttt{pandas.DataFrame.read_csv}$"
   ]
  },
  {
   "cell_type": "code",
   "execution_count": null,
   "metadata": {},
   "outputs": [],
   "source": [
    "df = pd.read_csv('planets.csv')"
   ]
  },
  {
   "cell_type": "code",
   "execution_count": null,
   "metadata": {},
   "outputs": [],
   "source": [
    "df = df.set_index('names')       # the rows 'names' is the index"
   ]
  },
  {
   "cell_type": "markdown",
   "metadata": {},
   "source": [
    "#### digression:\n",
    "   - you can see a **general floating point problem** $5.523$ became $5.5230000000000001$ when printed by $\\texttt{to_csv}$\n",
    "   - https://github.com/pandas-dev/pandas/issues/17154"
   ]
  },
  {
   "cell_type": "code",
   "execution_count": null,
   "metadata": {},
   "outputs": [],
   "source": [
    "planets.loc['Mars', 'distance'], df.loc['Mars', 'distance']"
   ]
  },
  {
   "cell_type": "code",
   "execution_count": null,
   "metadata": {},
   "outputs": [],
   "source": [
    "df.loc['Mars', 'distance']  == planets.loc['Mars', 'distance']"
   ]
  },
  {
   "cell_type": "code",
   "execution_count": null,
   "metadata": {},
   "outputs": [],
   "source": [
    "np.isclose(df.loc['Mars', 'distance'], planets.loc['Mars', 'distance'])"
   ]
  },
  {
   "cell_type": "markdown",
   "metadata": {},
   "source": [
    "*trying to get exact equality out of floating points is generally a losing battle*\n",
    "\n",
    "*let's go back to the course*"
   ]
  },
  {
   "cell_type": "markdown",
   "metadata": {},
   "source": [
    "#### the method $\\texttt{pandas.DataFrame.read_csv}$\n",
    "   - has many optional **parameters** that you can **set**\n",
    "   - see the help"
   ]
  },
  {
   "cell_type": "code",
   "execution_count": null,
   "metadata": {},
   "outputs": [],
   "source": [
    "#pd.read_csv?"
   ]
  },
  {
   "cell_type": "code",
   "execution_count": null,
   "metadata": {
    "jupyter": {
     "source_hidden": true
    }
   },
   "outputs": [],
   "source": [
    "#pd.DataFrame.to_csv?"
   ]
  }
 ],
 "metadata": {
  "ipub": {
   "sphinx": {
    "toggle_input": true,
    "toggle_input_all": true,
    "toggle_output": true,
    "toggle_output_all": true
   }
  },
  "kernelspec": {
   "display_name": "Python 3",
   "language": "python",
   "name": "python3"
  },
  "language_info": {
   "codemirror_mode": {
    "name": "ipython",
    "version": 3
   },
   "file_extension": ".py",
   "mimetype": "text/x-python",
   "name": "python",
   "nbconvert_exporter": "python",
   "pygments_lexer": "ipython3",
   "version": "3.7.3"
  },
  "notebookname": "NO HEADING 1 found",
  "rise": {
   "autolaunch": true,
   "slideNumber": "c/t",
   "start_slideshow_at": "selected",
   "theme": "sky",
   "transition": "cube"
  },
  "version": "1.0"
 },
 "nbformat": 4,
 "nbformat_minor": 4
}
