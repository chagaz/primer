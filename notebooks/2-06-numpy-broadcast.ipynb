{
 "cells": [
  {
   "cell_type": "code",
   "execution_count": null,
   "metadata": {},
   "outputs": [],
   "source": []
  },
  {
   "cell_type": "markdown",
   "metadata": {},
   "source": [
    "## 6)  Broadcasting when working with arrays of different sizes"
   ]
  },
  {
   "cell_type": "markdown",
   "metadata": {},
   "source": [
    "### reminder about the dimensions\n",
    "\n",
    "`dimension 2`\n",
    "   - $\\texttt{shape=(r, c)}$ $\\texttt{r}$ `rows`, $\\texttt{c}$ `columns`\n",
    "   \n",
    "   \n",
    "`dimension 3`\n",
    "   - $\\texttt{shape=(p, r, c)}$ $\\texttt{p}$ `frames` $\\texttt{r}$ `rows`, $\\texttt{c}$ `columns`\n",
    "   \n",
    "   \n",
    "`greather dimension`\n",
    "   - $\\texttt{shape=(g1, ..., g, r, c)}$\n",
    "   - the two last elements are always $\\texttt{r}$ `rows`, and $\\texttt{c}$ `columns` "
   ]
  },
  {
   "cell_type": "markdown",
   "metadata": {},
   "source": [
    "### usually in $\\texttt{numpy}$\n",
    "   - operations are done on `pairs of arrays`\n",
    "   - on an `element-by-element` basis\n",
    "   - the two arrays must have `exactly the same shape`"
   ]
  },
  {
   "cell_type": "code",
   "execution_count": null,
   "metadata": {},
   "outputs": [],
   "source": [
    "a = np.arange(0, 10)\n",
    "a"
   ]
  },
  {
   "cell_type": "code",
   "execution_count": null,
   "metadata": {},
   "outputs": [],
   "source": [
    "a * a # multiplication element-by-element\n",
    "      # power of 2"
   ]
  },
  {
   "cell_type": "code",
   "execution_count": null,
   "metadata": {},
   "outputs": [],
   "source": [
    "a + a # sum element-by-element"
   ]
  },
  {
   "cell_type": "markdown",
   "metadata": {},
   "source": [
    "###   $\\texttt{numpy}$ `relaxes` this constraint\n",
    "   - when the `arrays’ shapes` meet `certain conditions`"
   ]
  },
  {
   "cell_type": "markdown",
   "metadata": {},
   "source": [
    "#### example"
   ]
  },
  {
   "cell_type": "code",
   "execution_count": null,
   "metadata": {},
   "outputs": [],
   "source": [
    "a = np.arange(0, 4) # [0, 1, 2, 3]\n",
    "a"
   ]
  },
  {
   "cell_type": "code",
   "execution_count": null,
   "metadata": {},
   "outputs": [],
   "source": [
    "b = np.array([10])  # [10]\n",
    "b"
   ]
  },
  {
   "cell_type": "code",
   "execution_count": null,
   "metadata": {},
   "outputs": [],
   "source": [
    "a + b # [0, 1, 2, 3] + [10, 10, 10, 10] = [10, 11, 12, 13]"
   ]
  },
  {
   "cell_type": "markdown",
   "metadata": {},
   "source": [
    "   - to `add` the array $[0, 1, 2, 3]$ to the array $[10]$ \n",
    "   - the array $[10]$ is `expended` to `match the size` $[10, 10, 10, 10]$"
   ]
  },
  {
   "cell_type": "code",
   "execution_count": null,
   "metadata": {},
   "outputs": [],
   "source": [
    "10 + a # the same with a single value"
   ]
  },
  {
   "cell_type": "markdown",
   "metadata": {},
   "source": [
    "### broadcasting `rules`\n",
    "\n",
    "   - when arrays `do not have` the `same` shape\n",
    "   - $\\texttt{numpy}$ `expands` the arrays (*when possible*)\n",
    "   - for `element-by-element` operation to `take place`\n",
    "\n",
    "   \n",
    "   \n",
    "   - dimensions are `compared` from `right` to `left`\n",
    "   - dimensions are taken `pairwise`\n",
    "   - broadcasting is `possible`\n",
    "      - 1) when the `dimensions` are `identical`\n",
    "      - 1) when `one` is $1$\n",
    "      \n",
    "      \n",
    "   \n",
    "   - https://docs.scipy.org/doc/numpy/user/basics.broadcasting.html\n",
    "   - http://scipy.github.io/old-wiki/pages/EricsBroadcastingDoc"
   ]
  },
  {
   "cell_type": "code",
   "execution_count": null,
   "metadata": {},
   "outputs": [],
   "source": [
    "a = 100 * np.ones((2, 3))\n",
    "a"
   ]
  },
  {
   "cell_type": "code",
   "execution_count": null,
   "metadata": {},
   "outputs": [],
   "source": [
    "b = 4\n",
    "b"
   ]
  },
  {
   "cell_type": "markdown",
   "metadata": {},
   "source": [
    "   - $a$ has `shape` $(2_a, 3_a)$\n",
    "   - $b$ has `shape` $(1_b)$\n",
    "   \n",
    "   \n",
    "   \n",
    "   - $3_a$ is `compared` to $1_b$\n",
    "   - $1_b$ `became` one row of size $3$ i.e. $b = [4, 4, 4]$\n",
    "   \n",
    "   \n",
    "   - the shape of $b$ is `now` $(1_b, 3_b)$\n",
    "   \n",
    "   \n",
    "   \n",
    "   - $2_a$ is `compared` to $1_b$\n",
    "   - $1_b$ `became` two rows i.e. $b = [[4, 4, 4], [4, 4, 4]]$\n",
    "   \n",
    "\n",
    "\n",
    "   - the shape of $b$ is `now` $(2_b, 3_b)$\n",
    "   \n",
    "   \n",
    "   - the two arrays can be added `element by element`\n",
    "   "
   ]
  },
  {
   "cell_type": "markdown",
   "metadata": {},
   "source": [
    "#### wrong example\n",
    "\n",
    "   - sometime shapes `cannot` be `broadcasted`"
   ]
  },
  {
   "cell_type": "code",
   "execution_count": null,
   "metadata": {},
   "outputs": [],
   "source": [
    "a = 100 * np.ones((2, 3))\n",
    "a"
   ]
  },
  {
   "cell_type": "code",
   "execution_count": null,
   "metadata": {},
   "outputs": [],
   "source": [
    "b = 10 * np.ones((2, 4))\n",
    "b"
   ]
  },
  {
   "cell_type": "markdown",
   "metadata": {},
   "source": [
    "   - $a$ has `shape` $(2_a, 3_a)$\n",
    "   - $b$ has `shape` $(2_b, 4_b)$\n",
    "   \n",
    "   \n",
    "   - broadcasting compares the pairs $(3_a, 4_b)$ then $(2_a, 2_b)$  \n",
    "   \n",
    "   \n",
    "   - $3_a$ is `compared` to $4_b$ and it `fails`\n",
    "   \n",
    "   \n",
    "\n",
    "the operation `does not follow the rules`"
   ]
  },
  {
   "cell_type": "code",
   "execution_count": null,
   "metadata": {},
   "outputs": [],
   "source": [
    "try:\n",
    "    a + b\n",
    "except ValueError as e:\n",
    "    print(e)"
   ]
  },
  {
   "cell_type": "markdown",
   "metadata": {},
   "source": [
    "   - broadcasting compares the pairs $(3_a, 1_b)$ and $(1_a, 2_a)$  "
   ]
  },
  {
   "cell_type": "markdown",
   "metadata": {},
   "source": [
    "#### 2D example "
   ]
  },
  {
   "cell_type": "code",
   "execution_count": null,
   "metadata": {},
   "outputs": [],
   "source": [
    "a = 10 * np.ones((1, 3))\n",
    "a"
   ]
  },
  {
   "cell_type": "code",
   "execution_count": null,
   "metadata": {},
   "outputs": [],
   "source": [
    "b = 100 * np.ones((2, 1))\n",
    "b"
   ]
  },
  {
   "cell_type": "markdown",
   "metadata": {},
   "source": [
    "   - $a$ has `shape` $(1_a, 3_a)$\n",
    "   - $b$ has `shape` $(2_b, 1_b)$\n",
    "   \n",
    "   \n",
    "   - broadcasting compares the pairs $(3_a, 1_b)$ then $(1_a, 2_b)$ \n",
    "   \n",
    "   \n",
    "   - first $b$ is broadcasted to `fit` $3$ `columns`\n",
    "   - $b$ became $[[100., 100., 100.],[100., 100., 100.]]$\n",
    "   \n",
    "   \n",
    "   \n",
    "   - then $a$ is broadcasted to `fit` $2$ `rows`\n",
    "   - $a$ became $[[10., 10., 10.], [10., 10., 10.]]$\n",
    "   \n",
    "   \n",
    "   \n",
    "   - the operation `does follow the rules`\n",
    "  \n",
    "   \n",
    "   - the `element by element` operation can take `place`\n",
    "   "
   ]
  },
  {
   "cell_type": "code",
   "execution_count": null,
   "metadata": {},
   "outputs": [],
   "source": [
    "a+b"
   ]
  },
  {
   "cell_type": "markdown",
   "metadata": {},
   "source": [
    "### greather dimensions"
   ]
  },
  {
   "cell_type": "code",
   "execution_count": null,
   "metadata": {},
   "outputs": [],
   "source": [
    "a = 100 * np.ones((2, 3, 4))\n",
    "a"
   ]
  },
  {
   "cell_type": "code",
   "execution_count": null,
   "metadata": {},
   "outputs": [],
   "source": [
    "b0 = 10\n",
    "a + b0"
   ]
  },
  {
   "cell_type": "code",
   "execution_count": null,
   "metadata": {},
   "outputs": [],
   "source": [
    "b1 = 10 * np.ones((3, 1))\n",
    "print(b1)\n",
    "a + b1"
   ]
  },
  {
   "cell_type": "code",
   "execution_count": null,
   "metadata": {},
   "outputs": [],
   "source": [
    "b2 = 10 * np.ones((1, 4))\n",
    "print(b2)\n",
    "a + b2"
   ]
  },
  {
   "cell_type": "code",
   "execution_count": null,
   "metadata": {},
   "outputs": [],
   "source": [
    "b3 = 2* np.ones((1, 3, 1))\n",
    "print(b3)\n",
    "a + b3"
   ]
  },
  {
   "cell_type": "markdown",
   "metadata": {},
   "source": [
    "*and so on, ...*"
   ]
  },
  {
   "cell_type": "markdown",
   "metadata": {},
   "source": [
    "### Broadcasting and vectorization\n",
    "   - broadcasting is very efficient\n",
    "   - (the broadcasted elements are not actually created in memory)\n",
    "   - broadcasting is based on optimized C code (same efficiency as vectorized operations)"
   ]
  }
 ],
 "metadata": {
  "kernelspec": {
   "display_name": "Python 3",
   "language": "python",
   "name": "python3"
  },
  "language_info": {
   "codemirror_mode": {
    "name": "ipython",
    "version": 3
   },
   "file_extension": ".py",
   "mimetype": "text/x-python",
   "name": "python",
   "nbconvert_exporter": "python",
   "pygments_lexer": "ipython3",
   "version": "3.7.3"
  }
 },
 "nbformat": 4,
 "nbformat_minor": 4
}
