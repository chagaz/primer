{
 "cells": [
  {
   "cell_type": "code",
   "execution_count": null,
   "metadata": {},
   "outputs": [],
   "source": []
  },
  {
   "cell_type": "markdown",
   "metadata": {},
   "source": [
    "## xxx) structured arrays"
   ]
  },
  {
   "cell_type": "markdown",
   "metadata": {},
   "source": [
    "   - we have seen `homogeneous` arrays\n",
    "   - i.e. `all the elements` have the `same type` (int, float, bool, str, etc.)"
   ]
  },
  {
   "cell_type": "markdown",
   "metadata": {},
   "source": [
    "   - we can also define `structured types` (also called `composed-type`, `user-defined` type, ...)\n",
    "   - (like `class` in c++ or java)"
   ]
  },
  {
   "cell_type": "markdown",
   "metadata": {},
   "source": [
    "   - the data is a list of `homogeneous` elements\n",
    "   - but each element is `structured`"
   ]
  },
  {
   "cell_type": "markdown",
   "metadata": {},
   "source": [
    "### xxx) without giving the `dtype` the array will still be `homogeneous` and `non -structured`"
   ]
  },
  {
   "cell_type": "code",
   "execution_count": null,
   "metadata": {},
   "outputs": [],
   "source": [
    "names = np.array([('Carmen', 'Thompson', 27),\n",
    "                  ('Billie', 'Chambers', 25),\n",
    "                  ('Kris', 'Moore', 29) ])\n",
    "names"
   ]
  },
  {
   "cell_type": "markdown",
   "metadata": {},
   "source": [
    "   - $\\texttt{numpy}$ infers a `data type` or a $3 \\times 3$ array\n",
    "   - here a `8 bytes long` character string\n",
    "\n",
    "   - i.e. each `element` is a `string` of $8$ characters"
   ]
  },
  {
   "cell_type": "code",
   "execution_count": null,
   "metadata": {},
   "outputs": [],
   "source": [
    "names[0].dtype"
   ]
  },
  {
   "cell_type": "markdown",
   "metadata": {},
   "source": [
    "   - we can `lose` information\n",
    "   - if we `modify` an element, it can be `truncated` if needed"
   ]
  },
  {
   "cell_type": "code",
   "execution_count": null,
   "metadata": {},
   "outputs": [],
   "source": [
    "names[0][0] = 'Jean-Sebastien' # it is more than 8 characters long"
   ]
  },
  {
   "cell_type": "code",
   "execution_count": null,
   "metadata": {},
   "outputs": [],
   "source": [
    "names[0][0] # "
   ]
  },
  {
   "cell_type": "markdown",
   "metadata": {},
   "source": [
    "## specifying the `dtype`"
   ]
  },
  {
   "cell_type": "markdown",
   "metadata": {},
   "source": [
    "   - if you want the `components` of your objects to be `heteroneneous`\n",
    "   - you must `specify` the $\\texttt{dtype}$"
   ]
  },
  {
   "cell_type": "markdown",
   "metadata": {},
   "source": [
    "for example:\n",
    "   - $\\texttt{last name}$ is a `10 bytes long unicode character string`\n",
    "   - $\\texttt{first name}$ is a `8 bytes long unicode character string`\n",
    "   - $\\texttt{age}$ is a `1 byte (8 bits) long integer`"
   ]
  },
  {
   "cell_type": "code",
   "execution_count": null,
   "metadata": {},
   "outputs": [],
   "source": [
    "names = np.array([('Carmen', 'Thompson', 27),\n",
    "                  ('Billie', 'Chambers', 25),\n",
    "                  ('Kris', 'Moore', 29),\n",
    "                  ('Anna', 'Young', 24) ],\n",
    "                 dtype = [('first name', '<U10'), ('last name', '<U8'), ('age', np.int8)])\n",
    "names"
   ]
  },
  {
   "cell_type": "markdown",
   "metadata": {},
   "source": [
    "   - $\\texttt{names}$ is a `flat array` of $4$ elements"
   ]
  },
  {
   "cell_type": "code",
   "execution_count": null,
   "metadata": {},
   "outputs": [],
   "source": [
    "names.shape"
   ]
  },
  {
   "cell_type": "markdown",
   "metadata": {},
   "source": [
    "   - you can access `elements`"
   ]
  },
  {
   "cell_type": "code",
   "execution_count": null,
   "metadata": {},
   "outputs": [],
   "source": [
    "names[0]['first name'], names[0]['last name'], names[0]['age']"
   ]
  },
  {
   "cell_type": "markdown",
   "metadata": {},
   "source": [
    "   - you can modify elements"
   ]
  },
  {
   "cell_type": "code",
   "execution_count": null,
   "metadata": {},
   "outputs": [],
   "source": [
    "names[0][0] = 'Maria-Carmelita'"
   ]
  },
  {
   "cell_type": "markdown",
   "metadata": {},
   "source": [
    "   - the $\\texttt{firt name}$ is `too long` for the `defined type`\n",
    "   - it will be `truncated` to `fit`"
   ]
  },
  {
   "cell_type": "code",
   "execution_count": null,
   "metadata": {},
   "outputs": [],
   "source": [
    "names[0][0] "
   ]
  },
  {
   "cell_type": "markdown",
   "metadata": {},
   "source": [
    "   - you can `reshape` the array"
   ]
  },
  {
   "cell_type": "code",
   "execution_count": null,
   "metadata": {},
   "outputs": [],
   "source": [
    "names = names.reshape((2, 2))\n",
    "names"
   ]
  },
  {
   "cell_type": "code",
   "execution_count": null,
   "metadata": {},
   "outputs": [],
   "source": [
    "names[:, 1] # all rows column 1"
   ]
  },
  {
   "cell_type": "markdown",
   "metadata": {},
   "source": [
    "   - there are `short cuts` to create `structured` arrays"
   ]
  },
  {
   "cell_type": "code",
   "execution_count": null,
   "metadata": {},
   "outputs": [],
   "source": [
    "np.array?"
   ]
  },
  {
   "cell_type": "code",
   "execution_count": null,
   "metadata": {},
   "outputs": [],
   "source": [
    "names = np.array([('Carmen', 'Thompson', 27),\n",
    "                  ('Billie', 'Chambers', 25),\n",
    "                  ('Kris', 'Moore', 29),\n",
    "                  ('Anna', 'Young', 24) ],\n",
    "                 dtype = ['U10,U8,i8'],\n",
    "                 names = ['first name', 'last name', 'age'])\n",
    "names"
   ]
  }
 ],
 "metadata": {
  "kernelspec": {
   "display_name": "Python 3",
   "language": "python",
   "name": "python3"
  },
  "language_info": {
   "codemirror_mode": {
    "name": "ipython",
    "version": 3
   },
   "file_extension": ".py",
   "mimetype": "text/x-python",
   "name": "python",
   "nbconvert_exporter": "python",
   "pygments_lexer": "ipython3",
   "version": "3.7.3"
  }
 },
 "nbformat": 4,
 "nbformat_minor": 4
}
