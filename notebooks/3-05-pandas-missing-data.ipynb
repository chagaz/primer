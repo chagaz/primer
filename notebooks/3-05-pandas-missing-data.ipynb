{
 "cells": [
  {
   "cell_type": "code",
   "execution_count": null,
   "metadata": {},
   "outputs": [],
   "source": [
    "import numpy as np\n",
    "import pandas as pd"
   ]
  },
  {
   "cell_type": "markdown",
   "metadata": {},
   "source": [
    "## IV) handling `missing data` in $\\texttt{numpy}$ and  $\\texttt{pandas}$"
   ]
  },
  {
   "cell_type": "markdown",
   "metadata": {},
   "source": [
    "   - in `real data` you can have `missing values`\n",
    "   - `missing values` are represented in $\\texttt{pandas}$ arrays by $\\texttt{numpy.NaN}$"
   ]
  },
  {
   "cell_type": "markdown",
   "metadata": {},
   "source": [
    "### 1) the type of `missing values`"
   ]
  },
  {
   "cell_type": "markdown",
   "metadata": {},
   "source": [
    "   - the type of $\\texttt{numpy.NaN}$ is `float`\n",
    "   \n",
    "       \n",
    "   - i.e. $\\texttt{numpy.NaN}$, can only be used for `float` or `object` types\n",
    "   \n",
    "   \n",
    "   - in other cases a conversion is done\n",
    "      - `integers` are converted to `float64`\n",
    "      - `Booleans` are converted to `object`"
   ]
  },
  {
   "cell_type": "markdown",
   "metadata": {},
   "source": [
    "  \n",
    "   - when a $\\texttt{numpy.NaN}$ is `present` in a numeric $\\texttt{numpy.Series}$\n",
    "   - the `dtype` of the $\\texttt{numpy.Series}$ is `numpy float64`\n",
    "   "
   ]
  },
  {
   "cell_type": "code",
   "execution_count": null,
   "metadata": {},
   "outputs": [],
   "source": [
    "df = pd.Series([1, 2, 3, np.NaN])\n",
    "df.dtype"
   ]
  },
  {
   "cell_type": "markdown",
   "metadata": {},
   "source": [
    "   - if you try to `force` an integer dtype, an `exception` is `raised`"
   ]
  },
  {
   "cell_type": "code",
   "execution_count": null,
   "metadata": {},
   "outputs": [],
   "source": [
    "try:\n",
    "    df = pd.Series([1, 2, 3, np.NaN], dtype=np.int64)\n",
    "except ValueError as e:\n",
    "    print(e)"
   ]
  },
  {
   "cell_type": "markdown",
   "metadata": {},
   "source": [
    "   - the `version 0.24` of the $\\texttt{pandas}$ `library`\n",
    "   - can hold `integer dtypes` with `missing values`\n",
    "   \n",
    "   \n",
    "   \n",
    "   - it is not done through the `regular integer type`\n",
    "   - but it uses `extension types`\n",
    "   \n",
    "   \n",
    "   - the `extended integer-type` that can hold NaN values is $\\texttt{'Int64'}$ (not $\\texttt{'int64'}$"
   ]
  },
  {
   "cell_type": "markdown",
   "metadata": {},
   "source": [
    "   - in $\\texttt{pandas.Series}$, $\\texttt{None}$ is replaced $\\texttt{numpy.NaN}$\n",
    "   \n",
    "   \n",
    "   - except of $\\texttt{pandas.Series}$ of type `object`\n"
   ]
  },
  {
   "cell_type": "code",
   "execution_count": null,
   "metadata": {},
   "outputs": [],
   "source": [
    "df = pd.Series([1, 2, 3, None], dtype='object')\n",
    "df"
   ]
  },
  {
   "cell_type": "code",
   "execution_count": null,
   "metadata": {},
   "outputs": [],
   "source": [
    "#pd.isna?"
   ]
  },
  {
   "cell_type": "markdown",
   "metadata": {},
   "source": [
    "### 2) $\\texttt{pandas}$ functions to `dealing` with `missing values`"
   ]
  },
  {
   "cell_type": "markdown",
   "metadata": {},
   "source": [
    "$\\texttt{pandas.isna()}$, $\\texttt{DataFrame.isna}$  and $\\texttt{Index.isna}$\n",
    "   - returns the `Boolean mask` of `missing` values "
   ]
  },
  {
   "cell_type": "code",
   "execution_count": null,
   "metadata": {},
   "outputs": [],
   "source": [
    "df = pd.Series([1, 2, np.NaN, None], dtype='object')\n",
    "pd.isna(df)  # same as df.isna()"
   ]
  },
  {
   "cell_type": "code",
   "execution_count": null,
   "metadata": {},
   "outputs": [],
   "source": [
    "df[df.isna()] # select the missing values in the Series"
   ]
  },
  {
   "cell_type": "code",
   "execution_count": null,
   "metadata": {},
   "outputs": [],
   "source": [
    "df = pd.DataFrame([[1, 2, 3, np.NaN], [4, 5, None]])\n",
    "   # 4 columns of two values each\n",
    "   # the two firsts are int64\n",
    "   # the third and the furth are float64 (presence of NaN)\n",
    "df.head()"
   ]
  },
  {
   "cell_type": "markdown",
   "metadata": {},
   "source": [
    "   - on `index`"
   ]
  },
  {
   "cell_type": "code",
   "execution_count": null,
   "metadata": {},
   "outputs": [],
   "source": [
    "df = pd.DataFrame([[1, 2], [4, 5]], index=['a', np.NaN])"
   ]
  },
  {
   "cell_type": "code",
   "execution_count": null,
   "metadata": {},
   "outputs": [],
   "source": [
    "df.index.isna()"
   ]
  },
  {
   "cell_type": "markdown",
   "metadata": {},
   "source": [
    "#### $\\texttt{pandas.notna()}$, $\\texttt{DataFrame.notna}$  and $\\texttt{Index.notna}$\n",
    "   - returns the `Boolean mask` of `non-missing` values "
   ]
  },
  {
   "cell_type": "markdown",
   "metadata": {},
   "source": [
    "#### $\\texttt{pandas.dropna}$  `remove missing values`"
   ]
  },
  {
   "cell_type": "markdown",
   "metadata": {},
   "source": [
    "on $\\texttt{pandas.Series}$ it remove the value"
   ]
  },
  {
   "cell_type": "markdown",
   "metadata": {},
   "source": [
    "on $\\texttt{pandas.DataFrame}$ it remove the `whole row` or `column`\n",
    "   - $\\texttt{axis = 0}$ or $\\texttt{axis = 'index'}$  for `rows`\n",
    "   - $\\texttt{axis = 1}$ or $\\texttt{axis = 'columns'}$  for `columns`"
   ]
  },
  {
   "cell_type": "code",
   "execution_count": null,
   "metadata": {},
   "outputs": [],
   "source": [
    "df = pd.DataFrame([[1, 2, 3, 4], [5, 6, np.NaN, 7], [np.NaN, 8, 9, 10]])\n",
    "df"
   ]
  },
  {
   "cell_type": "code",
   "execution_count": null,
   "metadata": {},
   "outputs": [],
   "source": [
    "df.dropna() # by default axis=0"
   ]
  },
  {
   "cell_type": "code",
   "execution_count": null,
   "metadata": {},
   "outputs": [],
   "source": [
    "df.dropna(axis='index')"
   ]
  },
  {
   "cell_type": "code",
   "execution_count": null,
   "metadata": {},
   "outputs": [],
   "source": [
    "df.dropna(axis=1)"
   ]
  },
  {
   "cell_type": "code",
   "execution_count": null,
   "metadata": {},
   "outputs": [],
   "source": [
    "df.dropna(axis='columns')"
   ]
  },
  {
   "cell_type": "markdown",
   "metadata": {},
   "source": [
    "the parameter $\\texttt{how}$\n",
    "\n",
    "\n",
    "\n",
    "   - when $\\texttt{how='any'}$ `row` or `column` is removed when it contains at least one NA or all NA\n",
    "   \n",
    "   \n",
    "   - when $\\texttt{how='any'}$ `row` or `column` is removed when all values are missing\n"
   ]
  },
  {
   "cell_type": "code",
   "execution_count": null,
   "metadata": {},
   "outputs": [],
   "source": [
    "df = pd.DataFrame([[1, 2, 3, np.NaN], []])\n",
    "df"
   ]
  },
  {
   "cell_type": "code",
   "execution_count": null,
   "metadata": {},
   "outputs": [],
   "source": [
    "df.dropna(how='all')"
   ]
  },
  {
   "cell_type": "code",
   "execution_count": null,
   "metadata": {},
   "outputs": [],
   "source": [
    "df.dropna(how='any') # there is nothing left !"
   ]
  },
  {
   "cell_type": "markdown",
   "metadata": {},
   "source": [
    "the parameter $\\texttt{thresh}$\n",
    "   - you keep `rows` (or `columns`)\n",
    "   - where `thresh` values or `more` are `not missing`"
   ]
  },
  {
   "cell_type": "code",
   "execution_count": null,
   "metadata": {},
   "outputs": [],
   "source": [
    "df = pd.DataFrame([[1, 2, 3, np.NaN], [4, 5, np.NaN, np.NaN], [6, 7, np.NaN, np.NaN]])\n",
    "df"
   ]
  },
  {
   "cell_type": "code",
   "execution_count": null,
   "metadata": {},
   "outputs": [],
   "source": [
    "df.dropna(thresh=3, axis=0)"
   ]
  },
  {
   "cell_type": "code",
   "execution_count": null,
   "metadata": {},
   "outputs": [],
   "source": [
    "df.dropna(thresh=1, axis=1)"
   ]
  },
  {
   "cell_type": "markdown",
   "metadata": {},
   "source": [
    "#### $\\texttt{pandas.fillna()}$  `missing values` are replaced\n",
    "   - you can specify the `strategy` ($\\texttt{method}$) of replacement\n",
    "\n",
    "methods\n",
    "   - `propagation` of the `last valid` observation to `next valid`\n",
    "   - `forward` ($\\texttt{ffill}$)\n",
    "   -  `backward`($\\texttt{bfill}$)"
   ]
  },
  {
   "cell_type": "code",
   "execution_count": null,
   "metadata": {},
   "outputs": [],
   "source": [
    "df = pd.Series([1, np.NaN, np.NaN, 5, np.NaN,  6, np.NaN, 9])\n",
    "df"
   ]
  },
  {
   "cell_type": "code",
   "execution_count": null,
   "metadata": {},
   "outputs": [],
   "source": [
    "df.fillna(method='ffill') # propagation forward "
   ]
  },
  {
   "cell_type": "code",
   "execution_count": null,
   "metadata": {},
   "outputs": [],
   "source": [
    "df.fillna(method='bfill')  # propagation backward"
   ]
  },
  {
   "cell_type": "markdown",
   "metadata": {},
   "source": [
    "   - the same for $\\texttt{pandas.DataFrame}$"
   ]
  },
  {
   "cell_type": "code",
   "execution_count": null,
   "metadata": {},
   "outputs": [],
   "source": [
    "df = pd.DataFrame([[1, np.NaN, np.NaN], [np.NaN, 6, np.NaN], [2, np.NaN, 9]])\n",
    "df.head()"
   ]
  },
  {
   "cell_type": "code",
   "execution_count": null,
   "metadata": {},
   "outputs": [],
   "source": [
    "df.fillna(axis=0, method='ffill')"
   ]
  },
  {
   "cell_type": "code",
   "execution_count": null,
   "metadata": {},
   "outputs": [],
   "source": [
    "df.fillna(axis=1, method='bfill')"
   ]
  },
  {
   "cell_type": "markdown",
   "metadata": {},
   "source": [
    "   - computing `equality` in presence of `NaN` values\n",
    "   - `equals` is not the same as `==`"
   ]
  },
  {
   "cell_type": "code",
   "execution_count": null,
   "metadata": {},
   "outputs": [],
   "source": [
    "df1 = pd.DataFrame([[2, 3, 4], [5, np.NaN, 7]])\n",
    "df2 = pd.DataFrame([[2, 3, 4], [5, np.NaN, 7]])"
   ]
  },
  {
   "cell_type": "code",
   "execution_count": null,
   "metadata": {},
   "outputs": [],
   "source": [
    "df1.equals(df2) # NaN == NaN"
   ]
  },
  {
   "cell_type": "code",
   "execution_count": null,
   "metadata": {},
   "outputs": [],
   "source": [
    "df1 == df2 # NaN != NaN"
   ]
  }
 ],
 "metadata": {
  "kernelspec": {
   "display_name": "Python 3",
   "language": "python",
   "name": "python3"
  },
  "language_info": {
   "codemirror_mode": {
    "name": "ipython",
    "version": 3
   },
   "file_extension": ".py",
   "mimetype": "text/x-python",
   "name": "python",
   "nbconvert_exporter": "python",
   "pygments_lexer": "ipython3",
   "version": "3.7.3"
  }
 },
 "nbformat": 4,
 "nbformat_minor": 4
}
