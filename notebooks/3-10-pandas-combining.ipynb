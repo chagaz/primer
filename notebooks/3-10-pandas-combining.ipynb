{
 "cells": [
  {
   "cell_type": "markdown",
   "metadata": {},
   "source": [
    "<div class=\"licence\">\n",
    "<span>Licence CC BY-NC-ND</span>\n",
    "<span>Valérie Roy</span>\n",
    "<span><img src=\"media/ensmp-25-alpha.png\" /></span>\n",
    "</div>"
   ]
  },
  {
   "cell_type": "code",
   "execution_count": null,
   "metadata": {},
   "outputs": [],
   "source": [
    "import numpy as np\n",
    "import pandas as pd"
   ]
  },
  {
   "cell_type": "markdown",
   "metadata": {},
   "source": [
    "## VII) combining datasets"
   ]
  },
  {
   "cell_type": "markdown",
   "metadata": {},
   "source": [
    "### 1) concatenation of `data frames` with the function $\\texttt{pandas.concat}$"
   ]
  },
  {
   "cell_type": "markdown",
   "metadata": {},
   "source": [
    "   - you can `concatenate` $\\texttt{pandas.Series}$\n",
    "   - you can `concatenate` $\\texttt{pandas.DataFrame}$ along an `axis` (rows or columns)\n",
    "   \n",
    "   \n",
    "   - it generates a `new` $\\texttt{pandas.DataFrame}$\n",
    "   \n",
    "   \n",
    "   \n",
    "   - there are many optional `parameters` you can `set`"
   ]
  },
  {
   "cell_type": "markdown",
   "metadata": {},
   "source": [
    "#### a) concatenation along the `columns axis`"
   ]
  },
  {
   "cell_type": "markdown",
   "metadata": {},
   "source": [
    "   - the first `data frame`"
   ]
  },
  {
   "cell_type": "code",
   "execution_count": null,
   "metadata": {},
   "outputs": [],
   "source": [
    "df1 = pd.DataFrame([[1.70, 67], [1.67, 59], [1.84, 78],\n",
    "                    [1.86, 90,], [1.56, 45,], [1.57, 63]],\n",
    "                  columns=['height', 'weight'],\n",
    "                  index=['Gabriel', 'Emma', 'Jules', 'Louise', 'Hugo', 'Nathan'])\n",
    "df1.head(2)"
   ]
  },
  {
   "cell_type": "markdown",
   "metadata": {},
   "source": [
    "   - the second `data frame`"
   ]
  },
  {
   "cell_type": "code",
   "execution_count": null,
   "metadata": {},
   "outputs": [],
   "source": [
    "df2 = pd.DataFrame([['M', 'Lower'], ['F', 'Middle'], ['M', 'Lower'],\n",
    "                   ['F', 'Middle'], ['M', 'Middle'], ['M', 'Lower']],\n",
    "                  columns=['sex', 'income'],\n",
    "                  index=['Gabriel', 'Emma', 'Jules', 'Louise', 'Hugo', 'Nathan'])\n",
    "df2.head(2)"
   ]
  },
  {
   "cell_type": "markdown",
   "metadata": {},
   "source": [
    "   - their `concatenation`"
   ]
  },
  {
   "cell_type": "code",
   "execution_count": null,
   "metadata": {},
   "outputs": [],
   "source": [
    "df3 = pd.concat([df1, df2], axis=1)\n",
    "df3.tail(2)"
   ]
  },
  {
   "cell_type": "markdown",
   "metadata": {},
   "source": [
    "#### b) concatenation along the `rows` `axis` "
   ]
  },
  {
   "cell_type": "markdown",
   "metadata": {},
   "source": [
    "   - the first `data frame` is `df3`"
   ]
  },
  {
   "cell_type": "markdown",
   "metadata": {},
   "source": [
    "   - the second `data frame`"
   ]
  },
  {
   "cell_type": "code",
   "execution_count": null,
   "metadata": {},
   "outputs": [],
   "source": [
    "df4 = pd.DataFrame([[1.54, 45, 'F', 'Lower'], [1.76, 84, 'F', 'Middle'], [1.67, 72, 'F', 'Middle']],\n",
    "                  columns=['height', 'weight', 'sex', 'income'],\n",
    "                  index=['Alice', 'Paul', 'Léna'])\n",
    "df4.head(2)"
   ]
  },
  {
   "cell_type": "markdown",
   "metadata": {},
   "source": [
    "   - their `concatenation`"
   ]
  },
  {
   "cell_type": "code",
   "execution_count": null,
   "metadata": {},
   "outputs": [],
   "source": [
    "df5 = pd.concat([df3, df4], axis=0)\n",
    "df5.tail(4)"
   ]
  },
  {
   "cell_type": "markdown",
   "metadata": {},
   "source": [
    "#### c) concatenation in presence of duplicate indexes"
   ]
  },
  {
   "cell_type": "markdown",
   "metadata": {},
   "source": [
    "   - by defaut you will get `several` indexes or columns with the `same name`"
   ]
  },
  {
   "cell_type": "markdown",
   "metadata": {},
   "source": [
    "   - the first dataset"
   ]
  },
  {
   "cell_type": "code",
   "execution_count": null,
   "metadata": {},
   "outputs": [],
   "source": [
    "df3.index"
   ]
  },
  {
   "cell_type": "markdown",
   "metadata": {},
   "source": [
    "   - the second dataset"
   ]
  },
  {
   "cell_type": "code",
   "execution_count": null,
   "metadata": {},
   "outputs": [],
   "source": [
    "df6 = pd.DataFrame([[1.54, 45, 'F', 'Lower'], [1.76, 84, 'F', 'Middle'], [1.67, 72, 'F', 'Middle']],\n",
    "                  columns=['height', 'weight', 'sex', 'income'],\n",
    "                  index=['Emma', 'Paul', 'Louise'])\n",
    "df6.index"
   ]
  },
  {
   "cell_type": "code",
   "execution_count": null,
   "metadata": {},
   "outputs": [],
   "source": [
    "set(df3.index).intersection(df6.index) # or df3.index.intersection(df6.index)"
   ]
  },
  {
   "cell_type": "markdown",
   "metadata": {},
   "source": [
    "   -  we concatenate in presence of two `duplicated` indexes"
   ]
  },
  {
   "cell_type": "code",
   "execution_count": null,
   "metadata": {},
   "outputs": [],
   "source": [
    "df7 = pd.concat([df3, df6], sort=False)\n",
    "df7.loc['Emma'] "
   ]
  },
  {
   "cell_type": "markdown",
   "metadata": {},
   "source": [
    "    - you get two 'Emma' entries in your index"
   ]
  },
  {
   "cell_type": "markdown",
   "metadata": {},
   "source": [
    "   - you can `force` `duplicate` indexes check with the $\\texttt{verify_integrity}$ parameter"
   ]
  },
  {
   "cell_type": "code",
   "execution_count": null,
   "metadata": {},
   "outputs": [],
   "source": [
    "try:\n",
    "    df7 = pd.concat([df3, df6], verify_integrity=True)\n",
    "except ValueError as e:\n",
    "    print(e)        "
   ]
  },
  {
   "cell_type": "markdown",
   "metadata": {},
   "source": [
    "   - you can `concatenate` when `axis` are not `aligned`\n",
    "   - `missing values` are replaced by $\\texttt{numpy.NaN}$"
   ]
  },
  {
   "cell_type": "markdown",
   "metadata": {},
   "source": [
    "   - the first `data frame` does not contain the `sex` column"
   ]
  },
  {
   "cell_type": "code",
   "execution_count": null,
   "metadata": {},
   "outputs": [],
   "source": [
    "df9 = pd.DataFrame([[1.70, 67, 'Lower'], [1.67, 59, 'Middle']],\n",
    "                  columns=['height', 'weight', 'income'],\n",
    "                  index=['Paul', 'Louise'])\n",
    "df9.head(2)"
   ]
  },
  {
   "cell_type": "markdown",
   "metadata": {},
   "source": [
    "   - the second `data frame` does not have the `income` column"
   ]
  },
  {
   "cell_type": "code",
   "execution_count": null,
   "metadata": {},
   "outputs": [],
   "source": [
    "df10 = pd.DataFrame([[1.54, 45, 'F'], [1.76, 84, 'F']],\n",
    "                  columns=['height', 'weight', 'sex'],\n",
    "                  index=['Alice', 'Léna'])\n",
    "df10.head(2)"
   ]
  },
  {
   "cell_type": "code",
   "execution_count": null,
   "metadata": {},
   "outputs": [],
   "source": [
    "df11 = pd.concat([df9, df10], axis=0, sort=False) # (we passe `sort=False` to silence a warning)\n",
    "df11"
   ]
  },
  {
   "cell_type": "markdown",
   "metadata": {},
   "source": [
    "   - the `resulting` dataframe contains NaN (not available, not a number, ...)"
   ]
  },
  {
   "cell_type": "markdown",
   "metadata": {},
   "source": [
    "   - the $\\texttt{pandas.append}$ fuction is a `shortcut` to `concat` with a `simplified interface`"
   ]
  },
  {
   "cell_type": "markdown",
   "metadata": {},
   "source": [
    "### 3) combining datasets with $\\texttt{pandas.merge}$"
   ]
  },
  {
   "cell_type": "markdown",
   "metadata": {},
   "source": [
    "   - the `rows` represent `objects` (like `objects` in a `data base`)\n",
    "   - you `merge` two `data frames` by `joining` objects"
   ]
  },
  {
   "cell_type": "markdown",
   "metadata": {},
   "source": [
    "   - two `rows` are `merged` if they have a `matching key`\n",
    "   - a `key` is defined by `one or several` columns `names`\n",
    "   - by default `merge` considers `all` columns with the `same name` in the data frames"
   ]
  },
  {
   "cell_type": "markdown",
   "metadata": {},
   "source": [
    "#### a) `one-by-one` merge"
   ]
  },
  {
   "cell_type": "markdown",
   "metadata": {},
   "source": [
    "   - there is `no duplicate entry` in the `key columns`\n",
    "   - two `rows` are merged when the `key column` matches"
   ]
  },
  {
   "cell_type": "markdown",
   "metadata": {},
   "source": [
    "   - the first `data frame`"
   ]
  },
  {
   "cell_type": "code",
   "execution_count": null,
   "metadata": {},
   "outputs": [],
   "source": [
    "df1 = pd.DataFrame({'names': ['Gabriel', 'Emma', 'Jules'],\n",
    "                    'sex': ['M', 'F', 'M']})\n",
    "df1"
   ]
  },
  {
   "cell_type": "markdown",
   "metadata": {},
   "source": [
    "   - the second `data frame`"
   ]
  },
  {
   "cell_type": "code",
   "execution_count": null,
   "metadata": {},
   "outputs": [],
   "source": [
    "df2 = pd.DataFrame({'names': ['Gabriel', 'Emma', 'Paul'],\n",
    "                    'incomes': ['Lower', 'Middle', 'Lower']})\n",
    "df2"
   ]
  },
  {
   "cell_type": "markdown",
   "metadata": {},
   "source": [
    "   - the two `data frames` describe two same `objects`: 'Gabriel' and 'Emma'\n",
    "   - 'Jules' cannot be joined to another `object`\n",
    "   - you `merge` objects of the two `data frames` `one-by-one`"
   ]
  },
  {
   "cell_type": "code",
   "execution_count": null,
   "metadata": {},
   "outputs": [],
   "source": [
    "df3 = pd.merge(df1, df2)\n",
    "df3"
   ]
  },
  {
   "cell_type": "markdown",
   "metadata": {},
   "source": [
    "   - when key are not unique "
   ]
  },
  {
   "cell_type": "markdown",
   "metadata": {},
   "source": [
    "   - `key` can be `multi-columns` "
   ]
  },
  {
   "cell_type": "code",
   "execution_count": null,
   "metadata": {},
   "outputs": [],
   "source": [
    "df1 = pd.DataFrame({'names': ['Gabriel', 'Jules', 'Emma'],\n",
    "                    'incomes': ['Lower', 'Upper', 'Lower'],\n",
    "                    'height': [1.87, 1.67, 1.64]})\n",
    "\n",
    "df2 = pd.DataFrame({'names': ['Gabriel', 'Jules', 'Emma'], \n",
    "                    'sex': ['M', 'M', 'F'],\n",
    "                    'incomes': ['Lower', 'Middle', 'Lower'],})"
   ]
  },
  {
   "cell_type": "code",
   "execution_count": null,
   "metadata": {},
   "outputs": [],
   "source": [
    "pd.merge(df1, df2) # merge on 'names' and 'incomes'\n",
    "                   # 'Jules' is not the same object, incomes are diffent"
   ]
  },
  {
   "cell_type": "markdown",
   "metadata": {},
   "source": [
    "#### b) `many-to-one` merge"
   ]
  },
  {
   "cell_type": "markdown",
   "metadata": {},
   "source": [
    "   - one of the two `key columns` contains `duplicate values`\n",
    "   - a `one-to-one` strategy for each duplicated row is `applied`"
   ]
  },
  {
   "cell_type": "code",
   "execution_count": null,
   "metadata": {},
   "outputs": [],
   "source": [
    "df4 = pd.DataFrame({'names': ['Gabriel', 'Jules', 'Emma'], \n",
    "                    'sex': ['M', 'M', 'F'],\n",
    "                    'height': [1.87, 1.67, 1.84]})"
   ]
  },
  {
   "cell_type": "code",
   "execution_count": null,
   "metadata": {},
   "outputs": [],
   "source": [
    "df5 = pd.DataFrame({'names': ['Gabriel', 'Emma', 'Jules'],\n",
    "                    'incomes': ['Lower', 'Middle', 'Lower'],})"
   ]
  },
  {
   "cell_type": "code",
   "execution_count": null,
   "metadata": {},
   "outputs": [],
   "source": [
    "pd.merge(df4, df5) # every 'Jules' of the first data frame is merged with the 'Jules' of the second data frame "
   ]
  },
  {
   "cell_type": "markdown",
   "metadata": {},
   "source": [
    "   - another example"
   ]
  },
  {
   "cell_type": "code",
   "execution_count": null,
   "metadata": {},
   "outputs": [],
   "source": [
    "df3 = pd.DataFrame({'names': ['Gabriel', 'Emma', 'Jules'],\n",
    "                    'incomes': ['L', 'M', 'L']})\n",
    "df3"
   ]
  },
  {
   "cell_type": "code",
   "execution_count": null,
   "metadata": {},
   "outputs": [],
   "source": [
    "df4 = pd.DataFrame({'incomes': ['L', 'M', 'U'],\n",
    "                    'explanation': ['Lower', 'Middle', 'Upper']})\n",
    "df4"
   ]
  },
  {
   "cell_type": "code",
   "execution_count": null,
   "metadata": {},
   "outputs": [],
   "source": [
    "pd.merge(df3, df4)"
   ]
  },
  {
   "cell_type": "markdown",
   "metadata": {},
   "source": [
    "#### c) `many-to-many` merge"
   ]
  },
  {
   "cell_type": "markdown",
   "metadata": {},
   "source": [
    "   - both `key columns` contain duplicates `entries`\n",
    "   - a `cartesian product` is used"
   ]
  },
  {
   "cell_type": "code",
   "execution_count": null,
   "metadata": {},
   "outputs": [],
   "source": [
    "df5 = pd.DataFrame({'names': ['Gabriel', 'Jules', 'Jules'],   # two \"Jules\"\n",
    "                    'height': [1.87, 1.67, 1.84]})\n",
    "df5"
   ]
  },
  {
   "cell_type": "code",
   "execution_count": null,
   "metadata": {},
   "outputs": [],
   "source": [
    "df6 = pd.DataFrame({'names': ['Gabriel', 'Jules', 'Jules'],   # two 'Jules'\n",
    "                    'incomes': ['Lower', 'Middle', 'Lower']})"
   ]
  },
  {
   "cell_type": "code",
   "execution_count": null,
   "metadata": {},
   "outputs": [],
   "source": [
    "pd.merge(df5, df6) # four 'Jules\""
   ]
  },
  {
   "cell_type": "markdown",
   "metadata": {},
   "source": [
    "#### d) controling `keys`"
   ]
  },
  {
   "cell_type": "markdown",
   "metadata": {},
   "source": [
    "   - you can `specify` the `key columns` with the parameter $\\texttt{on='names'}$\n",
    "   \n",
    "   \n",
    "   - you can `link` columns with different `names` (parameters $\\texttt{left_on='names', right_on='identity')}$"
   ]
  },
  {
   "cell_type": "code",
   "execution_count": null,
   "metadata": {},
   "outputs": [],
   "source": [
    "df1 = pd.DataFrame({'names': ['Gabriel', 'Jules', 'Emma'],\n",
    "                    'incomes': ['Lower', 'Upper', 'Lower'],\n",
    "                    'height': [1.87, 1.67, 1.64]})\n",
    "\n",
    "df2 = pd.DataFrame({'names': ['Gabriel', 'Jules', 'Emma'], \n",
    "                    'sex': ['M', 'M', 'F'],\n",
    "                    'incomes': ['Lower', 'Middle', 'Lower'],})"
   ]
  },
  {
   "cell_type": "code",
   "execution_count": null,
   "metadata": {},
   "outputs": [],
   "source": [
    "pd.merge(df1, df2, on=['names']) # incomes is no more involved in the merging"
   ]
  },
  {
   "cell_type": "code",
   "execution_count": null,
   "metadata": {},
   "outputs": [],
   "source": [
    "df1 = pd.DataFrame({'names': ['Gabriel', 'Jules', 'Emma'],\n",
    "                    'incomes': ['Lower', 'Middle', 'Lower'],\n",
    "                    'height': [1.87, 1.67, 1.64]})\n",
    "\n",
    "df2 = pd.DataFrame({'identity': ['Gabriel', 'Jules', 'Emma'], \n",
    "                    'sex': ['M', 'M', 'F'],\n",
    "                    'incomes': ['Lower', 'Middle', 'Lower'],})"
   ]
  },
  {
   "cell_type": "markdown",
   "metadata": {},
   "source": [
    "   - columns `excluded` from the `key` are `renamed`\n",
    "   "
   ]
  },
  {
   "cell_type": "code",
   "execution_count": null,
   "metadata": {},
   "outputs": [],
   "source": [
    "pd.merge(df1, df2, left_on='names', right_on='identity')   # 'incomes' is excluded => incomes will be renamed"
   ]
  },
  {
   "cell_type": "markdown",
   "metadata": {},
   "source": [
    "   - merge does not preserve the `index`"
   ]
  },
  {
   "cell_type": "markdown",
   "metadata": {},
   "source": [
    "   - `join` is a shortcut to `merge`"
   ]
  }
 ],
 "metadata": {
  "ipub": {
   "sphinx": {
    "toggle_input": true,
    "toggle_input_all": true,
    "toggle_output": true,
    "toggle_output_all": true
   }
  },
  "kernelspec": {
   "display_name": "Python 3",
   "language": "python",
   "name": "python3"
  },
  "language_info": {
   "codemirror_mode": {
    "name": "ipython",
    "version": 3
   },
   "file_extension": ".py",
   "mimetype": "text/x-python",
   "name": "python",
   "nbconvert_exporter": "python",
   "pygments_lexer": "ipython3",
   "version": "3.7.3"
  },
  "notebookname": "NO HEADING 1 found",
  "rise": {
   "autolaunch": true,
   "slideNumber": "c/t",
   "start_slideshow_at": "selected",
   "theme": "sky",
   "transition": "cube"
  },
  "version": "1.0"
 },
 "nbformat": 4,
 "nbformat_minor": 4
}
