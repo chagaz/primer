{
 "cells": [
  {
   "cell_type": "markdown",
   "metadata": {},
   "source": [
    "<div class=\"licence\">\n",
    "<span>Licence CC BY-NC-ND</span>\n",
    "<span>Valérie Roy</span>\n",
    "<span><img src=\"media/ensmp-25-alpha.png\" /></span>\n",
    "</div>"
   ]
  },
  {
   "cell_type": "markdown",
   "metadata": {},
   "source": [
    "## 5) function can aggregate array values in *numpy*\n",
    "\n",
    "   - i.e. **combine** the values of the array"
   ]
  },
  {
   "cell_type": "markdown",
   "metadata": {},
   "source": [
    "#### classic functions:\n",
    "   - *numpy.sum*, *numpy.prod*\n",
    "   - *numpy.mean*, *numpy.std*, *numpy.var*\n",
    "   - *numpy.min*, *numpy.max*\n",
    "   - *numpy.median*, *numpy.percentile*\n",
    "   \n",
    "example of one operation (here the sum)   "
   ]
  },
  {
   "cell_type": "markdown",
   "metadata": {},
   "source": [
    "### 1) suming an **array** along **axis**"
   ]
  },
  {
   "cell_type": "markdown",
   "metadata": {},
   "source": [
    "#### a) summing an **array** along **axis**"
   ]
  },
  {
   "cell_type": "code",
   "execution_count": null,
   "metadata": {},
   "outputs": [],
   "source": [
    "import numpy as np"
   ]
  },
  {
   "cell_type": "code",
   "execution_count": null,
   "metadata": {},
   "outputs": [],
   "source": [
    "a = np.random.randint(0, 10, size=(3, 4))\n",
    "a"
   ]
  },
  {
   "cell_type": "markdown",
   "metadata": {},
   "source": [
    "   - we have an array of $3$ rows and $4$ columns"
   ]
  },
  {
   "cell_type": "markdown",
   "metadata": {},
   "source": [
    "**axis = 0** \n",
    "   - we sum along the **rows**\n",
    "   - i.e. we sum the **columns** together"
   ]
  },
  {
   "cell_type": "code",
   "execution_count": null,
   "metadata": {},
   "outputs": [],
   "source": [
    "np.sum(a, axis = 0)"
   ]
  },
  {
   "cell_type": "markdown",
   "metadata": {},
   "source": [
    "**axis = 1**\n",
    "   - we sum along the **columns**\n",
    "   - i.e. we sum the **rows** together"
   ]
  },
  {
   "cell_type": "code",
   "execution_count": null,
   "metadata": {},
   "outputs": [],
   "source": [
    "np.sum(a, axis = 1)"
   ]
  },
  {
   "cell_type": "markdown",
   "metadata": {},
   "source": [
    "### 2) summing a group of arrays along **axis**"
   ]
  },
  {
   "cell_type": "markdown",
   "metadata": {},
   "source": [
    "   - we have $2$ arrays to $3$ rows and $4$ columns "
   ]
  },
  {
   "cell_type": "code",
   "execution_count": null,
   "metadata": {},
   "outputs": [],
   "source": [
    "a = np.random.randint(0, 50, size=(2, 3, 4))\n",
    "a"
   ]
  },
  {
   "cell_type": "markdown",
   "metadata": {},
   "source": [
    "  - summing on **axis** $0$ is **summing** the $2$ arrays (of the**axis** $0$) "
   ]
  },
  {
   "cell_type": "code",
   "execution_count": null,
   "metadata": {},
   "outputs": [],
   "source": [
    "np.sum(a, axis=0) # we sum the arrays"
   ]
  },
  {
   "cell_type": "markdown",
   "metadata": {},
   "source": [
    "   - summing along **axis** $1$ is summing along the **rows** of each array \n",
    "   - i.e. we obtain one **row** per array\n",
    "   - they form a new array"
   ]
  },
  {
   "cell_type": "code",
   "execution_count": null,
   "metadata": {},
   "outputs": [],
   "source": [
    "np.sum(a, axis=1)"
   ]
  },
  {
   "cell_type": "markdown",
   "metadata": {},
   "source": [
    "   - summing along **axis** $2$ is summing along the **columns** of each array \n",
    "   - i.e. we obtain one **column** per array\n",
    "   - they form a new array"
   ]
  },
  {
   "cell_type": "code",
   "execution_count": null,
   "metadata": {},
   "outputs": [],
   "source": [
    "np.sum(a, axis=2)"
   ]
  },
  {
   "cell_type": "markdown",
   "metadata": {},
   "source": [
    "### 3) summing over all the elements"
   ]
  },
  {
   "cell_type": "code",
   "execution_count": null,
   "metadata": {},
   "outputs": [],
   "source": [
    "np.sum(a) # sum of all the elements"
   ]
  },
  {
   "cell_type": "markdown",
   "metadata": {},
   "source": [
    "### 4) summing in presence of *numpy.nan* values"
   ]
  },
  {
   "cell_type": "markdown",
   "metadata": {},
   "source": [
    "#### classic functions with their **NaN-safe** counterpart:\n",
    "   - *numpy.nansum*, *numpy.nanprod*\n",
    "   - *numpy.nanmean*, *numpy.nanstd*, *numpy.nanvar*\n",
    "   - *numpy.nanmin*, *numpy.nanmax*\n",
    "   - *numpy.nanmedian*, *numpy.nanpercentile*"
   ]
  },
  {
   "cell_type": "markdown",
   "metadata": {},
   "source": [
    "   - **NaN** needs **floats**"
   ]
  },
  {
   "cell_type": "code",
   "execution_count": null,
   "metadata": {},
   "outputs": [],
   "source": [
    "a = np.random.randint(0, 50, size=(2, 3, 4)).astype(float)\n",
    "a"
   ]
  },
  {
   "cell_type": "markdown",
   "metadata": {},
   "source": [
    "we insert some **NaN** values"
   ]
  },
  {
   "cell_type": "code",
   "execution_count": null,
   "metadata": {},
   "outputs": [],
   "source": [
    "a[0, 1, 0] = np.nan\n",
    "a[0, 2, 2] = np.nan\n",
    "a[0, 0, 3] = np.nan\n",
    "\n",
    "a[1, 0, 0] = np.nan\n",
    "a[1, 1, 3] = np.nan\n",
    "a[1, 2, 2] = np.nan\n",
    "a"
   ]
  },
  {
   "cell_type": "markdown",
   "metadata": {},
   "source": [
    "with **normal** operations **NaN** is **dominant**"
   ]
  },
  {
   "cell_type": "code",
   "execution_count": null,
   "metadata": {},
   "outputs": [],
   "source": [
    "np.sum(a) # np.nan is dominant - contagious"
   ]
  },
  {
   "cell_type": "markdown",
   "metadata": {},
   "source": [
    "we can **treat** **NaNs** as **zero**"
   ]
  },
  {
   "cell_type": "code",
   "execution_count": null,
   "metadata": {},
   "outputs": [],
   "source": [
    "np.nansum(a) # np.nan values are 0"
   ]
  },
  {
   "cell_type": "markdown",
   "metadata": {},
   "source": [
    "   - on **axis=0** "
   ]
  },
  {
   "cell_type": "code",
   "execution_count": null,
   "metadata": {},
   "outputs": [],
   "source": [
    "np.nansum(a, axis=0) # summing the two array together"
   ]
  },
  {
   "cell_type": "code",
   "execution_count": null,
   "metadata": {},
   "outputs": [],
   "source": [
    "np.nansum(a, axis=1) # summing the rows together in each array"
   ]
  },
  {
   "cell_type": "code",
   "execution_count": null,
   "metadata": {},
   "outputs": [],
   "source": [
    "np.nansum(a, axis=2) # summing the columns together in each array"
   ]
  },
  {
   "cell_type": "markdown",
   "metadata": {},
   "source": [
    "### 5) index of min adn  max values\n",
    "   - *numpy.argmax*, *numpy.argmin*"
   ]
  },
  {
   "cell_type": "markdown",
   "metadata": {},
   "source": [
    "the indice is given on the **flattened** array"
   ]
  },
  {
   "cell_type": "code",
   "execution_count": null,
   "metadata": {},
   "outputs": [],
   "source": [
    "a = np.random.randint(0, 100, 30).reshape(5, 6)\n",
    "a"
   ]
  },
  {
   "cell_type": "code",
   "execution_count": null,
   "metadata": {},
   "outputs": [],
   "source": [
    "np.min(a) # or a.min()"
   ]
  },
  {
   "cell_type": "code",
   "execution_count": null,
   "metadata": {},
   "outputs": [],
   "source": [
    "np.argmin(a) # or a.argmin()"
   ]
  },
  {
   "cell_type": "code",
   "execution_count": null,
   "metadata": {},
   "outputs": [],
   "source": [
    "a.flatten().argmin()"
   ]
  },
  {
   "cell_type": "code",
   "execution_count": null,
   "metadata": {},
   "outputs": [],
   "source": [
    "a.flatten().argmin()"
   ]
  },
  {
   "cell_type": "markdown",
   "metadata": {},
   "source": [
    "## xxx) tests on all values\n",
    "   - *numpy.all* returns *True* if **all** values are *True*\n",
    "   - *numpy.any* returns *True* if **any** value is *True*\n",
    "   - *np.where(cond, x, y)* returns *x* or *y* depending on the condition\n",
    "   - (https://docs.scipy.org/doc/numpy/reference/generated/numpy.where.html)\n",
    "   \n",
    "   - they have no NaN-safer counterpart"
   ]
  },
  {
   "cell_type": "code",
   "execution_count": null,
   "metadata": {},
   "outputs": [],
   "source": [
    "a = np.random.randint(0, 100, 30).reshape(5, 6)\n",
    "a"
   ]
  },
  {
   "cell_type": "code",
   "execution_count": null,
   "metadata": {},
   "outputs": [],
   "source": [
    "a <= 50"
   ]
  },
  {
   "cell_type": "code",
   "execution_count": null,
   "metadata": {},
   "outputs": [],
   "source": [
    "np.any(a <= 50)"
   ]
  },
  {
   "cell_type": "code",
   "execution_count": null,
   "metadata": {},
   "outputs": [],
   "source": [
    "np.all(a <= 100)"
   ]
  },
  {
   "cell_type": "code",
   "execution_count": null,
   "metadata": {},
   "outputs": [],
   "source": [
    "#np.where?"
   ]
  },
  {
   "cell_type": "code",
   "execution_count": null,
   "metadata": {},
   "outputs": [],
   "source": [
    "np.where(a<50, 2*a, 3*a) "
   ]
  }
 ],
 "metadata": {
  "ipub": {
   "sphinx": {
    "toggle_input": true,
    "toggle_input_all": true,
    "toggle_output": true,
    "toggle_output_all": true
   }
  },
  "kernelspec": {
   "display_name": "Python 3",
   "language": "python",
   "name": "python3"
  },
  "language_info": {
   "codemirror_mode": {
    "name": "ipython",
    "version": 3
   },
   "file_extension": ".py",
   "mimetype": "text/x-python",
   "name": "python",
   "nbconvert_exporter": "python",
   "pygments_lexer": "ipython3",
   "version": "3.7.3"
  },
  "notebookname": "aggregations",
  "rise": {
   "autolaunch": true,
   "slideNumber": "c/t",
   "start_slideshow_at": "selected",
   "theme": "sky",
   "transition": "cube"
  },
  "version": "1.0"
 },
 "nbformat": 4,
 "nbformat_minor": 4
}
